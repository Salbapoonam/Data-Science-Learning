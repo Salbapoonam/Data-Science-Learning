{
  "cells": [
    {
      "cell_type": "markdown",
      "metadata": {
        "id": "view-in-github",
        "colab_type": "text"
      },
      "source": [
        "<a href=\"https://colab.research.google.com/github/Salbapoonam/Data-Science-Learning/blob/main/Day_04_String_and_String_Indexing_poonam_salbande.ipynb\" target=\"_parent\"><img src=\"https://colab.research.google.com/assets/colab-badge.svg\" alt=\"Open In Colab\"/></a>"
      ]
    },
    {
      "cell_type": "markdown",
      "id": "1b85231d",
      "metadata": {
        "id": "1b85231d"
      },
      "source": [
        "### Strings"
      ]
    },
    {
      "cell_type": "raw",
      "id": "7721a9eb",
      "metadata": {
        "id": "7721a9eb"
      },
      "source": [
        "It is collection of characters surrounded by single, double or triple quotes.\n",
        "String is immutable data type.\n",
        "Immutable >>> Immutable object can not be changed after it is created.\n",
        "Mutable >>> Can be changed after creation"
      ]
    },
    {
      "cell_type": "raw",
      "id": "a81324fe",
      "metadata": {
        "id": "a81324fe"
      },
      "source": [
        "Mutable:\n",
        "    1. list\n",
        "    2. dict\n",
        "    3. set\n",
        "\n",
        "Immutable:\n",
        "    1. int\n",
        "    2. float\n",
        "    3. str\n",
        "    4. tuple\n",
        "    5. bool"
      ]
    },
    {
      "cell_type": "code",
      "execution_count": null,
      "id": "e4e38e6b",
      "metadata": {
        "id": "e4e38e6b",
        "outputId": "a40c3bf0-181d-44f8-bd43-c198828e5ac6"
      },
      "outputs": [
        {
          "ename": "TypeError",
          "evalue": "'str' object does not support item assignment",
          "output_type": "error",
          "traceback": [
            "\u001b[1;31m---------------------------------------------------------------------------\u001b[0m",
            "\u001b[1;31mTypeError\u001b[0m                                 Traceback (most recent call last)",
            "Cell \u001b[1;32mIn[2], line 2\u001b[0m\n\u001b[0;32m      1\u001b[0m str1 \u001b[38;5;241m=\u001b[39m \u001b[38;5;124m'\u001b[39m\u001b[38;5;124mpython\u001b[39m\u001b[38;5;124m'\u001b[39m\n\u001b[1;32m----> 2\u001b[0m str1[\u001b[38;5;241m2\u001b[39m] \u001b[38;5;241m=\u001b[39m \u001b[38;5;124m'\u001b[39m\u001b[38;5;124mx\u001b[39m\u001b[38;5;124m'\u001b[39m\n",
            "\u001b[1;31mTypeError\u001b[0m: 'str' object does not support item assignment"
          ]
        }
      ],
      "source": [
        "str1 = 'python'\n",
        "str1[2] = 'x'"
      ]
    },
    {
      "cell_type": "code",
      "execution_count": null,
      "id": "287459ef",
      "metadata": {
        "id": "287459ef",
        "outputId": "50c55612-8f4f-45f0-886f-d0960c3794c0"
      },
      "outputs": [
        {
          "data": {
            "text/plain": [
              "[1, 2, 100, 45]"
            ]
          },
          "execution_count": 5,
          "metadata": {},
          "output_type": "execute_result"
        }
      ],
      "source": [
        "list1 = [1,2,3,45]\n",
        "list1[2] = 100\n",
        "list1"
      ]
    },
    {
      "cell_type": "code",
      "execution_count": null,
      "id": "9649fd7b",
      "metadata": {
        "id": "9649fd7b"
      },
      "outputs": [],
      "source": [
        "str1 = 'Machine Learning'        # Single quote\n",
        "str2 = \"Machine Learning\"        # Double quote\n",
        "str3 = \"\"\"Machine Learning\"\"\"    # Triple quote"
      ]
    },
    {
      "cell_type": "code",
      "execution_count": null,
      "id": "86a50ae1",
      "metadata": {
        "id": "86a50ae1",
        "outputId": "c5d077e6-46f2-48a5-9bd3-0c9b0e0c95e3"
      },
      "outputs": [
        {
          "name": "stdout",
          "output_type": "stream",
          "text": [
            "We are learning Python and Data science programming\n"
          ]
        }
      ],
      "source": [
        "string1 = \"We are learning Python and Data science programming\"\n",
        "print(string1)"
      ]
    },
    {
      "cell_type": "markdown",
      "id": "75bbe9d2",
      "metadata": {
        "id": "75bbe9d2"
      },
      "source": [
        "### Escape character"
      ]
    },
    {
      "cell_type": "markdown",
      "id": "6bce71d7",
      "metadata": {
        "id": "6bce71d7"
      },
      "source": [
        "[link text](https:// [link text](https://))#### 1. backslash(\\)"
      ]
    },
    {
      "cell_type": "code",
      "execution_count": null,
      "id": "11e72527",
      "metadata": {
        "id": "11e72527",
        "outputId": "730fff39-98ec-45e5-ae36-7336bf7edf0b"
      },
      "outputs": [
        {
          "name": "stdout",
          "output_type": "stream",
          "text": [
            "We are learning \"Python and Data science\" programming\n"
          ]
        }
      ],
      "source": [
        "string1 = \"We are learning \\\"Python and Data science\\\" programming\"\n",
        "print(string1)"
      ]
    },
    {
      "cell_type": "code",
      "execution_count": null,
      "id": "c1a48960",
      "metadata": {
        "id": "c1a48960",
        "outputId": "39d7294e-8b20-4e4b-9fb3-35cc4f943cdf"
      },
      "outputs": [
        {
          "name": "stdout",
          "output_type": "stream",
          "text": [
            "We are learning \"Python and Data science\" programming\n"
          ]
        }
      ],
      "source": [
        "string1 = 'We are learning \\\"Python and Data science\\\" programming'\n",
        "print(string1)"
      ]
    },
    {
      "cell_type": "code",
      "execution_count": null,
      "id": "e687418f",
      "metadata": {
        "id": "e687418f",
        "outputId": "e710ff2a-72e9-475f-a182-4aeeb6cd99c2"
      },
      "outputs": [
        {
          "name": "stdout",
          "output_type": "stream",
          "text": [
            "We are learning \\Python and Data science\\ programming\n"
          ]
        }
      ],
      "source": [
        "string1 = 'We are learning \\\\Python and Data science\\\\ programming'\n",
        "print(string1)"
      ]
    },
    {
      "cell_type": "markdown",
      "id": "580cf9f2",
      "metadata": {
        "id": "580cf9f2"
      },
      "source": [
        "#### 2. new line (\\n)"
      ]
    },
    {
      "cell_type": "code",
      "execution_count": null,
      "id": "66d2120f",
      "metadata": {
        "id": "66d2120f",
        "outputId": "f1a3eee0-cae4-4c34-c848-dd21cca3c468"
      },
      "outputs": [
        {
          "name": "stdout",
          "output_type": "stream",
          "text": [
            "We are learning Python and Data science\n",
            " programming\n"
          ]
        }
      ],
      "source": [
        "string1 = 'We are learning Python and Data science\\n programming'\n",
        "print(string1)"
      ]
    },
    {
      "cell_type": "code",
      "execution_count": null,
      "id": "8c9bf790",
      "metadata": {
        "id": "8c9bf790",
        "outputId": "05e22e26-751d-4358-b6c9-c60098add0f3"
      },
      "outputs": [
        {
          "name": "stdout",
          "output_type": "stream",
          "text": [
            "\n",
            " We are learning \n",
            " Python and Data science \n",
            " programming\n"
          ]
        }
      ],
      "source": [
        "string1 = '\\n We are learning \\n Python and Data science \\n programming'\n",
        "print(string1)"
      ]
    },
    {
      "cell_type": "markdown",
      "id": "9fd5bc0d",
      "metadata": {
        "id": "9fd5bc0d"
      },
      "source": [
        "#### 3. tab(\\t)"
      ]
    },
    {
      "cell_type": "code",
      "execution_count": null,
      "id": "9d014e36",
      "metadata": {
        "id": "9d014e36",
        "outputId": "ea3e23ab-95e5-4d5e-cdf8-e8b319b3e213"
      },
      "outputs": [
        {
          "name": "stdout",
          "output_type": "stream",
          "text": [
            "We are learning \t Python and Data science programming\n"
          ]
        }
      ],
      "source": [
        "string1 = 'We are learning \\t Python and Data science programming'\n",
        "print(string1)"
      ]
    },
    {
      "cell_type": "code",
      "execution_count": null,
      "id": "85eb6b10",
      "metadata": {
        "id": "85eb6b10",
        "outputId": "dca9e4fe-0c06-4f18-b42f-cc3cc733a2db"
      },
      "outputs": [
        {
          "name": "stdout",
          "output_type": "stream",
          "text": [
            "\t We are learning \t Python and Data science programming\n"
          ]
        }
      ],
      "source": [
        "string1 = '\\t We are learning \\t Python and Data science programming'\n",
        "print(string1)"
      ]
    },
    {
      "cell_type": "markdown",
      "id": "09c90e2c",
      "metadata": {
        "id": "09c90e2c"
      },
      "source": [
        "#### 4. carriage return (\\r)"
      ]
    },
    {
      "cell_type": "code",
      "execution_count": null,
      "id": "5f63958f",
      "metadata": {
        "id": "5f63958f",
        "outputId": "e2621c9d-2f62-49b7-f94c-3245c1d09e29"
      },
      "outputs": [
        {
          "name": "stdout",
          "output_type": "stream",
          "text": [
            "we are learning \r",
            " python\n"
          ]
        }
      ],
      "source": [
        "s1 = 'we are learning \\r python'\n",
        "print(s1)"
      ]
    },
    {
      "cell_type": "code",
      "execution_count": null,
      "id": "1f7a00aa",
      "metadata": {
        "id": "1f7a00aa",
        "outputId": "9337c313-3aa9-4e06-e23f-798ebe705516"
      },
      "outputs": [
        {
          "name": "stdout",
          "output_type": "stream",
          "text": [
            "\r",
            "we are learning python\n"
          ]
        }
      ],
      "source": [
        "s1 = '\\rwe are learning python'\n",
        "print(s1)"
      ]
    },
    {
      "cell_type": "code",
      "execution_count": null,
      "id": "2bc443df",
      "metadata": {
        "id": "2bc443df",
        "outputId": "ecceaf52-591f-41d2-efc1-30b4106b8719"
      },
      "outputs": [
        {
          "name": "stdout",
          "output_type": "stream",
          "text": [
            "we are\r",
            " learning python\n"
          ]
        }
      ],
      "source": [
        "s1 = 'we are\\r learning python'\n",
        "print(s1)"
      ]
    },
    {
      "cell_type": "code",
      "execution_count": null,
      "id": "c2466df5",
      "metadata": {
        "id": "c2466df5",
        "outputId": "9584ab2e-d39e-4f8c-afc9-05f3a8650e9e"
      },
      "outputs": [
        {
          "name": "stdout",
          "output_type": "stream",
          "text": [
            "we are learn\r",
            "ing python\n"
          ]
        }
      ],
      "source": [
        "s1 = 'we are learn\\ring python'\n",
        "print(s1)"
      ]
    },
    {
      "cell_type": "markdown",
      "id": "f9565cea",
      "metadata": {
        "id": "f9565cea"
      },
      "source": [
        "#### String Indexing"
      ]
    },
    {
      "cell_type": "code",
      "execution_count": null,
      "id": "620e27b1",
      "metadata": {
        "id": "620e27b1",
        "outputId": "2cc71093-b1c8-40ba-caf7-14082502070a"
      },
      "outputs": [
        {
          "data": {
            "text/plain": [
              "6"
            ]
          },
          "execution_count": 24,
          "metadata": {},
          "output_type": "execute_result"
        }
      ],
      "source": [
        "s = 'python'\n",
        "len(s)"
      ]
    },
    {
      "cell_type": "raw",
      "id": "d3f2dea9",
      "metadata": {
        "id": "d3f2dea9"
      },
      "source": [
        "Indexing will start from zero to (len-1)\n",
        "e.g python >>> Indexing will be start from 0 to 5\n",
        "Use square bracket to print items\n",
        "p y t h o n\n",
        "0 1 2 3 4 5"
      ]
    },
    {
      "cell_type": "code",
      "execution_count": null,
      "id": "def38be0",
      "metadata": {
        "id": "def38be0",
        "outputId": "14479dbe-cb25-41bd-9f87-14e341233a03"
      },
      "outputs": [
        {
          "data": {
            "text/plain": [
              "'n'"
            ]
          },
          "execution_count": 30,
          "metadata": {},
          "output_type": "execute_result"
        }
      ],
      "source": [
        "s = 'python'\n",
        "s[0]     # 'p'\n",
        "s[1]     # 'y'\n",
        "s[2]     # 't'\n",
        "s[3]     # 'h'\n",
        "s[4]     # 'o'\n",
        "s[5]     # 'n'"
      ]
    },
    {
      "cell_type": "code",
      "execution_count": null,
      "id": "654046f8",
      "metadata": {
        "id": "654046f8",
        "outputId": "6c117348-a665-4933-cb68-917526aa0bca"
      },
      "outputs": [
        {
          "data": {
            "text/plain": [
              "' '"
            ]
          },
          "execution_count": 34,
          "metadata": {},
          "output_type": "execute_result"
        }
      ],
      "source": [
        "s1 = \"Machine Learning\"\n",
        "len(s1)\n",
        "s1[10]\n",
        "s1[4]\n",
        "s1[7]"
      ]
    },
    {
      "cell_type": "markdown",
      "id": "4803054c",
      "metadata": {
        "id": "4803054c"
      },
      "source": [
        "### Negative indexing"
      ]
    },
    {
      "cell_type": "raw",
      "id": "f8fd2139",
      "metadata": {
        "id": "f8fd2139"
      },
      "source": [
        "p    y    t    h    o    n\n",
        "-6   -5   -4   -3   -2   -1"
      ]
    },
    {
      "cell_type": "code",
      "execution_count": null,
      "id": "bd737c66",
      "metadata": {
        "id": "bd737c66",
        "outputId": "0c13edc8-2853-43ef-9748-3a1e9041e2b9"
      },
      "outputs": [
        {
          "data": {
            "text/plain": [
              "'p'"
            ]
          },
          "execution_count": 40,
          "metadata": {},
          "output_type": "execute_result"
        }
      ],
      "source": [
        "s = 'python'\n",
        "s[-1]     # 'n'\n",
        "s[-2]     # 'o'\n",
        "s[-3]     # 'h'\n",
        "s[-4]     # 't'\n",
        "s[-5]     # 'y'\n",
        "s[-6]     # 'p'\n"
      ]
    },
    {
      "cell_type": "markdown",
      "id": "24db589c",
      "metadata": {
        "id": "24db589c"
      },
      "source": [
        "### String Slicing"
      ]
    },
    {
      "cell_type": "raw",
      "id": "2289fc0a",
      "metadata": {
        "id": "2289fc0a"
      },
      "source": [
        "string = \"Python Class\"\n",
        "string[start_index(include) : end_index(exlude) : step_size]\n",
        "Default start index is 0\n",
        "Default end index is length of string"
      ]
    },
    {
      "cell_type": "code",
      "execution_count": null,
      "id": "d280a32c",
      "metadata": {
        "id": "d280a32c",
        "outputId": "fbe025ff-454b-4c93-dab2-5cf9dceecc38"
      },
      "outputs": [
        {
          "data": {
            "text/plain": [
              "'Python'"
            ]
          },
          "execution_count": 49,
          "metadata": {},
          "output_type": "execute_result"
        }
      ],
      "source": [
        "string = \"Python Class\"\n",
        "len(string)\n",
        "string[0:6]    # 0 1 2 3 4 5"
      ]
    },
    {
      "cell_type": "code",
      "execution_count": null,
      "id": "bf3cf151",
      "metadata": {
        "id": "bf3cf151",
        "outputId": "13c54469-c434-462a-c29d-b9df76ff065b"
      },
      "outputs": [
        {
          "data": {
            "text/plain": [
              "'Python Class'"
            ]
          },
          "execution_count": 50,
          "metadata": {},
          "output_type": "execute_result"
        }
      ],
      "source": [
        "string[:]"
      ]
    },
    {
      "cell_type": "code",
      "execution_count": null,
      "id": "7d1267f5",
      "metadata": {
        "id": "7d1267f5",
        "outputId": "eaff4371-228f-4ba7-cb02-a31bb13a7b81"
      },
      "outputs": [
        {
          "data": {
            "text/plain": [
              "'thon Class'"
            ]
          },
          "execution_count": 51,
          "metadata": {},
          "output_type": "execute_result"
        }
      ],
      "source": [
        "string[2:]"
      ]
    },
    {
      "cell_type": "code",
      "execution_count": null,
      "id": "4a9cf972",
      "metadata": {
        "id": "4a9cf972",
        "outputId": "11b6d0e5-43fb-4faa-a902-f7bf5092d502"
      },
      "outputs": [
        {
          "data": {
            "text/plain": [
              "'Pyt'"
            ]
          },
          "execution_count": 52,
          "metadata": {},
          "output_type": "execute_result"
        }
      ],
      "source": [
        "string[:3]"
      ]
    },
    {
      "cell_type": "code",
      "execution_count": null,
      "id": "c7bf73a9",
      "metadata": {
        "id": "c7bf73a9",
        "outputId": "08555096-fdca-4c4c-ec56-b8487daa269a"
      },
      "outputs": [
        {
          "data": {
            "text/plain": [
              "'We are learning pyth'"
            ]
          },
          "execution_count": 54,
          "metadata": {},
          "output_type": "execute_result"
        }
      ],
      "source": [
        "s1 = \"We are learning python\"\n",
        "len(s1)\n",
        "s1[0:20:1]"
      ]
    },
    {
      "cell_type": "code",
      "execution_count": null,
      "id": "9c0105bf",
      "metadata": {
        "id": "9c0105bf",
        "outputId": "d21bbf04-e1aa-4fa8-c289-3eb8a8250ec8"
      },
      "outputs": [
        {
          "data": {
            "text/plain": [
              "'W r erigpt'"
            ]
          },
          "execution_count": 55,
          "metadata": {},
          "output_type": "execute_result"
        }
      ],
      "source": [
        "s1[0:20:2]"
      ]
    },
    {
      "cell_type": "markdown",
      "id": "c4b01e22",
      "metadata": {
        "id": "c4b01e22"
      },
      "source": [
        "### Negative Slicing"
      ]
    },
    {
      "cell_type": "code",
      "execution_count": null,
      "id": "5621656b",
      "metadata": {
        "id": "5621656b"
      },
      "outputs": [],
      "source": [
        "s = \"Python\"\n",
        "#-6 -5 -4 -3 -2 -1"
      ]
    },
    {
      "cell_type": "code",
      "execution_count": null,
      "id": "2b57b7df",
      "metadata": {
        "id": "2b57b7df",
        "outputId": "85cec57e-70a0-449e-f9f1-5d66c3d880b7"
      },
      "outputs": [
        {
          "data": {
            "text/plain": [
              "'yth'"
            ]
          },
          "execution_count": 56,
          "metadata": {},
          "output_type": "execute_result"
        }
      ],
      "source": [
        "s[-5:-2]"
      ]
    },
    {
      "cell_type": "code",
      "execution_count": null,
      "id": "cea7f9c0",
      "metadata": {
        "id": "cea7f9c0",
        "outputId": "bfd6dac0-90f9-4eb4-d4bc-f6fdbb6748cd"
      },
      "outputs": [
        {
          "data": {
            "text/plain": [
              "'python'"
            ]
          },
          "execution_count": 57,
          "metadata": {},
          "output_type": "execute_result"
        }
      ],
      "source": [
        "s[:]"
      ]
    },
    {
      "cell_type": "code",
      "execution_count": null,
      "id": "29f9be7b",
      "metadata": {
        "id": "29f9be7b",
        "outputId": "6a6bbcd1-61f0-4306-bc69-5ab97a510148"
      },
      "outputs": [
        {
          "data": {
            "text/plain": [
              "'pytho'"
            ]
          },
          "execution_count": 58,
          "metadata": {},
          "output_type": "execute_result"
        }
      ],
      "source": [
        "s[-6:-1]"
      ]
    },
    {
      "cell_type": "code",
      "execution_count": null,
      "id": "5ba90f7f",
      "metadata": {
        "id": "5ba90f7f",
        "outputId": "7b626113-0ddb-426e-87e2-39188b10aeeb"
      },
      "outputs": [
        {
          "data": {
            "text/plain": [
              "'Class'"
            ]
          },
          "execution_count": 59,
          "metadata": {},
          "output_type": "execute_result"
        }
      ],
      "source": [
        "s1 = \"Python Class\"\n",
        "s1[-5:]       #Last five characters"
      ]
    },
    {
      "cell_type": "code",
      "execution_count": null,
      "id": "d15866b6",
      "metadata": {
        "id": "d15866b6",
        "outputId": "d7431dcd-6160-4a61-8b80-47b71b852237"
      },
      "outputs": [
        {
          "data": {
            "text/plain": [
              "'Pytho'"
            ]
          },
          "execution_count": 62,
          "metadata": {},
          "output_type": "execute_result"
        }
      ],
      "source": [
        "s1 = \"Python Class\"\n",
        "s1[:5]         # First five characters"
      ]
    },
    {
      "cell_type": "code",
      "execution_count": null,
      "id": "953e25c6",
      "metadata": {
        "id": "953e25c6",
        "outputId": "124a6b18-d21f-4fb5-bafa-c2b113745fc7"
      },
      "outputs": [
        {
          "data": {
            "text/plain": [
              "'thon Clas'"
            ]
          },
          "execution_count": 63,
          "metadata": {},
          "output_type": "execute_result"
        }
      ],
      "source": [
        "s1 = \"Python Class\"\n",
        "s1[-10:-1:1]"
      ]
    },
    {
      "cell_type": "code",
      "execution_count": null,
      "id": "2ae5cfef",
      "metadata": {
        "id": "2ae5cfef",
        "outputId": "931d0efd-6985-45d1-91de-e494a3292422"
      },
      "outputs": [
        {
          "data": {
            "text/plain": [
              "'to ls'"
            ]
          },
          "execution_count": 64,
          "metadata": {},
          "output_type": "execute_result"
        }
      ],
      "source": [
        "s1 = \"Python Class\"\n",
        "s1[-10:-1:2]"
      ]
    },
    {
      "cell_type": "markdown",
      "id": "33c92cda",
      "metadata": {
        "id": "33c92cda"
      },
      "source": [
        "### Reverse string"
      ]
    },
    {
      "cell_type": "code",
      "execution_count": null,
      "id": "3485dfe3",
      "metadata": {
        "id": "3485dfe3",
        "outputId": "d31b8d77-b5c1-4360-f6d5-2b59b4fc82c7"
      },
      "outputs": [
        {
          "name": "stdout",
          "output_type": "stream",
          "text": [
            "We are learning Python and Data science programming\n"
          ]
        }
      ],
      "source": [
        "string1 = 'We are learning Python and Data science programming'\n",
        "print(string1)"
      ]
    },
    {
      "cell_type": "code",
      "execution_count": null,
      "id": "2e37ec2e",
      "metadata": {
        "id": "2e37ec2e",
        "outputId": "38b2d326-8e19-41f4-9fac-b4c8a0d47e7f"
      },
      "outputs": [
        {
          "data": {
            "text/plain": [
              "'W r erigPto n aasinepormig'"
            ]
          },
          "execution_count": 66,
          "metadata": {},
          "output_type": "execute_result"
        }
      ],
      "source": [
        "string1[::2]"
      ]
    },
    {
      "cell_type": "code",
      "execution_count": null,
      "id": "ddc72f27",
      "metadata": {
        "id": "ddc72f27",
        "outputId": "73645fd5-32bb-4bad-d7a2-9dd7d9c2fcdc"
      },
      "outputs": [
        {
          "data": {
            "text/plain": [
              "'gnimmargorp ecneics ataD dna nohtyP gninrael era eW'"
            ]
          },
          "execution_count": 67,
          "metadata": {},
          "output_type": "execute_result"
        }
      ],
      "source": [
        "string1[::-1]    # For reversing make step size as -1"
      ]
    },
    {
      "cell_type": "code",
      "execution_count": null,
      "id": "fec74709",
      "metadata": {
        "id": "fec74709",
        "outputId": "1d522942-07f5-4a34-b2b4-961010fcf43a"
      },
      "outputs": [
        {
          "data": {
            "text/plain": [
              "'nohtyp'"
            ]
          },
          "execution_count": 68,
          "metadata": {},
          "output_type": "execute_result"
        }
      ],
      "source": [
        "s = 'python'\n",
        "s[::-1]"
      ]
    },
    {
      "cell_type": "code",
      "execution_count": null,
      "id": "f04047cc",
      "metadata": {
        "id": "f04047cc",
        "outputId": "1658f7a2-8ee0-4c68-cab1-1b367b52b4ce"
      },
      "outputs": [
        {
          "data": {
            "text/plain": [
              "'nhy'"
            ]
          },
          "execution_count": 69,
          "metadata": {},
          "output_type": "execute_result"
        }
      ],
      "source": [
        "s = 'python'\n",
        "s[::-2]"
      ]
    },
    {
      "cell_type": "code",
      "execution_count": null,
      "id": "7af91fa3",
      "metadata": {
        "id": "7af91fa3",
        "outputId": "55f55fe9-8164-4bda-cc5b-bb3ed5553a35"
      },
      "outputs": [
        {
          "data": {
            "text/plain": [
              "'ohty'"
            ]
          },
          "execution_count": 75,
          "metadata": {},
          "output_type": "execute_result"
        }
      ],
      "source": [
        "s[4:0:-1]"
      ]
    },
    {
      "cell_type": "code",
      "execution_count": null,
      "id": "bffd2e83",
      "metadata": {
        "id": "bffd2e83",
        "outputId": "7a360f6d-b8f3-4243-bc57-ba2dc4a055ae"
      },
      "outputs": [
        {
          "data": {
            "text/plain": [
              "'ohty'"
            ]
          },
          "execution_count": 77,
          "metadata": {},
          "output_type": "execute_result"
        }
      ],
      "source": [
        "s[4:0:-1]"
      ]
    },
    {
      "cell_type": "code",
      "execution_count": null,
      "id": "42da42b1",
      "metadata": {
        "id": "42da42b1"
      },
      "outputs": [],
      "source": [
        "string[end_index(include): start_index(exlude) : step_size(-ve)]  # Revere the string"
      ]
    }
  ],
  "metadata": {
    "kernelspec": {
      "display_name": "Python 3 (ipykernel)",
      "language": "python",
      "name": "python3"
    },
    "language_info": {
      "codemirror_mode": {
        "name": "ipython",
        "version": 3
      },
      "file_extension": ".py",
      "mimetype": "text/x-python",
      "name": "python",
      "nbconvert_exporter": "python",
      "pygments_lexer": "ipython3",
      "version": "3.8.17"
    },
    "colab": {
      "provenance": [],
      "include_colab_link": true
    }
  },
  "nbformat": 4,
  "nbformat_minor": 5
}