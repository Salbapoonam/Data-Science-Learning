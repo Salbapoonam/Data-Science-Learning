{
 "cells": [
  {
   "cell_type": "markdown",
   "id": "5b938257",
   "metadata": {},
   "source": [
    "# String Functions"
   ]
  },
  {
   "cell_type": "markdown",
   "id": "33314098",
   "metadata": {},
   "source": [
    " Capitalize()"
   ]
  },
  {
   "cell_type": "markdown",
   "id": "47dbd6ba",
   "metadata": {},
   "source": [
    "The capitalize() function in Python is a string method that returns a copy of the original string with the first character capitalized (converted to uppercase), and the rest of the characters in lowercase. "
   ]
  },
  {
   "cell_type": "code",
   "execution_count": 2,
   "id": "51610563",
   "metadata": {},
   "outputs": [
    {
     "name": "stdout",
     "output_type": "stream",
     "text": [
      "Hello, world!\n"
     ]
    }
   ],
   "source": [
    "s=\"hello, world!\"\n",
    "capitlized_s=s.capitalize()\n",
    "print(capitlized_s)"
   ]
  },
  {
   "cell_type": "code",
   "execution_count": 4,
   "id": "cbfcbf49",
   "metadata": {},
   "outputs": [
    {
     "name": "stdout",
     "output_type": "stream",
     "text": [
      "data science\n"
     ]
    },
    {
     "data": {
      "text/plain": [
       "'Data science'"
      ]
     },
     "execution_count": 4,
     "metadata": {},
     "output_type": "execute_result"
    }
   ],
   "source": [
    "s='data science'\n",
    "print(s)\n",
    "s.capitalize()"
   ]
  },
  {
   "cell_type": "code",
   "execution_count": 5,
   "id": "6f1619d0",
   "metadata": {},
   "outputs": [
    {
     "name": "stdout",
     "output_type": "stream",
     "text": [
      " data science\n"
     ]
    },
    {
     "data": {
      "text/plain": [
       "' data science'"
      ]
     },
     "execution_count": 5,
     "metadata": {},
     "output_type": "execute_result"
    }
   ],
   "source": [
    "s=' data science'\n",
    "print(s)\n",
    "s.capitalize()"
   ]
  },
  {
   "cell_type": "markdown",
   "id": "95bae7e4",
   "metadata": {},
   "source": [
    "upper()\n"
   ]
  },
  {
   "cell_type": "markdown",
   "id": "0e5ca47f",
   "metadata": {},
   "source": [
    "The upper() function in Python is a string method that returns a copy of the original string with all the alphabetic characters converted to uppercase"
   ]
  },
  {
   "cell_type": "code",
   "execution_count": 6,
   "id": "66af2ac3",
   "metadata": {},
   "outputs": [
    {
     "name": "stdout",
     "output_type": "stream",
     "text": [
      "HELLO, WORLD!\n"
     ]
    }
   ],
   "source": [
    "s = \"hello, world!\"\n",
    "uppercase_s = s.upper()\n",
    "print(uppercase_s)"
   ]
  },
  {
   "cell_type": "code",
   "execution_count": 7,
   "id": "3865d508",
   "metadata": {},
   "outputs": [
    {
     "name": "stdout",
     "output_type": "stream",
     "text": [
      "data science\n"
     ]
    },
    {
     "data": {
      "text/plain": [
       "'DATA SCIENCE'"
      ]
     },
     "execution_count": 7,
     "metadata": {},
     "output_type": "execute_result"
    }
   ],
   "source": [
    "s='data science'\n",
    "print(s)\n",
    "s.upper()"
   ]
  },
  {
   "cell_type": "code",
   "execution_count": 8,
   "id": "e4be0b49",
   "metadata": {},
   "outputs": [
    {
     "name": "stdout",
     "output_type": "stream",
     "text": [
      "Machine LEARning123\n"
     ]
    },
    {
     "data": {
      "text/plain": [
       "'MACHINE LEARNING123'"
      ]
     },
     "execution_count": 8,
     "metadata": {},
     "output_type": "execute_result"
    }
   ],
   "source": [
    "s = 'Machine LEARning123'\n",
    "print(s)\n",
    "s.upper()"
   ]
  },
  {
   "cell_type": "code",
   "execution_count": 9,
   "id": "9eae0933",
   "metadata": {},
   "outputs": [
    {
     "name": "stdout",
     "output_type": "stream",
     "text": [
      "Data type of variable is : <class 'str'>\n"
     ]
    },
    {
     "data": {
      "text/plain": [
       "'CSRIL3452A'"
      ]
     },
     "execution_count": 9,
     "metadata": {},
     "output_type": "execute_result"
    }
   ],
   "source": [
    "s = 'csril3452a'\n",
    "print('Data type of variable is :', type(s))\n",
    "s.upper()"
   ]
  },
  {
   "cell_type": "code",
   "execution_count": 10,
   "id": "680572ab",
   "metadata": {},
   "outputs": [
    {
     "data": {
      "text/plain": [
       "False"
      ]
     },
     "execution_count": 10,
     "metadata": {},
     "output_type": "execute_result"
    }
   ],
   "source": [
    "aadhar_name = 'Rohit Sharma'\n",
    "pan_card_name = 'rohit sharma'\n",
    "aadhar_name == pan_card_name"
   ]
  },
  {
   "cell_type": "code",
   "execution_count": 11,
   "id": "45147ed1",
   "metadata": {},
   "outputs": [
    {
     "data": {
      "text/plain": [
       "True"
      ]
     },
     "execution_count": 11,
     "metadata": {},
     "output_type": "execute_result"
    }
   ],
   "source": [
    "aadhar_name = aadhar_name.upper()\n",
    "pan_card_name = pan_card_name.upper()\n",
    "aadhar_name == pan_card_name"
   ]
  },
  {
   "cell_type": "code",
   "execution_count": 12,
   "id": "56bd9ad0",
   "metadata": {},
   "outputs": [
    {
     "data": {
      "text/plain": [
       "'ROHIT SHARMA'"
      ]
     },
     "execution_count": 12,
     "metadata": {},
     "output_type": "execute_result"
    }
   ],
   "source": [
    "aadhar_name"
   ]
  },
  {
   "cell_type": "code",
   "execution_count": 13,
   "id": "5de109a1",
   "metadata": {},
   "outputs": [
    {
     "data": {
      "text/plain": [
       "'ROHIT SHARMA'"
      ]
     },
     "execution_count": 13,
     "metadata": {},
     "output_type": "execute_result"
    }
   ],
   "source": [
    "pan_card_name"
   ]
  },
  {
   "cell_type": "code",
   "execution_count": 14,
   "id": "ea93efe8",
   "metadata": {},
   "outputs": [
    {
     "name": "stdout",
     "output_type": "stream",
     "text": [
      "Both names are different\n"
     ]
    }
   ],
   "source": [
    "aadhar_name = 'Virat Kohli'\n",
    "pan_card_name = 'Virat kohli'\n",
    "\n",
    "if aadhar_name == pan_card_name:   # if block will execute if its True\n",
    "    print(\"Both names are same\")\n",
    "    \n",
    "else:\n",
    "    print(\"Both names are different\")"
   ]
  },
  {
   "cell_type": "code",
   "execution_count": 15,
   "id": "58a53de1",
   "metadata": {},
   "outputs": [
    {
     "name": "stdout",
     "output_type": "stream",
     "text": [
      "Both names are same\n"
     ]
    }
   ],
   "source": [
    "aadhar_name = 'Virat Kohli'\n",
    "pan_card_name = 'Virat kohli'\n",
    "\n",
    "aadhar_name = aadhar_name.upper()\n",
    "pan_card_name = pan_card_name.upper()\n",
    "\n",
    "if aadhar_name == pan_card_name:   # if block will execute if its True\n",
    "    print(\"Both names are same\")\n",
    "    \n",
    "else:\n",
    "    print(\"Both names are different\")"
   ]
  },
  {
   "cell_type": "markdown",
   "id": "14b441e6",
   "metadata": {},
   "source": [
    "3. lower()"
   ]
  },
  {
   "cell_type": "markdown",
   "id": "1b93db62",
   "metadata": {},
   "source": [
    "The lower() function in Python is a string method that returns a copy of the original string with all the alphabetic characters converted to lowercase"
   ]
  },
  {
   "cell_type": "code",
   "execution_count": 17,
   "id": "a26d1108",
   "metadata": {},
   "outputs": [
    {
     "name": "stdout",
     "output_type": "stream",
     "text": [
      "hello, world!\n"
     ]
    }
   ],
   "source": [
    "s = \"Hello, World!\"\n",
    "lowercase_s = s.lower()\n",
    "print(lowercase_s)\n"
   ]
  },
  {
   "cell_type": "code",
   "execution_count": 18,
   "id": "b8aee8e0",
   "metadata": {},
   "outputs": [
    {
     "name": "stdout",
     "output_type": "stream",
     "text": [
      "this is a mixed-case string\n"
     ]
    }
   ],
   "source": [
    "s = \"ThIs Is A MiXeD-cAsE StRiNg\"\n",
    "lowercase_s = s.lower()\n",
    "print(lowercase_s)\n",
    "# Output: \"this is a mixed-case string\"\n"
   ]
  },
  {
   "cell_type": "code",
   "execution_count": 19,
   "id": "da7409b2",
   "metadata": {},
   "outputs": [
    {
     "name": "stdout",
     "output_type": "stream",
     "text": [
      "123abc!@#$\n"
     ]
    }
   ],
   "source": [
    "# Lowercase a string with non-alphabetic characters:\n",
    "s = \"123ABC!@#$\"\n",
    "lowercase_s = s.lower()\n",
    "print(lowercase_s)\n",
    "# Output: \"123abc!@#$\" (non-alphabetic characters remain unchanged)\n"
   ]
  },
  {
   "cell_type": "code",
   "execution_count": 20,
   "id": "6502dfc1",
   "metadata": {},
   "outputs": [
    {
     "name": "stdout",
     "output_type": "stream",
     "text": [
      "\n"
     ]
    }
   ],
   "source": [
    "# Lowercase an empty string\n",
    "s = \"\"\n",
    "lowercase_s = s.lower()\n",
    "print(lowercase_s)\n",
    "# Output: \"\" (empty string remains empty)\n"
   ]
  },
  {
   "cell_type": "code",
   "execution_count": 21,
   "id": "a704b9f7",
   "metadata": {},
   "outputs": [
    {
     "name": "stdout",
     "output_type": "stream",
     "text": [
      "Machine LEARning123\n"
     ]
    },
    {
     "data": {
      "text/plain": [
       "'machine learning123'"
      ]
     },
     "execution_count": 21,
     "metadata": {},
     "output_type": "execute_result"
    }
   ],
   "source": [
    "s = 'Machine LEARning123'\n",
    "print(s)\n",
    "s.lower()"
   ]
  },
  {
   "cell_type": "code",
   "execution_count": 22,
   "id": "2d70e65f",
   "metadata": {},
   "outputs": [
    {
     "name": "stdout",
     "output_type": "stream",
     "text": [
      "Data type of variable is : <class 'str'>\n"
     ]
    },
    {
     "data": {
      "text/plain": [
       "'csdfrl3452a'"
      ]
     },
     "execution_count": 22,
     "metadata": {},
     "output_type": "execute_result"
    }
   ],
   "source": [
    "s = 'cSDFRl3452a'\n",
    "print('Data type of variable is :', type(s))\n",
    "s.lower()"
   ]
  },
  {
   "cell_type": "code",
   "execution_count": 23,
   "id": "68b5b70c",
   "metadata": {},
   "outputs": [
    {
     "name": "stdout",
     "output_type": "stream",
     "text": [
      "Both names are same\n"
     ]
    }
   ],
   "source": [
    "aadhar_name = 'Virat Kohli'\n",
    "pan_card_name = 'Virat kohli'\n",
    "\n",
    "aadhar_name = aadhar_name.lower()\n",
    "pan_card_name = pan_card_name.lower()\n",
    "\n",
    "if aadhar_name == pan_card_name:   # if block will execute if its True\n",
    "    print(\"Both names are same\")\n",
    "    \n",
    "else:\n",
    "    print(\"Both names are different\")"
   ]
  },
  {
   "cell_type": "code",
   "execution_count": 24,
   "id": "5d71a02a",
   "metadata": {},
   "outputs": [
    {
     "data": {
      "text/plain": [
       "'virat kohli'"
      ]
     },
     "execution_count": 24,
     "metadata": {},
     "output_type": "execute_result"
    }
   ],
   "source": [
    "aadhar_name"
   ]
  },
  {
   "cell_type": "code",
   "execution_count": 25,
   "id": "7f2368ba",
   "metadata": {},
   "outputs": [
    {
     "data": {
      "text/plain": [
       "'virat kohli'"
      ]
     },
     "execution_count": 25,
     "metadata": {},
     "output_type": "execute_result"
    }
   ],
   "source": [
    "pan_card_name"
   ]
  },
  {
   "cell_type": "markdown",
   "id": "aa9e5389",
   "metadata": {},
   "source": [
    "### title()"
   ]
  },
  {
   "cell_type": "markdown",
   "id": "d558eee7",
   "metadata": {},
   "source": [
    "As you can see, the title() function converts the first character of each word to uppercase ('h' becomes 'H' and 'w' becomes 'W') and the rest of the characters to lowercase ('ello,' becomes 'ello,' and 'orld!' becomes 'orld!'). "
   ]
  },
  {
   "cell_type": "markdown",
   "id": "360d95ac",
   "metadata": {},
   "source": [
    "The title() function in Python is a string method that returns a copy of the original string with the first character of each word converted to uppercase (title case), and the rest of the characters in each word converted to lowercase. Words are recognized as sequences of characters separated by whitespace."
   ]
  },
  {
   "cell_type": "code",
   "execution_count": 27,
   "id": "4152c601",
   "metadata": {},
   "outputs": [
    {
     "name": "stdout",
     "output_type": "stream",
     "text": [
      "Hello, World!\n"
     ]
    }
   ],
   "source": [
    "s = \"hello, world!\"\n",
    "title_case_s = s.title()\n",
    "print(title_case_s)\n"
   ]
  },
  {
   "cell_type": "code",
   "execution_count": 28,
   "id": "a44f65b7",
   "metadata": {},
   "outputs": [
    {
     "name": "stdout",
     "output_type": "stream",
     "text": [
      "This Is A Title Case Example\n"
     ]
    }
   ],
   "source": [
    "s = \"this is a title case example\"\n",
    "title_case_s = s.title()\n",
    "print(title_case_s)\n",
    "# Output: \"This Is A Title Case Example\"\n"
   ]
  },
  {
   "cell_type": "code",
   "execution_count": 29,
   "id": "ef9c8490",
   "metadata": {},
   "outputs": [
    {
     "name": "stdout",
     "output_type": "stream",
     "text": [
      "This Is A Mixed-Case String\n"
     ]
    }
   ],
   "source": [
    "s = \"ThIs Is A MiXeD-cAsE StRiNg\"\n",
    "title_case_s = s.title()\n",
    "print(title_case_s)\n",
    "# Output: \"This Is A Mixed-Case String\"\n"
   ]
  },
  {
   "cell_type": "code",
   "execution_count": 30,
   "id": "f167bacf",
   "metadata": {},
   "outputs": [
    {
     "name": "stdout",
     "output_type": "stream",
     "text": [
      "123Abc!@#$\n"
     ]
    }
   ],
   "source": [
    "s = \"123abc!@#$\"\n",
    "title_case_s = s.title()\n",
    "print(title_case_s)\n",
    "# Output: \"123Abc!@#$\" (non-alphabetic characters remain unchanged)\n"
   ]
  },
  {
   "cell_type": "code",
   "execution_count": 31,
   "id": "7560443a",
   "metadata": {},
   "outputs": [
    {
     "data": {
      "text/plain": [
       "'P K Salbande'"
      ]
     },
     "execution_count": 31,
     "metadata": {},
     "output_type": "execute_result"
    }
   ],
   "source": [
    "name = 'p k salbande'\n",
    "name.title()"
   ]
  },
  {
   "cell_type": "code",
   "execution_count": 32,
   "id": "53f69201",
   "metadata": {},
   "outputs": [
    {
     "name": "stdout",
     "output_type": "stream",
     "text": [
      "India\n"
     ]
    }
   ],
   "source": [
    "s = 'india'\n",
    "print(s.title())"
   ]
  },
  {
   "cell_type": "code",
   "execution_count": 33,
   "id": "7d93f965",
   "metadata": {},
   "outputs": [
    {
     "name": "stdout",
     "output_type": "stream",
     "text": [
      "We Are Learning Python And Data Science\n"
     ]
    }
   ],
   "source": [
    "string = 'we are learning python and data science'\n",
    "print(string.title())"
   ]
  },
  {
   "cell_type": "code",
   "execution_count": 34,
   "id": "73e0626c",
   "metadata": {},
   "outputs": [
    {
     "name": "stdout",
     "output_type": "stream",
     "text": [
      "India\n"
     ]
    }
   ],
   "source": [
    "s = 'india'\n",
    "print(s.capitalize())"
   ]
  },
  {
   "cell_type": "code",
   "execution_count": 35,
   "id": "f87f74e9",
   "metadata": {},
   "outputs": [
    {
     "name": "stdout",
     "output_type": "stream",
     "text": [
      "India country\n"
     ]
    }
   ],
   "source": [
    "s = 'india country'\n",
    "print(s.capitalize())"
   ]
  },
  {
   "cell_type": "code",
   "execution_count": 36,
   "id": "21b3f0cf",
   "metadata": {},
   "outputs": [
    {
     "name": "stdout",
     "output_type": "stream",
     "text": [
      "India Country\n"
     ]
    }
   ],
   "source": [
    "s = 'india country'\n",
    "print(s.title())"
   ]
  },
  {
   "cell_type": "markdown",
   "id": "81b587fc",
   "metadata": {},
   "source": [
    "### lstrip()"
   ]
  },
  {
   "cell_type": "markdown",
   "id": "485fe857",
   "metadata": {},
   "source": [
    "The lstrip() function in Python is a string method that returns a copy of the original string with leading (leftmost) whitespace characters removed. \"Whitespace characters\" include spaces, tabs, and newline characters. It removes characters from the beginning (left side) of the string until it encounters a character that is not a whitespace character."
   ]
  },
  {
   "cell_type": "code",
   "execution_count": 39,
   "id": "e1d567bd",
   "metadata": {},
   "outputs": [
    {
     "name": "stdout",
     "output_type": "stream",
     "text": [
      "Hello, World!   \n"
     ]
    }
   ],
   "source": [
    "s = \"   Hello, World!   \"\n",
    "stripped_s = s.lstrip()\n",
    "print(stripped_s)\n",
    "# As you can see, lstrip() removed the leading spaces\n",
    "# on the left side of the string, leaving the rest of the \n",
    "# string intact."
   ]
  },
  {
   "cell_type": "code",
   "execution_count": 40,
   "id": "ede58662",
   "metadata": {},
   "outputs": [
    {
     "name": "stdout",
     "output_type": "stream",
     "text": [
      "Leading spaces removed.\n"
     ]
    }
   ],
   "source": [
    "s = \"   Leading spaces removed.\"\n",
    "stripped_s = s.lstrip()\n",
    "print(stripped_s)\n",
    "# Output: \"Leading spaces removed.\"\n"
   ]
  },
  {
   "cell_type": "code",
   "execution_count": 41,
   "id": "a2661f78",
   "metadata": {},
   "outputs": [
    {
     "name": "stdout",
     "output_type": "stream",
     "text": [
      "Tabs and spaces removed.\n"
     ]
    }
   ],
   "source": [
    "s = \"\\t\\t\\tTabs and spaces removed.\"\n",
    "stripped_s = s.lstrip()\n",
    "print(stripped_s)\n",
    "# Output: \"Tabs and spaces removed.\"\n"
   ]
  },
  {
   "cell_type": "code",
   "execution_count": 42,
   "id": "ad61f43a",
   "metadata": {},
   "outputs": [
    {
     "name": "stdout",
     "output_type": "stream",
     "text": [
      "Newlines removed.\n"
     ]
    }
   ],
   "source": [
    "s = \"\\n\\n\\nNewlines removed.\"\n",
    "stripped_s = s.lstrip()\n",
    "print(stripped_s)\n",
    "# Output: \"Newlines removed.\"\n"
   ]
  },
  {
   "cell_type": "code",
   "execution_count": 43,
   "id": "573f8a79",
   "metadata": {},
   "outputs": [
    {
     "name": "stdout",
     "output_type": "stream",
     "text": [
      "     python class\n",
      "python class\n"
     ]
    }
   ],
   "source": [
    "s=\"     python class\"\n",
    "print(s)\n",
    "print(s.lstrip())"
   ]
  },
  {
   "cell_type": "code",
   "execution_count": 44,
   "id": "9e08128f",
   "metadata": {},
   "outputs": [
    {
     "name": "stdout",
     "output_type": "stream",
     "text": [
      "     python class           \n",
      "python class           \n"
     ]
    }
   ],
   "source": [
    "s=\"     python class           \"\n",
    "print(s)\n",
    "print(s.lstrip())"
   ]
  },
  {
   "cell_type": "markdown",
   "id": "4dede7d0",
   "metadata": {},
   "source": [
    " ### rstrip()"
   ]
  },
  {
   "cell_type": "markdown",
   "id": "e703d78c",
   "metadata": {},
   "source": [
    "he rstrip() function in Python is a string method that returns a copy of the original string with trailing (rightmost) whitespace characters removed. \"Whitespace characters\" include spaces, tabs, and newline characters. It removes characters from the end (right side) of the string until it encounters a character that is not a whitespace character."
   ]
  },
  {
   "cell_type": "code",
   "execution_count": 45,
   "id": "6695457f",
   "metadata": {},
   "outputs": [
    {
     "name": "stdout",
     "output_type": "stream",
     "text": [
      "Python String   \n",
      "Python String\n"
     ]
    }
   ],
   "source": [
    "s=\"Python String   \"\n",
    "print(s)\n",
    "print(s.rstrip())"
   ]
  },
  {
   "cell_type": "code",
   "execution_count": 46,
   "id": "a3f718c3",
   "metadata": {},
   "outputs": [
    {
     "name": "stdout",
     "output_type": "stream",
     "text": [
      "      python class     \n"
     ]
    },
    {
     "data": {
      "text/plain": [
       "'      python class'"
      ]
     },
     "execution_count": 46,
     "metadata": {},
     "output_type": "execute_result"
    }
   ],
   "source": [
    "s = \"      python class     \"\n",
    "print(s)\n",
    "s.rstrip()"
   ]
  },
  {
   "cell_type": "code",
   "execution_count": 47,
   "id": "7afc681d",
   "metadata": {},
   "outputs": [
    {
     "name": "stdout",
     "output_type": "stream",
     "text": [
      "   Hello, World!\n"
     ]
    }
   ],
   "source": [
    "s = \"   Hello, World!   \"\n",
    "stripped_s = s.rstrip()\n",
    "print(stripped_s)\n"
   ]
  },
  {
   "cell_type": "code",
   "execution_count": 48,
   "id": "a213e0e1",
   "metadata": {},
   "outputs": [
    {
     "name": "stdout",
     "output_type": "stream",
     "text": [
      "Trailing spaces removed.\n"
     ]
    }
   ],
   "source": [
    "s = \"Trailing spaces removed.   \"\n",
    "stripped_s = s.rstrip()\n",
    "print(stripped_s)\n",
    "# Output: \"Trailing spaces removed.\""
   ]
  },
  {
   "cell_type": "code",
   "execution_count": 49,
   "id": "2a323023",
   "metadata": {},
   "outputs": [
    {
     "name": "stdout",
     "output_type": "stream",
     "text": [
      "Tabs and spaces removed.\n"
     ]
    }
   ],
   "source": [
    "s = \"Tabs and spaces removed.\\t\\t\\t\"\n",
    "stripped_s = s.rstrip()\n",
    "print(stripped_s)\n",
    "# Output: \"Tabs and spaces removed.\"\n"
   ]
  },
  {
   "cell_type": "code",
   "execution_count": 50,
   "id": "6c240ace",
   "metadata": {},
   "outputs": [
    {
     "name": "stdout",
     "output_type": "stream",
     "text": [
      "Newlines removed.\n"
     ]
    }
   ],
   "source": [
    "s = \"Newlines removed.\\n\\n\\n\"\n",
    "stripped_s = s.rstrip()\n",
    "print(stripped_s)\n",
    "# Output: \"Newlines removed.\"\n"
   ]
  },
  {
   "cell_type": "markdown",
   "id": "e4a70d3a",
   "metadata": {},
   "source": [
    "### . strip()"
   ]
  },
  {
   "cell_type": "markdown",
   "id": "7a0e377d",
   "metadata": {},
   "source": [
    "The strip() function in Python is a string method that returns a copy of the original string with both leading (leftmost) and trailing (rightmost) whitespace characters removed. \"Whitespace characters\" include spaces, tabs, and newline characters. It removes characters from both the beginning (left side) and the end (right side) of the string until it encounters characters that are not whitespace characters."
   ]
  },
  {
   "cell_type": "code",
   "execution_count": 52,
   "id": "ef840f08",
   "metadata": {},
   "outputs": [
    {
     "name": "stdout",
     "output_type": "stream",
     "text": [
      "Hello, World!\n"
     ]
    }
   ],
   "source": [
    "s = \"   Hello, World!   \"\n",
    "stripped_s = s.strip()\n",
    "print(stripped_s)\n"
   ]
  },
  {
   "cell_type": "code",
   "execution_count": 53,
   "id": "773b552e",
   "metadata": {},
   "outputs": [
    {
     "name": "stdout",
     "output_type": "stream",
     "text": [
      "Spaces removed from both sides.\n"
     ]
    }
   ],
   "source": [
    "s = \"   Spaces removed from both sides.   \"\n",
    "stripped_s = s.strip()\n",
    "print(stripped_s)\n",
    "# Output: \"Spaces removed from both sides.\"\n"
   ]
  },
  {
   "cell_type": "code",
   "execution_count": 54,
   "id": "60f09beb",
   "metadata": {},
   "outputs": [
    {
     "name": "stdout",
     "output_type": "stream",
     "text": [
      "Tabs and spaces removed.\n"
     ]
    }
   ],
   "source": [
    "s = \"\\t\\tTabs and spaces removed.\\t\\t\\t\"\n",
    "stripped_s = s.strip()\n",
    "print(stripped_s)\n",
    "# Output: \"Tabs and spaces removed.\"\n"
   ]
  },
  {
   "cell_type": "code",
   "execution_count": 55,
   "id": "76e33af6",
   "metadata": {},
   "outputs": [
    {
     "name": "stdout",
     "output_type": "stream",
     "text": [
      "Newlines removed from both sides.\n"
     ]
    }
   ],
   "source": [
    "s = \"\\n\\n\\nNewlines removed from both sides.\\n\\n\\n\"\n",
    "stripped_s = s.strip()\n",
    "print(stripped_s)\n",
    "# Output: \"Newlines removed from both sides.\"\n"
   ]
  },
  {
   "cell_type": "code",
   "execution_count": 56,
   "id": "c322faf0",
   "metadata": {},
   "outputs": [
    {
     "name": "stdout",
     "output_type": "stream",
     "text": [
      "Both names are different\n"
     ]
    }
   ],
   "source": [
    "aadhar_name = '   Virat Kohli'\n",
    "pan_card_name = 'Virat kohli      '\n",
    "\n",
    "aadhar_name = aadhar_name.lower()\n",
    "pan_card_name = pan_card_name.lower()\n",
    "\n",
    "if aadhar_name == pan_card_name:   \n",
    "    print(\"Both names are same\")\n",
    "    \n",
    "else:\n",
    "    print(\"Both names are different\")"
   ]
  },
  {
   "cell_type": "code",
   "execution_count": 57,
   "id": "055e54fe",
   "metadata": {},
   "outputs": [
    {
     "name": "stdout",
     "output_type": "stream",
     "text": [
      "Aadhar card name is :     Virat Kohli\n",
      "PAN card name is :  Virat kohli      \n",
      "\n",
      "Updated names after converting to lower case\n",
      "Aadhar card name is :     virat kohli\n",
      "PAN card name is :  virat kohli      \n",
      "\n",
      "Updated names after removing white spaces\n",
      "Aadhar card name is : virat kohli\n",
      "PAN card name is : virat kohli\n",
      "\n",
      "Both names are same\n"
     ]
    }
   ],
   "source": [
    "aadhar_name = '   Virat Kohli'\n",
    "pan_card_name = 'Virat kohli      '\n",
    "\n",
    "print('Aadhar card name is : ', aadhar_name)\n",
    "print('PAN card name is : ', pan_card_name)\n",
    "\n",
    "aadhar_name = aadhar_name.lower()\n",
    "pan_card_name = pan_card_name.lower()\n",
    "\n",
    "print('\\nUpdated names after converting to lower case')\n",
    "print('Aadhar card name is : ', aadhar_name)\n",
    "print('PAN card name is : ', pan_card_name)\n",
    "\n",
    "aadhar_name = aadhar_name.strip()\n",
    "pan_card_name = pan_card_name.strip()\n",
    "\n",
    "print('\\nUpdated names after removing white spaces')\n",
    "print('Aadhar card name is :',aadhar_name)\n",
    "print('PAN card name is :',pan_card_name)\n",
    "\n",
    "if aadhar_name == pan_card_name:   # if block will execute if its True\n",
    "    print(\"\\nBoth names are same\")\n",
    "    \n",
    "else:\n",
    "    print(\"\\nBoth names are different\")"
   ]
  },
  {
   "cell_type": "markdown",
   "id": "956c237c",
   "metadata": {},
   "source": [
    "### Remove all vowels from string"
   ]
  },
  {
   "cell_type": "markdown",
   "id": "6fcd21cd",
   "metadata": {},
   "source": [
    "#vowels = a,e,i,o,u"
   ]
  },
  {
   "cell_type": "code",
   "execution_count": 58,
   "id": "474b9a6c",
   "metadata": {},
   "outputs": [
    {
     "data": {
      "text/plain": [
       "'We *re le*rning d*t* science *nd D*t*Le*rn'"
      ]
     },
     "execution_count": 58,
     "metadata": {},
     "output_type": "execute_result"
    }
   ],
   "source": [
    "s='We are learning data science and DataLearn'\n",
    "s.replace('a','*')"
   ]
  },
  {
   "cell_type": "code",
   "execution_count": 59,
   "id": "3bbdd49b",
   "metadata": {},
   "outputs": [
    {
     "name": "stdout",
     "output_type": "stream",
     "text": [
      "Hll, Wrld!\n"
     ]
    }
   ],
   "source": [
    "s = \"Hello, World!\"\n",
    "\n",
    "# Remove all vowels from the string\n",
    "vowels = \"AEIOUaeiou\"  # Define a string containing all vowels\n",
    "s_without_vowels = ''.join([char for char in s if char not in vowels])\n",
    "\n",
    "print(s_without_vowels)\n"
   ]
  },
  {
   "cell_type": "code",
   "execution_count": 60,
   "id": "87c1ca38",
   "metadata": {},
   "outputs": [
    {
     "data": {
      "text/plain": [
       "'W ar larning data scinc ad DataLarnm'"
      ]
     },
     "execution_count": 60,
     "metadata": {},
     "output_type": "execute_result"
    }
   ],
   "source": [
    "s = 'We are learning data science ad DataLearnm'\n",
    "s.replace('e', '')"
   ]
  },
  {
   "cell_type": "markdown",
   "id": "1a5bd45c",
   "metadata": {},
   "source": [
    "### The swapcase() function in Python is a string method that returns a copy of the original string with the case of each character swapped. In other words, it converts uppercase characters to lowercase and lowercase characters to uppercase, leaving non-alphabetical characters unchanged"
   ]
  },
  {
   "cell_type": "code",
   "execution_count": 61,
   "id": "dbd53e61",
   "metadata": {},
   "outputs": [
    {
     "name": "stdout",
     "output_type": "stream",
     "text": [
      "hELLO, wORLD!\n"
     ]
    }
   ],
   "source": [
    "s = \"Hello, World!\"\n",
    "swapped_s = s.swapcase()\n",
    "print(swapped_s)\n"
   ]
  },
  {
   "cell_type": "markdown",
   "id": "c32e8bd9",
   "metadata": {},
   "source": [
    "swapcase() converted uppercase characters to lowercase and lowercase characters to uppercase, resulting in a string with swapped cases."
   ]
  },
  {
   "cell_type": "code",
   "execution_count": 62,
   "id": "2a0e002f",
   "metadata": {},
   "outputs": [
    {
     "name": "stdout",
     "output_type": "stream",
     "text": [
      "THIS IS A LOWERCASE STRING\n"
     ]
    }
   ],
   "source": [
    "s = \"this is a lowercase string\"\n",
    "swapped_s = s.swapcase()\n",
    "print(swapped_s)\n",
    "# Output: \"THIS IS A LOWERCASE STRING\"\n"
   ]
  },
  {
   "cell_type": "code",
   "execution_count": 63,
   "id": "1177fe73",
   "metadata": {},
   "outputs": [
    {
     "name": "stdout",
     "output_type": "stream",
     "text": [
      "tHiS iS a mIxEd-CaSe sTrInG\n"
     ]
    }
   ],
   "source": [
    "s = \"ThIs Is A MiXeD-cAsE StRiNg\"\n",
    "swapped_s = s.swapcase()\n",
    "print(swapped_s)\n",
    "# Output: \"tHiS iS a mIxEd-CaSe sTrInG\"\n"
   ]
  },
  {
   "cell_type": "code",
   "execution_count": 64,
   "id": "5f4e8fd5",
   "metadata": {},
   "outputs": [
    {
     "name": "stdout",
     "output_type": "stream",
     "text": [
      "123abc!@#$\n"
     ]
    }
   ],
   "source": [
    "s = \"123ABC!@#$\"\n",
    "swapped_s = s.swapcase()\n",
    "print(swapped_s)\n",
    "# Output: \"123abc!@#$\" (non-alphabetic characters remain unchanged)\n"
   ]
  },
  {
   "cell_type": "code",
   "execution_count": 65,
   "id": "090ca9f6",
   "metadata": {},
   "outputs": [
    {
     "data": {
      "text/plain": [
       "'DATA sciENCE'"
      ]
     },
     "execution_count": 65,
     "metadata": {},
     "output_type": "execute_result"
    }
   ],
   "source": [
    "s = 'data SCIence'\n",
    "s.swapcase()"
   ]
  },
  {
   "cell_type": "code",
   "execution_count": 66,
   "id": "ff02c154",
   "metadata": {},
   "outputs": [
    {
     "data": {
      "text/plain": [
       "'DATA SCIENCE123'"
      ]
     },
     "execution_count": 66,
     "metadata": {},
     "output_type": "execute_result"
    }
   ],
   "source": [
    "s = 'data science123'\n",
    "s.swapcase()"
   ]
  },
  {
   "cell_type": "code",
   "execution_count": 67,
   "id": "83f1853c",
   "metadata": {},
   "outputs": [
    {
     "data": {
      "text/plain": [
       "'DATA SCIENCE123'"
      ]
     },
     "execution_count": 67,
     "metadata": {},
     "output_type": "execute_result"
    }
   ],
   "source": [
    "s = 'DATA SCIENCE123    '\n",
    "s.swapcase()\n",
    "s.strip()"
   ]
  },
  {
   "cell_type": "markdown",
   "id": "15c58ecc",
   "metadata": {},
   "source": [
    "### replace()"
   ]
  },
  {
   "cell_type": "code",
   "execution_count": 68,
   "id": "397f603e",
   "metadata": {},
   "outputs": [
    {
     "data": {
      "text/plain": [
       "'We ***re le***rning data science at DataLearnm'"
      ]
     },
     "execution_count": 68,
     "metadata": {},
     "output_type": "execute_result"
    }
   ],
   "source": [
    "s='We are learning data science at DataLearnm'\n",
    "s.replace('a','***',2)"
   ]
  },
  {
   "cell_type": "code",
   "execution_count": 69,
   "id": "3d957007",
   "metadata": {},
   "outputs": [
    {
     "data": {
      "text/plain": [
       "'W r lrnng dt scnc t DtLrnm'"
      ]
     },
     "execution_count": 69,
     "metadata": {},
     "output_type": "execute_result"
    }
   ],
   "source": [
    "s='We are learning data science at DataLearnm'\n",
    "# s.replace('a','***',2)\n",
    "s.replace('a','').replace('e','').replace('i','').replace('o', '').replace('u', '')"
   ]
  },
  {
   "cell_type": "code",
   "execution_count": 70,
   "id": "234b8f5d",
   "metadata": {},
   "outputs": [
    {
     "data": {
      "text/plain": [
       "'We Are leArning dAtA science at DataLearnm'"
      ]
     },
     "execution_count": 70,
     "metadata": {},
     "output_type": "execute_result"
    }
   ],
   "source": [
    "s = 'We are learning data science at DataLearnm'\n",
    "s.replace('a', 'A', 4)"
   ]
  },
  {
   "cell_type": "code",
   "execution_count": 71,
   "id": "17d9b329",
   "metadata": {},
   "outputs": [
    {
     "data": {
      "text/plain": [
       "'We are learning data science atDataLearnm'"
      ]
     },
     "execution_count": 71,
     "metadata": {},
     "output_type": "execute_result"
    }
   ],
   "source": [
    "s = 'We are             learning data           science at      DataLearnm'\n",
    "s.replace('  ', '')"
   ]
  },
  {
   "cell_type": "code",
   "execution_count": 72,
   "id": "83fba6f9",
   "metadata": {},
   "outputs": [
    {
     "data": {
      "text/plain": [
       "'We are$$$$$$ learning data$$$$$ science at$$$DataLearnm'"
      ]
     },
     "execution_count": 72,
     "metadata": {},
     "output_type": "execute_result"
    }
   ],
   "source": [
    "s = 'We are             learning data           science at      DataLearnm'\n",
    "s.replace('  ', '$')"
   ]
  },
  {
   "cell_type": "markdown",
   "id": "bf22bc86",
   "metadata": {},
   "source": [
    "###  count"
   ]
  },
  {
   "cell_type": "markdown",
   "id": "4d84d8f1",
   "metadata": {},
   "source": [
    "### The count() function in Python is a string method that allows you to count the number of non-overlapping occurrences of a substring within a given string. It returns an integer representing the count of occurrences"
   ]
  },
  {
   "cell_type": "markdown",
   "id": "2206fc9f",
   "metadata": {},
   "source": [
    "### count = original_string.count(substring, start, end)\n",
    "original_string: The string in which you want to count occurrences.\n",
    "\n",
    "substring: The substring you want to count within original_string.\n",
    "\n",
    "start (optional): An optional parameter specifying the index at which to start searching for occurrences. \n",
    "The default is 0 (the beginning of the string).\n",
    "\n",
    "end (optional): An optional parameter specifying the index at which to stop searching for occurrences. The search will end at end - 1. The default is the end of the string."
   ]
  },
  {
   "cell_type": "code",
   "execution_count": 73,
   "id": "def00d3b",
   "metadata": {},
   "outputs": [
    {
     "data": {
      "text/plain": [
       "1"
      ]
     },
     "execution_count": 73,
     "metadata": {},
     "output_type": "execute_result"
    }
   ],
   "source": [
    "s = 'python class'\n",
    "s.count('p')"
   ]
  },
  {
   "cell_type": "code",
   "execution_count": 74,
   "id": "f01811a3",
   "metadata": {},
   "outputs": [
    {
     "data": {
      "text/plain": [
       "2"
      ]
     },
     "execution_count": 74,
     "metadata": {},
     "output_type": "execute_result"
    }
   ],
   "source": [
    "s = 'python class'\n",
    "s.count('s')"
   ]
  },
  {
   "cell_type": "code",
   "execution_count": 75,
   "id": "6510866f",
   "metadata": {},
   "outputs": [
    {
     "data": {
      "text/plain": [
       "8"
      ]
     },
     "execution_count": 75,
     "metadata": {},
     "output_type": "execute_result"
    }
   ],
   "source": [
    "s = 'We are learning data science at DataLearnm'\n",
    "s.count('a')"
   ]
  },
  {
   "cell_type": "code",
   "execution_count": 76,
   "id": "4730b20e",
   "metadata": {},
   "outputs": [
    {
     "data": {
      "text/plain": [
       "2"
      ]
     },
     "execution_count": 76,
     "metadata": {},
     "output_type": "execute_result"
    }
   ],
   "source": [
    "s = 'We are learning data science at DataLearnm'\n",
    "s.count('a',0,10)"
   ]
  },
  {
   "cell_type": "code",
   "execution_count": 77,
   "id": "c730f72d",
   "metadata": {},
   "outputs": [
    {
     "data": {
      "text/plain": [
       "1"
      ]
     },
     "execution_count": 77,
     "metadata": {},
     "output_type": "execute_result"
    }
   ],
   "source": [
    "s.count('data')"
   ]
  },
  {
   "cell_type": "code",
   "execution_count": 78,
   "id": "89894afe",
   "metadata": {},
   "outputs": [
    {
     "data": {
      "text/plain": [
       "'we are learning python and data science'"
      ]
     },
     "execution_count": 78,
     "metadata": {},
     "output_type": "execute_result"
    }
   ],
   "source": [
    "string"
   ]
  },
  {
   "cell_type": "markdown",
   "id": "9ea87fcc",
   "metadata": {},
   "source": [
    " ### index()"
   ]
  },
  {
   "cell_type": "code",
   "execution_count": 79,
   "id": "830cbb57",
   "metadata": {},
   "outputs": [
    {
     "data": {
      "text/plain": [
       "7"
      ]
     },
     "execution_count": 79,
     "metadata": {},
     "output_type": "execute_result"
    }
   ],
   "source": [
    "s = 'We are learning data science at DataLearnm data'\n",
    "s.index('l')"
   ]
  },
  {
   "cell_type": "code",
   "execution_count": 80,
   "id": "af397487",
   "metadata": {},
   "outputs": [
    {
     "data": {
      "text/plain": [
       "47"
      ]
     },
     "execution_count": 80,
     "metadata": {},
     "output_type": "execute_result"
    }
   ],
   "source": [
    "len(s)"
   ]
  },
  {
   "cell_type": "code",
   "execution_count": 81,
   "id": "c4727704",
   "metadata": {},
   "outputs": [
    {
     "data": {
      "text/plain": [
       "43"
      ]
     },
     "execution_count": 81,
     "metadata": {},
     "output_type": "execute_result"
    }
   ],
   "source": [
    "s.index('data', 17, 47)"
   ]
  },
  {
   "cell_type": "code",
   "execution_count": 82,
   "id": "cf8de5e6",
   "metadata": {},
   "outputs": [
    {
     "data": {
      "text/plain": [
       "'rning data science at Da'"
      ]
     },
     "execution_count": 82,
     "metadata": {},
     "output_type": "execute_result"
    }
   ],
   "source": [
    "s[10:34]"
   ]
  },
  {
   "cell_type": "code",
   "execution_count": 83,
   "id": "c9d1d601",
   "metadata": {},
   "outputs": [
    {
     "name": "stdout",
     "output_type": "stream",
     "text": [
      "7 <class 'int'>\n"
     ]
    }
   ],
   "source": [
    "s = 'We are learning data science at DataLearnm data'\n",
    "a = s.index('l')\n",
    "print(a, type(a))"
   ]
  },
  {
   "cell_type": "markdown",
   "id": "3227080b",
   "metadata": {},
   "source": [
    "### find()"
   ]
  },
  {
   "cell_type": "markdown",
   "id": "99d80588",
   "metadata": {},
   "source": [
    "### he find() function in Python is a string method used to find the index (position) of the first occurrence of a substring within a given string. It returns an integer representing the index of the first occurrence of the substring, or -1 if the substring is not found in the string."
   ]
  },
  {
   "cell_type": "markdown",
   "id": "a24b50ff",
   "metadata": {},
   "source": [
    "### index = original_string.find(substring, start, end)\n"
   ]
  },
  {
   "cell_type": "markdown",
   "id": "25d7948a",
   "metadata": {},
   "source": [
    "original_string: The string in which you want to search for the substring.\n",
    "\n",
    "substring: The substring you want to find within original_string.\n",
    "\n",
    "start (optional): An optional parameter specifying the index at which to start searching for the substring. The default is 0 (the beginning of the string).\n",
    "\n",
    "end (optional): An optional parameter specifying the index at which to stop searching for the substring. The search will end at end - 1. The default is the end of the string."
   ]
  },
  {
   "cell_type": "code",
   "execution_count": 85,
   "id": "98fab058",
   "metadata": {},
   "outputs": [
    {
     "name": "stdout",
     "output_type": "stream",
     "text": [
      "7\n"
     ]
    }
   ],
   "source": [
    "original_string = \"Hello, World!\"\n",
    "index = original_string.find(\"World\")\n",
    "print(index)\n",
    "# Output: 7\n"
   ]
  },
  {
   "cell_type": "code",
   "execution_count": 87,
   "id": "806317f5",
   "metadata": {},
   "outputs": [
    {
     "name": "stdout",
     "output_type": "stream",
     "text": [
      "3\n"
     ]
    }
   ],
   "source": [
    "original_string = \"aabbbbbbbbbbccccdddd\"\n",
    "index = original_string.find(\"b\", 3, 9)\n",
    "print(index)\n",
    "# Output: 4\n"
   ]
  },
  {
   "cell_type": "code",
   "execution_count": 88,
   "id": "55395254",
   "metadata": {},
   "outputs": [
    {
     "data": {
      "text/plain": [
       "16"
      ]
     },
     "execution_count": 88,
     "metadata": {},
     "output_type": "execute_result"
    }
   ],
   "source": [
    "s = 'We are learning data science at DataLearnm data'\n",
    "s.find('data')"
   ]
  },
  {
   "cell_type": "code",
   "execution_count": 89,
   "id": "10a5b3b2",
   "metadata": {},
   "outputs": [
    {
     "data": {
      "text/plain": [
       "-1"
      ]
     },
     "execution_count": 89,
     "metadata": {},
     "output_type": "execute_result"
    }
   ],
   "source": [
    "s = 'We are learning data science at DataLearnm data'\n",
    "s.find('daTa')"
   ]
  },
  {
   "cell_type": "code",
   "execution_count": 90,
   "id": "56159128",
   "metadata": {},
   "outputs": [
    {
     "name": "stdout",
     "output_type": "stream",
     "text": [
      "Index of char is: 0\n"
     ]
    }
   ],
   "source": [
    "s = \"python class\"\n",
    "index = s.index('p')\n",
    "print('Index of char is:', index)"
   ]
  },
  {
   "cell_type": "code",
   "execution_count": 91,
   "id": "e8ce294c",
   "metadata": {},
   "outputs": [
    {
     "name": "stdout",
     "output_type": "stream",
     "text": [
      "Index of char is: -1\n",
      "Char not found in string\n"
     ]
    }
   ],
   "source": [
    "s = \"python class\"\n",
    "index = s.find('x')\n",
    "print('Index of char is:', index)\n",
    "\n",
    "if index == -1:\n",
    "    print('Char not found in string')"
   ]
  },
  {
   "cell_type": "markdown",
   "id": "ca77e99d",
   "metadata": {},
   "source": [
    "### To check substring in a string"
   ]
  },
  {
   "cell_type": "markdown",
   "id": "1bc0ce31",
   "metadata": {},
   "source": [
    "### Using the in operator:\n",
    "The in operator allows you to check if a substring is present in a string. It returns a Boolean value (True or False) indicating whether the substring exists in the string."
   ]
  },
  {
   "cell_type": "code",
   "execution_count": 92,
   "id": "1ebf2544",
   "metadata": {},
   "outputs": [
    {
     "name": "stdout",
     "output_type": "stream",
     "text": [
      "Substring found.\n"
     ]
    }
   ],
   "source": [
    "original_string = \"Hello, World!\"\n",
    "substring = \"World\"\n",
    "\n",
    "if substring in original_string:\n",
    "    print(\"Substring found.\")\n",
    "else:\n",
    "    print(\"Substring not found.\")\n"
   ]
  },
  {
   "cell_type": "code",
   "execution_count": 93,
   "id": "026b48aa",
   "metadata": {},
   "outputs": [
    {
     "data": {
      "text/plain": [
       "True"
      ]
     },
     "execution_count": 93,
     "metadata": {},
     "output_type": "execute_result"
    }
   ],
   "source": [
    "s = 'python class'\n",
    "'p' in s"
   ]
  },
  {
   "cell_type": "code",
   "execution_count": 94,
   "id": "cd2353b3",
   "metadata": {},
   "outputs": [
    {
     "data": {
      "text/plain": [
       "False"
      ]
     },
     "execution_count": 94,
     "metadata": {},
     "output_type": "execute_result"
    }
   ],
   "source": [
    "s = 'python class'\n",
    "'x' in s"
   ]
  },
  {
   "cell_type": "code",
   "execution_count": 95,
   "id": "a412c406",
   "metadata": {},
   "outputs": [
    {
     "name": "stdout",
     "output_type": "stream",
     "text": [
      "data in present in given string\n",
      "Index of data in given string is 16\n"
     ]
    }
   ],
   "source": [
    "string = 'We are learning data science at DataLearnm data'\n",
    "substring = 'data'\n",
    "\n",
    "if substring in string:\n",
    "    print(f'{substring} in present in given string')\n",
    "    \n",
    "    index = string.index(substring)\n",
    "    \n",
    "    print(f'Index of {substring} in given string is {index}')\n",
    "    \n",
    "else:\n",
    "    print(f'{substring} in not present in given string')"
   ]
  },
  {
   "cell_type": "markdown",
   "id": "164ab74d",
   "metadata": {},
   "source": [
    "### Using the find() method:\n",
    "As explained earlier, you can use the find() method to find the index of the first occurrence of a substring within a string. If the substring is not found, find() returns -1."
   ]
  },
  {
   "cell_type": "code",
   "execution_count": 96,
   "id": "22b26af9",
   "metadata": {},
   "outputs": [
    {
     "name": "stdout",
     "output_type": "stream",
     "text": [
      "Substring not found.\n"
     ]
    }
   ],
   "source": [
    "original_string = \"Hello, World!\"\n",
    "substring = \"Universe\"\n",
    "\n",
    "index = original_string.find(substring)\n",
    "if index != -1:\n",
    "    print(\"Substring found at index:\", index)\n",
    "else:\n",
    "    print(\"Substring not found.\")\n"
   ]
  },
  {
   "cell_type": "markdown",
   "id": "a81a065d",
   "metadata": {},
   "source": [
    "### Using the count() method:\n",
    "You can also use the count() method to check if a substring exists in the string. If the count is greater than zero, it means the substring is present."
   ]
  },
  {
   "cell_type": "code",
   "execution_count": 97,
   "id": "3a510b9d",
   "metadata": {},
   "outputs": [
    {
     "name": "stdout",
     "output_type": "stream",
     "text": [
      "Substring found.\n"
     ]
    }
   ],
   "source": [
    "original_string = \"Hello, World!\"\n",
    "substring = \"World\"\n",
    "\n",
    "count = original_string.count(substring)\n",
    "if count > 0:\n",
    "    print(\"Substring found.\")\n",
    "else:\n",
    "    print(\"Substring not found.\")\n"
   ]
  },
  {
   "cell_type": "code",
   "execution_count": 98,
   "id": "01dedee5",
   "metadata": {},
   "outputs": [
    {
     "data": {
      "text/plain": [
       "6"
      ]
     },
     "execution_count": 98,
     "metadata": {},
     "output_type": "execute_result"
    }
   ],
   "source": [
    "s1 ='python'\n",
    "len(s1)"
   ]
  },
  {
   "cell_type": "markdown",
   "id": "305fded7",
   "metadata": {},
   "source": [
    "### The split() function in Python is a string method used to split a string into a list of substrings based on a specified separator. It takes one argument, which is the separator you want to use to split the string. The result is a list of substrings obtained by splitting the original string wherever the separator appears.\n",
    "\n"
   ]
  },
  {
   "cell_type": "markdown",
   "id": "1541f04f",
   "metadata": {},
   "source": [
    "### substring_list = original_string.split(separator, maxsplit)\n"
   ]
  },
  {
   "cell_type": "code",
   "execution_count": 100,
   "id": "cbd05999",
   "metadata": {},
   "outputs": [
    {
     "name": "stdout",
     "output_type": "stream",
     "text": [
      "['Hello,', 'World!']\n"
     ]
    }
   ],
   "source": [
    "original_string = \"Hello, World!\"\n",
    "substring_list = original_string.split()\n",
    "print(substring_list)\n",
    "# Output: ['Hello,', 'World!']\n"
   ]
  },
  {
   "cell_type": "code",
   "execution_count": 101,
   "id": "bd0a8a8c",
   "metadata": {},
   "outputs": [
    {
     "name": "stdout",
     "output_type": "stream",
     "text": [
      "['apple', 'banana', 'cherry']\n"
     ]
    }
   ],
   "source": [
    "original_string = \"apple,banana,cherry\"\n",
    "substring_list = original_string.split(\",\")\n",
    "print(substring_list)\n",
    "# Output: ['apple', 'banana', 'cherry']\n"
   ]
  },
  {
   "cell_type": "code",
   "execution_count": 102,
   "id": "0c79c3b5",
   "metadata": {},
   "outputs": [
    {
     "name": "stdout",
     "output_type": "stream",
     "text": [
      "['one', 'two', 'three, four, five']\n"
     ]
    }
   ],
   "source": [
    "original_string = \"one, two, three, four, five\"\n",
    "substring_list = original_string.split(\", \", 2)\n",
    "print(substring_list)\n",
    "# Output: ['one', 'two', 'three, four, five']\n"
   ]
  },
  {
   "cell_type": "code",
   "execution_count": null,
   "id": "70207d22",
   "metadata": {},
   "outputs": [],
   "source": [
    "string = 'We are learning data science at DataLearnm'\n",
    "list1 = string.split()\n",
    "print(list1, len(list1))"
   ]
  },
  {
   "cell_type": "code",
   "execution_count": 103,
   "id": "8e3e4891",
   "metadata": {},
   "outputs": [
    {
     "name": "stdout",
     "output_type": "stream",
     "text": [
      "['We'] 1\n"
     ]
    }
   ],
   "source": [
    "string = 'We'\n",
    "list1 = string.split()\n",
    "print(list1, len(list1))"
   ]
  },
  {
   "cell_type": "code",
   "execution_count": 104,
   "id": "dbb672e4",
   "metadata": {},
   "outputs": [
    {
     "name": "stdout",
     "output_type": "stream",
     "text": [
      "['We are', ' learning. data', ' science. at Data', 'Learnm'] 4\n"
     ]
    }
   ],
   "source": [
    "string = 'We are* learning. data* science. at Data*Learnm'\n",
    "list1 = string.split('*')\n",
    "print(list1, len(list1))"
   ]
  },
  {
   "cell_type": "code",
   "execution_count": null,
   "id": "354abe2a",
   "metadata": {},
   "outputs": [],
   "source": []
  }
 ],
 "metadata": {
  "kernelspec": {
   "display_name": "Python 3 (ipykernel)",
   "language": "python",
   "name": "python3"
  },
  "language_info": {
   "codemirror_mode": {
    "name": "ipython",
    "version": 3
   },
   "file_extension": ".py",
   "mimetype": "text/x-python",
   "name": "python",
   "nbconvert_exporter": "python",
   "pygments_lexer": "ipython3",
   "version": "3.9.7"
  }
 },
 "nbformat": 4,
 "nbformat_minor": 5
}
