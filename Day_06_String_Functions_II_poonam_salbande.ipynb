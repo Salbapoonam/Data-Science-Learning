{
  "cells": [
    {
      "cell_type": "markdown",
      "metadata": {
        "id": "view-in-github",
        "colab_type": "text"
      },
      "source": [
        "<a href=\"https://colab.research.google.com/github/Salbapoonam/Data-Science-Learning/blob/main/Day_06_String_Functions_II_poonam_salbande.ipynb\" target=\"_parent\"><img src=\"https://colab.research.google.com/assets/colab-badge.svg\" alt=\"Open In Colab\"/></a>"
      ]
    },
    {
      "cell_type": "code",
      "execution_count": null,
      "id": "aeb1b2d3",
      "metadata": {
        "id": "aeb1b2d3",
        "outputId": "b7352fe0-eabc-4961-808e-34828a217805"
      },
      "outputs": [
        {
          "data": {
            "text/plain": [
              "'Pythonand data science'"
            ]
          },
          "execution_count": 3,
          "metadata": {},
          "output_type": "execute_result"
        }
      ],
      "source": [
        "s = '     Python    and       data science     '\n",
        "s.strip().replace(\"  \", \"\")"
      ]
    },
    {
      "cell_type": "code",
      "execution_count": null,
      "id": "7bbc49e3",
      "metadata": {
        "id": "7bbc49e3",
        "outputId": "3f02e4b0-de08-42e6-df49-544c04f165aa"
      },
      "outputs": [
        {
          "name": "stdout",
          "output_type": "stream",
          "text": [
            "Data science is the                 \n",
            "study of data to extract meaningful insights for business.\n",
            "It is a multidisciplinary approach that combines principles and practices from\n",
            "the fields of mathematics, statistics, artificial intelligence, and computer engineering to analyze large amounts of data.\n"
          ]
        }
      ],
      "source": [
        "s = '''Data science is the\n",
        "study of data to extract meaningful insights for business.\n",
        "It is a multidisciplinary approach that combines principles and practices from\n",
        "the fields of mathematics, statistics, artificial intelligence, and computer engineering to analyze large amounts of data.'''\n",
        "print(s.strip())"
      ]
    },
    {
      "cell_type": "code",
      "execution_count": null,
      "id": "4206f2ac",
      "metadata": {
        "id": "4206f2ac",
        "outputId": "055d43c1-5db2-49c3-d309-2a730799cfba"
      },
      "outputs": [
        {
          "name": "stdout",
          "output_type": "stream",
          "text": [
            "python \n",
            " data science\n"
          ]
        }
      ],
      "source": [
        "s = \"\"\"python \\n data science\"\"\"\n",
        "print(s)"
      ]
    },
    {
      "cell_type": "markdown",
      "id": "0d3e8e39",
      "metadata": {
        "id": "0d3e8e39"
      },
      "source": [
        "#### 15. join()"
      ]
    },
    {
      "cell_type": "raw",
      "id": "fd3e56ea",
      "metadata": {
        "id": "fd3e56ea"
      },
      "source": [
        "List to string"
      ]
    },
    {
      "cell_type": "code",
      "execution_count": null,
      "id": "c5cefacb",
      "metadata": {
        "id": "c5cefacb",
        "outputId": "b5100c75-c8d1-4956-abbf-61ca599032d6"
      },
      "outputs": [
        {
          "name": "stdout",
          "output_type": "stream",
          "text": [
            "['We', 'are', 'learning', 'data', 'science', 'at', 'DataLearnm'] 7\n"
          ]
        }
      ],
      "source": [
        "string = 'We are learning data science at DataLearnm'\n",
        "list1 = string.split()\n",
        "print(list1, len(list1))"
      ]
    },
    {
      "cell_type": "code",
      "execution_count": null,
      "id": "b3f65014",
      "metadata": {
        "id": "b3f65014",
        "outputId": "683b6dc9-9876-4ab1-c0cc-d3d0b22b0232"
      },
      "outputs": [
        {
          "data": {
            "text/plain": [
              "list"
            ]
          },
          "execution_count": 10,
          "metadata": {},
          "output_type": "execute_result"
        }
      ],
      "source": [
        "type(list1)"
      ]
    },
    {
      "cell_type": "code",
      "execution_count": null,
      "id": "eeecd012",
      "metadata": {
        "id": "eeecd012",
        "outputId": "e96efcd3-9151-4f04-9db4-52bf7c3d360d"
      },
      "outputs": [
        {
          "data": {
            "text/plain": [
              "'We are learning data science at DataLearnm'"
            ]
          },
          "execution_count": 12,
          "metadata": {},
          "output_type": "execute_result"
        }
      ],
      "source": [
        "' '.join(list1)"
      ]
    },
    {
      "cell_type": "code",
      "execution_count": null,
      "id": "2edf0319",
      "metadata": {
        "id": "2edf0319",
        "outputId": "9e1806f8-5daf-4250-a9e9-17bfd4c5d60f"
      },
      "outputs": [
        {
          "data": {
            "text/plain": [
              "'We*are*learning*data*science*at*DataLearnm'"
            ]
          },
          "execution_count": 13,
          "metadata": {},
          "output_type": "execute_result"
        }
      ],
      "source": [
        "'*'.join(list1)"
      ]
    },
    {
      "cell_type": "code",
      "execution_count": null,
      "id": "9d3c4678",
      "metadata": {
        "id": "9d3c4678",
        "outputId": "e58b1341-88c0-4874-ce97-61a6ec7ac5aa"
      },
      "outputs": [
        {
          "name": "stdout",
          "output_type": "stream",
          "text": [
            "We*are*learning*data*science*at*DataLearnm\n"
          ]
        }
      ],
      "source": [
        "print('*'.join(list1))"
      ]
    },
    {
      "cell_type": "code",
      "execution_count": null,
      "id": "4004a347",
      "metadata": {
        "id": "4004a347",
        "outputId": "91e66100-c562-4e34-8ee9-39facbd12a28"
      },
      "outputs": [
        {
          "name": "stdout",
          "output_type": "stream",
          "text": [
            "We    are    learning    data    science    at    DataLearnm\n"
          ]
        }
      ],
      "source": [
        "print('    '.join(list1))"
      ]
    },
    {
      "cell_type": "markdown",
      "id": "e2db1c8e",
      "metadata": {
        "id": "e2db1c8e"
      },
      "source": [
        "#### 16. endswith()"
      ]
    },
    {
      "cell_type": "code",
      "execution_count": null,
      "id": "7982ffd2",
      "metadata": {
        "id": "7982ffd2"
      },
      "outputs": [],
      "source": [
        "# It returns boolean values (True or False)\n",
        "#Suffix\n",
        "# Use : To check file extensions"
      ]
    },
    {
      "cell_type": "code",
      "execution_count": null,
      "id": "b692f02a",
      "metadata": {
        "id": "b692f02a",
        "outputId": "c8884e03-8897-45de-ec24-52397f921b89"
      },
      "outputs": [
        {
          "data": {
            "text/plain": [
              "True"
            ]
          },
          "execution_count": 17,
          "metadata": {},
          "output_type": "execute_result"
        }
      ],
      "source": [
        "string = 'python'\n",
        "string.endswith('n')"
      ]
    },
    {
      "cell_type": "code",
      "execution_count": null,
      "id": "0896d70b",
      "metadata": {
        "id": "0896d70b",
        "outputId": "88f5c3f4-3c1a-4174-83a7-0fe40a665e23"
      },
      "outputs": [
        {
          "data": {
            "text/plain": [
              "False"
            ]
          },
          "execution_count": 18,
          "metadata": {},
          "output_type": "execute_result"
        }
      ],
      "source": [
        "string = 'python'\n",
        "string.endswith('N')"
      ]
    },
    {
      "cell_type": "code",
      "execution_count": null,
      "id": "2c6624ed",
      "metadata": {
        "id": "2c6624ed",
        "outputId": "4f5dcf91-07a5-46ff-802e-9e483abd5ca5"
      },
      "outputs": [
        {
          "data": {
            "text/plain": [
              "True"
            ]
          },
          "execution_count": 19,
          "metadata": {},
          "output_type": "execute_result"
        }
      ],
      "source": [
        "string = 'python class'\n",
        "string.endswith('class')"
      ]
    },
    {
      "cell_type": "code",
      "execution_count": null,
      "id": "c4bb87a4",
      "metadata": {
        "id": "c4bb87a4",
        "outputId": "7c53b11e-300d-423d-b66f-a9e30b76f197"
      },
      "outputs": [
        {
          "name": "stdout",
          "output_type": "stream",
          "text": [
            "Yes, string ends with class\n"
          ]
        }
      ],
      "source": [
        "string = 'python class'\n",
        "if string.endswith('class'):\n",
        "    print('Yes, string ends with class')\n",
        "\n",
        "else:\n",
        "    print(\"No, string doesn't ends with class\")"
      ]
    },
    {
      "cell_type": "code",
      "execution_count": null,
      "id": "e3a627e1",
      "metadata": {
        "id": "e3a627e1",
        "outputId": "2e2a2d0a-154f-4ab6-80f7-e27cf851a68c"
      },
      "outputs": [
        {
          "name": "stdout",
          "output_type": "stream",
          "text": [
            "No, string doesn't ends with class\n"
          ]
        }
      ],
      "source": [
        "string = 'python class'\n",
        "if string.endswith('Class'):\n",
        "    print('Yes, string ends with class')\n",
        "\n",
        "else:\n",
        "    print(\"No, string doesn't ends with class\")"
      ]
    },
    {
      "cell_type": "code",
      "execution_count": null,
      "id": "84c30754",
      "metadata": {
        "id": "84c30754",
        "outputId": "9d3a64cc-3166-4cee-f2b3-ed8260373875"
      },
      "outputs": [
        {
          "data": {
            "text/plain": [
              "True"
            ]
          },
          "execution_count": 22,
          "metadata": {},
          "output_type": "execute_result"
        }
      ],
      "source": [
        "s = 'E:\\DataLearnm_DS_July2023\\auto.csv'\n",
        "s.endswith('.csv')"
      ]
    },
    {
      "cell_type": "code",
      "execution_count": null,
      "id": "a2058963",
      "metadata": {
        "id": "a2058963",
        "outputId": "66188264-bccb-4366-c671-cf9bf52700d2"
      },
      "outputs": [
        {
          "data": {
            "text/plain": [
              "False"
            ]
          },
          "execution_count": 23,
          "metadata": {},
          "output_type": "execute_result"
        }
      ],
      "source": [
        "s = 'E:\\DataLearnm_DS_July2023\\auto.csv'\n",
        "s.endswith('.pdf')"
      ]
    },
    {
      "cell_type": "code",
      "execution_count": null,
      "id": "fceb61c1",
      "metadata": {
        "id": "fceb61c1",
        "outputId": "ad364414-a53a-4625-c703-95fc230a6ece"
      },
      "outputs": [
        {
          "name": "stdout",
          "output_type": "stream",
          "text": [
            "It is not a pdf file\n"
          ]
        }
      ],
      "source": [
        "pdf_file_name = 'E:\\DataLearnm_DS_July2023\\auto.csv'\n",
        "\n",
        "if pdf_file_name.endswith('.pdf') or pdf_file_name.endswith('.PDF'):\n",
        "    print('This is a pdf file')\n",
        "\n",
        "else:\n",
        "    print('It is not a pdf file')"
      ]
    },
    {
      "cell_type": "code",
      "execution_count": null,
      "id": "c0b5eeda",
      "metadata": {
        "id": "c0b5eeda",
        "outputId": "fbf2324d-5be4-43c0-a5d9-577861b676f4"
      },
      "outputs": [
        {
          "name": "stdout",
          "output_type": "stream",
          "text": [
            "This is a pdf file\n"
          ]
        }
      ],
      "source": [
        "pdf_file_name = 'E:\\DataLearnm_DS_July2023\\auto.pdf'\n",
        "\n",
        "if pdf_file_name.endswith('.pdf') or pdf_file_name.endswith('.PDF'):\n",
        "    print('This is a pdf file')\n",
        "\n",
        "else:\n",
        "    print('It is not a pdf file')"
      ]
    },
    {
      "cell_type": "markdown",
      "id": "5f716119",
      "metadata": {
        "id": "5f716119"
      },
      "source": [
        "#### 17. startswith"
      ]
    },
    {
      "cell_type": "code",
      "execution_count": null,
      "id": "1cfee57c",
      "metadata": {
        "id": "1cfee57c"
      },
      "outputs": [],
      "source": [
        "# It returns boolean values (True or False)\n",
        "#Preffix\n",
        "# Startswith (substring, start_index)"
      ]
    },
    {
      "cell_type": "code",
      "execution_count": null,
      "id": "749819b5",
      "metadata": {
        "id": "749819b5",
        "outputId": "fe354a80-fef9-4fa2-e819-d715e7aa5a49"
      },
      "outputs": [
        {
          "data": {
            "text/plain": [
              "True"
            ]
          },
          "execution_count": 46,
          "metadata": {},
          "output_type": "execute_result"
        }
      ],
      "source": [
        "s = 'We are learning data science at DataLearnm'\n",
        "s.startswith('We')"
      ]
    },
    {
      "cell_type": "code",
      "execution_count": null,
      "id": "0e11f56d",
      "metadata": {
        "id": "0e11f56d",
        "outputId": "1ce4988a-b8ab-428b-825b-ce1d68013012"
      },
      "outputs": [
        {
          "data": {
            "text/plain": [
              "False"
            ]
          },
          "execution_count": 32,
          "metadata": {},
          "output_type": "execute_result"
        }
      ],
      "source": [
        "s = 'We are learning data science at DataLearnm'\n",
        "s.startswith('W',7,20)"
      ]
    },
    {
      "cell_type": "code",
      "execution_count": null,
      "id": "0967a6b2",
      "metadata": {
        "id": "0967a6b2",
        "outputId": "333a4075-2be2-4c5b-ac69-7605fce2877a"
      },
      "outputs": [
        {
          "data": {
            "text/plain": [
              "'learning data'"
            ]
          },
          "execution_count": 33,
          "metadata": {},
          "output_type": "execute_result"
        }
      ],
      "source": [
        "s[7:20]"
      ]
    },
    {
      "cell_type": "code",
      "execution_count": null,
      "id": "95841cbf",
      "metadata": {
        "id": "95841cbf",
        "outputId": "642dafe7-c983-4989-b4a3-57d760fd5133"
      },
      "outputs": [
        {
          "data": {
            "text/plain": [
              "True"
            ]
          },
          "execution_count": 36,
          "metadata": {},
          "output_type": "execute_result"
        }
      ],
      "source": [
        "s = 'We are learning data science at DataLearnm'\n",
        "s.startswith('s',21,30)"
      ]
    },
    {
      "cell_type": "code",
      "execution_count": null,
      "id": "97172bc8",
      "metadata": {
        "id": "97172bc8",
        "outputId": "a06e39ae-d788-4549-d507-ac19cfe47daf"
      },
      "outputs": [
        {
          "data": {
            "text/plain": [
              "False"
            ]
          },
          "execution_count": 42,
          "metadata": {},
          "output_type": "execute_result"
        }
      ],
      "source": [
        "s = 'We are learning data science at DataLearnm d'\n",
        "s.startswith('a',21,30)"
      ]
    },
    {
      "cell_type": "code",
      "execution_count": null,
      "id": "aadfd429",
      "metadata": {
        "id": "aadfd429",
        "outputId": "92102889-16ae-497e-ec35-736726e87046"
      },
      "outputs": [
        {
          "data": {
            "text/plain": [
              "16"
            ]
          },
          "execution_count": 43,
          "metadata": {},
          "output_type": "execute_result"
        }
      ],
      "source": [
        "s.index('d')"
      ]
    },
    {
      "cell_type": "code",
      "execution_count": null,
      "id": "1ba35568",
      "metadata": {
        "id": "1ba35568",
        "outputId": "8f4deac5-008d-4c7c-83b4-cd37d08fc2a1"
      },
      "outputs": [
        {
          "data": {
            "text/plain": [
              "False"
            ]
          },
          "execution_count": 44,
          "metadata": {},
          "output_type": "execute_result"
        }
      ],
      "source": [
        "s.startswith('d',17,30)"
      ]
    },
    {
      "cell_type": "markdown",
      "id": "340a98ba",
      "metadata": {
        "id": "340a98ba"
      },
      "source": [
        "#### 18 isalnum()"
      ]
    },
    {
      "cell_type": "raw",
      "id": "0e7c0785",
      "metadata": {
        "id": "0e7c0785"
      },
      "source": [
        "It returns boolean values (True or False)\n",
        "Return True : If string is alphanumeric\n",
        "Return False : If string is not alphanumeric\n",
        "Alphanumeric : Alphabets and numbers [A-Z, a-z, 0-9]\n",
        "It does not allow spaces and special characters"
      ]
    },
    {
      "cell_type": "code",
      "execution_count": null,
      "id": "5ade5e67",
      "metadata": {
        "id": "5ade5e67",
        "outputId": "0122c85b-c7e4-4346-dd90-585249e6e710"
      },
      "outputs": [
        {
          "data": {
            "text/plain": [
              "True"
            ]
          },
          "execution_count": 47,
          "metadata": {},
          "output_type": "execute_result"
        }
      ],
      "source": [
        "s = 'Python'\n",
        "s.isalnum()"
      ]
    },
    {
      "cell_type": "code",
      "execution_count": null,
      "id": "46b69a10",
      "metadata": {
        "id": "46b69a10",
        "outputId": "bfa1298d-7a96-49e5-f1c1-a22aaf2dafe3"
      },
      "outputs": [
        {
          "data": {
            "text/plain": [
              "True"
            ]
          },
          "execution_count": 48,
          "metadata": {},
          "output_type": "execute_result"
        }
      ],
      "source": [
        "s = 'Python123'\n",
        "s.isalnum()"
      ]
    },
    {
      "cell_type": "code",
      "execution_count": null,
      "id": "77e6a9a8",
      "metadata": {
        "id": "77e6a9a8",
        "outputId": "08339bd0-af9e-4ff7-9ea1-eda400d7963c"
      },
      "outputs": [
        {
          "data": {
            "text/plain": [
              "False"
            ]
          },
          "execution_count": 49,
          "metadata": {},
          "output_type": "execute_result"
        }
      ],
      "source": [
        "s = 'Python123   '\n",
        "s.isalnum()"
      ]
    },
    {
      "cell_type": "code",
      "execution_count": null,
      "id": "2d2cfdd9",
      "metadata": {
        "id": "2d2cfdd9",
        "outputId": "8cdfed8c-8432-40d7-f997-eae390f514e9"
      },
      "outputs": [
        {
          "data": {
            "text/plain": [
              "False"
            ]
          },
          "execution_count": 50,
          "metadata": {},
          "output_type": "execute_result"
        }
      ],
      "source": [
        "s = 'Python123@'\n",
        "s.isalnum()"
      ]
    },
    {
      "cell_type": "code",
      "execution_count": null,
      "id": "636f36d8",
      "metadata": {
        "id": "636f36d8",
        "outputId": "3416046a-2a9e-421a-c882-4931cb67a41a"
      },
      "outputs": [
        {
          "data": {
            "text/plain": [
              "True"
            ]
          },
          "execution_count": 51,
          "metadata": {},
          "output_type": "execute_result"
        }
      ],
      "source": [
        "pan_number = 'CSTPK4532A'\n",
        "pan_number.isalnum()"
      ]
    },
    {
      "cell_type": "code",
      "execution_count": null,
      "id": "cba96c12",
      "metadata": {
        "id": "cba96c12",
        "outputId": "c6dcdc91-6742-4f62-e9de-1f15d98771e7"
      },
      "outputs": [
        {
          "data": {
            "text/plain": [
              "False"
            ]
          },
          "execution_count": 52,
          "metadata": {},
          "output_type": "execute_result"
        }
      ],
      "source": [
        "pan_number = 'CSTPK453.2A'\n",
        "pan_number.isalnum()"
      ]
    },
    {
      "cell_type": "code",
      "execution_count": null,
      "id": "32c66d59",
      "metadata": {
        "id": "32c66d59",
        "outputId": "02b2f78e-b80e-49a2-c343-b145c63bc63a"
      },
      "outputs": [
        {
          "name": "stdout",
          "output_type": "stream",
          "text": [
            "Yes string is alphanumeric\n"
          ]
        }
      ],
      "source": [
        "pan_number = 'CSTPK4532A'\n",
        "if pan_number.isalnum():\n",
        "    print(\"Yes string is alphanumeric\")"
      ]
    },
    {
      "cell_type": "code",
      "execution_count": null,
      "id": "2eef0a54",
      "metadata": {
        "id": "2eef0a54",
        "outputId": "8838ceb8-c90e-4e1b-f0df-05bca318cf0a"
      },
      "outputs": [
        {
          "name": "stdout",
          "output_type": "stream",
          "text": [
            "String is not alphanumeric\n"
          ]
        }
      ],
      "source": [
        "pan_number = 'CSTPK453.2A'\n",
        "if pan_number.isalnum():\n",
        "    print(\"Yes string is alphanumeric\")\n",
        "\n",
        "else:\n",
        "    print('String is not alphanumeric')"
      ]
    },
    {
      "cell_type": "code",
      "execution_count": null,
      "id": "8527f1aa",
      "metadata": {
        "id": "8527f1aa",
        "outputId": "5130a57f-f88a-4415-a1c6-93b0c973d717"
      },
      "outputs": [
        {
          "name": "stdout",
          "output_type": "stream",
          "text": [
            "Yes string is ifsc code\n"
          ]
        }
      ],
      "source": [
        "ifsc = 'SBIN0001365'\n",
        "if ifsc.isalnum():\n",
        "    print(\"Yes string is ifsc code\")\n",
        "\n",
        "else:\n",
        "    print('No string is not ifsc code')"
      ]
    },
    {
      "cell_type": "code",
      "execution_count": null,
      "id": "b466996b",
      "metadata": {
        "id": "b466996b",
        "outputId": "4ac81ebc-778e-4a02-c2dd-a16a61b1911b"
      },
      "outputs": [
        {
          "name": "stdout",
          "output_type": "stream",
          "text": [
            "No string is not ifsc code\n"
          ]
        }
      ],
      "source": [
        "ifsc = 'SBIN0.01365'\n",
        "if ifsc.isalnum():\n",
        "    print(\"Yes string is ifsc code\")\n",
        "\n",
        "else:\n",
        "    print('No string is not ifsc code')"
      ]
    },
    {
      "cell_type": "markdown",
      "id": "cf7aa939",
      "metadata": {
        "id": "cf7aa939"
      },
      "source": [
        "#### 19. isalpha()"
      ]
    },
    {
      "cell_type": "raw",
      "id": "fa5025ff",
      "metadata": {
        "id": "fa5025ff"
      },
      "source": [
        "It returns boolean values (True or False)\n",
        "Return True : If string is alphabates\n",
        "Return False : If string is not alphabets\n",
        "Alphabet : Alphabets[A-Z, a-z]\n",
        "It does not allow spaces and special characters"
      ]
    },
    {
      "cell_type": "code",
      "execution_count": null,
      "id": "c8e91834",
      "metadata": {
        "id": "c8e91834",
        "outputId": "350ae31a-6167-4a03-912e-d7c33e1b251a"
      },
      "outputs": [
        {
          "data": {
            "text/plain": [
              "True"
            ]
          },
          "execution_count": 58,
          "metadata": {},
          "output_type": "execute_result"
        }
      ],
      "source": [
        "s = 'DataScience'\n",
        "s.isalpha()"
      ]
    },
    {
      "cell_type": "code",
      "execution_count": null,
      "id": "c267e123",
      "metadata": {
        "id": "c267e123",
        "outputId": "a9a74da8-c5c5-43e4-dd63-4d6bd8ce7a36"
      },
      "outputs": [
        {
          "data": {
            "text/plain": [
              "False"
            ]
          },
          "execution_count": 59,
          "metadata": {},
          "output_type": "execute_result"
        }
      ],
      "source": [
        "s = 'Data Science'\n",
        "s.isalpha()"
      ]
    },
    {
      "cell_type": "code",
      "execution_count": null,
      "id": "14d45f04",
      "metadata": {
        "id": "14d45f04",
        "outputId": "b98ab75f-bd92-4256-e4cf-76b45956719c"
      },
      "outputs": [
        {
          "data": {
            "text/plain": [
              "False"
            ]
          },
          "execution_count": 60,
          "metadata": {},
          "output_type": "execute_result"
        }
      ],
      "source": [
        "s = 'Data$cience'\n",
        "s.isalpha()"
      ]
    },
    {
      "cell_type": "code",
      "execution_count": null,
      "id": "804b18fd",
      "metadata": {
        "id": "804b18fd",
        "outputId": "d881f467-5f95-4bab-c20c-c1eb71948af8"
      },
      "outputs": [
        {
          "data": {
            "text/plain": [
              "False"
            ]
          },
          "execution_count": 61,
          "metadata": {},
          "output_type": "execute_result"
        }
      ],
      "source": [
        "s = 'DataScience123'\n",
        "s.isalpha()"
      ]
    },
    {
      "cell_type": "code",
      "execution_count": null,
      "id": "3857db7c",
      "metadata": {
        "id": "3857db7c",
        "outputId": "679ff696-6b69-4fb9-99a4-2b0bf0e4daab"
      },
      "outputs": [
        {
          "name": "stdout",
          "output_type": "stream",
          "text": [
            "No string is not ifsc code\n"
          ]
        }
      ],
      "source": [
        "ifsc = 'SBIN000136'\n",
        "if ifsc.isalpha():\n",
        "    print(\"Yes string is ifsc code\")\n",
        "\n",
        "else:\n",
        "    print('No string is not ifsc code')"
      ]
    },
    {
      "cell_type": "markdown",
      "id": "bb101679",
      "metadata": {
        "id": "bb101679"
      },
      "source": [
        "#### 20. isdecimal()"
      ]
    },
    {
      "cell_type": "raw",
      "id": "db2c89e1",
      "metadata": {
        "id": "db2c89e1"
      },
      "source": [
        "It returns boolean values (True or False)\n",
        "Return True : If string contain only decimals\n",
        "Return False : If string does not contain decimals\n",
        "Decimals : 0-9\n",
        "It does not allow spaces and special characters"
      ]
    },
    {
      "cell_type": "code",
      "execution_count": null,
      "id": "cdcf320f",
      "metadata": {
        "id": "cdcf320f",
        "outputId": "1c44d083-d4f4-4c18-9298-050d5abb191e"
      },
      "outputs": [
        {
          "data": {
            "text/plain": [
              "True"
            ]
          },
          "execution_count": 65,
          "metadata": {},
          "output_type": "execute_result"
        }
      ],
      "source": [
        "mob_no = '9021125455'\n",
        "mob_no.isdecimal()"
      ]
    },
    {
      "cell_type": "code",
      "execution_count": null,
      "id": "cd8e7988",
      "metadata": {
        "id": "cd8e7988",
        "outputId": "b07009b2-f6e2-4677-c37b-315783abc6ad"
      },
      "outputs": [
        {
          "data": {
            "text/plain": [
              "False"
            ]
          },
          "execution_count": 66,
          "metadata": {},
          "output_type": "execute_result"
        }
      ],
      "source": [
        "mob_no = 'A9021125455'\n",
        "mob_no.isdecimal()"
      ]
    },
    {
      "cell_type": "code",
      "execution_count": null,
      "id": "53737df5",
      "metadata": {
        "id": "53737df5",
        "outputId": "9cfd10b7-836e-42b4-eb33-73691c0424d1"
      },
      "outputs": [
        {
          "data": {
            "text/plain": [
              "True"
            ]
          },
          "execution_count": 71,
          "metadata": {},
          "output_type": "execute_result"
        }
      ],
      "source": [
        "mob_no = '+919021125455'\n",
        "mob_no.startswith('+')"
      ]
    },
    {
      "cell_type": "code",
      "execution_count": null,
      "id": "208fb926",
      "metadata": {
        "id": "208fb926",
        "outputId": "762389a0-12cd-421b-f328-394f47b1a58c"
      },
      "outputs": [
        {
          "data": {
            "text/plain": [
              "False"
            ]
          },
          "execution_count": 67,
          "metadata": {},
          "output_type": "execute_result"
        }
      ],
      "source": [
        "mob_no = '+919021125455'\n",
        "mob_no.isdecimal()"
      ]
    },
    {
      "cell_type": "code",
      "execution_count": null,
      "id": "4b8c5f6d",
      "metadata": {
        "id": "4b8c5f6d",
        "outputId": "8ddc269b-4902-423f-c152-ef9656f8dec2"
      },
      "outputs": [
        {
          "data": {
            "text/plain": [
              "False"
            ]
          },
          "execution_count": 68,
          "metadata": {},
          "output_type": "execute_result"
        }
      ],
      "source": [
        "mob_no = '90 211 254 55'\n",
        "mob_no.isdecimal()"
      ]
    },
    {
      "cell_type": "code",
      "execution_count": null,
      "id": "dd2f0027",
      "metadata": {
        "id": "dd2f0027",
        "outputId": "bae7ea61-de66-4991-acb2-8da54b4bdb2d"
      },
      "outputs": [
        {
          "name": "stdout",
          "output_type": "stream",
          "text": [
            "Updated aadhar no is : 123423451234\n",
            "Valid aadhar number\n"
          ]
        }
      ],
      "source": [
        "aadhar_no = '1234 2345 1234'\n",
        "aadhar_no = aadhar_no.replace(\" \", \"\")\n",
        "print(\"Updated aadhar no is :\", aadhar_no)\n",
        "\n",
        "if aadhar_no.isdecimal() and len(aadhar_no)==12:\n",
        "    print(\"Valid aadhar number\")\n",
        "\n",
        "else:\n",
        "    print('Invalid aadhar number')"
      ]
    },
    {
      "cell_type": "code",
      "execution_count": null,
      "id": "c399c094",
      "metadata": {
        "id": "c399c094",
        "outputId": "9e333528-54bd-400b-89e6-2c59cd38c7f0"
      },
      "outputs": [
        {
          "name": "stdout",
          "output_type": "stream",
          "text": [
            "Updated aadhar no is : 12342345123$\n",
            "Invalid aadhar number\n"
          ]
        }
      ],
      "source": [
        "aadhar_no = '1234 2345 123$'\n",
        "aadhar_no = aadhar_no.replace(\" \", \"\")\n",
        "print(\"Updated aadhar no is :\", aadhar_no)\n",
        "\n",
        "if aadhar_no.isdecimal() and len(aadhar_no)==12:\n",
        "    print(\"Valid aadhar number\")\n",
        "\n",
        "else:\n",
        "    print('Invalid aadhar number')"
      ]
    },
    {
      "cell_type": "code",
      "execution_count": null,
      "id": "1152ac93",
      "metadata": {
        "id": "1152ac93",
        "outputId": "52f402c8-95df-4a39-d4a1-6fbae0249a7f"
      },
      "outputs": [
        {
          "data": {
            "text/plain": [
              "False"
            ]
          },
          "execution_count": 77,
          "metadata": {},
          "output_type": "execute_result"
        }
      ],
      "source": [
        "aadhar_no = '1234 2345 123$'\n",
        "aadhar_no.isdecimal()"
      ]
    },
    {
      "cell_type": "code",
      "execution_count": null,
      "id": "7310af37",
      "metadata": {
        "id": "7310af37"
      },
      "outputs": [],
      "source": []
    }
  ],
  "metadata": {
    "kernelspec": {
      "display_name": "Python 3 (ipykernel)",
      "language": "python",
      "name": "python3"
    },
    "language_info": {
      "codemirror_mode": {
        "name": "ipython",
        "version": 3
      },
      "file_extension": ".py",
      "mimetype": "text/x-python",
      "name": "python",
      "nbconvert_exporter": "python",
      "pygments_lexer": "ipython3",
      "version": "3.8.17"
    },
    "colab": {
      "provenance": [],
      "include_colab_link": true
    }
  },
  "nbformat": 4,
  "nbformat_minor": 5
}