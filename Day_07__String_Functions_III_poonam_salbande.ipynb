{
  "cells": [
    {
      "cell_type": "markdown",
      "metadata": {
        "id": "view-in-github",
        "colab_type": "text"
      },
      "source": [
        "<a href=\"https://colab.research.google.com/github/Salbapoonam/Data-Science-Learning/blob/main/Day_07__String_Functions_III_poonam_salbande.ipynb\" target=\"_parent\"><img src=\"https://colab.research.google.com/assets/colab-badge.svg\" alt=\"Open In Colab\"/></a>"
      ]
    },
    {
      "cell_type": "markdown",
      "id": "e0a676d2",
      "metadata": {
        "id": "e0a676d2"
      },
      "source": [
        "#### 21 islower"
      ]
    },
    {
      "cell_type": "raw",
      "id": "452cd284",
      "metadata": {
        "id": "452cd284"
      },
      "source": [
        "Return True>>> If all characters of string are in lower case\n",
        "Space allowed\n",
        "Special characters are allowed"
      ]
    },
    {
      "cell_type": "code",
      "execution_count": null,
      "id": "d3cd5c91",
      "metadata": {
        "id": "d3cd5c91",
        "outputId": "3093f83f-0733-4592-fcea-fd33ab9443d4"
      },
      "outputs": [
        {
          "data": {
            "text/plain": [
              "True"
            ]
          },
          "execution_count": 1,
          "metadata": {},
          "output_type": "execute_result"
        }
      ],
      "source": [
        "s = 'machine learning'\n",
        "s.islower()"
      ]
    },
    {
      "cell_type": "code",
      "execution_count": null,
      "id": "34b20a0d",
      "metadata": {
        "id": "34b20a0d",
        "outputId": "05d749be-10bb-4903-e4eb-d1a17f6b7385"
      },
      "outputs": [
        {
          "data": {
            "text/plain": [
              "False"
            ]
          },
          "execution_count": 2,
          "metadata": {},
          "output_type": "execute_result"
        }
      ],
      "source": [
        "s = 'Machine Learning'\n",
        "s.islower()"
      ]
    },
    {
      "cell_type": "code",
      "execution_count": null,
      "id": "e5274bd7",
      "metadata": {
        "id": "e5274bd7",
        "outputId": "55d25163-0cf6-4966-97cb-deae8c5c2314"
      },
      "outputs": [
        {
          "data": {
            "text/plain": [
              "False"
            ]
          },
          "execution_count": 3,
          "metadata": {},
          "output_type": "execute_result"
        }
      ],
      "source": [
        "s = 'Machine Learning#'\n",
        "s.islower()"
      ]
    },
    {
      "cell_type": "code",
      "execution_count": null,
      "id": "2eefc15e",
      "metadata": {
        "id": "2eefc15e",
        "outputId": "4b625ae3-b430-4c4d-cef2-425dc17b6ab9"
      },
      "outputs": [
        {
          "data": {
            "text/plain": [
              "True"
            ]
          },
          "execution_count": 4,
          "metadata": {},
          "output_type": "execute_result"
        }
      ],
      "source": [
        "s = 'machine@ learning'\n",
        "s.islower()"
      ]
    },
    {
      "cell_type": "code",
      "execution_count": null,
      "id": "bb48d4a8",
      "metadata": {
        "id": "bb48d4a8",
        "outputId": "717a2b02-8156-4bc0-c4be-fa5948080a41"
      },
      "outputs": [
        {
          "name": "stdout",
          "output_type": "stream",
          "text": [
            "True\n",
            "False\n",
            "True\n",
            "True\n"
          ]
        }
      ],
      "source": [
        "s1 = 'python'\n",
        "s2 = \"Python\"\n",
        "s3 = 'python123'\n",
        "s4 = 'python&'\n",
        "print(s1.islower())\n",
        "print(s2.islower())\n",
        "print(s3.islower())\n",
        "print(s4.islower())"
      ]
    },
    {
      "cell_type": "markdown",
      "id": "d64ecb85",
      "metadata": {
        "id": "d64ecb85"
      },
      "source": [
        "#### 22. isupper()"
      ]
    },
    {
      "cell_type": "raw",
      "id": "4306a11c",
      "metadata": {
        "id": "4306a11c"
      },
      "source": [
        "True >>> If all characters are in upper case\n",
        "Space allowed\n",
        "Special characters are allowed"
      ]
    },
    {
      "cell_type": "code",
      "execution_count": null,
      "id": "500b0a32",
      "metadata": {
        "id": "500b0a32",
        "outputId": "11651179-0e1f-48ea-d587-693de1a6c455"
      },
      "outputs": [
        {
          "name": "stdout",
          "output_type": "stream",
          "text": [
            "False\n",
            "True\n",
            "True\n",
            "True\n",
            "False\n",
            "True\n"
          ]
        }
      ],
      "source": [
        "s1 = 'PYthon'\n",
        "s2 = \"PYTHON\"\n",
        "s3 = 'PYTHON123'\n",
        "s4 = 'PYTHON&'\n",
        "s5 = 'Machine Learning'\n",
        "s6 = 'DATA SCIENCE'\n",
        "print(s1.isupper())\n",
        "print(s2.isupper())\n",
        "print(s3.isupper())\n",
        "print(s4.isupper())\n",
        "print(s5.isupper())\n",
        "print(s6.isupper())"
      ]
    },
    {
      "cell_type": "code",
      "execution_count": null,
      "id": "a6b2ea6f",
      "metadata": {
        "id": "a6b2ea6f",
        "outputId": "84173746-07f5-4388-f2d3-35722a0a3f61"
      },
      "outputs": [
        {
          "name": "stdout",
          "output_type": "stream",
          "text": [
            "All characters are in upper case\n",
            "Valid IFSC\n"
          ]
        }
      ],
      "source": [
        "ifsc_code = 'SBIN0013275'\n",
        "if ifsc_code.isupper():\n",
        "    print('All characters are in upper case')\n",
        "    print(\"Valid IFSC\")\n",
        "\n",
        "else:\n",
        "    print('All characters are not in upper case')\n",
        "    print('Enter correct IFSC code')"
      ]
    },
    {
      "cell_type": "code",
      "execution_count": null,
      "id": "1f220099",
      "metadata": {
        "id": "1f220099",
        "outputId": "13fb63d2-5e8d-4314-d903-ccce787297f0"
      },
      "outputs": [
        {
          "name": "stdout",
          "output_type": "stream",
          "text": [
            "All characters are not in upper case\n",
            "Enter correct IFSC code\n"
          ]
        }
      ],
      "source": [
        "ifsc_code = 'SBIn0013275'\n",
        "if ifsc_code.isupper():\n",
        "    print('All characters are in upper case')\n",
        "    print(\"Valid IFSC\")\n",
        "\n",
        "else:\n",
        "    print('All characters are not in upper case')\n",
        "    print('Enter correct IFSC code')"
      ]
    },
    {
      "cell_type": "code",
      "execution_count": null,
      "id": "54420223",
      "metadata": {
        "id": "54420223",
        "outputId": "ada152a0-cf7d-416f-f4b8-2552b5040cd7"
      },
      "outputs": [
        {
          "name": "stdout",
          "output_type": "stream",
          "text": [
            "All characters are in upper case\n",
            "Valid PAN Number\n"
          ]
        }
      ],
      "source": [
        "pan = 'CSTPL3454F'\n",
        "if pan.isupper():\n",
        "    print('All characters are in upper case')\n",
        "    print(\"Valid PAN Number\")\n",
        "\n",
        "else:\n",
        "    print('All characters are not in upper case')\n",
        "    print('Enter correct PAN Number')"
      ]
    },
    {
      "cell_type": "code",
      "execution_count": null,
      "id": "511e495d",
      "metadata": {
        "id": "511e495d",
        "outputId": "3362c1f2-8e02-47d1-ceee-0c6313d95444"
      },
      "outputs": [
        {
          "name": "stdout",
          "output_type": "stream",
          "text": [
            "All characters are not in upper case\n",
            "Enter correct PAN Number\n"
          ]
        }
      ],
      "source": [
        "pan = 'CSTPL3454f'\n",
        "if pan.isupper():\n",
        "    print('All characters are in upper case')\n",
        "    print(\"Valid PAN Number\")\n",
        "\n",
        "else:\n",
        "    print('All characters are not in upper case')\n",
        "    print('Enter correct PAN Number')"
      ]
    },
    {
      "cell_type": "markdown",
      "id": "733140c8",
      "metadata": {
        "id": "733140c8"
      },
      "source": [
        "#### 23. istitle()"
      ]
    },
    {
      "cell_type": "code",
      "execution_count": null,
      "id": "8b8d93b7",
      "metadata": {
        "id": "8b8d93b7",
        "outputId": "f17ab774-0336-4d44-a5f7-86b70f68a6a8"
      },
      "outputs": [
        {
          "data": {
            "text/plain": [
              "True"
            ]
          },
          "execution_count": 20,
          "metadata": {},
          "output_type": "execute_result"
        }
      ],
      "source": [
        "name = 'Akshay Kumar'\n",
        "name.istitle()"
      ]
    },
    {
      "cell_type": "code",
      "execution_count": null,
      "id": "6ad6166f",
      "metadata": {
        "id": "6ad6166f",
        "outputId": "56ec4cd6-9c4f-4f95-bd10-013fc11348f4"
      },
      "outputs": [
        {
          "data": {
            "text/plain": [
              "False"
            ]
          },
          "execution_count": 21,
          "metadata": {},
          "output_type": "execute_result"
        }
      ],
      "source": [
        "name = 'Akshay kumar'\n",
        "name.istitle()"
      ]
    },
    {
      "cell_type": "code",
      "execution_count": null,
      "id": "bbb829d4",
      "metadata": {
        "id": "bbb829d4",
        "outputId": "a749ae68-ec3d-40a7-adaa-448d4007e4b4"
      },
      "outputs": [
        {
          "data": {
            "text/plain": [
              "False"
            ]
          },
          "execution_count": 22,
          "metadata": {},
          "output_type": "execute_result"
        }
      ],
      "source": [
        "name = 'aKShay Kumar'\n",
        "name.istitle()"
      ]
    },
    {
      "cell_type": "code",
      "execution_count": null,
      "id": "58ef9f1a",
      "metadata": {
        "id": "58ef9f1a",
        "outputId": "dbdc0a2f-4212-47f1-95b6-ef4fa26145a8"
      },
      "outputs": [
        {
          "data": {
            "text/plain": [
              "True"
            ]
          },
          "execution_count": 23,
          "metadata": {},
          "output_type": "execute_result"
        }
      ],
      "source": [
        "Country_name = 'Untited States Of America'\n",
        "Country_name.istitle()"
      ]
    },
    {
      "cell_type": "markdown",
      "id": "7f13d013",
      "metadata": {
        "id": "7f13d013"
      },
      "source": [
        "#### 24. isdigit()"
      ]
    },
    {
      "cell_type": "raw",
      "id": "c2c98f07",
      "metadata": {
        "id": "c2c98f07"
      },
      "source": [
        "True >> If all characters are digits, subscripts, superscripts"
      ]
    },
    {
      "cell_type": "code",
      "execution_count": null,
      "id": "cdbf0164",
      "metadata": {
        "id": "cdbf0164",
        "outputId": "7c446419-27e3-41ec-9f45-9a36c4736d68"
      },
      "outputs": [
        {
          "data": {
            "text/plain": [
              "True"
            ]
          },
          "execution_count": 24,
          "metadata": {},
          "output_type": "execute_result"
        }
      ],
      "source": [
        "num = '34'\n",
        "num.isdigit()"
      ]
    },
    {
      "cell_type": "code",
      "execution_count": null,
      "id": "5f22fd36",
      "metadata": {
        "id": "5f22fd36",
        "outputId": "6ca4f201-1660-4d18-a33c-3cd74cac1052"
      },
      "outputs": [
        {
          "data": {
            "text/plain": [
              "False"
            ]
          },
          "execution_count": 25,
          "metadata": {},
          "output_type": "execute_result"
        }
      ],
      "source": [
        "num = '34.34'\n",
        "num.isdigit()"
      ]
    },
    {
      "cell_type": "code",
      "execution_count": null,
      "id": "f7788e8b",
      "metadata": {
        "id": "f7788e8b",
        "outputId": "472e6b87-3b63-424c-a74c-4a3309dab254"
      },
      "outputs": [
        {
          "data": {
            "text/plain": [
              "False"
            ]
          },
          "execution_count": 26,
          "metadata": {},
          "output_type": "execute_result"
        }
      ],
      "source": [
        "mob_no = '90-23-123-234'\n",
        "mob_no.isdigit()"
      ]
    },
    {
      "cell_type": "code",
      "execution_count": null,
      "id": "ea922688",
      "metadata": {
        "id": "ea922688",
        "outputId": "c879881f-d916-407d-f8a7-7b46febe3007"
      },
      "outputs": [
        {
          "data": {
            "text/plain": [
              "True"
            ]
          },
          "execution_count": 27,
          "metadata": {},
          "output_type": "execute_result"
        }
      ],
      "source": [
        "mob_no = '9023123234'\n",
        "mob_no.isdigit()"
      ]
    },
    {
      "cell_type": "raw",
      "id": "e02c518e",
      "metadata": {
        "id": "e02c518e"
      },
      "source": [
        "x^2\n",
        "x^1/2"
      ]
    },
    {
      "cell_type": "code",
      "execution_count": null,
      "id": "5e0d22d8",
      "metadata": {
        "id": "5e0d22d8",
        "outputId": "71f8eaa1-eb4f-43fe-c06f-f71f8a6eb8e7"
      },
      "outputs": [
        {
          "data": {
            "text/plain": [
              "4"
            ]
          },
          "execution_count": 32,
          "metadata": {},
          "output_type": "execute_result"
        }
      ],
      "source": [
        "2**2"
      ]
    },
    {
      "cell_type": "code",
      "execution_count": null,
      "id": "39597066",
      "metadata": {
        "id": "39597066",
        "outputId": "e1f35834-4787-4ce8-d459-b4843c045052"
      },
      "outputs": [
        {
          "data": {
            "text/plain": [
              "27"
            ]
          },
          "execution_count": 33,
          "metadata": {},
          "output_type": "execute_result"
        }
      ],
      "source": [
        "3**3"
      ]
    },
    {
      "cell_type": "code",
      "execution_count": null,
      "id": "0c28fab5",
      "metadata": {
        "id": "0c28fab5",
        "outputId": "a139b7f3-edab-48fb-eb29-2d72114883e5"
      },
      "outputs": [
        {
          "name": "stdout",
          "output_type": "stream",
          "text": [
            "<class 'int'>\n",
            "<class 'str'>\n"
          ]
        },
        {
          "data": {
            "text/plain": [
              "True"
            ]
          },
          "execution_count": 41,
          "metadata": {},
          "output_type": "execute_result"
        }
      ],
      "source": [
        "num = 3**3\n",
        "print(type(num))\n",
        "num1 = str(num)\n",
        "print(type(num1))\n",
        "num1.isdigit()"
      ]
    },
    {
      "cell_type": "code",
      "execution_count": null,
      "id": "42ef9dbc",
      "metadata": {
        "id": "42ef9dbc",
        "outputId": "ba05eff5-9aa1-4e1a-e95e-9e3a25826188"
      },
      "outputs": [
        {
          "name": "stdout",
          "output_type": "stream",
          "text": [
            "<class 'float'>\n",
            "<class 'str'>\n",
            "4.0\n"
          ]
        },
        {
          "data": {
            "text/plain": [
              "False"
            ]
          },
          "execution_count": 46,
          "metadata": {},
          "output_type": "execute_result"
        }
      ],
      "source": [
        "num = 16**(1/2)\n",
        "print(type(num))\n",
        "num1 = str(num)\n",
        "print(type(num1))\n",
        "print(num1)\n",
        "num1.isdigit()"
      ]
    },
    {
      "cell_type": "code",
      "execution_count": null,
      "id": "77caf420",
      "metadata": {
        "id": "77caf420",
        "outputId": "f18740a6-6e2a-4d86-9c86-7531adfc9ab5"
      },
      "outputs": [
        {
          "data": {
            "text/plain": [
              "4.0"
            ]
          },
          "execution_count": 43,
          "metadata": {},
          "output_type": "execute_result"
        }
      ],
      "source": [
        "num"
      ]
    },
    {
      "cell_type": "markdown",
      "id": "9c55650f",
      "metadata": {
        "id": "9c55650f"
      },
      "source": [
        "#### 25. isnumeric()"
      ]
    },
    {
      "cell_type": "markdown",
      "id": "911001c8",
      "metadata": {
        "id": "911001c8"
      },
      "source": [
        "True >> if all charcters are digits.\n",
        "Sunscripts, superscripts and fractions"
      ]
    },
    {
      "cell_type": "code",
      "execution_count": null,
      "id": "7e4a1c92",
      "metadata": {
        "id": "7e4a1c92",
        "outputId": "2f6d0329-524d-43ae-82bc-784081b7a6f3"
      },
      "outputs": [
        {
          "name": "stdout",
          "output_type": "stream",
          "text": [
            "True\n",
            "True\n",
            "True\n"
          ]
        }
      ],
      "source": [
        "s1 = '1234567'\n",
        "print(s1.isdecimal())\n",
        "print(s1.isdigit())\n",
        "print(s1.isnumeric())"
      ]
    },
    {
      "cell_type": "code",
      "execution_count": null,
      "id": "36ba3fb7",
      "metadata": {
        "id": "36ba3fb7",
        "outputId": "f47fcc36-30b0-495d-92d5-a1e49d788aee"
      },
      "outputs": [
        {
          "name": "stdout",
          "output_type": "stream",
          "text": [
            "False\n",
            "False\n",
            "False\n"
          ]
        }
      ],
      "source": [
        "s1 = '123 456 7'\n",
        "print(s1.isdecimal())\n",
        "print(s1.isdigit())\n",
        "print(s1.isnumeric())"
      ]
    },
    {
      "cell_type": "code",
      "execution_count": null,
      "id": "a47aa010",
      "metadata": {
        "id": "a47aa010",
        "outputId": "42f739c2-7161-4164-cba1-26074873ccdb"
      },
      "outputs": [
        {
          "name": "stdout",
          "output_type": "stream",
          "text": [
            "False\n",
            "False\n",
            "False\n"
          ]
        }
      ],
      "source": [
        "s1 = '123.4567'\n",
        "print(s1.isdecimal())\n",
        "print(s1.isdigit())\n",
        "print(s1.isnumeric())"
      ]
    },
    {
      "cell_type": "code",
      "execution_count": null,
      "id": "93d22b8b",
      "metadata": {
        "id": "93d22b8b",
        "outputId": "646fd885-870f-40a1-a4f1-7e5813d7af81"
      },
      "outputs": [
        {
          "name": "stdout",
          "output_type": "stream",
          "text": [
            "False\n",
            "False\n",
            "False\n"
          ]
        }
      ],
      "source": [
        "s1 = '123$4567'\n",
        "print(s1.isdecimal())\n",
        "print(s1.isdigit())\n",
        "print(s1.isnumeric())"
      ]
    },
    {
      "cell_type": "code",
      "execution_count": null,
      "id": "66d65f05",
      "metadata": {
        "id": "66d65f05",
        "outputId": "19ffcbe0-bd8f-438b-a9a7-a227a06024f9"
      },
      "outputs": [
        {
          "name": "stdout",
          "output_type": "stream",
          "text": [
            "False\n",
            "True\n",
            "True\n"
          ]
        }
      ],
      "source": [
        "# Superscript\n",
        "\n",
        "power = '\\u2083'     # Power of 4\n",
        "print(power.isdecimal())\n",
        "print(power.isdigit())\n",
        "print(power.isnumeric())"
      ]
    },
    {
      "cell_type": "code",
      "execution_count": null,
      "id": "519715c9",
      "metadata": {
        "id": "519715c9",
        "outputId": "94c1a421-f135-44b2-d68b-2df57e58bdfc"
      },
      "outputs": [
        {
          "name": "stdout",
          "output_type": "stream",
          "text": [
            "False\n",
            "False\n",
            "True\n"
          ]
        }
      ],
      "source": [
        "# Fraction\n",
        "\n",
        "fraction = '\\u00BD'     # Fraction of 1/2\n",
        "print(fraction.isdecimal())\n",
        "print(fraction.isdigit())\n",
        "print(fraction.isnumeric())"
      ]
    },
    {
      "cell_type": "markdown",
      "id": "0860fea4",
      "metadata": {
        "id": "0860fea4"
      },
      "source": [
        "isdecimal() >> digits\n",
        "isdigit() >> digits, subscripts, superscripts\n",
        "isnumeric() >> digits, subscripts, superscripts, fractions"
      ]
    },
    {
      "cell_type": "markdown",
      "id": "32a2bff9",
      "metadata": {
        "id": "32a2bff9"
      },
      "source": [
        "#### 26. isspace()"
      ]
    },
    {
      "cell_type": "raw",
      "id": "d91d5a7f",
      "metadata": {
        "id": "d91d5a7f"
      },
      "source": [
        "True >>> If all characters in string are spaces"
      ]
    },
    {
      "cell_type": "code",
      "execution_count": null,
      "id": "b21ae81b",
      "metadata": {
        "id": "b21ae81b",
        "outputId": "76909ec9-93db-456a-be50-3147888d13e8"
      },
      "outputs": [
        {
          "data": {
            "text/plain": [
              "True"
            ]
          },
          "execution_count": 53,
          "metadata": {},
          "output_type": "execute_result"
        }
      ],
      "source": [
        "str1 = \"      \"\n",
        "str1.isspace()"
      ]
    },
    {
      "cell_type": "code",
      "execution_count": null,
      "id": "ef2c8a12",
      "metadata": {
        "id": "ef2c8a12",
        "outputId": "6ce49f06-5be5-46ea-face-24b5e95bac77"
      },
      "outputs": [
        {
          "data": {
            "text/plain": [
              "False"
            ]
          },
          "execution_count": 54,
          "metadata": {},
          "output_type": "execute_result"
        }
      ],
      "source": [
        "str1 = \"  @    \"\n",
        "str1.isspace()"
      ]
    },
    {
      "cell_type": "code",
      "execution_count": null,
      "id": "c17a95e2",
      "metadata": {
        "id": "c17a95e2",
        "outputId": "869df38d-4ea1-4b45-c23f-f02b47c63995"
      },
      "outputs": [
        {
          "data": {
            "text/plain": [
              "False"
            ]
          },
          "execution_count": 55,
          "metadata": {},
          "output_type": "execute_result"
        }
      ],
      "source": [
        "str1 = \"  123    \"\n",
        "str1.isspace()"
      ]
    },
    {
      "cell_type": "code",
      "execution_count": null,
      "id": "2fd429af",
      "metadata": {
        "id": "2fd429af",
        "outputId": "9766fb5b-fe7f-42f7-b99a-f42ced43eaa9"
      },
      "outputs": [
        {
          "data": {
            "text/plain": [
              "False"
            ]
          },
          "execution_count": 56,
          "metadata": {},
          "output_type": "execute_result"
        }
      ],
      "source": [
        "str1 = \"\"\n",
        "str1.isspace()"
      ]
    },
    {
      "cell_type": "markdown",
      "id": "e603ce7e",
      "metadata": {
        "id": "e603ce7e"
      },
      "source": [
        "#### 27. center()"
      ]
    },
    {
      "cell_type": "code",
      "execution_count": null,
      "id": "057d6391",
      "metadata": {
        "id": "057d6391",
        "outputId": "82ee00f3-bd58-4d13-9004-1f9fd3310c86"
      },
      "outputs": [
        {
          "data": {
            "text/plain": [
              "'  python  '"
            ]
          },
          "execution_count": 59,
          "metadata": {},
          "output_type": "execute_result"
        }
      ],
      "source": [
        "s = 'python'\n",
        "s.center(10)"
      ]
    },
    {
      "cell_type": "code",
      "execution_count": null,
      "id": "9b24edeb",
      "metadata": {
        "id": "9b24edeb",
        "outputId": "04fd9365-bbfc-4ea7-9f67-51d31438336e"
      },
      "outputs": [
        {
          "data": {
            "text/plain": [
              "'python'"
            ]
          },
          "execution_count": 60,
          "metadata": {},
          "output_type": "execute_result"
        }
      ],
      "source": [
        "s = 'python'\n",
        "s.center(6)"
      ]
    },
    {
      "cell_type": "code",
      "execution_count": null,
      "id": "018ace17",
      "metadata": {
        "id": "018ace17",
        "outputId": "8b9cde43-e771-4f85-bf97-6b7584ead4a7"
      },
      "outputs": [
        {
          "data": {
            "text/plain": [
              "'       python       '"
            ]
          },
          "execution_count": 61,
          "metadata": {},
          "output_type": "execute_result"
        }
      ],
      "source": [
        "s = 'python'\n",
        "s.center(20)"
      ]
    },
    {
      "cell_type": "code",
      "execution_count": null,
      "id": "67cc76d5",
      "metadata": {
        "id": "67cc76d5",
        "outputId": "70dd0414-c1e2-4cc8-993c-d47d96a6b76a"
      },
      "outputs": [
        {
          "data": {
            "text/plain": [
              "'*******python*******'"
            ]
          },
          "execution_count": 63,
          "metadata": {},
          "output_type": "execute_result"
        }
      ],
      "source": [
        "s = 'python'\n",
        "s.center(20, '*')"
      ]
    },
    {
      "cell_type": "code",
      "execution_count": null,
      "id": "c52b3b65",
      "metadata": {
        "id": "c52b3b65",
        "outputId": "fb4f4d40-f865-4e75-c196-aa2873bc83eb"
      },
      "outputs": [
        {
          "data": {
            "text/plain": [
              "'+++++Data+++++'"
            ]
          },
          "execution_count": 64,
          "metadata": {},
          "output_type": "execute_result"
        }
      ],
      "source": [
        "s = 'Data'\n",
        "s.center(14, '+')"
      ]
    },
    {
      "cell_type": "markdown",
      "id": "608b313a",
      "metadata": {
        "id": "608b313a"
      },
      "source": [
        "#### 28. zfill()"
      ]
    },
    {
      "cell_type": "raw",
      "id": "6ed490c2",
      "metadata": {
        "id": "6ed490c2"
      },
      "source": [
        "Adds zero at the beginning of string"
      ]
    },
    {
      "cell_type": "code",
      "execution_count": null,
      "id": "761acc12",
      "metadata": {
        "id": "761acc12",
        "outputId": "8e9b1eaa-1f3d-4179-a672-cbc39ebdca4e"
      },
      "outputs": [
        {
          "data": {
            "text/plain": [
              "'000009876'"
            ]
          },
          "execution_count": 65,
          "metadata": {},
          "output_type": "execute_result"
        }
      ],
      "source": [
        "s1 = '09876'\n",
        "s1.zfill(9)"
      ]
    },
    {
      "cell_type": "code",
      "execution_count": null,
      "id": "415b8092",
      "metadata": {
        "id": "415b8092",
        "outputId": "1c2ac9f4-c3cd-4997-aaaf-344e5fb245e7"
      },
      "outputs": [
        {
          "data": {
            "text/plain": [
              "'09876'"
            ]
          },
          "execution_count": 67,
          "metadata": {},
          "output_type": "execute_result"
        }
      ],
      "source": [
        "s1 = '09876'\n",
        "s1.zfill(0)"
      ]
    },
    {
      "cell_type": "code",
      "execution_count": null,
      "id": "b2ffda8f",
      "metadata": {
        "id": "b2ffda8f",
        "outputId": "9e6055a6-eab2-4cc0-99bc-fb68bfedfb75"
      },
      "outputs": [
        {
          "data": {
            "text/plain": [
              "'09876'"
            ]
          },
          "execution_count": 68,
          "metadata": {},
          "output_type": "execute_result"
        }
      ],
      "source": [
        "s1 = '09876'\n",
        "s1.zfill(3)"
      ]
    },
    {
      "cell_type": "code",
      "execution_count": null,
      "id": "1357a187",
      "metadata": {
        "id": "1357a187",
        "outputId": "8963d21c-cfe8-4e55-87d3-163947a8762e"
      },
      "outputs": [
        {
          "data": {
            "text/plain": [
              "'009876'"
            ]
          },
          "execution_count": 69,
          "metadata": {},
          "output_type": "execute_result"
        }
      ],
      "source": [
        "s1 = '09876'\n",
        "s1.zfill(6)"
      ]
    },
    {
      "cell_type": "code",
      "execution_count": null,
      "id": "8563970b",
      "metadata": {
        "id": "8563970b",
        "outputId": "e5039868-6b63-4c3e-bba0-c9cee976de0a"
      },
      "outputs": [
        {
          "data": {
            "text/plain": [
              "'python'"
            ]
          },
          "execution_count": 70,
          "metadata": {},
          "output_type": "execute_result"
        }
      ],
      "source": [
        "s1 = 'python'\n",
        "s1.zfill(6)"
      ]
    },
    {
      "cell_type": "code",
      "execution_count": null,
      "id": "34d8709e",
      "metadata": {
        "id": "34d8709e",
        "outputId": "f74188db-7d2e-4ea6-ad69-3da4e1929c3d"
      },
      "outputs": [
        {
          "data": {
            "text/plain": [
              "'0000python'"
            ]
          },
          "execution_count": 71,
          "metadata": {},
          "output_type": "execute_result"
        }
      ],
      "source": [
        "s1 = 'python'\n",
        "s1.zfill(10)"
      ]
    },
    {
      "cell_type": "markdown",
      "id": "75d4e65c",
      "metadata": {
        "id": "75d4e65c"
      },
      "source": [
        "##### String Functions"
      ]
    },
    {
      "cell_type": "raw",
      "id": "a3d645da",
      "metadata": {
        "id": "a3d645da"
      },
      "source": [
        "1. capitalize()\n",
        "2. lower()\n",
        "3. upper()\n",
        "4. title()\n",
        "5. lstrip()\n",
        "6. rstrip()\n",
        "7. strip()\n",
        "8. replace()\n",
        "9. swapcase()\n",
        "10. len()\n",
        "11. count()\n",
        "12. index()\n",
        "13. find()\n",
        "14. split()\n",
        "15. join()\n",
        "16. endswith()\n",
        "17. startswith()\n",
        "18. isalnum()\n",
        "19. isalpha()\n",
        "20. isdecimal()\n",
        "21. islower()\n",
        "22. isupper()\n",
        "23. istitle()\n",
        "24. isdigit()\n",
        "25. isnumeric()\n",
        "26. isspace()\n",
        "27. center()\n",
        "28. zfill()"
      ]
    }
  ],
  "metadata": {
    "kernelspec": {
      "display_name": "Python 3 (ipykernel)",
      "language": "python",
      "name": "python3"
    },
    "language_info": {
      "codemirror_mode": {
        "name": "ipython",
        "version": 3
      },
      "file_extension": ".py",
      "mimetype": "text/x-python",
      "name": "python",
      "nbconvert_exporter": "python",
      "pygments_lexer": "ipython3",
      "version": "3.8.17"
    },
    "colab": {
      "provenance": [],
      "include_colab_link": true
    }
  },
  "nbformat": 4,
  "nbformat_minor": 5
}