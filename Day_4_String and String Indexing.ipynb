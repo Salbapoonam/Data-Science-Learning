{
 "cells": [
  {
   "cell_type": "code",
   "execution_count": 3,
   "id": "edfc56c9",
   "metadata": {},
   "outputs": [
    {
     "ename": "TypeError",
     "evalue": "'str' object does not support item assignment",
     "output_type": "error",
     "traceback": [
      "\u001b[1;31m---------------------------------------------------------------------------\u001b[0m",
      "\u001b[1;31mTypeError\u001b[0m                                 Traceback (most recent call last)",
      "\u001b[1;32m~\\AppData\\Local\\Temp/ipykernel_12948/3490493518.py\u001b[0m in \u001b[0;36m<module>\u001b[1;34m\u001b[0m\n\u001b[0;32m      1\u001b[0m \u001b[0mstr1\u001b[0m\u001b[1;33m=\u001b[0m\u001b[1;34m'Python'\u001b[0m\u001b[1;33m\u001b[0m\u001b[1;33m\u001b[0m\u001b[0m\n\u001b[1;32m----> 2\u001b[1;33m \u001b[0mstr1\u001b[0m\u001b[1;33m[\u001b[0m\u001b[1;36m2\u001b[0m\u001b[1;33m]\u001b[0m\u001b[1;33m=\u001b[0m\u001b[1;34m'x'\u001b[0m\u001b[1;33m\u001b[0m\u001b[1;33m\u001b[0m\u001b[0m\n\u001b[0m",
      "\u001b[1;31mTypeError\u001b[0m: 'str' object does not support item assignment"
     ]
    }
   ],
   "source": [
    "str1='Python'\n",
    "str1[2]='x'"
   ]
  },
  {
   "cell_type": "code",
   "execution_count": 4,
   "id": "36eb4fcc",
   "metadata": {},
   "outputs": [
    {
     "data": {
      "text/plain": [
       "[1, 2, 100, 4]"
      ]
     },
     "execution_count": 4,
     "metadata": {},
     "output_type": "execute_result"
    }
   ],
   "source": [
    "list1=[1,2,3,4]\n",
    "list1[2]=100\n",
    "list1"
   ]
  },
  {
   "cell_type": "code",
   "execution_count": 5,
   "id": "b26a60f6",
   "metadata": {},
   "outputs": [],
   "source": [
    "str1=\"Machine Learning\"\n",
    "str1='Machine Learning'\n",
    "str1=\"\"\" Machin Learning\"\"\""
   ]
  },
  {
   "cell_type": "code",
   "execution_count": 6,
   "id": "cce00ed8",
   "metadata": {},
   "outputs": [
    {
     "name": "stdout",
     "output_type": "stream",
     "text": [
      "We are learning Python and Data Science Programming\n"
     ]
    }
   ],
   "source": [
    "string1=\"We are learning Python and Data Science Programming\"\n",
    "print(string1)"
   ]
  },
  {
   "cell_type": "markdown",
   "id": "ae3e3378",
   "metadata": {},
   "source": [
    "### Escape character\n"
   ]
  },
  {
   "cell_type": "markdown",
   "id": "0ded1c63",
   "metadata": {},
   "source": [
    "#### 1. backslash(\\)"
   ]
  },
  {
   "cell_type": "code",
   "execution_count": 11,
   "id": "d3839106",
   "metadata": {},
   "outputs": [
    {
     "name": "stdout",
     "output_type": "stream",
     "text": [
      "We are learning \"Python and Data science\" programming\n"
     ]
    }
   ],
   "source": [
    "string1 = \"We are learning \\\"Python and Data science\\\" programming\"\n",
    "print(string1)"
   ]
  },
  {
   "cell_type": "code",
   "execution_count": 12,
   "id": "43d1017a",
   "metadata": {},
   "outputs": [
    {
     "name": "stdout",
     "output_type": "stream",
     "text": [
      "We are learning \"Python and Data science\" programming\n"
     ]
    }
   ],
   "source": [
    "string1 = 'We are learning \\\"Python and Data science\\\" programming'\n",
    "print(string1)"
   ]
  },
  {
   "cell_type": "code",
   "execution_count": 13,
   "id": "edef2766",
   "metadata": {},
   "outputs": [
    {
     "name": "stdout",
     "output_type": "stream",
     "text": [
      "We are learning \\Python and Data science\\ programming\n"
     ]
    }
   ],
   "source": [
    "string1 = \"We are learning \\\\Python and Data science\\\\ programming\"\n",
    "print(string1)"
   ]
  },
  {
   "cell_type": "markdown",
   "id": "893a1294",
   "metadata": {},
   "source": [
    "New Line"
   ]
  },
  {
   "cell_type": "code",
   "execution_count": 14,
   "id": "67701372",
   "metadata": {},
   "outputs": [
    {
     "name": "stdout",
     "output_type": "stream",
     "text": [
      "We are learning \n",
      "Python and Data science\n",
      " programming\n"
     ]
    }
   ],
   "source": [
    "string1 = \"We are learning \\nPython and Data science\\n programming\"\n",
    "print(string1)"
   ]
  },
  {
   "cell_type": "markdown",
   "id": "1dbd2c3f",
   "metadata": {},
   "source": [
    "Tab \\t"
   ]
  },
  {
   "cell_type": "code",
   "execution_count": 15,
   "id": "484e30ff",
   "metadata": {},
   "outputs": [
    {
     "name": "stdout",
     "output_type": "stream",
     "text": [
      "We are learning \t Python and Data science\t  programming\n"
     ]
    }
   ],
   "source": [
    "string1 = \"We are learning \\t Python and Data science\\t  programming\"\n",
    "print(string1)"
   ]
  },
  {
   "cell_type": "markdown",
   "id": "f2ced431",
   "metadata": {},
   "source": [
    "#### 4. carriage return (\\r)"
   ]
  },
  {
   "cell_type": "code",
   "execution_count": 17,
   "id": "2d842560",
   "metadata": {},
   "outputs": [
    {
     "name": "stdout",
     "output_type": "stream",
     "text": [
      "we are learning \r",
      " python\n"
     ]
    }
   ],
   "source": [
    "s1 = 'we are learning \\r python'\n",
    "print(s1)\n",
    "# A carriage return typically moves the cursor\n",
    "# to the beginning of the line without advancing to the next line."
   ]
  },
  {
   "cell_type": "code",
   "execution_count": 18,
   "id": "e007c12a",
   "metadata": {},
   "outputs": [
    {
     "name": "stdout",
     "output_type": "stream",
     "text": [
      "\r",
      "we are learning python\n"
     ]
    }
   ],
   "source": [
    "s1 = '\\rwe are learning python'\n",
    "print(s1)"
   ]
  },
  {
   "cell_type": "code",
   "execution_count": 19,
   "id": "f0675386",
   "metadata": {},
   "outputs": [
    {
     "name": "stdout",
     "output_type": "stream",
     "text": [
      "we are\r",
      " learning python\n"
     ]
    }
   ],
   "source": [
    "s1 = 'we are\\r learning python'\n",
    "print(s1)"
   ]
  },
  {
   "cell_type": "code",
   "execution_count": 20,
   "id": "dffe06db",
   "metadata": {},
   "outputs": [
    {
     "name": "stdout",
     "output_type": "stream",
     "text": [
      "we are learn\r",
      "ing python\n"
     ]
    }
   ],
   "source": [
    "s1 = 'we are learn\\ring python'\n",
    "print(s1)"
   ]
  },
  {
   "cell_type": "markdown",
   "id": "8aa8e3a5",
   "metadata": {},
   "source": [
    "# String Indexing"
   ]
  },
  {
   "cell_type": "code",
   "execution_count": 21,
   "id": "d4e96d4c",
   "metadata": {},
   "outputs": [
    {
     "data": {
      "text/plain": [
       "6"
      ]
     },
     "execution_count": 21,
     "metadata": {},
     "output_type": "execute_result"
    }
   ],
   "source": [
    "s = 'python'\n",
    "len(s)"
   ]
  },
  {
   "cell_type": "code",
   "execution_count": 22,
   "id": "a7a9eee1",
   "metadata": {},
   "outputs": [
    {
     "data": {
      "text/plain": [
       "17"
      ]
     },
     "execution_count": 22,
     "metadata": {},
     "output_type": "execute_result"
    }
   ],
   "source": [
    "s = 'pythonprogramming'\n",
    "len(s)"
   ]
  },
  {
   "cell_type": "code",
   "execution_count": 23,
   "id": "1a23b04f",
   "metadata": {},
   "outputs": [
    {
     "data": {
      "text/plain": [
       "'n'"
      ]
     },
     "execution_count": 23,
     "metadata": {},
     "output_type": "execute_result"
    }
   ],
   "source": [
    "s = 'python'\n",
    "s[0]     # 'p'\n",
    "s[1]     # 'y'\n",
    "s[2]     # 't'\n",
    "s[3]     # 'h'\n",
    "s[4]     # 'o'\n",
    "s[5]     # 'n'"
   ]
  },
  {
   "cell_type": "code",
   "execution_count": 24,
   "id": "60a240bc",
   "metadata": {},
   "outputs": [
    {
     "data": {
      "text/plain": [
       "'a'"
      ]
     },
     "execution_count": 24,
     "metadata": {},
     "output_type": "execute_result"
    }
   ],
   "source": [
    "s = 'Programmingpython'\n",
    "s[0]     # 'p'\n",
    "s[1]     # 'y'\n",
    "s[2]     # 't'\n",
    "s[3]     # 'h'\n",
    "s[4]     # 'o'\n",
    "s[5]     # 'n'"
   ]
  },
  {
   "cell_type": "code",
   "execution_count": 26,
   "id": "68870495",
   "metadata": {},
   "outputs": [
    {
     "data": {
      "text/plain": [
       "'i'"
      ]
     },
     "execution_count": 26,
     "metadata": {},
     "output_type": "execute_result"
    }
   ],
   "source": [
    "s1 = \"Machine Learning\"\n",
    "len(s1)\n",
    "s1[10]\n",
    "s1[4]\n",
    "# s1[7]"
   ]
  },
  {
   "cell_type": "code",
   "execution_count": 27,
   "id": "bfd8d056",
   "metadata": {},
   "outputs": [
    {
     "data": {
      "text/plain": [
       "'i'"
      ]
     },
     "execution_count": 27,
     "metadata": {},
     "output_type": "execute_result"
    }
   ],
   "source": [
    "s1 = \"Data Science\"\n",
    "len(s1)\n",
    "s1[10]\n",
    "s1[4]\n",
    "s1[7]"
   ]
  },
  {
   "cell_type": "markdown",
   "id": "4c4559f5",
   "metadata": {},
   "source": [
    "### Negative indexing"
   ]
  },
  {
   "cell_type": "code",
   "execution_count": 29,
   "id": "b3923835",
   "metadata": {},
   "outputs": [
    {
     "data": {
      "text/plain": [
       "'p'"
      ]
     },
     "execution_count": 29,
     "metadata": {},
     "output_type": "execute_result"
    }
   ],
   "source": [
    "s = 'python'\n",
    "s[-1]     # 'n'\n",
    "s[-2]     # 'o'\n",
    "s[-3]     # 'h'\n",
    "s[-4]     # 't'\n",
    "s[-5]     # 'y'\n",
    "s[-6]     # 'p'"
   ]
  },
  {
   "cell_type": "markdown",
   "id": "567adc5b",
   "metadata": {},
   "source": [
    "String Slicing"
   ]
  },
  {
   "cell_type": "code",
   "execution_count": 31,
   "id": "c2ea92e0",
   "metadata": {},
   "outputs": [
    {
     "name": "stdout",
     "output_type": "stream",
     "text": [
      "12\n"
     ]
    },
    {
     "data": {
      "text/plain": [
       "'Python'"
      ]
     },
     "execution_count": 31,
     "metadata": {},
     "output_type": "execute_result"
    }
   ],
   "source": [
    "string = \"Python Class\"\n",
    "print(len(string))\n",
    "string[0:6]    # 0 1 2 3 4 5"
   ]
  },
  {
   "cell_type": "code",
   "execution_count": 32,
   "id": "27e98812",
   "metadata": {},
   "outputs": [
    {
     "data": {
      "text/plain": [
       "'Python Class'"
      ]
     },
     "execution_count": 32,
     "metadata": {},
     "output_type": "execute_result"
    }
   ],
   "source": [
    "string[:]"
   ]
  },
  {
   "cell_type": "code",
   "execution_count": 33,
   "id": "193ad30c",
   "metadata": {},
   "outputs": [
    {
     "data": {
      "text/plain": [
       "'Py'"
      ]
     },
     "execution_count": 33,
     "metadata": {},
     "output_type": "execute_result"
    }
   ],
   "source": [
    "string[:2]"
   ]
  },
  {
   "cell_type": "code",
   "execution_count": 34,
   "id": "2d20ce48",
   "metadata": {},
   "outputs": [
    {
     "data": {
      "text/plain": [
       "'Pyt'"
      ]
     },
     "execution_count": 34,
     "metadata": {},
     "output_type": "execute_result"
    }
   ],
   "source": [
    "string[:3]"
   ]
  },
  {
   "cell_type": "code",
   "execution_count": 35,
   "id": "d2ec86b0",
   "metadata": {},
   "outputs": [
    {
     "data": {
      "text/plain": [
       "'Python '"
      ]
     },
     "execution_count": 35,
     "metadata": {},
     "output_type": "execute_result"
    }
   ],
   "source": [
    "string[:7]"
   ]
  },
  {
   "cell_type": "code",
   "execution_count": 36,
   "id": "aea6753a",
   "metadata": {},
   "outputs": [
    {
     "data": {
      "text/plain": [
       "'We are learning pyth'"
      ]
     },
     "execution_count": 36,
     "metadata": {},
     "output_type": "execute_result"
    }
   ],
   "source": [
    "s1 = \"We are learning python\"\n",
    "len(s1)\n",
    "s1[0:20:1]"
   ]
  },
  {
   "cell_type": "code",
   "execution_count": 37,
   "id": "e5518f65",
   "metadata": {},
   "outputs": [
    {
     "data": {
      "text/plain": [
       "'Wa ai t'"
      ]
     },
     "execution_count": 37,
     "metadata": {},
     "output_type": "execute_result"
    }
   ],
   "source": [
    "s1 = \"We are learning python\"\n",
    "len(s1)\n",
    "s1[0:20:3]"
   ]
  },
  {
   "cell_type": "code",
   "execution_count": 38,
   "id": "f4484815",
   "metadata": {},
   "outputs": [
    {
     "data": {
      "text/plain": [
       "'Wreip'"
      ]
     },
     "execution_count": 38,
     "metadata": {},
     "output_type": "execute_result"
    }
   ],
   "source": [
    "s1 = \"We are learning python\"\n",
    "len(s1)\n",
    "s1[0:20:4]"
   ]
  },
  {
   "cell_type": "code",
   "execution_count": 39,
   "id": "f0630b56",
   "metadata": {},
   "outputs": [
    {
     "data": {
      "text/plain": [
       "'W r erigpt'"
      ]
     },
     "execution_count": 39,
     "metadata": {},
     "output_type": "execute_result"
    }
   ],
   "source": [
    "s1 = \"We are learning python\"\n",
    "len(s1)\n",
    "s1[0:20:2]"
   ]
  },
  {
   "cell_type": "markdown",
   "id": "6a8852ab",
   "metadata": {},
   "source": [
    "###Negative Slicing"
   ]
  },
  {
   "cell_type": "code",
   "execution_count": 40,
   "id": "1b0f784c",
   "metadata": {},
   "outputs": [],
   "source": [
    "s = \"Python\"\n",
    "#-6 -5 -4 -3 -2 -1"
   ]
  },
  {
   "cell_type": "code",
   "execution_count": 41,
   "id": "66f69c80",
   "metadata": {},
   "outputs": [
    {
     "data": {
      "text/plain": [
       "'yth'"
      ]
     },
     "execution_count": 41,
     "metadata": {},
     "output_type": "execute_result"
    }
   ],
   "source": [
    "s[-5:-2]"
   ]
  },
  {
   "cell_type": "code",
   "execution_count": 42,
   "id": "036fafaa",
   "metadata": {},
   "outputs": [
    {
     "data": {
      "text/plain": [
       "'Pyth'"
      ]
     },
     "execution_count": 42,
     "metadata": {},
     "output_type": "execute_result"
    }
   ],
   "source": [
    "s[-6:-2]"
   ]
  },
  {
   "cell_type": "code",
   "execution_count": 43,
   "id": "e463e944",
   "metadata": {},
   "outputs": [
    {
     "data": {
      "text/plain": [
       "'Pytho'"
      ]
     },
     "execution_count": 43,
     "metadata": {},
     "output_type": "execute_result"
    }
   ],
   "source": [
    "s[-6:-1]"
   ]
  },
  {
   "cell_type": "code",
   "execution_count": 45,
   "id": "ad25d3d1",
   "metadata": {},
   "outputs": [
    {
     "data": {
      "text/plain": [
       "'Class'"
      ]
     },
     "execution_count": 45,
     "metadata": {},
     "output_type": "execute_result"
    }
   ],
   "source": [
    "s1 = \"Python Class\"\n",
    "s1[-5:]       #Last five characters"
   ]
  },
  {
   "cell_type": "code",
   "execution_count": 46,
   "id": "636a8118",
   "metadata": {},
   "outputs": [
    {
     "data": {
      "text/plain": [
       "'Pytho'"
      ]
     },
     "execution_count": 46,
     "metadata": {},
     "output_type": "execute_result"
    }
   ],
   "source": [
    "s1 = \"Python Class\"\n",
    "s1[:5]         # First five characters   "
   ]
  },
  {
   "cell_type": "code",
   "execution_count": 47,
   "id": "41e0aaa8",
   "metadata": {},
   "outputs": [
    {
     "data": {
      "text/plain": [
       "'thon Clas'"
      ]
     },
     "execution_count": 47,
     "metadata": {},
     "output_type": "execute_result"
    }
   ],
   "source": [
    "s1 = \"Python Class\"\n",
    "s1[-10:-1:1]  "
   ]
  },
  {
   "cell_type": "code",
   "execution_count": 48,
   "id": "d132a3ab",
   "metadata": {},
   "outputs": [
    {
     "data": {
      "text/plain": [
       "'to ls'"
      ]
     },
     "execution_count": 48,
     "metadata": {},
     "output_type": "execute_result"
    }
   ],
   "source": [
    "s1 = \"Python Class\"\n",
    "s1[-10:-1:2] "
   ]
  },
  {
   "cell_type": "markdown",
   "id": "78c7a11a",
   "metadata": {},
   "source": [
    "Reverse string"
   ]
  },
  {
   "cell_type": "code",
   "execution_count": 49,
   "id": "4138344a",
   "metadata": {},
   "outputs": [
    {
     "name": "stdout",
     "output_type": "stream",
     "text": [
      "We are learning Python and Data science programming\n"
     ]
    }
   ],
   "source": [
    "string1 = 'We are learning Python and Data science programming'\n",
    "print(string1)\n"
   ]
  },
  {
   "cell_type": "code",
   "execution_count": 50,
   "id": "e48b6f8c",
   "metadata": {},
   "outputs": [
    {
     "data": {
      "text/plain": [
       "'W r erigPto n aasinepormig'"
      ]
     },
     "execution_count": 50,
     "metadata": {},
     "output_type": "execute_result"
    }
   ],
   "source": [
    "string1[::2]"
   ]
  },
  {
   "cell_type": "code",
   "execution_count": 51,
   "id": "f7e6a292",
   "metadata": {},
   "outputs": [
    {
     "data": {
      "text/plain": [
       "'gnimmargorp ecneics ataD dna nohtyP gninrael era eW'"
      ]
     },
     "execution_count": 51,
     "metadata": {},
     "output_type": "execute_result"
    }
   ],
   "source": [
    "string1[::-1]    # For reversing make step size as -1"
   ]
  },
  {
   "cell_type": "code",
   "execution_count": 52,
   "id": "f530c5ff",
   "metadata": {},
   "outputs": [
    {
     "data": {
      "text/plain": [
       "'nohtyp'"
      ]
     },
     "execution_count": 52,
     "metadata": {},
     "output_type": "execute_result"
    }
   ],
   "source": [
    "s = 'python'\n",
    "s[::-1]\n"
   ]
  },
  {
   "cell_type": "code",
   "execution_count": 53,
   "id": "e86726b3",
   "metadata": {},
   "outputs": [
    {
     "data": {
      "text/plain": [
       "'avaj'"
      ]
     },
     "execution_count": 53,
     "metadata": {},
     "output_type": "execute_result"
    }
   ],
   "source": [
    "s = 'java'\n",
    "s[::-1]"
   ]
  },
  {
   "cell_type": "code",
   "execution_count": 54,
   "id": "e6a0ff2f",
   "metadata": {},
   "outputs": [
    {
     "data": {
      "text/plain": [
       "'lmth'"
      ]
     },
     "execution_count": 54,
     "metadata": {},
     "output_type": "execute_result"
    }
   ],
   "source": [
    "s = 'html'\n",
    "s[::-1]"
   ]
  },
  {
   "cell_type": "markdown",
   "id": "1c52892a",
   "metadata": {},
   "source": [
    "# string[end_index(include): start_index(exlude) : step_size(-ve)]  # Revere the string"
   ]
  },
  {
   "cell_type": "markdown",
   "id": "4a896e64",
   "metadata": {},
   "source": [
    "To reverse a string in Python using slicing, you can use a step size of -1 along with leaving the start and end indices empty (or None). Here's how you can do it:"
   ]
  },
  {
   "cell_type": "code",
   "execution_count": null,
   "id": "d2a0f9a5",
   "metadata": {},
   "outputs": [],
   "source": []
  }
 ],
 "metadata": {
  "kernelspec": {
   "display_name": "Python 3 (ipykernel)",
   "language": "python",
   "name": "python3"
  },
  "language_info": {
   "codemirror_mode": {
    "name": "ipython",
    "version": 3
   },
   "file_extension": ".py",
   "mimetype": "text/x-python",
   "name": "python",
   "nbconvert_exporter": "python",
   "pygments_lexer": "ipython3",
   "version": "3.9.7"
  }
 },
 "nbformat": 4,
 "nbformat_minor": 5
}
