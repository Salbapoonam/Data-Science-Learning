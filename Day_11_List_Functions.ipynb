{
  "cells": [
    {
      "cell_type": "markdown",
      "metadata": {
        "id": "view-in-github",
        "colab_type": "text"
      },
      "source": [
        "<a href=\"https://colab.research.google.com/github/Salbapoonam/Data-Science-Learning/blob/main/Day_11_List_Functions.ipynb\" target=\"_parent\"><img src=\"https://colab.research.google.com/assets/colab-badge.svg\" alt=\"Open In Colab\"/></a>"
      ]
    },
    {
      "cell_type": "markdown",
      "id": "fa16560f",
      "metadata": {
        "id": "fa16560f"
      },
      "source": [
        "### Add items in the list"
      ]
    },
    {
      "cell_type": "markdown",
      "id": "80bd8434",
      "metadata": {
        "id": "80bd8434"
      },
      "source": [
        "#### 1. append"
      ]
    },
    {
      "cell_type": "code",
      "execution_count": null,
      "id": "731f18d5",
      "metadata": {
        "id": "731f18d5",
        "outputId": "5b7884df-bc89-46d8-cde7-c9be9873bae1"
      },
      "outputs": [
        {
          "data": {
            "text/plain": [
              "[1, 2, 3, 100]"
            ]
          },
          "execution_count": 1,
          "metadata": {},
          "output_type": "execute_result"
        }
      ],
      "source": [
        "list1 = [1,2,3]\n",
        "list1.append(100)   # It will update list1\n",
        "list1"
      ]
    },
    {
      "cell_type": "code",
      "execution_count": null,
      "id": "76f93ddd",
      "metadata": {
        "id": "76f93ddd",
        "outputId": "ce692f86-2004-4eec-88b1-544731cc6605"
      },
      "outputs": [
        {
          "data": {
            "text/plain": [
              "[1, 2, 3, 'Data']"
            ]
          },
          "execution_count": 2,
          "metadata": {},
          "output_type": "execute_result"
        }
      ],
      "source": [
        "list1 = [1,2,3]\n",
        "list1.append('Data')   # It will update list1\n",
        "list1"
      ]
    },
    {
      "cell_type": "code",
      "execution_count": null,
      "id": "5cefc83e",
      "metadata": {
        "id": "5cefc83e",
        "outputId": "cd79ed11-a85c-4297-bb5a-b67578d566a3"
      },
      "outputs": [
        {
          "name": "stdout",
          "output_type": "stream",
          "text": [
            "City names are ['Pune', 'Mumbai', 'Pune']\n",
            "City names are ['Mumbai', 'Pune', 'Chennai']\n"
          ]
        }
      ],
      "source": [
        "city_names = [\"Pune\"]\n",
        "city_names.append('Mumbai')\n",
        "city_names.append('Pune')\n",
        "print('City names are',city_names)\n",
        "\n",
        "city_names = []\n",
        "city_names.append('Mumbai')\n",
        "city_names.append('Pune')\n",
        "city_names.append('Chennai')\n",
        "print('City names are',city_names)"
      ]
    },
    {
      "cell_type": "markdown",
      "id": "742acb4b",
      "metadata": {
        "id": "742acb4b"
      },
      "source": [
        "#### 2. extend >>> To join two list"
      ]
    },
    {
      "cell_type": "code",
      "execution_count": null,
      "id": "9d6af1af",
      "metadata": {
        "id": "9d6af1af",
        "outputId": "3935f603-e186-48d1-816f-6abf382ae7fa"
      },
      "outputs": [
        {
          "name": "stdout",
          "output_type": "stream",
          "text": [
            "['Mumbai', 'Pune', 'Chennai', [1, 2, 3, 4]] 4\n"
          ]
        }
      ],
      "source": [
        "list1 = ['Mumbai', 'Pune', 'Chennai']\n",
        "list2 = [1,2,3,4]\n",
        "list1.append(list2)\n",
        "print(list1, len(list1))"
      ]
    },
    {
      "cell_type": "code",
      "execution_count": null,
      "id": "e274d06f",
      "metadata": {
        "id": "e274d06f",
        "outputId": "89ad0ad6-2ee1-4778-d0be-d8733331563d"
      },
      "outputs": [
        {
          "name": "stdout",
          "output_type": "stream",
          "text": [
            "['Mumbai', 'Pune', 'Chennai', 1, 2, 3, 4] 7\n"
          ]
        }
      ],
      "source": [
        "list1 = ['Mumbai', 'Pune', 'Chennai']\n",
        "list2 = [1,2,3,4]\n",
        "list1.extend(list2)\n",
        "print(list1, len(list1))"
      ]
    },
    {
      "cell_type": "code",
      "execution_count": null,
      "id": "a90206c5",
      "metadata": {
        "id": "a90206c5",
        "outputId": "9ac6198c-1949-4498-8a82-72ed8f8d6c6d"
      },
      "outputs": [
        {
          "name": "stdout",
          "output_type": "stream",
          "text": [
            "List1 is :  ['Mumbai', 'Pune', 'Chennai', 'Hydrabad', 'Ahemdabad', 'Benglore']\n",
            "List2 is :  ['Hydrabad', 'Ahemdabad', 'Benglore']\n"
          ]
        }
      ],
      "source": [
        "list1 = ['Mumbai', 'Pune', 'Chennai']\n",
        "list2 = ['Hydrabad', \"Ahemdabad\", \"Benglore\"]\n",
        "list1.extend(list2)\n",
        "print(\"List1 is : \",list1)\n",
        "print(\"List2 is : \",list2)"
      ]
    },
    {
      "cell_type": "code",
      "execution_count": null,
      "id": "d5ca592c",
      "metadata": {
        "id": "d5ca592c",
        "outputId": "a2668a03-791a-43ce-e0df-78dfde4a7a10"
      },
      "outputs": [
        {
          "name": "stdout",
          "output_type": "stream",
          "text": [
            "List1 is :  ['Mumbai', 'Pune', 'Chennai']\n",
            "List2 is :  ['Hydrabad', 'Ahemdabad', 'Benglore', 'Mumbai', 'Pune', 'Chennai']\n"
          ]
        }
      ],
      "source": [
        "list1 = ['Mumbai', 'Pune', 'Chennai']\n",
        "list2 = ['Hydrabad', \"Ahemdabad\", \"Benglore\"]\n",
        "list2.extend(list1)\n",
        "print(\"List1 is : \",list1)\n",
        "print(\"List2 is : \",list2)"
      ]
    },
    {
      "cell_type": "markdown",
      "id": "b28c93c1",
      "metadata": {
        "id": "b28c93c1"
      },
      "source": [
        "#### Convert string to list using list()"
      ]
    },
    {
      "cell_type": "code",
      "execution_count": null,
      "id": "0065fdd4",
      "metadata": {
        "id": "0065fdd4",
        "outputId": "811d9b06-3ddb-431f-e5dc-03d162fd521a"
      },
      "outputs": [
        {
          "name": "stdout",
          "output_type": "stream",
          "text": [
            "['P', 'y', 't', 'h', 'o', 'n']\n",
            "['D', 'a', 't', 'a', ' ', 'S', 'c', 'i', 'e', 'n', 'c', 'e']\n",
            "None\n"
          ]
        }
      ],
      "source": [
        "string1 = 'Python'\n",
        "string2 = \"Data Science\"\n",
        "print(list(string1))\n",
        "print(list(string2))\n",
        "\n",
        "print(list(string1).extend(list(string2)))"
      ]
    },
    {
      "cell_type": "code",
      "execution_count": null,
      "id": "c08ed4c4",
      "metadata": {
        "id": "c08ed4c4",
        "outputId": "cfea643d-d3bd-4662-85b3-6bcca956e25f"
      },
      "outputs": [
        {
          "name": "stdout",
          "output_type": "stream",
          "text": [
            "None\n",
            "['P', 'y', 't', 'h', 'o', 'n', 'D', 'a', 't', 'a', ' ', 'S', 'c', 'i', 'e', 'n', 'c', 'e']\n",
            "['D', 'a', 't', 'a', ' ', 'S', 'c', 'i', 'e', 'n', 'c', 'e']\n"
          ]
        }
      ],
      "source": [
        "string1 = 'Python'\n",
        "string2 = \"Data Science\"\n",
        "list1 = list(string1)\n",
        "list2 = list(string2)\n",
        "list1\n",
        "list2\n",
        "print(list1.extend(list2))\n",
        "print(list1)\n",
        "print(list2)"
      ]
    },
    {
      "cell_type": "code",
      "execution_count": null,
      "id": "2dbd4724",
      "metadata": {
        "id": "2dbd4724",
        "outputId": "4103a803-9322-494c-9a90-9a3e6f7344d9"
      },
      "outputs": [
        {
          "name": "stdout",
          "output_type": "stream",
          "text": [
            "['a', 'c', 'p', 'l', 'j']\n"
          ]
        }
      ],
      "source": [
        "l1 = ['a','c']\n",
        "l2 = ['p','l', 'j']\n",
        "l1.extend(l2)\n",
        "print(l1)"
      ]
    },
    {
      "cell_type": "code",
      "execution_count": null,
      "id": "322560c2",
      "metadata": {
        "id": "322560c2",
        "outputId": "998a4584-7bd2-418e-dff3-8eeac77680f8"
      },
      "outputs": [
        {
          "name": "stdout",
          "output_type": "stream",
          "text": [
            "List1 is :  ['Mumbai', 'Pune', 'Chennai', 'Hydrabad', 'Ahemdabad', 'Benglore']\n",
            "List2 is :  ['Hydrabad', 'Ahemdabad', 'Benglore']\n"
          ]
        }
      ],
      "source": [
        "list1 = ['Mumbai', 'Pune', 'Chennai']\n",
        "list2 = ['Hydrabad', \"Ahemdabad\", \"Benglore\"]\n",
        "list1.extend(list2)\n",
        "print(\"List1 is : \",list1)\n",
        "print(\"List2 is : \",list2)"
      ]
    },
    {
      "cell_type": "code",
      "execution_count": null,
      "id": "7f6664fe",
      "metadata": {
        "id": "7f6664fe",
        "outputId": "c3a8ae16-f209-4c26-b923-c7468cb3900c"
      },
      "outputs": [
        {
          "name": "stdout",
          "output_type": "stream",
          "text": [
            "1\n",
            "2\n",
            "3\n",
            "4\n",
            "5\n"
          ]
        }
      ],
      "source": [
        "l1 = [1,2,3,4,5]\n",
        "for i in l1:\n",
        "    print(i)"
      ]
    },
    {
      "cell_type": "code",
      "execution_count": null,
      "id": "7c3b4060",
      "metadata": {
        "id": "7c3b4060",
        "outputId": "cf48446b-7266-4da9-8340-fe8a67d79c11"
      },
      "outputs": [
        {
          "name": "stdout",
          "output_type": "stream",
          "text": [
            "2\n",
            "3\n",
            "4\n",
            "5\n",
            "6\n",
            "7\n",
            "8\n",
            "9\n"
          ]
        }
      ],
      "source": [
        "for i in range(2,10):\n",
        "    print(i)"
      ]
    },
    {
      "cell_type": "code",
      "execution_count": null,
      "id": "eb3f33d5",
      "metadata": {
        "id": "eb3f33d5",
        "outputId": "31a2b248-4451-48db-f5fb-c244c7856dc4"
      },
      "outputs": [
        {
          "name": "stdout",
          "output_type": "stream",
          "text": [
            "0 10\n",
            "1 20\n",
            "2 30\n",
            "3 40\n",
            "4 50\n"
          ]
        }
      ],
      "source": [
        "l1 = [10,20,30,40,50]\n",
        "for i in range(0,5):\n",
        "    print(i, l1[i])  #l1[0]  >>> 10"
      ]
    },
    {
      "cell_type": "code",
      "execution_count": null,
      "id": "1a3cf26b",
      "metadata": {
        "id": "1a3cf26b",
        "outputId": "c8be4c64-365b-4351-8780-15e1a5f35f56"
      },
      "outputs": [
        {
          "data": {
            "text/plain": [
              "10"
            ]
          },
          "execution_count": 21,
          "metadata": {},
          "output_type": "execute_result"
        }
      ],
      "source": [
        "l1[0]"
      ]
    },
    {
      "cell_type": "markdown",
      "id": "994497ac",
      "metadata": {
        "id": "994497ac"
      },
      "source": [
        "#### Update items"
      ]
    },
    {
      "cell_type": "code",
      "execution_count": null,
      "id": "a7d5f59a",
      "metadata": {
        "id": "a7d5f59a",
        "outputId": "72cc194d-e565-4d7d-84b0-ff4b31d47b31"
      },
      "outputs": [
        {
          "data": {
            "text/plain": [
              "4"
            ]
          },
          "execution_count": 22,
          "metadata": {},
          "output_type": "execute_result"
        }
      ],
      "source": [
        "list1 = [1,2,3,4,5,6,7]\n",
        "list1[3]"
      ]
    },
    {
      "cell_type": "code",
      "execution_count": null,
      "id": "9ab3a1cd",
      "metadata": {
        "id": "9ab3a1cd",
        "outputId": "2e663ecb-b61b-4b89-c0b8-43a956c74ee7"
      },
      "outputs": [
        {
          "data": {
            "text/plain": [
              "[1, 2, 3, 100, 5, 6, 7]"
            ]
          },
          "execution_count": 23,
          "metadata": {},
          "output_type": "execute_result"
        }
      ],
      "source": [
        "list1 = [1,2,3,4,5,6,7]\n",
        "list1[3] = 100\n",
        "list1"
      ]
    },
    {
      "cell_type": "code",
      "execution_count": null,
      "id": "08a95dac",
      "metadata": {
        "id": "08a95dac",
        "outputId": "88fb8f50-857c-4b0b-aa83-b89efc099596"
      },
      "outputs": [
        {
          "data": {
            "text/plain": [
              "'h'"
            ]
          },
          "execution_count": 24,
          "metadata": {},
          "output_type": "execute_result"
        }
      ],
      "source": [
        "string1 = 'Python'\n",
        "string1[3]"
      ]
    },
    {
      "cell_type": "code",
      "execution_count": null,
      "id": "b90b54b6",
      "metadata": {
        "id": "b90b54b6",
        "outputId": "0d9bcd83-d2bf-416f-f197-9f5eb47352be"
      },
      "outputs": [
        {
          "ename": "TypeError",
          "evalue": "'str' object does not support item assignment",
          "output_type": "error",
          "traceback": [
            "\u001b[1;31m---------------------------------------------------------------------------\u001b[0m",
            "\u001b[1;31mTypeError\u001b[0m                                 Traceback (most recent call last)",
            "Cell \u001b[1;32mIn[26], line 2\u001b[0m\n\u001b[0;32m      1\u001b[0m string1 \u001b[38;5;241m=\u001b[39m \u001b[38;5;124m'\u001b[39m\u001b[38;5;124mPython\u001b[39m\u001b[38;5;124m'\u001b[39m\n\u001b[1;32m----> 2\u001b[0m string1[\u001b[38;5;241m3\u001b[39m] \u001b[38;5;241m=\u001b[39m \u001b[38;5;124m'\u001b[39m\u001b[38;5;124mR\u001b[39m\u001b[38;5;124m'\u001b[39m\n\u001b[0;32m      3\u001b[0m string1\n",
            "\u001b[1;31mTypeError\u001b[0m: 'str' object does not support item assignment"
          ]
        }
      ],
      "source": [
        "string1 = 'Python'\n",
        "string1[3] = 'R'\n",
        "string1"
      ]
    },
    {
      "cell_type": "markdown",
      "id": "b24cd9cc",
      "metadata": {
        "id": "b24cd9cc"
      },
      "source": [
        "#### Delete items from a list"
      ]
    },
    {
      "cell_type": "raw",
      "id": "04bcf341",
      "metadata": {
        "id": "04bcf341"
      },
      "source": [
        "1. remove\n",
        "2. pop\n",
        "3. clear\n",
        "4. del"
      ]
    },
    {
      "cell_type": "markdown",
      "id": "12e8e126",
      "metadata": {
        "id": "12e8e126"
      },
      "source": [
        "#### 1. remove(item)"
      ]
    },
    {
      "cell_type": "raw",
      "id": "4d8b0b49",
      "metadata": {
        "id": "4d8b0b49"
      },
      "source": [
        "It removes first occurance of the element"
      ]
    },
    {
      "cell_type": "code",
      "execution_count": null,
      "id": "24e09836",
      "metadata": {
        "id": "24e09836",
        "outputId": "a81c2fc9-a8f6-4f0a-f309-6b7b698aae29"
      },
      "outputs": [
        {
          "data": {
            "text/plain": [
              "['Mumbai', 'Chennai', 'Hydrabad', 'Ahemdabad', 'Benglore']"
            ]
          },
          "execution_count": 28,
          "metadata": {},
          "output_type": "execute_result"
        }
      ],
      "source": [
        "list1 = ['Mumbai', 'Pune', 'Chennai', 'Hydrabad', 'Ahemdabad', 'Benglore']\n",
        "list1.remove('Pune')\n",
        "list1"
      ]
    },
    {
      "cell_type": "code",
      "execution_count": null,
      "id": "7b22435a",
      "metadata": {
        "id": "7b22435a",
        "outputId": "de583858-57a9-49c0-ef65-67eda1e35967"
      },
      "outputs": [
        {
          "data": {
            "text/plain": [
              "['Mumbai', 'Chennai', 'Hydrabad', 'Ahemdabad', 'Benglore', 'Pune', 'Pune']"
            ]
          },
          "execution_count": 29,
          "metadata": {},
          "output_type": "execute_result"
        }
      ],
      "source": [
        "list1 = ['Mumbai', 'Pune', 'Chennai', 'Hydrabad', 'Ahemdabad', 'Benglore', 'Pune', 'Pune']\n",
        "list1.remove('Pune')\n",
        "list1"
      ]
    },
    {
      "cell_type": "code",
      "execution_count": null,
      "id": "35b2d95a",
      "metadata": {
        "id": "35b2d95a",
        "outputId": "3f7f2ecf-8a8e-43d8-8058-cdb376bc0deb"
      },
      "outputs": [
        {
          "data": {
            "text/plain": [
              "[1, 2, '5', 3, 4, 5]"
            ]
          },
          "execution_count": 30,
          "metadata": {},
          "output_type": "execute_result"
        }
      ],
      "source": [
        "l1 = [1,2,'5',3,4,5,5]\n",
        "l1.remove(5)\n",
        "l1"
      ]
    },
    {
      "cell_type": "code",
      "execution_count": null,
      "id": "d49a9557",
      "metadata": {
        "id": "d49a9557",
        "outputId": "603427c0-6bab-40ca-e8ad-5540b8cb6b22"
      },
      "outputs": [
        {
          "data": {
            "text/plain": [
              "[1, 2, 3, 4, 5, 5]"
            ]
          },
          "execution_count": 31,
          "metadata": {},
          "output_type": "execute_result"
        }
      ],
      "source": [
        "l1 = [1,2,'5',3,4,5,5]\n",
        "l1.remove('5')\n",
        "l1"
      ]
    },
    {
      "cell_type": "code",
      "execution_count": null,
      "id": "f8858511",
      "metadata": {
        "id": "f8858511",
        "outputId": "5bee75e4-2428-41d8-bcba-5d049725346e"
      },
      "outputs": [
        {
          "name": "stdout",
          "output_type": "stream",
          "text": [
            "6\n",
            "5\n"
          ]
        }
      ],
      "source": [
        "list1 = ['Mumbai', 'Pune', 'Chennai', 'Hydrabad', 'Ahemdabad', 'Benglore']\n",
        "print(len(list1))\n",
        "list1.remove('Ahemdabad')\n",
        "print(len(list1))"
      ]
    },
    {
      "cell_type": "code",
      "execution_count": null,
      "id": "d33a0301",
      "metadata": {
        "id": "d33a0301",
        "outputId": "a7974b66-e5a8-4a23-dff7-e4ef10c7d5f7"
      },
      "outputs": [
        {
          "name": "stdout",
          "output_type": "stream",
          "text": [
            "[2, 3, 4]\n",
            "[2, 3, 4]\n",
            "[2, 3, 4]\n",
            "[2, 3, 4, 100]\n"
          ]
        }
      ],
      "source": [
        "l1 = [2,3,4]\n",
        "l2 = l1.copy()      #shallow copy\n",
        "print(l1)\n",
        "print(l2)\n",
        "l2.append(100)\n",
        "print(l1)\n",
        "print(l2)"
      ]
    },
    {
      "cell_type": "markdown",
      "id": "5d78f5b0",
      "metadata": {
        "id": "5d78f5b0"
      },
      "source": [
        "#### 2. pop()"
      ]
    },
    {
      "cell_type": "markdown",
      "id": "d5652447",
      "metadata": {
        "id": "d5652447"
      },
      "source": [
        "It removes by default last item from the list or given item index(int)"
      ]
    },
    {
      "cell_type": "code",
      "execution_count": null,
      "id": "b16ab2bd",
      "metadata": {
        "id": "b16ab2bd",
        "outputId": "d4d2cf37-e4bb-4cd7-cd28-fcc4641a7a7a"
      },
      "outputs": [
        {
          "data": {
            "text/plain": [
              "['Mumbai', 'Pune', 'Chennai', 'Hydrabad', 'Ahemdabad']"
            ]
          },
          "execution_count": 39,
          "metadata": {},
          "output_type": "execute_result"
        }
      ],
      "source": [
        "list1 = ['Mumbai', 'Pune', 'Chennai', 'Hydrabad', 'Ahemdabad', 'Benglore']\n",
        "list1.pop()\n",
        "list1"
      ]
    },
    {
      "cell_type": "code",
      "execution_count": null,
      "id": "8db8cadb",
      "metadata": {
        "id": "8db8cadb",
        "outputId": "44131f8f-66b3-449f-efc0-f2faa1be2b90"
      },
      "outputs": [
        {
          "data": {
            "text/plain": [
              "['Mumbai', 'Pune', 'Chennai', 'Ahemdabad', 'Benglore']"
            ]
          },
          "execution_count": 40,
          "metadata": {},
          "output_type": "execute_result"
        }
      ],
      "source": [
        "list1 = ['Mumbai', 'Pune', 'Chennai', 'Hydrabad', 'Ahemdabad', 'Benglore']\n",
        "list1.pop(3)\n",
        "list1"
      ]
    },
    {
      "cell_type": "code",
      "execution_count": null,
      "id": "6548ebff",
      "metadata": {
        "id": "6548ebff",
        "outputId": "17ad97ee-00d3-485b-df7b-8bf9ba24d04a"
      },
      "outputs": [
        {
          "ename": "TypeError",
          "evalue": "'str' object cannot be interpreted as an integer",
          "output_type": "error",
          "traceback": [
            "\u001b[1;31m---------------------------------------------------------------------------\u001b[0m",
            "\u001b[1;31mTypeError\u001b[0m                                 Traceback (most recent call last)",
            "Cell \u001b[1;32mIn[41], line 2\u001b[0m\n\u001b[0;32m      1\u001b[0m list1 \u001b[38;5;241m=\u001b[39m [\u001b[38;5;124m'\u001b[39m\u001b[38;5;124mMumbai\u001b[39m\u001b[38;5;124m'\u001b[39m, \u001b[38;5;124m'\u001b[39m\u001b[38;5;124mPune\u001b[39m\u001b[38;5;124m'\u001b[39m, \u001b[38;5;124m'\u001b[39m\u001b[38;5;124mChennai\u001b[39m\u001b[38;5;124m'\u001b[39m, \u001b[38;5;124m'\u001b[39m\u001b[38;5;124mHydrabad\u001b[39m\u001b[38;5;124m'\u001b[39m, \u001b[38;5;124m'\u001b[39m\u001b[38;5;124mAhemdabad\u001b[39m\u001b[38;5;124m'\u001b[39m, \u001b[38;5;124m'\u001b[39m\u001b[38;5;124mBenglore\u001b[39m\u001b[38;5;124m'\u001b[39m]\n\u001b[1;32m----> 2\u001b[0m \u001b[43mlist1\u001b[49m\u001b[38;5;241;43m.\u001b[39;49m\u001b[43mpop\u001b[49m\u001b[43m(\u001b[49m\u001b[38;5;124;43m'\u001b[39;49m\u001b[38;5;124;43mHydrabad\u001b[39;49m\u001b[38;5;124;43m'\u001b[39;49m\u001b[43m)\u001b[49m\n\u001b[0;32m      3\u001b[0m list1\n",
            "\u001b[1;31mTypeError\u001b[0m: 'str' object cannot be interpreted as an integer"
          ]
        }
      ],
      "source": [
        "list1 = ['Mumbai', 'Pune', 'Chennai', 'Hydrabad', 'Ahemdabad', 'Benglore']\n",
        "list1.pop('Hydrabad')\n",
        "list1"
      ]
    },
    {
      "cell_type": "markdown",
      "id": "951eaed4",
      "metadata": {
        "id": "951eaed4"
      },
      "source": [
        "#### 3. clear()"
      ]
    },
    {
      "cell_type": "code",
      "execution_count": null,
      "id": "bce68935",
      "metadata": {
        "id": "bce68935",
        "outputId": "1526565e-8871-4bf1-ada4-f6ce7e2eeec4"
      },
      "outputs": [
        {
          "name": "stdout",
          "output_type": "stream",
          "text": [
            "[] <class 'list'>\n"
          ]
        }
      ],
      "source": [
        "list1 = ['Mumbai', 'Pune', 'Chennai', 'Hydrabad', 'Ahemdabad', 'Benglore']\n",
        "list1.clear()\n",
        "print(list1, type(list1))"
      ]
    },
    {
      "cell_type": "markdown",
      "id": "5076e60e",
      "metadata": {
        "id": "5076e60e"
      },
      "source": [
        "#### 4. del"
      ]
    },
    {
      "cell_type": "code",
      "execution_count": null,
      "id": "8ff82ee7",
      "metadata": {
        "id": "8ff82ee7"
      },
      "outputs": [],
      "source": [
        "list1 = ['Mumbai', 'Pune', 'Chennai', 'Hydrabad', 'Ahemdabad', 'Benglore']\n",
        "del list1"
      ]
    },
    {
      "cell_type": "code",
      "execution_count": null,
      "id": "7f034599",
      "metadata": {
        "id": "7f034599",
        "outputId": "a152675f-4558-4e20-e4d3-89fb86552ba6"
      },
      "outputs": [
        {
          "ename": "NameError",
          "evalue": "name 'list1' is not defined",
          "output_type": "error",
          "traceback": [
            "\u001b[1;31m---------------------------------------------------------------------------\u001b[0m",
            "\u001b[1;31mNameError\u001b[0m                                 Traceback (most recent call last)",
            "Cell \u001b[1;32mIn[45], line 1\u001b[0m\n\u001b[1;32m----> 1\u001b[0m \u001b[43mlist1\u001b[49m\n",
            "\u001b[1;31mNameError\u001b[0m: name 'list1' is not defined"
          ]
        }
      ],
      "source": [
        "list1"
      ]
    },
    {
      "cell_type": "code",
      "execution_count": null,
      "id": "d192d2b7",
      "metadata": {
        "id": "d192d2b7",
        "outputId": "be8c0aab-8d19-4e15-9cce-3cc2918563ac"
      },
      "outputs": [
        {
          "data": {
            "text/plain": [
              "['Mumbai', 'Pune', 'Hydrabad', 'Ahemdabad', 'Benglore']"
            ]
          },
          "execution_count": 46,
          "metadata": {},
          "output_type": "execute_result"
        }
      ],
      "source": [
        "list1 = ['Mumbai', 'Pune', 'Chennai', 'Hydrabad', 'Ahemdabad', 'Benglore']\n",
        "del list1[2]\n",
        "list1"
      ]
    },
    {
      "cell_type": "code",
      "execution_count": null,
      "id": "1e7f5de5",
      "metadata": {
        "id": "1e7f5de5",
        "outputId": "dd3447a8-6f82-45be-bcee-5981a9370109"
      },
      "outputs": [
        {
          "data": {
            "text/plain": [
              "['Mumbai', 'Pune', 'Chennai', 'Hydrabad', 'Benglore']"
            ]
          },
          "execution_count": 47,
          "metadata": {},
          "output_type": "execute_result"
        }
      ],
      "source": [
        "list1 = ['Mumbai', 'Pune', 'Chennai', 'Hydrabad', 'Ahemdabad', 'Benglore']\n",
        "del list1[4]\n",
        "list1"
      ]
    },
    {
      "cell_type": "markdown",
      "id": "bb404793",
      "metadata": {
        "id": "bb404793"
      },
      "source": [
        "#### insert()"
      ]
    },
    {
      "cell_type": "code",
      "execution_count": null,
      "id": "d02ee04a",
      "metadata": {
        "id": "d02ee04a"
      },
      "outputs": [],
      "source": [
        "insert(index, value)"
      ]
    },
    {
      "cell_type": "code",
      "execution_count": null,
      "id": "1db1cb34",
      "metadata": {
        "id": "1db1cb34",
        "outputId": "73516115-22c1-46e2-d7bb-260c8688ac96"
      },
      "outputs": [
        {
          "data": {
            "text/plain": [
              "['Mumbai', 'Pune', 'Chennai', 'Hydrabad', 'Ahemdabad', 'Benglore', 'Nashik']"
            ]
          },
          "execution_count": 48,
          "metadata": {},
          "output_type": "execute_result"
        }
      ],
      "source": [
        "city_names = ['Mumbai', 'Pune', 'Chennai', 'Hydrabad', 'Ahemdabad', 'Benglore']\n",
        "city_names.append('Nashik')\n",
        "city_names"
      ]
    },
    {
      "cell_type": "code",
      "execution_count": null,
      "id": "9418e8e6",
      "metadata": {
        "id": "9418e8e6",
        "outputId": "dacbad14-1f96-4037-ef85-d761093c19da"
      },
      "outputs": [
        {
          "name": "stdout",
          "output_type": "stream",
          "text": [
            "['Mumbai', 'Pune', 'Nashik', 'Chennai', 'Hydrabad', 'Ahemdabad', 'Benglore']\n"
          ]
        }
      ],
      "source": [
        "city_names = ['Mumbai', 'Pune', 'Chennai', 'Hydrabad', 'Ahemdabad', 'Benglore']\n",
        "city_names.insert(2,'Nashik')\n",
        "print(city_names)"
      ]
    },
    {
      "cell_type": "code",
      "execution_count": null,
      "id": "b9543c6c",
      "metadata": {
        "id": "b9543c6c",
        "outputId": "01acc55b-ae30-4749-f56b-7d9f72a9033d"
      },
      "outputs": [
        {
          "name": "stdout",
          "output_type": "stream",
          "text": [
            "['Mumbai', 'Pune', 'Chennai', 'Hydrabad', 'Ahemdabad', 'Nashik', 'Benglore']\n"
          ]
        }
      ],
      "source": [
        "city_names = ['Mumbai', 'Pune', 'Chennai', 'Hydrabad', 'Ahemdabad', 'Benglore']\n",
        "city_names.insert(5,'Nashik')\n",
        "print(city_names)"
      ]
    },
    {
      "cell_type": "code",
      "execution_count": null,
      "id": "87802e3f",
      "metadata": {
        "id": "87802e3f",
        "outputId": "b3d9f2c4-b64e-4e69-9a41-8eee454604e3"
      },
      "outputs": [
        {
          "data": {
            "text/plain": [
              "[1, 2, 3, 'Python', 4, 5, 6, 7]"
            ]
          },
          "execution_count": 53,
          "metadata": {},
          "output_type": "execute_result"
        }
      ],
      "source": [
        "l1 = [1,2,3,4,5,6,7]\n",
        "l1.insert(3, 'Python')\n",
        "l1"
      ]
    },
    {
      "cell_type": "code",
      "execution_count": null,
      "id": "2c296b50",
      "metadata": {
        "id": "2c296b50",
        "outputId": "89d2eee4-c7f1-4d0b-8cd0-32050fd0a1c5"
      },
      "outputs": [
        {
          "ename": "TypeError",
          "evalue": "insert expected 2 arguments, got 1",
          "output_type": "error",
          "traceback": [
            "\u001b[1;31m---------------------------------------------------------------------------\u001b[0m",
            "\u001b[1;31mTypeError\u001b[0m                                 Traceback (most recent call last)",
            "Cell \u001b[1;32mIn[54], line 2\u001b[0m\n\u001b[0;32m      1\u001b[0m l1 \u001b[38;5;241m=\u001b[39m [\u001b[38;5;241m1\u001b[39m,\u001b[38;5;241m2\u001b[39m,\u001b[38;5;241m3\u001b[39m,\u001b[38;5;241m4\u001b[39m,\u001b[38;5;241m5\u001b[39m,\u001b[38;5;241m6\u001b[39m,\u001b[38;5;241m7\u001b[39m]\n\u001b[1;32m----> 2\u001b[0m \u001b[43ml1\u001b[49m\u001b[38;5;241;43m.\u001b[39;49m\u001b[43minsert\u001b[49m\u001b[43m(\u001b[49m\u001b[38;5;124;43m'\u001b[39;49m\u001b[38;5;124;43mPython\u001b[39;49m\u001b[38;5;124;43m'\u001b[39;49m\u001b[43m)\u001b[49m\n\u001b[0;32m      3\u001b[0m l1\n",
            "\u001b[1;31mTypeError\u001b[0m: insert expected 2 arguments, got 1"
          ]
        }
      ],
      "source": [
        "l1 = [1,2,3,4,5,6,7]\n",
        "l1.insert('Python')\n",
        "l1"
      ]
    },
    {
      "cell_type": "code",
      "execution_count": null,
      "id": "77a1f221",
      "metadata": {
        "id": "77a1f221",
        "outputId": "0eea0847-8ab4-4a14-c80c-0519704bde05"
      },
      "outputs": [
        {
          "data": {
            "text/plain": [
              "[1, 2, 3, ['Python', 'data', 'Science'], 4, 5, 6, 7]"
            ]
          },
          "execution_count": 55,
          "metadata": {},
          "output_type": "execute_result"
        }
      ],
      "source": [
        "l1 = [1,2,3,4,5,6,7]\n",
        "l1.insert(3,['Python', 'data', 'Science'])\n",
        "l1"
      ]
    },
    {
      "cell_type": "markdown",
      "id": "c1b65e02",
      "metadata": {
        "id": "c1b65e02"
      },
      "source": [
        "#### sort list"
      ]
    },
    {
      "cell_type": "raw",
      "id": "83d74950",
      "metadata": {
        "id": "83d74950"
      },
      "source": [
        "list.sort(reverse = True/False)"
      ]
    },
    {
      "cell_type": "code",
      "execution_count": null,
      "id": "624bc3dc",
      "metadata": {
        "id": "624bc3dc",
        "outputId": "33be0dda-b8d4-40fd-f35b-92fc4d8c118e"
      },
      "outputs": [
        {
          "name": "stdout",
          "output_type": "stream",
          "text": [
            "['Ahemdabad', 'Benglore', 'Chennai', 'Hydrabad', 'Mumbai', 'Pune']\n"
          ]
        }
      ],
      "source": [
        "#Ascending order\n",
        "city_names = ['Mumbai', 'Pune', 'Chennai', 'Hydrabad', 'Ahemdabad', 'Benglore']\n",
        "city_names.sort()\n",
        "print(city_names)"
      ]
    },
    {
      "cell_type": "code",
      "execution_count": null,
      "id": "6797e9c8",
      "metadata": {
        "id": "6797e9c8",
        "outputId": "697f4577-b647-4f28-ad16-7d6e7048ed0b"
      },
      "outputs": [
        {
          "name": "stdout",
          "output_type": "stream",
          "text": [
            "[0, 2, 3, 3, 4, 4, 7, 9, 59, 65]\n"
          ]
        }
      ],
      "source": [
        "#Ascending order\n",
        "list1 = [7,3,4,59,0,9,2,3,4,65]\n",
        "list1.sort()\n",
        "print(list1)"
      ]
    },
    {
      "cell_type": "code",
      "execution_count": null,
      "id": "1afa28c7",
      "metadata": {
        "id": "1afa28c7",
        "outputId": "13ef5340-2d12-463d-d817-7384f0486eba"
      },
      "outputs": [
        {
          "ename": "TypeError",
          "evalue": "sort() takes no positional arguments",
          "output_type": "error",
          "traceback": [
            "\u001b[1;31m---------------------------------------------------------------------------\u001b[0m",
            "\u001b[1;31mTypeError\u001b[0m                                 Traceback (most recent call last)",
            "Cell \u001b[1;32mIn[94], line 4\u001b[0m\n\u001b[0;32m      2\u001b[0m list1 \u001b[38;5;241m=\u001b[39m [\u001b[38;5;241m7\u001b[39m,\u001b[38;5;241m3\u001b[39m,\u001b[38;5;241m4\u001b[39m,\u001b[38;5;241m59\u001b[39m,\u001b[38;5;241m0\u001b[39m,\u001b[38;5;241m9\u001b[39m,\u001b[38;5;241m2\u001b[39m,\u001b[38;5;241m3\u001b[39m,\u001b[38;5;241m4\u001b[39m,\u001b[38;5;241m65\u001b[39m]\n\u001b[0;32m      3\u001b[0m list2 \u001b[38;5;241m=\u001b[39m [\u001b[38;5;241m1\u001b[39m,\u001b[38;5;241m3\u001b[39m,\u001b[38;5;241m4\u001b[39m,\u001b[38;5;241m5\u001b[39m,\u001b[38;5;241m6\u001b[39m]\n\u001b[1;32m----> 4\u001b[0m \u001b[43mlist1\u001b[49m\u001b[38;5;241;43m.\u001b[39;49m\u001b[43msort\u001b[49m\u001b[43m(\u001b[49m\u001b[43mlist2\u001b[49m\u001b[43m)\u001b[49m\n\u001b[0;32m      5\u001b[0m \u001b[38;5;28mprint\u001b[39m(list1)\n",
            "\u001b[1;31mTypeError\u001b[0m: sort() takes no positional arguments"
          ]
        }
      ],
      "source": [
        "#Ascending order\n",
        "list1 = [7,3,4,59,0,9,2,3,4,65]\n",
        "list2 = [1,3,4,5,6]\n",
        "list1.sort(list2)\n",
        "print(list1)"
      ]
    },
    {
      "cell_type": "code",
      "execution_count": null,
      "id": "2e774485",
      "metadata": {
        "id": "2e774485",
        "outputId": "ab43db0f-33ef-45a5-e468-5829b10ddb9c"
      },
      "outputs": [
        {
          "name": "stdout",
          "output_type": "stream",
          "text": [
            "['Pune', 'Mumbai', 'Hydrabad', 'Chennai', 'Benglore', 'Ahemdabad']\n"
          ]
        }
      ],
      "source": [
        "#Descending order\n",
        "city_names = ['Mumbai', 'Pune', 'Chennai', 'Hydrabad', 'Ahemdabad', 'Benglore']\n",
        "city_names.sort(reverse=True)\n",
        "print(city_names)"
      ]
    },
    {
      "cell_type": "code",
      "execution_count": null,
      "id": "abb4d81e",
      "metadata": {
        "id": "abb4d81e",
        "outputId": "afaa9c8a-6a3a-4813-a390-3e3baae4ea71"
      },
      "outputs": [
        {
          "name": "stdout",
          "output_type": "stream",
          "text": [
            "[65, 59, 9, 7, 4, 4, 3, 3, 2, 0]\n"
          ]
        }
      ],
      "source": [
        "#Descending order\n",
        "list1 = [7,3,4,59,0,9,2,3,4,65]\n",
        "list1.sort(reverse=True)\n",
        "print(list1)"
      ]
    },
    {
      "cell_type": "markdown",
      "id": "33433260",
      "metadata": {
        "id": "33433260"
      },
      "source": [
        "#### sorted(list_name)"
      ]
    },
    {
      "cell_type": "code",
      "execution_count": null,
      "id": "c9444099",
      "metadata": {
        "id": "c9444099",
        "outputId": "7176ea4d-6f7a-4381-8548-1ad67b6285c2"
      },
      "outputs": [
        {
          "name": "stdout",
          "output_type": "stream",
          "text": [
            "['Mumbai', 'Pune', 'Chennai', 'Hydrabad', 'Ahemdabad', 'Benglore']\n",
            "['Ahemdabad', 'Benglore', 'Chennai', 'Hydrabad', 'Mumbai', 'Pune']\n"
          ]
        }
      ],
      "source": [
        "city_names = ['Mumbai', 'Pune', 'Chennai', 'Hydrabad', 'Ahemdabad', 'Benglore']\n",
        "print(city_names)\n",
        "city_names.sort(reverse=False)\n",
        "print(city_names)"
      ]
    },
    {
      "cell_type": "code",
      "execution_count": null,
      "id": "eefe486b",
      "metadata": {
        "id": "eefe486b",
        "outputId": "e8538d74-ad14-4191-ad15-f1c1170ce449"
      },
      "outputs": [
        {
          "name": "stdout",
          "output_type": "stream",
          "text": [
            "['Mumbai', 'Pune', 'Chennai', 'Hydrabad', 'Ahemdabad', 'Benglore']\n",
            "['Ahemdabad', 'Benglore', 'Chennai', 'Hydrabad', 'Mumbai', 'Pune']\n"
          ]
        }
      ],
      "source": [
        "# Ascending order\n",
        "\n",
        "city_names = ['Mumbai', 'Pune', 'Chennai', 'Hydrabad', 'Ahemdabad', 'Benglore']\n",
        "print(city_names)\n",
        "updated_list = sorted(city_names)\n",
        "print(updated_list)"
      ]
    },
    {
      "cell_type": "code",
      "execution_count": null,
      "id": "fa94e749",
      "metadata": {
        "id": "fa94e749",
        "outputId": "2f788213-68e5-4931-aca6-a745e89dd587"
      },
      "outputs": [
        {
          "name": "stdout",
          "output_type": "stream",
          "text": [
            "['Mumbai', 'Pune', 'Chennai', 'Hydrabad', 'Ahemdabad', 'Benglore']\n",
            "['Pune', 'Mumbai', 'Hydrabad', 'Chennai', 'Benglore', 'Ahemdabad']\n"
          ]
        }
      ],
      "source": [
        "# Descending order\n",
        "\n",
        "city_names = ['Mumbai', 'Pune', 'Chennai', 'Hydrabad', 'Ahemdabad', 'Benglore']\n",
        "print(city_names)\n",
        "updated_list = sorted(city_names, reverse=True)\n",
        "print(updated_list)"
      ]
    },
    {
      "cell_type": "code",
      "execution_count": null,
      "id": "7998d277",
      "metadata": {
        "id": "7998d277",
        "outputId": "eb3be412-8a6d-46a6-8838-6a5039c8f1bf"
      },
      "outputs": [
        {
          "name": "stdout",
          "output_type": "stream",
          "text": [
            "[0, 2, 3, 3, 4, 4, 7, 9, 59, 65]\n"
          ]
        }
      ],
      "source": [
        "#Ascending order\n",
        "list1 = [7,3,4,59,0,9,2,3,4,65]\n",
        "list2 = sorted(list1)\n",
        "print(list2)"
      ]
    },
    {
      "cell_type": "code",
      "execution_count": null,
      "id": "c80477bf",
      "metadata": {
        "id": "c80477bf",
        "outputId": "f0cd31e0-5ea1-4f50-b116-f4c7e9a5043b"
      },
      "outputs": [
        {
          "name": "stdout",
          "output_type": "stream",
          "text": [
            "[65, 59, 9, 7, 4, 4, 3, 3, 2, 0]\n"
          ]
        }
      ],
      "source": [
        "#Descending order\n",
        "list1 = [7,3,4,59,0,9,2,3,4,65]\n",
        "list2 = sorted(list1, reverse=True)\n",
        "print(list2)"
      ]
    },
    {
      "cell_type": "markdown",
      "id": "ffc30251",
      "metadata": {
        "id": "ffc30251"
      },
      "source": [
        "#### index()"
      ]
    },
    {
      "cell_type": "code",
      "execution_count": null,
      "id": "ded1245d",
      "metadata": {
        "id": "ded1245d",
        "outputId": "81ba8ce8-abed-4e63-f2a0-e834f0e8e8ad"
      },
      "outputs": [
        {
          "data": {
            "text/plain": [
              "1"
            ]
          },
          "execution_count": 67,
          "metadata": {},
          "output_type": "execute_result"
        }
      ],
      "source": [
        "city_names = ['Mumbai', 'Pune', 'Chennai', 'Hydrabad', 'Ahemdabad', 'Benglore']\n",
        "city_names.index('Pune')"
      ]
    },
    {
      "cell_type": "code",
      "execution_count": null,
      "id": "2baf5da6",
      "metadata": {
        "id": "2baf5da6",
        "outputId": "8c287ea2-5657-482d-dbf3-85469bbf04e7"
      },
      "outputs": [
        {
          "data": {
            "text/plain": [
              "4"
            ]
          },
          "execution_count": 68,
          "metadata": {},
          "output_type": "execute_result"
        }
      ],
      "source": [
        "city_names = ['Mumbai', 'Pune', 'Chennai', 'Hydrabad', 'Ahemdabad', 'Benglore']\n",
        "city_names.index('Ahemdabad')"
      ]
    },
    {
      "cell_type": "code",
      "execution_count": null,
      "id": "e56f59c1",
      "metadata": {
        "id": "e56f59c1",
        "outputId": "bfca5ce1-d6ee-47b3-a579-87c1231b58b7"
      },
      "outputs": [
        {
          "ename": "ValueError",
          "evalue": "'Nashik' is not in list",
          "output_type": "error",
          "traceback": [
            "\u001b[1;31m---------------------------------------------------------------------------\u001b[0m",
            "\u001b[1;31mValueError\u001b[0m                                Traceback (most recent call last)",
            "Cell \u001b[1;32mIn[69], line 2\u001b[0m\n\u001b[0;32m      1\u001b[0m city_names \u001b[38;5;241m=\u001b[39m [\u001b[38;5;124m'\u001b[39m\u001b[38;5;124mMumbai\u001b[39m\u001b[38;5;124m'\u001b[39m, \u001b[38;5;124m'\u001b[39m\u001b[38;5;124mPune\u001b[39m\u001b[38;5;124m'\u001b[39m, \u001b[38;5;124m'\u001b[39m\u001b[38;5;124mChennai\u001b[39m\u001b[38;5;124m'\u001b[39m, \u001b[38;5;124m'\u001b[39m\u001b[38;5;124mHydrabad\u001b[39m\u001b[38;5;124m'\u001b[39m, \u001b[38;5;124m'\u001b[39m\u001b[38;5;124mAhemdabad\u001b[39m\u001b[38;5;124m'\u001b[39m, \u001b[38;5;124m'\u001b[39m\u001b[38;5;124mBenglore\u001b[39m\u001b[38;5;124m'\u001b[39m]\n\u001b[1;32m----> 2\u001b[0m \u001b[43mcity_names\u001b[49m\u001b[38;5;241;43m.\u001b[39;49m\u001b[43mindex\u001b[49m\u001b[43m(\u001b[49m\u001b[38;5;124;43m'\u001b[39;49m\u001b[38;5;124;43mNashik\u001b[39;49m\u001b[38;5;124;43m'\u001b[39;49m\u001b[43m)\u001b[49m\n",
            "\u001b[1;31mValueError\u001b[0m: 'Nashik' is not in list"
          ]
        }
      ],
      "source": [
        "city_names = ['Mumbai', 'Pune', 'Chennai', 'Hydrabad', 'Ahemdabad', 'Benglore']\n",
        "city_names.index('Nashik')"
      ]
    },
    {
      "cell_type": "code",
      "execution_count": null,
      "id": "21fc40cc",
      "metadata": {
        "id": "21fc40cc",
        "outputId": "d58bd724-8da0-49c0-a42f-31a912fa48be"
      },
      "outputs": [
        {
          "name": "stdout",
          "output_type": "stream",
          "text": [
            "0\n"
          ]
        }
      ],
      "source": [
        "city_names = ['Mumbai', 'Pune', 'Chennai', 'Hydrabad', 'Ahemdabad', 'Benglore']\n",
        "if 'Mumbai' in city_names:\n",
        "    index = city_names.index('Mumbai')\n",
        "    print(index)"
      ]
    },
    {
      "cell_type": "code",
      "execution_count": null,
      "id": "25ac5b3f",
      "metadata": {
        "id": "25ac5b3f",
        "outputId": "850fde41-e0a1-45be-a192-83a6cb199ee3"
      },
      "outputs": [
        {
          "name": "stdout",
          "output_type": "stream",
          "text": [
            "2\n"
          ]
        }
      ],
      "source": [
        "city_names = ['Mumbai', 'Pune', 'Chennai', 'Hydrabad', 'Ahemdabad', 'Benglore']\n",
        "city = 'Chennai'\n",
        "if city in city_names:\n",
        "    index = city_names.index(city)\n",
        "    print(index)"
      ]
    },
    {
      "cell_type": "code",
      "execution_count": null,
      "id": "e9895a51",
      "metadata": {
        "id": "e9895a51",
        "outputId": "be483ab0-0966-4edc-96e9-48bda57d325b"
      },
      "outputs": [
        {
          "name": "stdout",
          "output_type": "stream",
          "text": [
            "2\n"
          ]
        }
      ],
      "source": [
        "city_names = ['Mumbai', 'Pune', 'Chennai', 'Hydrabad', 'Ahemdabad', 'Benglore']\n",
        "city = 'Chennai'\n",
        "if city in city_names:\n",
        "    index = city_names.index(city)\n",
        "    print(index)\n",
        "\n",
        "else:\n",
        "    print(f\"{city} is not presnt in city_names\")"
      ]
    },
    {
      "cell_type": "code",
      "execution_count": null,
      "id": "1be80d55",
      "metadata": {
        "id": "1be80d55",
        "outputId": "b4f845da-6b34-483e-d6f0-f07fffb17897"
      },
      "outputs": [
        {
          "name": "stdout",
          "output_type": "stream",
          "text": [
            "Nashik is not presnt in city_names\n"
          ]
        }
      ],
      "source": [
        "city_names = ['Mumbai', 'Pune', 'Chennai', 'Hydrabad', 'Ahemdabad', 'Benglore']\n",
        "city = 'Nashik'\n",
        "if city in city_names:\n",
        "    index = city_names.index(city)\n",
        "    print(index)\n",
        "\n",
        "else:\n",
        "    print(f\"{city} is not presnt in city_names\")"
      ]
    },
    {
      "cell_type": "code",
      "execution_count": null,
      "id": "9d586f81",
      "metadata": {
        "id": "9d586f81",
        "outputId": "b7d13d7e-453b-494d-cba5-cea8ffe6a8bd"
      },
      "outputs": [
        {
          "name": "stdout",
          "output_type": "stream",
          "text": [
            "Hydrabad is present at index 3\n"
          ]
        }
      ],
      "source": [
        "city_names = ['Mumbai', 'Pune', 'Chennai', 'Hydrabad', 'Ahemdabad', 'Benglore']\n",
        "city = 'Hydrabad'\n",
        "if city in city_names:\n",
        "    index = city_names.index(city)\n",
        "    print(f\"{city} is present at index {index}\")\n",
        "\n",
        "else:\n",
        "    print(f\"{city} is not presnt in city_names\")"
      ]
    },
    {
      "cell_type": "markdown",
      "id": "4321a41a",
      "metadata": {
        "id": "4321a41a"
      },
      "source": [
        "#### count()"
      ]
    },
    {
      "cell_type": "code",
      "execution_count": null,
      "id": "d3558242",
      "metadata": {
        "id": "d3558242",
        "outputId": "bef85d34-54d3-4f33-d7e4-e179533c1928"
      },
      "outputs": [
        {
          "data": {
            "text/plain": [
              "1"
            ]
          },
          "execution_count": 76,
          "metadata": {},
          "output_type": "execute_result"
        }
      ],
      "source": [
        "city_names = ['Mumbai', 'Pune', 'Chennai', 'Hydrabad', 'Ahemdabad', 'Benglore']\n",
        "city_names.count('Pune')"
      ]
    },
    {
      "cell_type": "code",
      "execution_count": null,
      "id": "0087e2fa",
      "metadata": {
        "id": "0087e2fa",
        "outputId": "29af8bcf-173f-4566-be64-27be2be690d9"
      },
      "outputs": [
        {
          "data": {
            "text/plain": [
              "3"
            ]
          },
          "execution_count": 77,
          "metadata": {},
          "output_type": "execute_result"
        }
      ],
      "source": [
        "city_names = ['Mumbai', 'Pune', 'Pune', 'Hydrabad', 'Ahemdabad', 'Pune','Benglore']\n",
        "city_names.count('Pune')"
      ]
    },
    {
      "cell_type": "code",
      "execution_count": null,
      "id": "bac47b6d",
      "metadata": {
        "id": "bac47b6d",
        "outputId": "f55e08bf-621a-4ac3-aac7-f2ad5ba58d5e"
      },
      "outputs": [
        {
          "data": {
            "text/plain": [
              "2"
            ]
          },
          "execution_count": 79,
          "metadata": {},
          "output_type": "execute_result"
        }
      ],
      "source": [
        "string = 'Python Programming'\n",
        "string.count('P')"
      ]
    },
    {
      "cell_type": "markdown",
      "id": "73416a9f",
      "metadata": {
        "id": "73416a9f"
      },
      "source": [
        "#### List comprehension"
      ]
    },
    {
      "cell_type": "raw",
      "id": "f121b4d6",
      "metadata": {
        "id": "f121b4d6"
      },
      "source": [
        "updated_list = [expression for item in list if condition == True]"
      ]
    },
    {
      "cell_type": "code",
      "execution_count": null,
      "id": "fba13452",
      "metadata": {
        "id": "fba13452",
        "outputId": "eab661f7-02c4-4bcb-860f-4bc7e4f6275b"
      },
      "outputs": [
        {
          "name": "stdout",
          "output_type": "stream",
          "text": [
            "[1, 3, 4, 5, 67, 4]\n",
            "[1, 3, 4, 5, 67, 4]\n"
          ]
        }
      ],
      "source": [
        "l1 = [1,3,4,5,67,4]\n",
        "list2 = []\n",
        "for val in l1:\n",
        "    list2.append(val)\n",
        "\n",
        "print(l1)\n",
        "print(list2)"
      ]
    },
    {
      "cell_type": "code",
      "execution_count": null,
      "id": "f25daad8",
      "metadata": {
        "id": "f25daad8",
        "outputId": "a2057093-dbed-4fb2-eb93-1b12e3c34288"
      },
      "outputs": [
        {
          "data": {
            "text/plain": [
              "['mumbai', 'hydrabad', 'ahemdabad', 'pune', 'benglore']"
            ]
          },
          "execution_count": 82,
          "metadata": {},
          "output_type": "execute_result"
        }
      ],
      "source": [
        "city_names = ['Mumbai', 'HydraBAD', 'Ahemdabad', 'PUNE','Benglore']\n",
        "city_names_lower = []\n",
        "for city in city_names:\n",
        "    city_names_lower.append(city.lower())\n",
        "\n",
        "city_names_lower"
      ]
    },
    {
      "cell_type": "code",
      "execution_count": null,
      "id": "38aba5e0",
      "metadata": {
        "id": "38aba5e0",
        "outputId": "d25836ac-e20e-4c78-c050-77922291250a"
      },
      "outputs": [
        {
          "data": {
            "text/plain": [
              "['mumbai', 'hydrabad', 'ahemdabad', 'pune', 'benglore']"
            ]
          },
          "execution_count": 85,
          "metadata": {},
          "output_type": "execute_result"
        }
      ],
      "source": [
        "city_names1 = ['Mumbai', 'HydraBAD', 'Ahemdabad', 'PUNE','Benglore']\n",
        "city_names_lower1 = [val.lower() for val in city_names1]\n",
        "city_names_lower1"
      ]
    },
    {
      "cell_type": "code",
      "execution_count": null,
      "id": "cd48aa26",
      "metadata": {
        "id": "cd48aa26",
        "outputId": "a682fd20-a1e1-4cc2-fa03-b574b0a78344"
      },
      "outputs": [
        {
          "data": {
            "text/plain": [
              "['MUMBAI', 'HYDRABAD', 'AHEMDABAD', 'PUNE', 'BENGLORE']"
            ]
          },
          "execution_count": 86,
          "metadata": {},
          "output_type": "execute_result"
        }
      ],
      "source": [
        "city_names1 = ['Mumbai', 'HydraBAD', 'Ahemdabad', 'PUNE','Benglore']\n",
        "city_names_lower1 = [val.upper() for val in city_names1]\n",
        "city_names_lower1"
      ]
    },
    {
      "cell_type": "code",
      "execution_count": null,
      "id": "b2854a18",
      "metadata": {
        "id": "b2854a18",
        "outputId": "a399e47b-e5f6-4d69-9f3c-83d4a2e7cee1"
      },
      "outputs": [
        {
          "name": "stdout",
          "output_type": "stream",
          "text": [
            "['Mumbai', 'Chennai', 'Hydrabad', 'Ahemdabad', 'Benglore']\n"
          ]
        }
      ],
      "source": [
        "city_names = ['Mumbai', 'Pune', 'Chennai', 'Hydrabad','abc' ,'Ahemdabad', 'Benglore']\n",
        "city_names1 = []\n",
        "\n",
        "for city in city_names:\n",
        "    if len(city) > 5:   # True\n",
        "        city_names1.append(city)\n",
        "\n",
        "print(city_names1)"
      ]
    },
    {
      "cell_type": "code",
      "execution_count": null,
      "id": "e99eb432",
      "metadata": {
        "id": "e99eb432",
        "outputId": "47f99ef8-2c28-44a8-d766-4e289ec3c0b0"
      },
      "outputs": [
        {
          "data": {
            "text/plain": [
              "['Mumbai', 'Chennai', 'Hydrabad', 'Ahemdabad', 'Benglore']"
            ]
          },
          "execution_count": 89,
          "metadata": {},
          "output_type": "execute_result"
        }
      ],
      "source": [
        "city_names = ['Mumbai', 'Pune', 'Chennai', 'Hydrabad','abc' ,'Ahemdabad', 'Benglore']\n",
        "city_names1 = [city for city in city_names if len(city) > 5]\n",
        "city_names1"
      ]
    },
    {
      "cell_type": "code",
      "execution_count": null,
      "id": "035c0565",
      "metadata": {
        "id": "035c0565",
        "outputId": "0f0ec00f-564a-46a9-f420-903c7ead17a5"
      },
      "outputs": [
        {
          "data": {
            "text/plain": [
              "[1, 4, 9, 16, 25, 36]"
            ]
          },
          "execution_count": 90,
          "metadata": {},
          "output_type": "execute_result"
        }
      ],
      "source": [
        "num = [1,2,3,4,5,6]\n",
        "squares = [i**2 for i in num]\n",
        "squares"
      ]
    },
    {
      "cell_type": "code",
      "execution_count": null,
      "id": "8d342179",
      "metadata": {
        "id": "8d342179",
        "outputId": "602c53a7-3379-47a9-f253-b7765e980edb"
      },
      "outputs": [
        {
          "data": {
            "text/plain": [
              "[1, 8, 27, 64, 125, 216]"
            ]
          },
          "execution_count": 91,
          "metadata": {},
          "output_type": "execute_result"
        }
      ],
      "source": [
        "num = [1,2,3,4,5,6]\n",
        "cubes = [i**3 for i in num]\n",
        "cubes"
      ]
    },
    {
      "cell_type": "code",
      "execution_count": null,
      "id": "645db7f2",
      "metadata": {
        "id": "645db7f2",
        "outputId": "4aad86ab-d198-403a-b7d1-9e325e40f450"
      },
      "outputs": [
        {
          "data": {
            "text/plain": [
              "[100, 121, 144, 169, 196, 225]"
            ]
          },
          "execution_count": 93,
          "metadata": {},
          "output_type": "execute_result"
        }
      ],
      "source": [
        "squares = [i**2 for i in range(10, 16)]\n",
        "squares"
      ]
    },
    {
      "cell_type": "markdown",
      "id": "e7a06090",
      "metadata": {
        "id": "e7a06090"
      },
      "source": [
        "#### List Functions"
      ]
    },
    {
      "cell_type": "raw",
      "id": "13ddcd81",
      "metadata": {
        "id": "13ddcd81"
      },
      "source": [
        "1. append()\n",
        "2. extend()\n",
        "3. remove()\n",
        "4. pop()\n",
        "5. clear()\n",
        "6. del\n",
        "7. insert()\n",
        "8. sort()\n",
        "9. sorted()\n",
        "10. index()\n",
        "11. count()\n",
        "12. copy()"
      ]
    }
  ],
  "metadata": {
    "kernelspec": {
      "display_name": "Python 3 (ipykernel)",
      "language": "python",
      "name": "python3"
    },
    "language_info": {
      "codemirror_mode": {
        "name": "ipython",
        "version": 3
      },
      "file_extension": ".py",
      "mimetype": "text/x-python",
      "name": "python",
      "nbconvert_exporter": "python",
      "pygments_lexer": "ipython3",
      "version": "3.8.17"
    },
    "colab": {
      "provenance": [],
      "include_colab_link": true
    }
  },
  "nbformat": 4,
  "nbformat_minor": 5
}