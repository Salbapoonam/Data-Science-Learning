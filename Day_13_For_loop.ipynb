{
  "cells": [
    {
      "cell_type": "markdown",
      "metadata": {
        "id": "view-in-github",
        "colab_type": "text"
      },
      "source": [
        "<a href=\"https://colab.research.google.com/github/Salbapoonam/Data-Science-Learning/blob/main/Day_13_For_loop.ipynb\" target=\"_parent\"><img src=\"https://colab.research.google.com/assets/colab-badge.svg\" alt=\"Open In Colab\"/></a>"
      ]
    },
    {
      "cell_type": "markdown",
      "id": "4a433ae6",
      "metadata": {
        "id": "4a433ae6"
      },
      "source": [
        "#### Loops in Python"
      ]
    },
    {
      "cell_type": "raw",
      "id": "27b64ba4",
      "metadata": {
        "id": "27b64ba4"
      },
      "source": [
        "1. for\n",
        "2. while\n",
        "\n",
        "Same functionality but different syntax and condition\n",
        "checking it executes set of statements"
      ]
    },
    {
      "cell_type": "markdown",
      "id": "8eb7eca7",
      "metadata": {
        "id": "8eb7eca7"
      },
      "source": [
        "### for loop"
      ]
    },
    {
      "cell_type": "raw",
      "id": "5f8be4f1",
      "metadata": {
        "id": "5f8be4f1"
      },
      "source": [
        "It works like an iterator\n",
        "Sequence >>> str, list, tuple, set, dict, range"
      ]
    },
    {
      "cell_type": "raw",
      "id": "d9877169",
      "metadata": {
        "id": "d9877169"
      },
      "source": [
        "for var_name in sequence:\n",
        "    print(var_name)"
      ]
    },
    {
      "cell_type": "code",
      "execution_count": null,
      "id": "65067a6b",
      "metadata": {
        "id": "65067a6b",
        "outputId": "bcb931b0-509d-43ee-97b2-f6f4c7a19bc4"
      },
      "outputs": [
        {
          "name": "stdout",
          "output_type": "stream",
          "text": [
            "1\n",
            "2\n",
            "3\n",
            "4\n",
            "5\n",
            "6\n",
            "7\n",
            "8\n",
            "9\n"
          ]
        }
      ],
      "source": [
        "for i in range(1,10):\n",
        "    print(i)"
      ]
    },
    {
      "cell_type": "code",
      "execution_count": null,
      "id": "f964518d",
      "metadata": {
        "id": "f964518d",
        "outputId": "c33a1528-1575-4682-9bda-1702dde4255f"
      },
      "outputs": [
        {
          "name": "stdout",
          "output_type": "stream",
          "text": [
            "1\n",
            "2\n",
            "3\n",
            "4\n",
            "5\n"
          ]
        }
      ],
      "source": [
        "for i in [1,2,3,4,5]:\n",
        "    print(i)"
      ]
    },
    {
      "cell_type": "markdown",
      "id": "e86cb6f1",
      "metadata": {
        "id": "e86cb6f1"
      },
      "source": [
        "### 1. for loop using string"
      ]
    },
    {
      "cell_type": "code",
      "execution_count": null,
      "id": "6a88de18",
      "metadata": {
        "id": "6a88de18",
        "outputId": "3a0d90c8-b6ce-432a-ac75-18be4e1659a6"
      },
      "outputs": [
        {
          "name": "stdout",
          "output_type": "stream",
          "text": [
            "Python programming language\n",
            "Python programming language\n",
            "Python programming language\n",
            "Python programming language\n",
            "Python programming language\n",
            "Python programming language\n"
          ]
        },
        {
          "data": {
            "text/plain": [
              "27"
            ]
          },
          "execution_count": 5,
          "metadata": {},
          "output_type": "execute_result"
        }
      ],
      "source": [
        "string = 'Python programming language'\n",
        "print(string)\n",
        "print(string)\n",
        "print(string)\n",
        "print(string)\n",
        "print(string)\n",
        "print(string)\n",
        "len(string)"
      ]
    },
    {
      "cell_type": "code",
      "execution_count": null,
      "id": "c5308e29",
      "metadata": {
        "id": "c5308e29",
        "outputId": "15358f01-886f-48fc-8c1f-9b7ad744cde9"
      },
      "outputs": [
        {
          "name": "stdout",
          "output_type": "stream",
          "text": [
            "Python programming language\n",
            "Python programming language\n",
            "Python programming language\n",
            "Python programming language\n",
            "Python programming language\n",
            "Python programming language\n",
            "Python programming language\n",
            "Python programming language\n",
            "Python programming language\n",
            "Python programming language\n",
            "Python programming language\n",
            "Python programming language\n",
            "Python programming language\n",
            "Python programming language\n",
            "Python programming language\n",
            "Python programming language\n",
            "Python programming language\n",
            "Python programming language\n",
            "Python programming language\n",
            "Python programming language\n",
            "Python programming language\n",
            "Python programming language\n",
            "Python programming language\n",
            "Python programming language\n",
            "Python programming language\n",
            "Python programming language\n",
            "Python programming language\n"
          ]
        }
      ],
      "source": [
        "l= len(string)\n",
        "for i in range(l):\n",
        "    print(string)"
      ]
    },
    {
      "cell_type": "code",
      "execution_count": null,
      "id": "99cd382c",
      "metadata": {
        "id": "99cd382c",
        "outputId": "67b2da3a-30d9-4a7a-dadc-e5bd9cb00ae0"
      },
      "outputs": [
        {
          "name": "stdout",
          "output_type": "stream",
          "text": [
            "1\n",
            "2\n",
            "3\n",
            "4\n",
            "5\n",
            "6\n",
            "7\n",
            "8\n",
            "9\n",
            "10\n"
          ]
        }
      ],
      "source": [
        "for i in range(1,11):\n",
        "    print(i)"
      ]
    },
    {
      "cell_type": "code",
      "execution_count": null,
      "id": "976a8003",
      "metadata": {
        "id": "976a8003",
        "outputId": "da97f04b-40e4-471b-9640-3fd33e7614c9"
      },
      "outputs": [
        {
          "name": "stdout",
          "output_type": "stream",
          "text": [
            "10 Python programming language\n",
            "11 Python programming language\n",
            "12 Python programming language\n",
            "13 Python programming language\n",
            "14 Python programming language\n",
            "15 Python programming language\n"
          ]
        }
      ],
      "source": [
        "for i in range(10,16):\n",
        "    print(i, string)"
      ]
    },
    {
      "cell_type": "code",
      "execution_count": null,
      "id": "3314eee3",
      "metadata": {
        "id": "3314eee3",
        "outputId": "fdac1ce7-2448-4193-ff05-65bc256b9ed0"
      },
      "outputs": [
        {
          "name": "stdout",
          "output_type": "stream",
          "text": [
            "P\n",
            "Data Science\n",
            "y\n",
            "Data Science\n",
            "t\n",
            "Data Science\n",
            "h\n",
            "Data Science\n",
            "o\n",
            "Data Science\n",
            "n\n",
            "Data Science\n",
            "Machine Learning\n"
          ]
        }
      ],
      "source": [
        "string = 'Python'  #6\n",
        "for i in string:     # 6 iterations\n",
        "    print(i)\n",
        "    print('Data Science')\n",
        "print('Machine Learning')"
      ]
    },
    {
      "cell_type": "code",
      "execution_count": null,
      "id": "926f23ce",
      "metadata": {
        "id": "926f23ce",
        "outputId": "8800fa3d-b2af-42b8-9db6-3ac35dcc4f47"
      },
      "outputs": [
        {
          "name": "stdout",
          "output_type": "stream",
          "text": [
            "Python\n",
            "DataLearnm\n",
            "data\n",
            "DataLearnm\n",
            "Science\n",
            "DataLearnm\n"
          ]
        }
      ],
      "source": [
        "str1 = 'Python data Science'\n",
        "for i in str1.split():    # 3 iterations\n",
        "    print(i)\n",
        "    print('DataLearnm')"
      ]
    },
    {
      "cell_type": "markdown",
      "id": "4ed2b649",
      "metadata": {
        "id": "4ed2b649"
      },
      "source": [
        "### 2. for loop using list"
      ]
    },
    {
      "cell_type": "code",
      "execution_count": null,
      "id": "824ab1d8",
      "metadata": {
        "id": "824ab1d8",
        "outputId": "5ba89339-db56-4c9d-f077-f96dd928bca5"
      },
      "outputs": [
        {
          "name": "stdout",
          "output_type": "stream",
          "text": [
            "1\n",
            "2\n",
            "3\n",
            "data\n",
            "5\n",
            "6\n",
            "7\n",
            "Python\n"
          ]
        }
      ],
      "source": [
        "list1 = [1,2,3,'data',5,6,7,'Python']\n",
        "for i in  list1:\n",
        "    print(i)"
      ]
    },
    {
      "cell_type": "code",
      "execution_count": null,
      "id": "e9fc0598",
      "metadata": {
        "id": "e9fc0598",
        "outputId": "8f6d6924-cb38-4af6-ffe7-8f42c898a251"
      },
      "outputs": [
        {
          "name": "stdout",
          "output_type": "stream",
          "text": [
            "data\n",
            "Python\n"
          ]
        }
      ],
      "source": [
        "list1 = [1,2,3,'data',5,6,7,'Python',4.5,7,8.5]\n",
        "for i in  list1:\n",
        "    if type(i)==str:\n",
        "        print(i)"
      ]
    },
    {
      "cell_type": "code",
      "execution_count": null,
      "id": "a1d16b04",
      "metadata": {
        "id": "a1d16b04",
        "outputId": "ef54b16c-69ad-4b47-85b3-c7079c42c2ef"
      },
      "outputs": [
        {
          "name": "stdout",
          "output_type": "stream",
          "text": [
            "We are learning for loop\n",
            "We are learning for loop\n",
            "We are learning for loop\n",
            "We are learning for loop\n",
            "We are learning for loop\n",
            "We are learning for loop\n",
            "We are learning for loop\n",
            "We are learning for loop\n"
          ]
        }
      ],
      "source": [
        "list1 = [1,2,3,'data',5,6,7,'Python']\n",
        "for i in  range(len(list1)):\n",
        "    print(\"We are learning for loop\")"
      ]
    },
    {
      "cell_type": "code",
      "execution_count": null,
      "id": "f55aa129",
      "metadata": {
        "id": "f55aa129",
        "outputId": "2c164432-1765-49a1-a6ad-be3827da8f3e"
      },
      "outputs": [
        {
          "name": "stdout",
          "output_type": "stream",
          "text": [
            "0 We are learning for loop\n",
            "1 We are learning for loop\n",
            "2 We are learning for loop\n"
          ]
        }
      ],
      "source": [
        "for i in  range(3):\n",
        "    print(i,\"We are learning for loop\")"
      ]
    },
    {
      "cell_type": "code",
      "execution_count": null,
      "id": "ba96c273",
      "metadata": {
        "id": "ba96c273",
        "outputId": "e9eb5b93-787c-43a4-ce39-5728caaed7b1"
      },
      "outputs": [
        {
          "name": "stdout",
          "output_type": "stream",
          "text": [
            "1 We are learning for loop\n",
            "2 We are learning for loop\n"
          ]
        }
      ],
      "source": [
        "for i in  range(1,3):\n",
        "    print(i,\"We are learning for loop\")"
      ]
    },
    {
      "cell_type": "markdown",
      "id": "1b6b490b",
      "metadata": {
        "id": "1b6b490b"
      },
      "source": [
        "### 3. for loop using tuple"
      ]
    },
    {
      "cell_type": "code",
      "execution_count": null,
      "id": "bac1f63a",
      "metadata": {
        "id": "bac1f63a",
        "outputId": "a3dacebb-6a37-4540-f3db-bd9639a2d9db"
      },
      "outputs": [
        {
          "name": "stdout",
          "output_type": "stream",
          "text": [
            "1\n",
            "2\n",
            "3\n",
            "data\n",
            "5\n",
            "6\n",
            "7\n",
            "Python\n"
          ]
        }
      ],
      "source": [
        "tuple1 = (1,2,3,'data',5,6,7,'Python')\n",
        "for i in tuple1:\n",
        "    print(i)"
      ]
    },
    {
      "cell_type": "code",
      "execution_count": null,
      "id": "c094b847",
      "metadata": {
        "id": "c094b847",
        "outputId": "0f2b58e3-7bff-4b04-8eb3-9af780bb7c38"
      },
      "outputs": [
        {
          "name": "stdout",
          "output_type": "stream",
          "text": [
            "0 1\n",
            "1 2\n",
            "2 3\n",
            "3 data\n",
            "4 5\n",
            "5 6\n",
            "6 7\n",
            "7 Python\n"
          ]
        }
      ],
      "source": [
        "tuple1 = (1,2,3,'data',5,6,7,'Python')\n",
        "count = 0\n",
        "for char in tuple1:\n",
        "    print(count, char)\n",
        "    count=count+1"
      ]
    },
    {
      "cell_type": "markdown",
      "id": "71979204",
      "metadata": {
        "id": "71979204"
      },
      "source": [
        "#### enumerate function"
      ]
    },
    {
      "cell_type": "raw",
      "id": "e55c0aad",
      "metadata": {
        "id": "e55c0aad"
      },
      "source": [
        "for index, value in enumerate(sequence):\n",
        "    print(index, value)\n",
        "    print(\"We are learning enumerate function\")"
      ]
    },
    {
      "cell_type": "code",
      "execution_count": null,
      "id": "f87c0a32",
      "metadata": {
        "id": "f87c0a32",
        "outputId": "d7af8a7a-f98d-425b-a2ef-33999d2b1926"
      },
      "outputs": [
        {
          "name": "stdout",
          "output_type": "stream",
          "text": [
            "0 p\n",
            "1 y\n",
            "2 t\n",
            "3 h\n",
            "4 o\n",
            "5 n\n"
          ]
        }
      ],
      "source": [
        "seq = 'python'\n",
        "for index, val in enumerate(seq):\n",
        "    print(index, val)"
      ]
    },
    {
      "cell_type": "code",
      "execution_count": null,
      "id": "05d090b6",
      "metadata": {
        "id": "05d090b6",
        "outputId": "355e4d3a-7530-4545-d7a5-8747ca4ad819"
      },
      "outputs": [
        {
          "name": "stdout",
          "output_type": "stream",
          "text": [
            "index[0] == p\n",
            "index[1] == y\n",
            "index[2] == t\n",
            "index[3] == h\n",
            "index[4] == o\n",
            "index[5] == n\n"
          ]
        }
      ],
      "source": [
        "seq = 'python'\n",
        "for index, val in enumerate(seq):\n",
        "    print(f\"index[{index}] == {val}\")"
      ]
    },
    {
      "cell_type": "code",
      "execution_count": null,
      "id": "a92727ac",
      "metadata": {
        "id": "a92727ac",
        "outputId": "f5a75b81-358c-4846-f1ef-635aee3b69c5"
      },
      "outputs": [
        {
          "name": "stdout",
          "output_type": "stream",
          "text": [
            "Value at index[0] is a\n",
            "Value at index[1] is e\n",
            "Value at index[2] is i\n",
            "Value at index[3] is o\n",
            "Value at index[4] is u\n"
          ]
        }
      ],
      "source": [
        "seq = ['a','e', 'i', 'o', 'u']\n",
        "for index, val in enumerate(seq):\n",
        "    print(f\"Value at index[{index}] is {val}\")"
      ]
    },
    {
      "cell_type": "code",
      "execution_count": null,
      "id": "8d55fde7",
      "metadata": {
        "id": "8d55fde7",
        "outputId": "a164500e-423f-40ae-af6f-91132ef17060"
      },
      "outputs": [
        {
          "name": "stdout",
          "output_type": "stream",
          "text": [
            "Number at index[0] is 1\n",
            "Number at index[1] is 3\n",
            "Number at index[2] is 4\n",
            "Number at index[3] is 5\n",
            "Number at index[4] is 6\n"
          ]
        }
      ],
      "source": [
        "seq = (1,3,4,5,6)\n",
        "for index, num in enumerate(seq):\n",
        "    print(f\"Number at index[{index}] is {num}\")"
      ]
    },
    {
      "cell_type": "code",
      "execution_count": null,
      "id": "acbc0fc3",
      "metadata": {
        "id": "acbc0fc3",
        "outputId": "4ba24c1a-11df-47fd-d8fe-03dd01e7b6bb"
      },
      "outputs": [
        {
          "name": "stdout",
          "output_type": "stream",
          "text": [
            "Number at index[0] is 1\n",
            "Number at index[1] is 3\n",
            "Number at index[2] is 4\n",
            "Number at index[3] is 5\n",
            "Number at index[4] is 6\n"
          ]
        }
      ],
      "source": [
        "seq = (1,3,4,5,6)\n",
        "for k, num in enumerate(seq):\n",
        "    print(f\"Number at index[{k}] is {num}\")"
      ]
    },
    {
      "cell_type": "code",
      "execution_count": null,
      "id": "e8a558dd",
      "metadata": {
        "id": "e8a558dd",
        "outputId": "f943bad8-4b40-4c46-830c-4fc5c75e28d7"
      },
      "outputs": [
        {
          "data": {
            "text/plain": [
              "21"
            ]
          },
          "execution_count": 40,
          "metadata": {},
          "output_type": "execute_result"
        }
      ],
      "source": [
        "list1 = [1,2,3,4,5,6]\n",
        "sum(list1)"
      ]
    },
    {
      "cell_type": "code",
      "execution_count": null,
      "id": "6238398a",
      "metadata": {
        "id": "6238398a",
        "outputId": "dd2b8ac0-e161-4db9-9912-5a9eade9cd97"
      },
      "outputs": [
        {
          "name": "stdout",
          "output_type": "stream",
          "text": [
            "Sum of all numbers is: 21\n"
          ]
        }
      ],
      "source": [
        "list1 = [1,2,3,4,5,6]\n",
        "total = 0\n",
        "for i in list1:\n",
        "    total = total+i\n",
        "print(\"Sum of all numbers is:\", total)"
      ]
    },
    {
      "cell_type": "code",
      "execution_count": null,
      "id": "0bb165a9",
      "metadata": {
        "id": "0bb165a9",
        "outputId": "e9d7d38c-c15d-41d0-cf78-a57bcb9ee9bb"
      },
      "outputs": [
        {
          "name": "stdout",
          "output_type": "stream",
          "text": [
            "10\n",
            "20\n",
            "30\n",
            "Value found\n",
            "40\n",
            "50\n"
          ]
        }
      ],
      "source": [
        "list1 = [10,20,30,40,50]\n",
        "for i in list1:\n",
        "    print(i)\n",
        "    if i == 30:\n",
        "        print('Value found')"
      ]
    },
    {
      "cell_type": "markdown",
      "id": "593076b2",
      "metadata": {
        "id": "593076b2"
      },
      "source": [
        "#### 1. break"
      ]
    },
    {
      "cell_type": "code",
      "execution_count": null,
      "id": "160eff2d",
      "metadata": {
        "id": "160eff2d",
        "outputId": "82005714-9c2a-4fec-ac87-58375480dcb9"
      },
      "outputs": [
        {
          "name": "stdout",
          "output_type": "stream",
          "text": [
            "10\n",
            "20\n",
            "30\n",
            "Value found\n"
          ]
        }
      ],
      "source": [
        "list1 = [10,20,30,40,50]\n",
        "for i in list1:\n",
        "    print(i)\n",
        "    if i == 30:\n",
        "        print('Value found')\n",
        "        break"
      ]
    },
    {
      "cell_type": "code",
      "execution_count": null,
      "id": "8f2bb373",
      "metadata": {
        "id": "8f2bb373",
        "outputId": "5727b1c4-1940-49a8-c31b-4f5eebf7864c"
      },
      "outputs": [
        {
          "name": "stdout",
          "output_type": "stream",
          "text": [
            "0 2\n",
            "1 3\n",
            "2 4\n",
            "3 5\n",
            "4 6\n",
            "Finished\n"
          ]
        }
      ],
      "source": [
        "list1 = [2,3,4,5,6,12,3,45]\n",
        "for index, value in enumerate(list1):\n",
        "    print(index,value)\n",
        "    if index == 4:\n",
        "        break\n",
        "print('Finished')"
      ]
    },
    {
      "cell_type": "code",
      "execution_count": null,
      "id": "0d7c026c",
      "metadata": {
        "id": "0d7c026c",
        "outputId": "53278575-8cf2-4883-e1cd-3773224aae10"
      },
      "outputs": [
        {
          "name": "stdout",
          "output_type": "stream",
          "text": [
            "1\n",
            "\n",
            "String data type found\n",
            "2\n",
            "3\n",
            "data\n",
            "String data type found\n",
            "5\n",
            "6\n",
            "7\n",
            "Python\n",
            "String data type found\n"
          ]
        }
      ],
      "source": [
        "tuple1 = (1,'',2,3,'data',5,6,7,'Python')\n",
        "for val in tuple1:\n",
        "    print(val)\n",
        "    if type(val)==str:\n",
        "        print(\"String data type found\")"
      ]
    },
    {
      "cell_type": "markdown",
      "id": "542fdfd7",
      "metadata": {
        "id": "542fdfd7"
      },
      "source": [
        "#### 2. continue"
      ]
    },
    {
      "cell_type": "markdown",
      "id": "d3ccffa1",
      "metadata": {
        "id": "d3ccffa1"
      },
      "source": [
        "To stop current iteration and continue with next iteration"
      ]
    },
    {
      "cell_type": "code",
      "execution_count": null,
      "id": "430cba46",
      "metadata": {
        "id": "430cba46",
        "outputId": "8ad90660-8f81-4bf3-9605-c726132fa00e"
      },
      "outputs": [
        {
          "name": "stdout",
          "output_type": "stream",
          "text": [
            "5\n",
            "6\n",
            "7\n",
            "Number found\n",
            "8\n",
            "9\n"
          ]
        }
      ],
      "source": [
        "for num in range(5,10):\n",
        "    print(num)\n",
        "    if num == 7:   #True\n",
        "        print(\"Number found\")\n",
        "        continue"
      ]
    },
    {
      "cell_type": "code",
      "execution_count": null,
      "id": "8ed5821e",
      "metadata": {
        "id": "8ed5821e",
        "outputId": "ce32a80e-d3ac-4fd3-a6a7-bb634eee0f6d"
      },
      "outputs": [
        {
          "name": "stdout",
          "output_type": "stream",
          "text": [
            "Number is  5\n",
            "Number is  6\n",
            "Number found\n",
            "Number is  8\n",
            "Number is  9\n"
          ]
        }
      ],
      "source": [
        "for num in range(5,10):\n",
        "    if num == 7:   #True\n",
        "        print(\"Number found\")\n",
        "        continue\n",
        "\n",
        "    print(\"Number is \",num)"
      ]
    },
    {
      "cell_type": "code",
      "execution_count": null,
      "id": "d502c75d",
      "metadata": {
        "id": "d502c75d",
        "outputId": "df8ea445-120f-47c7-b2d6-5a4872cdcad3"
      },
      "outputs": [
        {
          "name": "stdout",
          "output_type": "stream",
          "text": [
            "Number found\n",
            "Number is  19\n"
          ]
        }
      ],
      "source": []
    },
    {
      "cell_type": "code",
      "execution_count": null,
      "id": "fb80fdbd",
      "metadata": {
        "id": "fb80fdbd",
        "outputId": "820c2d5a-8dd6-4c93-c0bf-77fbc62d98e3"
      },
      "outputs": [
        {
          "name": "stdout",
          "output_type": "stream",
          "text": [
            "100\n",
            "100\n",
            "100\n",
            "100\n",
            "100\n",
            "100\n",
            "100\n"
          ]
        }
      ],
      "source": [
        "for num in range(5,12):\n",
        "    x = 100\n",
        "    print(x)\n",
        "    pass"
      ]
    },
    {
      "cell_type": "code",
      "execution_count": null,
      "id": "8b1ca4f7",
      "metadata": {
        "id": "8b1ca4f7",
        "outputId": "3ae3e733-e1f3-45ce-f6c9-a0f30b4346d0"
      },
      "outputs": [
        {
          "name": "stdout",
          "output_type": "stream",
          "text": [
            "Item is :  1\n",
            "Item is :  2\n",
            "Item is :  3\n",
            "Item is :  data\n",
            "Item is :  5\n",
            "Item is :  6.5\n",
            "Item is :  Science\n",
            "Item is :  7.8\n",
            "Item is :  Python\n",
            "Item is :  4.5\n",
            "Item is :  7\n",
            "Item is :  8\n",
            "Item is :  9\n",
            "Integer list is :  [1, 2, 3, 5, 7, 8, 9]\n",
            "Float list is :  [6.5, 7.8, 4.5]\n",
            "String list is :  ['data', 'Science', 'Python']\n"
          ]
        }
      ],
      "source": [
        "list1 = [1,2,3,'data',5,6.5, 'Science',7.8,'Python', 4.5,7,8,9]\n",
        "int_list = []\n",
        "float_list = []\n",
        "str_list = []\n",
        "\n",
        "for i in list1:\n",
        "    print(\"Item is : \", i)\n",
        "\n",
        "    if type(i) == int:\n",
        "        int_list.append(i)\n",
        "\n",
        "    elif type(i) == float:\n",
        "        float_list.append(i)\n",
        "\n",
        "    else:\n",
        "        str_list.append(i)\n",
        "\n",
        "print('Integer list is : ', int_list)\n",
        "print('Float list is : ', float_list)\n",
        "print('String list is : ', str_list)"
      ]
    },
    {
      "cell_type": "code",
      "execution_count": null,
      "id": "3e3e6cdd",
      "metadata": {
        "id": "3e3e6cdd",
        "outputId": "6fc6f6e1-93e6-4e33-b07a-38a57d356b9e"
      },
      "outputs": [
        {
          "name": "stdout",
          "output_type": "stream",
          "text": [
            "Item is :  1\n",
            "Item is :  2\n",
            "Item is :  3\n",
            "Item is :  data\n",
            "Item is :  5\n",
            "Item is :  6.5\n",
            "Item is :  Science\n",
            "Item is :  7.8\n",
            "Item is :  Python\n",
            "Item is :  4.5\n",
            "Item is :  7\n",
            "Item is :  8\n",
            "Item is :  9\n",
            "Integer list is :  [1, 2, 3, 5, 7, 8, 9]\n",
            "Float list is :  [6.5, 7.8, 4.5]\n",
            "String list is :  ['data', 'Science', 'Python']\n"
          ]
        }
      ],
      "source": [
        "list1 = [1,2,3,'data',5,6.5, 'Science',7.8,'Python', 4.5,7,8,9]\n",
        "int_list = []\n",
        "float_list = []\n",
        "str_list = []\n",
        "\n",
        "for i in list1:\n",
        "    print(\"Item is : \", i)\n",
        "\n",
        "    if type(i) == int:\n",
        "        int_list.append(i)\n",
        "        pass\n",
        "    elif type(i) == float:\n",
        "        float_list.append(i)\n",
        "        continue\n",
        "    else:\n",
        "        str_list.append(i)\n",
        "\n",
        "print('Integer list is : ', int_list)\n",
        "print('Float list is : ', float_list)\n",
        "print('String list is : ', str_list)"
      ]
    },
    {
      "cell_type": "code",
      "execution_count": null,
      "id": "a7b45fd4",
      "metadata": {
        "id": "a7b45fd4",
        "outputId": "4003bdf9-57cd-4ea3-c3f9-36ee8e3287eb"
      },
      "outputs": [
        {
          "name": "stdout",
          "output_type": "stream",
          "text": [
            "Item is :  1\n",
            "Item is :  2\n",
            "Item is :  3\n",
            "Item is :  data\n",
            "Item is :  5\n",
            "Item is :  6.5\n",
            "Integer list is :  [1, 2, 3, 5]\n",
            "Float list is :  [6.5]\n",
            "String list is :  ['data']\n"
          ]
        }
      ],
      "source": [
        "list1 = [1,2,3,'data',5,6.5, 'Science',7.8,'Python', 4.5,7,8,9]\n",
        "int_list = []\n",
        "float_list = []\n",
        "str_list = []\n",
        "\n",
        "for i in list1:\n",
        "    print(\"Item is : \", i)\n",
        "\n",
        "    if type(i) == int:\n",
        "        int_list.append(i)\n",
        "        pass\n",
        "    elif type(i) == float:\n",
        "        float_list.append(i)\n",
        "        break\n",
        "    else:\n",
        "        str_list.append(i)\n",
        "\n",
        "print('Integer list is : ', int_list)\n",
        "print('Float list is : ', float_list)\n",
        "print('String list is : ', str_list)"
      ]
    },
    {
      "cell_type": "markdown",
      "id": "28e37a04",
      "metadata": {
        "id": "28e37a04"
      },
      "source": [
        "#### for- else"
      ]
    },
    {
      "cell_type": "raw",
      "id": "0d292a89",
      "metadata": {
        "id": "0d292a89"
      },
      "source": [
        "It will execute only when loop is finished with all iterations\n",
        "Else block will not execute if loop is stopped by break statement"
      ]
    },
    {
      "cell_type": "code",
      "execution_count": null,
      "id": "461ed100",
      "metadata": {
        "id": "461ed100",
        "outputId": "6f077b14-237e-4437-8124-93925547eaa7"
      },
      "outputs": [
        {
          "name": "stdout",
          "output_type": "stream",
          "text": [
            "0\n",
            "1\n",
            "2\n",
            "3\n",
            "4\n",
            "For loop completed for its all iterations\n"
          ]
        }
      ],
      "source": [
        "for i in range(5):\n",
        "    print(i)\n",
        "\n",
        "else:\n",
        "    print('For loop completed for its all iterations')"
      ]
    },
    {
      "cell_type": "code",
      "execution_count": null,
      "id": "6816a843",
      "metadata": {
        "id": "6816a843",
        "outputId": "a8b3e2a1-6265-48f2-ab77-c92760122f25"
      },
      "outputs": [
        {
          "name": "stdout",
          "output_type": "stream",
          "text": [
            "Iteration 0\n",
            "Iteration 1\n",
            "Iteration 2\n",
            "Iteration 3\n",
            "Hello\n"
          ]
        }
      ],
      "source": [
        "for i in range(5):\n",
        "    print(\"Iteration\", i)\n",
        "    if i == 3:\n",
        "        print('Hello')\n",
        "        break\n",
        "\n",
        "\n",
        "else:\n",
        "    print('For loop completed for its all iterations')"
      ]
    },
    {
      "cell_type": "code",
      "execution_count": null,
      "id": "b9e097c1",
      "metadata": {
        "id": "b9e097c1",
        "outputId": "8a573cdc-707f-48c7-f984-c32a07845a9c"
      },
      "outputs": [
        {
          "name": "stdout",
          "output_type": "stream",
          "text": [
            "Iteration 0\n",
            "Iteration 1\n",
            "Iteration 2\n",
            "Iteration 3\n",
            "Hello\n",
            "Iteration 4\n",
            "For loop completed for its all iterations\n"
          ]
        }
      ],
      "source": [
        "for i in range(5):\n",
        "    print(\"Iteration\", i)\n",
        "    if i == 3:\n",
        "        print('Hello')\n",
        "        continue\n",
        "\n",
        "\n",
        "else:\n",
        "    print('For loop completed for its all iterations')"
      ]
    },
    {
      "cell_type": "code",
      "execution_count": null,
      "id": "13422ca9",
      "metadata": {
        "id": "13422ca9",
        "outputId": "5873e0ad-aeca-4141-9dbb-32a973922fc9"
      },
      "outputs": [
        {
          "name": "stdout",
          "output_type": "stream",
          "text": [
            "Iteration 0\n",
            "Iteration 1\n",
            "Iteration 2\n",
            "Iteration 3\n",
            "Hello\n",
            "Iteration 4\n",
            "For loop completed for its all iterations\n"
          ]
        }
      ],
      "source": [
        "for i in range(5):\n",
        "    print(\"Iteration\", i)\n",
        "    if i == 3:\n",
        "        print('Hello')\n",
        "        pass\n",
        "\n",
        "\n",
        "else:\n",
        "    print('For loop completed for its all iterations')"
      ]
    },
    {
      "cell_type": "code",
      "execution_count": null,
      "id": "dd24f95a",
      "metadata": {
        "id": "dd24f95a",
        "outputId": "3ae6baed-8eed-4380-ef38-1dc9cc2c4659"
      },
      "outputs": [
        {
          "data": {
            "text/plain": [
              "[10, 11, 12, 13, 14, 15, 16, 17, 18, 19, 20]"
            ]
          },
          "execution_count": 90,
          "metadata": {},
          "output_type": "execute_result"
        }
      ],
      "source": [
        "list(range(10,21))"
      ]
    },
    {
      "cell_type": "code",
      "execution_count": null,
      "id": "69ea1e1e",
      "metadata": {
        "id": "69ea1e1e",
        "outputId": "390f7649-6c03-4861-d936-56aad426539b"
      },
      "outputs": [
        {
          "data": {
            "text/plain": [
              "[10, 12, 14, 16, 18, 20]"
            ]
          },
          "execution_count": 91,
          "metadata": {},
          "output_type": "execute_result"
        }
      ],
      "source": [
        "list(range(10,21,2))"
      ]
    },
    {
      "cell_type": "code",
      "execution_count": null,
      "id": "f74ea9e5",
      "metadata": {
        "id": "f74ea9e5",
        "outputId": "87333ad3-c78f-4139-d5b3-bbdd3baee8cc"
      },
      "outputs": [
        {
          "name": "stdout",
          "output_type": "stream",
          "text": [
            "10\n",
            "12\n",
            "14\n",
            "16\n",
            "18\n",
            "20\n"
          ]
        }
      ],
      "source": [
        "for i in range(10,21,2):\n",
        "    print(i)"
      ]
    },
    {
      "cell_type": "code",
      "execution_count": null,
      "id": "07ce0dad",
      "metadata": {
        "id": "07ce0dad",
        "outputId": "5d27c76f-7c9d-488e-9f32-09254c66026c"
      },
      "outputs": [
        {
          "name": "stdout",
          "output_type": "stream",
          "text": [
            "Enter number of elements in list5\n",
            "Enter the value of element-1\n",
            "Enter the value of element56\n",
            "Enter the value of element-90\n",
            "Enter the value of element45\n",
            "Enter the value of element34\n",
            "List after sorting [-90, -1, 34, 45, 56]\n"
          ]
        }
      ],
      "source": [
        "num_list = []\n",
        "number = int(input(\"Enter number of elements in list\"))\n",
        "for i in range(1, number+1):\n",
        "    value = int(input('Enter the value of element'))\n",
        "    num_list.append(value)\n",
        "num_list.sort()\n",
        "print(\"List after sorting\", num_list)"
      ]
    },
    {
      "cell_type": "code",
      "execution_count": null,
      "id": "531fa30e",
      "metadata": {
        "id": "531fa30e",
        "outputId": "104db911-6b9f-47bd-9587-746ef9fb3aa2"
      },
      "outputs": [
        {
          "name": "stdout",
          "output_type": "stream",
          "text": [
            "Enter number of elements in list5\n",
            "Enter the value of element34\n",
            "Enter the value of element45\n",
            "Enter the value of element-1\n",
            "Enter the value of element56\n",
            "Enter the value of element-90\n",
            "List after sorting [56, 45, 34, -1, -90]\n"
          ]
        }
      ],
      "source": [
        "num_list = []\n",
        "number = int(input(\"Enter number of elements in list\"))\n",
        "for i in range(1, number+1):\n",
        "    value = int(input('Enter the value of element'))\n",
        "    num_list.append(value)\n",
        "num_list.sort(reverse=True)\n",
        "print(\"List after sorting\", num_list)"
      ]
    },
    {
      "cell_type": "code",
      "execution_count": null,
      "id": "ffe109d3",
      "metadata": {
        "id": "ffe109d3"
      },
      "outputs": [],
      "source": []
    }
  ],
  "metadata": {
    "kernelspec": {
      "display_name": "Python 3 (ipykernel)",
      "language": "python",
      "name": "python3"
    },
    "language_info": {
      "codemirror_mode": {
        "name": "ipython",
        "version": 3
      },
      "file_extension": ".py",
      "mimetype": "text/x-python",
      "name": "python",
      "nbconvert_exporter": "python",
      "pygments_lexer": "ipython3",
      "version": "3.8.17"
    },
    "colab": {
      "provenance": [],
      "include_colab_link": true
    }
  },
  "nbformat": 4,
  "nbformat_minor": 5
}