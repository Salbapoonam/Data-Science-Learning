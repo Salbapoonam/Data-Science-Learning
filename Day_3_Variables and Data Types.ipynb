{
 "cells": [
  {
   "cell_type": "code",
   "execution_count": 4,
   "id": "0638bf92",
   "metadata": {},
   "outputs": [
    {
     "name": "stdout",
     "output_type": "stream",
     "text": [
      "100 <class 'int'>\n",
      "Python <class 'str'>\n",
      "Python\n"
     ]
    }
   ],
   "source": [
    "a=100\n",
    "print(a,type(a))\n",
    "a='Python'\n",
    "print(a,type(a))\n",
    "b=a\n",
    "print(a)"
   ]
  },
  {
   "cell_type": "markdown",
   "id": "eba1cd9b",
   "metadata": {},
   "source": [
    "# Assing single value to multiple variables"
   ]
  },
  {
   "cell_type": "code",
   "execution_count": 7,
   "id": "6cbc87b7",
   "metadata": {},
   "outputs": [
    {
     "name": "stdout",
     "output_type": "stream",
     "text": [
      "x==100,y==100,z==100\n"
     ]
    }
   ],
   "source": [
    "x=100\n",
    "y=100\n",
    "z=100\n",
    "print(f'x=={x},y=={y},z=={z}' )"
   ]
  },
  {
   "cell_type": "code",
   "execution_count": 9,
   "id": "fcdf828b",
   "metadata": {},
   "outputs": [
    {
     "name": "stdout",
     "output_type": "stream",
     "text": [
      "x== Python,y== Python,z== Python\n"
     ]
    }
   ],
   "source": [
    "x=y=z='Python'\n",
    "print(f'x== {x},y== {y},z== {z}' )"
   ]
  },
  {
   "cell_type": "markdown",
   "id": "f83fa18e",
   "metadata": {},
   "source": [
    "# Multiple values to multiple variables"
   ]
  },
  {
   "cell_type": "code",
   "execution_count": 10,
   "id": "aa03d694",
   "metadata": {},
   "outputs": [
    {
     "name": "stdout",
     "output_type": "stream",
     "text": [
      "x==100,y==200,z==class\n"
     ]
    }
   ],
   "source": [
    "x=100\n",
    "y=200\n",
    "z='class'\n",
    "print(f'x=={x},y=={y},z=={z}' )"
   ]
  },
  {
   "cell_type": "code",
   "execution_count": 12,
   "id": "00c85011",
   "metadata": {},
   "outputs": [
    {
     "name": "stdout",
     "output_type": "stream",
     "text": [
      "x==41.5,y==Data,z==[1, 3, 5, 8, 9]\n"
     ]
    }
   ],
   "source": [
    "x=41.5; y='Data';z=[1,3,5,8,9]\n",
    "print(f'x=={x},y=={y},z=={z}' )"
   ]
  },
  {
   "cell_type": "code",
   "execution_count": 13,
   "id": "fe900586",
   "metadata": {},
   "outputs": [
    {
     "name": "stdout",
     "output_type": "stream",
     "text": [
      " x == 10, y == 20, z == Science\n"
     ]
    }
   ],
   "source": [
    "x,y,z = 10,20, 'Science'\n",
    "print(f' x == {x}, y == {y}, z == {z}')"
   ]
  },
  {
   "cell_type": "code",
   "execution_count": 14,
   "id": "61c38673",
   "metadata": {},
   "outputs": [],
   "source": [
    "### Delete Variables"
   ]
  },
  {
   "cell_type": "code",
   "execution_count": 15,
   "id": "9192481c",
   "metadata": {},
   "outputs": [
    {
     "name": "stdout",
     "output_type": "stream",
     "text": [
      " a == 10, b == 20\n"
     ]
    },
    {
     "ename": "NameError",
     "evalue": "name 'a' is not defined",
     "output_type": "error",
     "traceback": [
      "\u001b[1;31m---------------------------------------------------------------------------\u001b[0m",
      "\u001b[1;31mNameError\u001b[0m                                 Traceback (most recent call last)",
      "\u001b[1;32m~\\AppData\\Local\\Temp/ipykernel_2632/208255015.py\u001b[0m in \u001b[0;36m<module>\u001b[1;34m\u001b[0m\n\u001b[0;32m      5\u001b[0m \u001b[1;32mdel\u001b[0m \u001b[0ma\u001b[0m    \u001b[1;31m# Deleting a variable\u001b[0m\u001b[1;33m\u001b[0m\u001b[1;33m\u001b[0m\u001b[0m\n\u001b[0;32m      6\u001b[0m \u001b[1;33m\u001b[0m\u001b[0m\n\u001b[1;32m----> 7\u001b[1;33m \u001b[0mprint\u001b[0m\u001b[1;33m(\u001b[0m\u001b[0ma\u001b[0m\u001b[1;33m)\u001b[0m\u001b[1;33m\u001b[0m\u001b[1;33m\u001b[0m\u001b[0m\n\u001b[0m",
      "\u001b[1;31mNameError\u001b[0m: name 'a' is not defined"
     ]
    }
   ],
   "source": [
    "a = 10\n",
    "b = 20\n",
    "print(f' a == {a}, b == {b}')\n",
    "\n",
    "del a    # Deleting a variable\n",
    "\n",
    "print(a)"
   ]
  },
  {
   "cell_type": "markdown",
   "id": "0b56b049",
   "metadata": {},
   "source": [
    "# Data Type"
   ]
  },
  {
   "cell_type": "markdown",
   "id": "bd060b9e",
   "metadata": {},
   "source": [
    "Numerical   : int, float, complex\n",
    "\n",
    "Text        : str\n",
    "    \n",
    "Sequence    : list, tuple, range\n",
    "    \n",
    "Mapping     : dict\n",
    "    \n",
    "set_types   : set, frozenset\n",
    "    \n",
    "Boolean types: True, False\n",
    "    \n",
    "Binary      : bytes, bytearray"
   ]
  },
  {
   "cell_type": "markdown",
   "id": "a7039b51",
   "metadata": {},
   "source": [
    "Int Data Type"
   ]
  },
  {
   "cell_type": "code",
   "execution_count": 17,
   "id": "7d05db14",
   "metadata": {},
   "outputs": [
    {
     "name": "stdout",
     "output_type": "stream",
     "text": [
      "52 <class 'int'>\n"
     ]
    }
   ],
   "source": [
    "a=52\n",
    "print(a,type(a))"
   ]
  },
  {
   "cell_type": "markdown",
   "id": "93ead718",
   "metadata": {},
   "source": [
    "Float Data Type"
   ]
  },
  {
   "cell_type": "code",
   "execution_count": 19,
   "id": "4e2e5191",
   "metadata": {},
   "outputs": [
    {
     "name": "stdout",
     "output_type": "stream",
     "text": [
      " Value of a is 85.36 and Data Type of a is : <class 'float'>\n"
     ]
    }
   ],
   "source": [
    "a=85.36\n",
    "print(f' Value of a is {a} and Data Type of a is : {type(a)}' )"
   ]
  },
  {
   "cell_type": "code",
   "execution_count": 20,
   "id": "b0db59ca",
   "metadata": {},
   "outputs": [
    {
     "name": "stdout",
     "output_type": "stream",
     "text": [
      " Value of a is -52.52 and its data type: <class 'float'>\n"
     ]
    }
   ],
   "source": [
    "a=-52.52\n",
    "print(f' Value of a is {a} and its data type: {type(a)}')"
   ]
  },
  {
   "cell_type": "code",
   "execution_count": 21,
   "id": "63864242",
   "metadata": {},
   "outputs": [
    {
     "name": "stdout",
     "output_type": "stream",
     "text": [
      " Value of a is -78 and its data type: <class 'int'>\n"
     ]
    }
   ],
   "source": [
    "a=-78\n",
    "print(f' Value of a is {a} and its data type: {type(a)}')"
   ]
  },
  {
   "cell_type": "code",
   "execution_count": 22,
   "id": "9b1f63af",
   "metadata": {},
   "outputs": [
    {
     "name": "stdout",
     "output_type": "stream",
     "text": [
      " Value of a is 0 and its data type: <class 'int'>\n"
     ]
    }
   ],
   "source": [
    "a=0\n",
    "print(f' Value of a is {a} and its data type: {type(a)}')"
   ]
  },
  {
   "cell_type": "code",
   "execution_count": 23,
   "id": "a66c3f0d",
   "metadata": {},
   "outputs": [
    {
     "name": "stdout",
     "output_type": "stream",
     "text": [
      " Value of a is 0.0 and its data type: <class 'float'>\n"
     ]
    }
   ],
   "source": [
    "a=0.00\n",
    "print(f' Value of a is {a} and its data type: {type(a)}')"
   ]
  },
  {
   "cell_type": "code",
   "execution_count": 24,
   "id": "fd6b8cd8",
   "metadata": {},
   "outputs": [
    {
     "name": "stdout",
     "output_type": "stream",
     "text": [
      " Value of a is A and its data type: <class 'str'>\n"
     ]
    }
   ],
   "source": [
    "a='A'\n",
    "print(f' Value of a is {a} and its data type: {type(a)}')"
   ]
  },
  {
   "cell_type": "code",
   "execution_count": 25,
   "id": "a47cacde",
   "metadata": {},
   "outputs": [
    {
     "data": {
      "text/plain": [
       "12.35"
      ]
     },
     "execution_count": 25,
     "metadata": {},
     "output_type": "execute_result"
    }
   ],
   "source": [
    "a = 12.3456765\n",
    "round(a,2)"
   ]
  },
  {
   "cell_type": "code",
   "execution_count": 26,
   "id": "f50dc934",
   "metadata": {},
   "outputs": [
    {
     "data": {
      "text/plain": [
       "12.34"
      ]
     },
     "execution_count": 26,
     "metadata": {},
     "output_type": "execute_result"
    }
   ],
   "source": [
    "a = 12.3436765\n",
    "round(a,2)"
   ]
  },
  {
   "cell_type": "markdown",
   "id": "6596183b",
   "metadata": {},
   "source": [
    "Complex Data Type"
   ]
  },
  {
   "cell_type": "code",
   "execution_count": 27,
   "id": "73a1f4f2",
   "metadata": {},
   "outputs": [
    {
     "name": "stdout",
     "output_type": "stream",
     "text": [
      " Value of a is (12.3+12j) and Data type of a is : <class 'complex'>\n"
     ]
    }
   ],
   "source": [
    "a=12.3+12j\n",
    "print(f' Value of a is {a } and Data type of a is : {type(a)}' )"
   ]
  },
  {
   "cell_type": "code",
   "execution_count": 28,
   "id": "241f5634",
   "metadata": {},
   "outputs": [
    {
     "data": {
      "text/plain": [
       "complex"
      ]
     },
     "execution_count": 28,
     "metadata": {},
     "output_type": "execute_result"
    }
   ],
   "source": [
    "b = 3 + 0j     # Real + imaginary\n",
    "type(b)"
   ]
  },
  {
   "cell_type": "markdown",
   "id": "e0d65650",
   "metadata": {},
   "source": [
    "Python Casting"
   ]
  },
  {
   "cell_type": "raw",
   "id": "c547bc0a",
   "metadata": {},
   "source": [
    " int to float"
   ]
  },
  {
   "cell_type": "code",
   "execution_count": 30,
   "id": "b3d0ecfa",
   "metadata": {},
   "outputs": [
    {
     "name": "stdout",
     "output_type": "stream",
     "text": [
      " Value of a is 25 and Data type of a is : <class 'int'>\n",
      " Value of b is 25.0 and Data type of a is : <class 'float'>\n"
     ]
    }
   ],
   "source": [
    "a=25\n",
    "print(f' Value of a is {a } and Data type of a is : {type(a)}' )\n",
    "\n",
    "b=float(a)\n",
    "print(f' Value of b is {b } and Data type of a is : {type(b)}' )"
   ]
  },
  {
   "cell_type": "code",
   "execution_count": 31,
   "id": "c780fd4c",
   "metadata": {},
   "outputs": [
    {
     "name": "stdout",
     "output_type": "stream",
     "text": [
      "Value of a is -225 and Data Type of a is : <class 'int'>\n",
      "Value of a is -225.0 and Data Type of a is : <class 'float'>\n"
     ]
    }
   ],
   "source": [
    "a = -225\n",
    "print(f'Value of a is {a} and Data Type of a is : {type(a)}')\n",
    "\n",
    "a = float(a)\n",
    "print(f'Value of a is {a} and Data Type of a is : {type(a)}')"
   ]
  },
  {
   "cell_type": "markdown",
   "id": "22c72bcf",
   "metadata": {},
   "source": [
    "float to int"
   ]
  },
  {
   "cell_type": "code",
   "execution_count": 32,
   "id": "47236736",
   "metadata": {},
   "outputs": [
    {
     "name": "stdout",
     "output_type": "stream",
     "text": [
      "Value of a is 25.63 and Data Type of a is : <class 'float'>\n",
      "Value of a is 25 and Data Type of a is : <class 'int'>\n"
     ]
    }
   ],
   "source": [
    "a = 25.63\n",
    "print(f'Value of a is {a} and Data Type of a is : {type(a)}')\n",
    "\n",
    "a = int(a)\n",
    "print(f'Value of a is {a} and Data Type of a is : {type(a)}')"
   ]
  },
  {
   "cell_type": "code",
   "execution_count": 33,
   "id": "afffdfa6",
   "metadata": {},
   "outputs": [
    {
     "name": "stdout",
     "output_type": "stream",
     "text": [
      "Value of a is 12.99999999 and Data Type of a is : <class 'float'>\n",
      "Value of a is 12 and Data Type of a is : <class 'int'>\n"
     ]
    }
   ],
   "source": [
    "a = 12.99999999\n",
    "print(f'Value of a is {a} and Data Type of a is : {type(a)}')\n",
    "\n",
    "a = int(a)\n",
    "print(f'Value of a is {a} and Data Type of a is : {type(a)}')"
   ]
  },
  {
   "cell_type": "code",
   "execution_count": 34,
   "id": "eae1d6c5",
   "metadata": {},
   "outputs": [
    {
     "data": {
      "text/plain": [
       "26"
      ]
     },
     "execution_count": 34,
     "metadata": {},
     "output_type": "execute_result"
    }
   ],
   "source": [
    "a = 25.63\n",
    "round(a)"
   ]
  },
  {
   "cell_type": "markdown",
   "id": "9e2644f1",
   "metadata": {},
   "source": [
    "Int to  Complex"
   ]
  },
  {
   "cell_type": "code",
   "execution_count": 36,
   "id": "471e16dd",
   "metadata": {},
   "outputs": [
    {
     "name": "stdout",
     "output_type": "stream",
     "text": [
      "Value of a is 15 and Data Type of a is : <class 'int'>\n",
      "Value of a is (15+0j) and Data Type of a is : <class 'complex'>\n"
     ]
    }
   ],
   "source": [
    "a = 15\n",
    "print(f'Value of a is {a} and Data Type of a is : {type(a)}')\n",
    "\n",
    "a = complex(a)\n",
    "print(f'Value of a is {a} and Data Type of a is : {type(a)}')"
   ]
  },
  {
   "cell_type": "code",
   "execution_count": 37,
   "id": "e17fa5b8",
   "metadata": {},
   "outputs": [
    {
     "name": "stdout",
     "output_type": "stream",
     "text": [
      "Value of a is -25 and Data Type of a is : <class 'int'>\n",
      "Value of a is (-25+0j) and Data Type of a is : <class 'complex'>\n"
     ]
    }
   ],
   "source": [
    "a = -25\n",
    "print(f'Value of a is {a} and Data Type of a is : {type(a)}')\n",
    "\n",
    "a = complex(a)\n",
    "print(f'Value of a is {a} and Data Type of a is : {type(a)}')"
   ]
  },
  {
   "cell_type": "code",
   "execution_count": 38,
   "id": "d22b2115",
   "metadata": {},
   "outputs": [
    {
     "name": "stdout",
     "output_type": "stream",
     "text": [
      "Value of a is (-25+4j) and Data Type of a is : <class 'complex'>\n",
      "Value of a is (-25+4j) and Data Type of a is : <class 'complex'>\n"
     ]
    }
   ],
   "source": [
    "a = -25+4j\n",
    "print(f'Value of a is {a} and Data Type of a is : {type(a)}')\n",
    "\n",
    "a = complex(a)\n",
    "print(f'Value of a is {a} and Data Type of a is : {type(a)}')"
   ]
  },
  {
   "cell_type": "markdown",
   "id": "9173cd55",
   "metadata": {},
   "source": [
    "float to complex"
   ]
  },
  {
   "cell_type": "code",
   "execution_count": 39,
   "id": "bff00ee0",
   "metadata": {},
   "outputs": [
    {
     "name": "stdout",
     "output_type": "stream",
     "text": [
      "Value of a is 25.63 and Data Type of a is : <class 'float'>\n",
      "Value of a is (25.63+0j) and Data Type of a is : <class 'complex'>\n"
     ]
    }
   ],
   "source": [
    "a = 25.63\n",
    "print(f'Value of a is {a} and Data Type of a is : {type(a)}')\n",
    "\n",
    "a = complex(a)\n",
    "print(f'Value of a is {a} and Data Type of a is : {type(a)}')"
   ]
  },
  {
   "cell_type": "code",
   "execution_count": 40,
   "id": "ec4b2e92",
   "metadata": {},
   "outputs": [
    {
     "name": "stdout",
     "output_type": "stream",
     "text": [
      "Value of a is -25.63 and Data Type of a is : <class 'float'>\n",
      "Value of a is (-25.63+0j) and Data Type of a is : <class 'complex'>\n"
     ]
    }
   ],
   "source": [
    "a = -25.63\n",
    "print(f'Value of a is {a} and Data Type of a is : {type(a)}')\n",
    "\n",
    "a = complex(a)\n",
    "print(f'Value of a is {a} and Data Type of a is : {type(a)}')"
   ]
  },
  {
   "cell_type": "markdown",
   "id": "19767c5b",
   "metadata": {},
   "source": [
    " complex to int"
   ]
  },
  {
   "cell_type": "code",
   "execution_count": 41,
   "id": "d2920461",
   "metadata": {},
   "outputs": [
    {
     "name": "stdout",
     "output_type": "stream",
     "text": [
      "Value of a is (10+7j) and Data Type of a is : <class 'complex'>\n"
     ]
    },
    {
     "ename": "TypeError",
     "evalue": "can't convert complex to int",
     "output_type": "error",
     "traceback": [
      "\u001b[1;31m---------------------------------------------------------------------------\u001b[0m",
      "\u001b[1;31mTypeError\u001b[0m                                 Traceback (most recent call last)",
      "\u001b[1;32m~\\AppData\\Local\\Temp/ipykernel_2632/4210227875.py\u001b[0m in \u001b[0;36m<module>\u001b[1;34m\u001b[0m\n\u001b[0;32m      2\u001b[0m \u001b[0mprint\u001b[0m\u001b[1;33m(\u001b[0m\u001b[1;34mf'Value of a is {a} and Data Type of a is : {type(a)}'\u001b[0m\u001b[1;33m)\u001b[0m\u001b[1;33m\u001b[0m\u001b[1;33m\u001b[0m\u001b[0m\n\u001b[0;32m      3\u001b[0m \u001b[1;33m\u001b[0m\u001b[0m\n\u001b[1;32m----> 4\u001b[1;33m \u001b[0ma\u001b[0m \u001b[1;33m=\u001b[0m \u001b[0mint\u001b[0m\u001b[1;33m(\u001b[0m\u001b[0ma\u001b[0m\u001b[1;33m)\u001b[0m\u001b[1;33m\u001b[0m\u001b[1;33m\u001b[0m\u001b[0m\n\u001b[0m\u001b[0;32m      5\u001b[0m \u001b[0mprint\u001b[0m\u001b[1;33m(\u001b[0m\u001b[1;34mf'Value of a is {a} and Data Type of a is : {type(a)}'\u001b[0m\u001b[1;33m)\u001b[0m\u001b[1;33m\u001b[0m\u001b[1;33m\u001b[0m\u001b[0m\n",
      "\u001b[1;31mTypeError\u001b[0m: can't convert complex to int"
     ]
    }
   ],
   "source": [
    "a = 10 + 7j\n",
    "print(f'Value of a is {a} and Data Type of a is : {type(a)}')\n",
    "\n",
    "a = int(a)\n",
    "print(f'Value of a is {a} and Data Type of a is : {type(a)}')"
   ]
  },
  {
   "cell_type": "markdown",
   "id": "b07ef1b1",
   "metadata": {},
   "source": [
    "4. string\n"
   ]
  },
  {
   "cell_type": "code",
   "execution_count": 42,
   "id": "875398f1",
   "metadata": {},
   "outputs": [
    {
     "name": "stdout",
     "output_type": "stream",
     "text": [
      "Python class\n"
     ]
    }
   ],
   "source": [
    "a = 'Python class'\n",
    "print(a)"
   ]
  },
  {
   "cell_type": "code",
   "execution_count": 43,
   "id": "ad030e97",
   "metadata": {},
   "outputs": [
    {
     "name": "stdout",
     "output_type": "stream",
     "text": [
      "Python class\n"
     ]
    }
   ],
   "source": [
    "a = \"\"\"Python class\"\"\"\n",
    "print(a)"
   ]
  },
  {
   "cell_type": "code",
   "execution_count": 44,
   "id": "8a95486d",
   "metadata": {},
   "outputs": [
    {
     "name": "stdout",
     "output_type": "stream",
     "text": [
      "Python \n",
      "class\n"
     ]
    }
   ],
   "source": [
    "a = '''Python \n",
    "class'''\n",
    "print(a)"
   ]
  },
  {
   "cell_type": "code",
   "execution_count": 45,
   "id": "2cdbc917",
   "metadata": {},
   "outputs": [
    {
     "name": "stdout",
     "output_type": "stream",
     "text": [
      "Python\"s class\n"
     ]
    }
   ],
   "source": [
    "a = \"\"\"Python\"s class\"\"\"\n",
    "print(a)"
   ]
  },
  {
   "cell_type": "code",
   "execution_count": 46,
   "id": "813df471",
   "metadata": {},
   "outputs": [
    {
     "name": "stdout",
     "output_type": "stream",
     "text": [
      "Value of a is Python Class and its data type is <class 'str'>\n",
      "Value of a is Python Class and its data type is <class 'str'>\n",
      "Value of a is Python Class and its data type is <class 'str'>\n"
     ]
    }
   ],
   "source": [
    "a = 'Python Class'\n",
    "b = \"Python Class\"\n",
    "c = \"\"\"Python Class\"\"\"\n",
    "\n",
    "print(f'Value of a is {a} and its data type is {type(a)}')\n",
    "print(f'Value of a is {b} and its data type is {type(b)}')\n",
    "print(f'Value of a is {c} and its data type is {type(c)}')"
   ]
  },
  {
   "cell_type": "code",
   "execution_count": 47,
   "id": "8cbb015e",
   "metadata": {},
   "outputs": [
    {
     "name": "stdout",
     "output_type": "stream",
     "text": [
      "Value of a is 100 and Data Type of a is : <class 'int'>\n",
      "Value of a is 100 and Data Type of a is : <class 'str'>\n"
     ]
    },
    {
     "data": {
      "text/plain": [
       "'100'"
      ]
     },
     "execution_count": 47,
     "metadata": {},
     "output_type": "execute_result"
    }
   ],
   "source": [
    "a = 100\n",
    "print(f'Value of a is {a} and Data Type of a is : {type(a)}')\n",
    "\n",
    "a = str(a)\n",
    "print(f'Value of a is {a} and Data Type of a is : {type(a)}')\n",
    "a"
   ]
  },
  {
   "cell_type": "code",
   "execution_count": 48,
   "id": "173ab20a",
   "metadata": {},
   "outputs": [
    {
     "name": "stdout",
     "output_type": "stream",
     "text": [
      "Value of a is -150 and Data Type of a is : <class 'int'>\n",
      "Value of a is -150 and Data Type of a is : <class 'str'>\n"
     ]
    },
    {
     "data": {
      "text/plain": [
       "'-150'"
      ]
     },
     "execution_count": 48,
     "metadata": {},
     "output_type": "execute_result"
    }
   ],
   "source": [
    "a = -150\n",
    "print(f'Value of a is {a} and Data Type of a is : {type(a)}')\n",
    "\n",
    "a = str(a)\n",
    "print(f'Value of a is {a} and Data Type of a is : {type(a)}')\n",
    "a"
   ]
  },
  {
   "cell_type": "code",
   "execution_count": 49,
   "id": "ebbea734",
   "metadata": {},
   "outputs": [
    {
     "name": "stdout",
     "output_type": "stream",
     "text": [
      "Value of a is 10.34 and Data Type of a is : <class 'float'>\n",
      "Value of a is 10.34 and Data Type of a is : <class 'str'>\n"
     ]
    },
    {
     "data": {
      "text/plain": [
       "'10.34'"
      ]
     },
     "execution_count": 49,
     "metadata": {},
     "output_type": "execute_result"
    }
   ],
   "source": [
    "a = 10.34\n",
    "print(f'Value of a is {a} and Data Type of a is : {type(a)}')\n",
    "\n",
    "a = str(a)\n",
    "print(f'Value of a is {a} and Data Type of a is : {type(a)}')\n",
    "a"
   ]
  },
  {
   "cell_type": "code",
   "execution_count": 50,
   "id": "63a5b1c2",
   "metadata": {},
   "outputs": [
    {
     "name": "stdout",
     "output_type": "stream",
     "text": [
      "Value of a is -10.34234566 and Data Type of a is : <class 'float'>\n",
      "Value of a is -10.34234566 and Data Type of a is : <class 'str'>\n"
     ]
    },
    {
     "data": {
      "text/plain": [
       "'-10.34234566'"
      ]
     },
     "execution_count": 50,
     "metadata": {},
     "output_type": "execute_result"
    }
   ],
   "source": [
    "a = -10.34234566\n",
    "print(f'Value of a is {a} and Data Type of a is : {type(a)}')\n",
    "\n",
    "a = str(a)\n",
    "print(f'Value of a is {a} and Data Type of a is : {type(a)}')\n",
    "a"
   ]
  },
  {
   "cell_type": "markdown",
   "id": "a5964564",
   "metadata": {},
   "source": [
    "String to int"
   ]
  },
  {
   "cell_type": "code",
   "execution_count": 51,
   "id": "19bacfa9",
   "metadata": {},
   "outputs": [
    {
     "name": "stdout",
     "output_type": "stream",
     "text": [
      "Value of a is 500 and Data Type of a is : <class 'str'>\n",
      "Value of a is 500 and Data Type of a is : <class 'int'>\n"
     ]
    }
   ],
   "source": [
    "a = '500'      # String contain only digits\n",
    "print(f'Value of a is {a} and Data Type of a is : {type(a)}')\n",
    "\n",
    "a = int(a)\n",
    "print(f'Value of a is {a} and Data Type of a is : {type(a)}')"
   ]
  },
  {
   "cell_type": "code",
   "execution_count": 52,
   "id": "c53a38e4",
   "metadata": {},
   "outputs": [
    {
     "name": "stdout",
     "output_type": "stream",
     "text": [
      "Value of a is a and Data Type of a is : <class 'str'>\n"
     ]
    },
    {
     "ename": "ValueError",
     "evalue": "invalid literal for int() with base 10: 'a'",
     "output_type": "error",
     "traceback": [
      "\u001b[1;31m---------------------------------------------------------------------------\u001b[0m",
      "\u001b[1;31mValueError\u001b[0m                                Traceback (most recent call last)",
      "\u001b[1;32m~\\AppData\\Local\\Temp/ipykernel_2632/3805062928.py\u001b[0m in \u001b[0;36m<module>\u001b[1;34m\u001b[0m\n\u001b[0;32m      2\u001b[0m \u001b[0mprint\u001b[0m\u001b[1;33m(\u001b[0m\u001b[1;34mf'Value of a is {a} and Data Type of a is : {type(a)}'\u001b[0m\u001b[1;33m)\u001b[0m\u001b[1;33m\u001b[0m\u001b[1;33m\u001b[0m\u001b[0m\n\u001b[0;32m      3\u001b[0m \u001b[1;33m\u001b[0m\u001b[0m\n\u001b[1;32m----> 4\u001b[1;33m \u001b[0ma\u001b[0m \u001b[1;33m=\u001b[0m \u001b[0mint\u001b[0m\u001b[1;33m(\u001b[0m\u001b[0ma\u001b[0m\u001b[1;33m)\u001b[0m\u001b[1;33m\u001b[0m\u001b[1;33m\u001b[0m\u001b[0m\n\u001b[0m\u001b[0;32m      5\u001b[0m \u001b[0mprint\u001b[0m\u001b[1;33m(\u001b[0m\u001b[1;34mf'Value of a is {a} and Data Type of a is : {type(a)}'\u001b[0m\u001b[1;33m)\u001b[0m\u001b[1;33m\u001b[0m\u001b[1;33m\u001b[0m\u001b[0m\n",
      "\u001b[1;31mValueError\u001b[0m: invalid literal for int() with base 10: 'a'"
     ]
    }
   ],
   "source": [
    "a = 'a'      # Not possible When String contain digits and alphabets\n",
    "print(f'Value of a is {a} and Data Type of a is : {type(a)}')\n",
    "\n",
    "a = int(a)\n",
    "print(f'Value of a is {a} and Data Type of a is : {type(a)}')"
   ]
  },
  {
   "cell_type": "code",
   "execution_count": 53,
   "id": "796afbe6",
   "metadata": {},
   "outputs": [
    {
     "name": "stdout",
     "output_type": "stream",
     "text": [
      "Value of a is 10.50 and Data Type of a is : <class 'str'>\n",
      "Value of a is 10.5 and Data Type of a is : <class 'float'>\n"
     ]
    }
   ],
   "source": [
    "a = '10.50'      # String contain only digits\n",
    "print(f'Value of a is {a} and Data Type of a is : {type(a)}')\n",
    "\n",
    "a = float(a)\n",
    "print(f'Value of a is {a} and Data Type of a is : {type(a)}')"
   ]
  },
  {
   "cell_type": "code",
   "execution_count": 54,
   "id": "52433857",
   "metadata": {},
   "outputs": [
    {
     "name": "stdout",
     "output_type": "stream",
     "text": [
      "Value of a is 10.50v and Data Type of a is : <class 'str'>\n"
     ]
    },
    {
     "ename": "ValueError",
     "evalue": "could not convert string to float: '10.50v'",
     "output_type": "error",
     "traceback": [
      "\u001b[1;31m---------------------------------------------------------------------------\u001b[0m",
      "\u001b[1;31mValueError\u001b[0m                                Traceback (most recent call last)",
      "\u001b[1;32m~\\AppData\\Local\\Temp/ipykernel_2632/3715039167.py\u001b[0m in \u001b[0;36m<module>\u001b[1;34m\u001b[0m\n\u001b[0;32m      2\u001b[0m \u001b[0mprint\u001b[0m\u001b[1;33m(\u001b[0m\u001b[1;34mf'Value of a is {a} and Data Type of a is : {type(a)}'\u001b[0m\u001b[1;33m)\u001b[0m\u001b[1;33m\u001b[0m\u001b[1;33m\u001b[0m\u001b[0m\n\u001b[0;32m      3\u001b[0m \u001b[1;33m\u001b[0m\u001b[0m\n\u001b[1;32m----> 4\u001b[1;33m \u001b[0ma\u001b[0m \u001b[1;33m=\u001b[0m \u001b[0mfloat\u001b[0m\u001b[1;33m(\u001b[0m\u001b[0ma\u001b[0m\u001b[1;33m)\u001b[0m\u001b[1;33m\u001b[0m\u001b[1;33m\u001b[0m\u001b[0m\n\u001b[0m\u001b[0;32m      5\u001b[0m \u001b[0mprint\u001b[0m\u001b[1;33m(\u001b[0m\u001b[1;34mf'Value of a is {a} and Data Type of a is : {type(a)}'\u001b[0m\u001b[1;33m)\u001b[0m\u001b[1;33m\u001b[0m\u001b[1;33m\u001b[0m\u001b[0m\n",
      "\u001b[1;31mValueError\u001b[0m: could not convert string to float: '10.50v'"
     ]
    }
   ],
   "source": [
    "a = '10.50v'      # # Not possible When String contain digits and alphabets\n",
    "print(f'Value of a is {a} and Data Type of a is : {type(a)}')\n",
    "\n",
    "a = float(a)\n",
    "print(f'Value of a is {a} and Data Type of a is : {type(a)}')"
   ]
  },
  {
   "cell_type": "code",
   "execution_count": null,
   "id": "0027316d",
   "metadata": {},
   "outputs": [],
   "source": []
  }
 ],
 "metadata": {
  "kernelspec": {
   "display_name": "Python 3 (ipykernel)",
   "language": "python",
   "name": "python3"
  },
  "language_info": {
   "codemirror_mode": {
    "name": "ipython",
    "version": 3
   },
   "file_extension": ".py",
   "mimetype": "text/x-python",
   "name": "python",
   "nbconvert_exporter": "python",
   "pygments_lexer": "ipython3",
   "version": "3.9.7"
  }
 },
 "nbformat": 4,
 "nbformat_minor": 5
}
