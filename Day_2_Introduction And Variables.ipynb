{
 "cells": [
  {
   "cell_type": "code",
   "execution_count": 1,
   "id": "48bdc936",
   "metadata": {},
   "outputs": [
    {
     "name": "stdout",
     "output_type": "stream",
     "text": [
      "Welcome to the learn DataLearnm Data Science Course\n"
     ]
    }
   ],
   "source": [
    "print(\"Welcome to the learn DataLearnm Data Science Course\")"
   ]
  },
  {
   "cell_type": "markdown",
   "id": "20fcb557",
   "metadata": {},
   "source": [
    "Key Features Of python"
   ]
  },
  {
   "cell_type": "code",
   "execution_count": 2,
   "id": "c82cf5b7",
   "metadata": {},
   "outputs": [
    {
     "data": {
      "text/plain": [
       "int"
      ]
     },
     "execution_count": 2,
     "metadata": {},
     "output_type": "execute_result"
    }
   ],
   "source": [
    "a=1\n",
    "type(a)"
   ]
  },
  {
   "cell_type": "code",
   "execution_count": 3,
   "id": "d6e1488a",
   "metadata": {},
   "outputs": [
    {
     "data": {
      "text/plain": [
       "str"
      ]
     },
     "execution_count": 3,
     "metadata": {},
     "output_type": "execute_result"
    }
   ],
   "source": [
    "a='1'\n",
    "type(a)"
   ]
  },
  {
   "cell_type": "markdown",
   "id": "7186f146",
   "metadata": {},
   "source": [
    "Print Function"
   ]
  },
  {
   "cell_type": "code",
   "execution_count": 4,
   "id": "4b6df9a0",
   "metadata": {},
   "outputs": [
    {
     "name": "stdout",
     "output_type": "stream",
     "text": [
      "Python Class\n",
      "python class\n"
     ]
    }
   ],
   "source": [
    "x='Python Class'\n",
    "y=\"python class\"\n",
    "print(x)\n",
    "print(y)"
   ]
  },
  {
   "cell_type": "code",
   "execution_count": 5,
   "id": "c39cbc36",
   "metadata": {},
   "outputs": [
    {
     "name": "stdout",
     "output_type": "stream",
     "text": [
      "The value of a is : 100\n"
     ]
    }
   ],
   "source": [
    "a=100\n",
    "print('The value of a is :',a)\n"
   ]
  },
  {
   "cell_type": "code",
   "execution_count": 6,
   "id": "5765b6eb",
   "metadata": {},
   "outputs": [
    {
     "name": "stdout",
     "output_type": "stream",
     "text": [
      " The Addition of a and b is : 444\n"
     ]
    }
   ],
   "source": [
    "a=100\n",
    "b=344\n",
    "c=a+b\n",
    "print(\" The Addition of a and b is :\",c)"
   ]
  },
  {
   "cell_type": "markdown",
   "id": "5da535bb",
   "metadata": {},
   "source": [
    "Format String"
   ]
  },
  {
   "cell_type": "code",
   "execution_count": 7,
   "id": "ff683349",
   "metadata": {},
   "outputs": [
    {
     "name": "stdout",
     "output_type": "stream",
     "text": [
      "Addition of344 and 100 :444\n"
     ]
    }
   ],
   "source": [
    "a=100\n",
    "b=344\n",
    "c=a+b\n",
    "print('Addition of{} and {} :{}'.format(b,a,c))"
   ]
  },
  {
   "cell_type": "markdown",
   "id": "363a5ce5",
   "metadata": {},
   "source": [
    "f string"
   ]
  },
  {
   "cell_type": "code",
   "execution_count": 8,
   "id": "97778da6",
   "metadata": {},
   "outputs": [
    {
     "name": "stdout",
     "output_type": "stream",
     "text": [
      "Addition of 250 and 100 is : 350\n"
     ]
    }
   ],
   "source": [
    "a = 250\n",
    "b = 100\n",
    "c = a+b\n",
    "# print(f'Addition of {a} and {b} is : {c}')\n",
    "print(f'Addition of {a} and {b} is : {c}')"
   ]
  },
  {
   "cell_type": "code",
   "execution_count": 9,
   "id": "7caa2c70",
   "metadata": {},
   "outputs": [
    {
     "name": "stdout",
     "output_type": "stream",
     "text": [
      "Multiplication of 250 and 100 is : 25000\n"
     ]
    }
   ],
   "source": [
    "a = 250\n",
    "b = 100\n",
    "c = a*b\n",
    "print(f'Multiplication of {a} and {b} is : {c}')"
   ]
  },
  {
   "cell_type": "code",
   "execution_count": 10,
   "id": "e7667593",
   "metadata": {},
   "outputs": [
    {
     "name": "stdout",
     "output_type": "stream",
     "text": [
      "Multiplication of 25 and 10 is : 250\n"
     ]
    }
   ],
   "source": [
    "a = 25\n",
    "b = 10\n",
    "print(f'Multiplication of {a} and {b} is : {a*b}')"
   ]
  },
  {
   "cell_type": "code",
   "execution_count": 11,
   "id": "5e7a6139",
   "metadata": {},
   "outputs": [
    {
     "name": "stdout",
     "output_type": "stream",
     "text": [
      "DataLearnm\n",
      "Python Class\n",
      "Python and Data Science\n"
     ]
    }
   ],
   "source": [
    "a = 'DataLearnm'  #Single quote\n",
    "b = \"Python Class\"  # Double quote\n",
    "c = \"\"\"Python and Data Science\"\"\"  # Multiline string\n",
    "\n",
    "print(a)\n",
    "print(b)\n",
    "print(c)"
   ]
  },
  {
   "cell_type": "code",
   "execution_count": 12,
   "id": "cfd6156e",
   "metadata": {},
   "outputs": [
    {
     "name": "stdout",
     "output_type": "stream",
     "text": [
      "Python and \n",
      "     Data Science\n"
     ]
    }
   ],
   "source": [
    "c = \"\"\"Python and \n",
    "     Data Science\"\"\"\n",
    "print(c)"
   ]
  },
  {
   "cell_type": "code",
   "execution_count": 13,
   "id": "f09f6ab2",
   "metadata": {},
   "outputs": [
    {
     "name": "stdout",
     "output_type": "stream",
     "text": [
      "Python and \n",
      "     Data Science\n"
     ]
    }
   ],
   "source": [
    "c = \"\"\"Python and \n",
    "     Data Science\"\"\"\n",
    "print(c)"
   ]
  },
  {
   "cell_type": "markdown",
   "id": "58323d17",
   "metadata": {},
   "source": [
    "# Comments in Python"
   ]
  },
  {
   "cell_type": "code",
   "execution_count": 14,
   "id": "bd7f4a6c",
   "metadata": {},
   "outputs": [
    {
     "name": "stdout",
     "output_type": "stream",
     "text": [
      "print(f'Multiplication of {a} and {b} is : {a*b}')\n"
     ]
    }
   ],
   "source": [
    "a = \"\"\"print(f'Multiplication of {a} and {b} is : {a*b}')\"\"\"\n",
    "print(a)\n",
    "\n"
   ]
  },
  {
   "cell_type": "code",
   "execution_count": 15,
   "id": "4ebeffbb",
   "metadata": {},
   "outputs": [
    {
     "name": "stdout",
     "output_type": "stream",
     "text": [
      "Data Science\n",
      "SQL\n"
     ]
    }
   ],
   "source": [
    "print('Data Science')\n",
    "# print(\"Machine learning\")\n",
    "print('SQL')"
   ]
  },
  {
   "cell_type": "markdown",
   "id": "f1a970a2",
   "metadata": {},
   "source": [
    "# Indentation"
   ]
  },
  {
   "cell_type": "code",
   "execution_count": 16,
   "id": "ed17f8da",
   "metadata": {},
   "outputs": [
    {
     "name": "stdout",
     "output_type": "stream",
     "text": [
      "a is grater than 50\n"
     ]
    }
   ],
   "source": [
    "a = 100\n",
    "if a > 50:\n",
    "    print('a is grater than 50')   "
   ]
  },
  {
   "cell_type": "code",
   "execution_count": 17,
   "id": "1fdfccdb",
   "metadata": {},
   "outputs": [
    {
     "name": "stdout",
     "output_type": "stream",
     "text": [
      "a is less than 50\n"
     ]
    }
   ],
   "source": [
    "a = 35\n",
    "if a > 50:\n",
    "    print(\"a is greater than 50\")\n",
    "    \n",
    "else:\n",
    "    print(\"a is less than 50\")"
   ]
  },
  {
   "cell_type": "code",
   "execution_count": 18,
   "id": "9898494d",
   "metadata": {},
   "outputs": [
    {
     "name": "stdout",
     "output_type": "stream",
     "text": [
      "a is less than 50\n"
     ]
    }
   ],
   "source": [
    "a = 35\n",
    "if a > 50:\n",
    "    print(\"a is greater than 50\")\n",
    "    \n",
    "else:\n",
    "    print(\"a is less than 50\")"
   ]
  },
  {
   "cell_type": "code",
   "execution_count": 19,
   "id": "149fa36b",
   "metadata": {},
   "outputs": [
    {
     "data": {
      "text/plain": [
       "35"
      ]
     },
     "execution_count": 19,
     "metadata": {},
     "output_type": "execute_result"
    }
   ],
   "source": [
    "a"
   ]
  },
  {
   "cell_type": "code",
   "execution_count": 20,
   "id": "392e1609",
   "metadata": {},
   "outputs": [
    {
     "data": {
      "text/plain": [
       "'Python Class'"
      ]
     },
     "execution_count": 20,
     "metadata": {},
     "output_type": "execute_result"
    }
   ],
   "source": [
    "b"
   ]
  },
  {
   "cell_type": "markdown",
   "id": "abcaec7e",
   "metadata": {},
   "source": [
    "a = 100\n",
    "a = 10.5\n",
    "a = 10 + 5j\n",
    "a = 'python'\n",
    "a = [1,2,3,4]\n",
    "a = (1,2,3,4,5)"
   ]
  },
  {
   "cell_type": "code",
   "execution_count": 21,
   "id": "8bc3ab8b",
   "metadata": {},
   "outputs": [
    {
     "data": {
      "text/plain": [
       "int"
      ]
     },
     "execution_count": 21,
     "metadata": {},
     "output_type": "execute_result"
    }
   ],
   "source": [
    "type(a)"
   ]
  },
  {
   "cell_type": "markdown",
   "id": "85ce8f61",
   "metadata": {},
   "source": [
    "1. Variable name must start with alphabet or underscore\n",
    "2. Case sensitive (name, Name, NAME all are different)\n",
    "3. All characters should be alphanumeric (a-z, A-Z, 0-9) or underscore\n",
    "4. Must not contain any special characters(@, #, $, %, &) except _\n",
    "5. Do not use reserved words (any, import, and, or, if, else)\n",
    "6. Do not use dot(.) to declare variable"
   ]
  },
  {
   "cell_type": "markdown",
   "id": "b1eba8c3",
   "metadata": {},
   "source": [
    "# Variables"
   ]
  },
  {
   "cell_type": "code",
   "execution_count": 22,
   "id": "b824750c",
   "metadata": {},
   "outputs": [
    {
     "name": "stdout",
     "output_type": "stream",
     "text": [
      "The value of variavble is 100\n"
     ]
    }
   ],
   "source": [
    "\n",
    "#@abc = 100    # special character\n",
    "_abc = 100\n",
    "ab123 = 100\n",
    "\n",
    "print(\"The value of variavble is\", _abc)"
   ]
  },
  {
   "cell_type": "code",
   "execution_count": 23,
   "id": "1e84defc",
   "metadata": {},
   "outputs": [
    {
     "name": "stdout",
     "output_type": "stream",
     "text": [
      "Name :  python\n",
      "Name :  Data Science\n"
     ]
    }
   ],
   "source": [
    "name = 'python'\n",
    "Name = \"Data Science\"\n",
    "print('Name : ', name)\n",
    "print('Name : ', Name)"
   ]
  },
  {
   "cell_type": "markdown",
   "id": "85a177a8",
   "metadata": {},
   "source": [
    "and, in, if, elif, else"
   ]
  },
  {
   "cell_type": "code",
   "execution_count": null,
   "id": "698b0e4b",
   "metadata": {
    "scrolled": true
   },
   "outputs": [
    {
     "name": "stdout",
     "output_type": "stream",
     "text": [
      "\n",
      "Welcome to Python 3.9's help utility!\n",
      "\n",
      "If this is your first time using Python, you should definitely check out\n",
      "the tutorial on the Internet at https://docs.python.org/3.9/tutorial/.\n",
      "\n",
      "Enter the name of any module, keyword, or topic to get help on writing\n",
      "Python programs and using Python modules.  To quit this help utility and\n",
      "return to the interpreter, just type \"quit\".\n",
      "\n",
      "To get a list of available modules, keywords, symbols, or topics, type\n",
      "\"modules\", \"keywords\", \"symbols\", or \"topics\".  Each module also comes\n",
      "with a one-line summary of what it does; to list the modules whose name\n",
      "or summary contain a given string such as \"spam\", type \"modules spam\".\n",
      "\n"
     ]
    }
   ],
   "source": [
    "help()\n",
    "keywords"
   ]
  },
  {
   "cell_type": "code",
   "execution_count": null,
   "id": "9f43a770",
   "metadata": {},
   "outputs": [],
   "source": [
    "myvar = 'M S Dhoni'   # valid\n",
    "my@var     # invalid\n",
    "my_var12\n",
    "my&34   # Invalid"
   ]
  },
  {
   "cell_type": "code",
   "execution_count": null,
   "id": "1a7293ed",
   "metadata": {},
   "outputs": [],
   "source": []
  }
 ],
 "metadata": {
  "kernelspec": {
   "display_name": "Python 3 (ipykernel)",
   "language": "python",
   "name": "python3"
  },
  "language_info": {
   "codemirror_mode": {
    "name": "ipython",
    "version": 3
   },
   "file_extension": ".py",
   "mimetype": "text/x-python",
   "name": "python",
   "nbconvert_exporter": "python",
   "pygments_lexer": "ipython3",
   "version": "3.9.7"
  }
 },
 "nbformat": 4,
 "nbformat_minor": 5
}
