{
  "cells": [
    {
      "cell_type": "markdown",
      "metadata": {
        "id": "view-in-github",
        "colab_type": "text"
      },
      "source": [
        "<a href=\"https://colab.research.google.com/github/Salbapoonam/Data-Science-Learning/blob/main/Day_12_List_and_Tuple.ipynb\" target=\"_parent\"><img src=\"https://colab.research.google.com/assets/colab-badge.svg\" alt=\"Open In Colab\"/></a>"
      ]
    },
    {
      "cell_type": "raw",
      "id": "aa5227d3",
      "metadata": {
        "id": "aa5227d3"
      },
      "source": [
        "### Sequence data type\n",
        "list, string and range"
      ]
    },
    {
      "cell_type": "code",
      "execution_count": null,
      "id": "20853e36",
      "metadata": {
        "id": "20853e36",
        "outputId": "f9b2bbbb-dc5f-4745-fb37-d23db5b1dffd"
      },
      "outputs": [
        {
          "name": "stdout",
          "output_type": "stream",
          "text": [
            "P\n",
            "y\n",
            "t\n",
            "h\n",
            "o\n",
            "n\n"
          ]
        }
      ],
      "source": [
        "s = list('Python')\n",
        "for i in s:\n",
        "    print(i)"
      ]
    },
    {
      "cell_type": "markdown",
      "id": "68fa9c3c",
      "metadata": {
        "id": "68fa9c3c"
      },
      "source": [
        "### list Construcor"
      ]
    },
    {
      "cell_type": "code",
      "execution_count": null,
      "id": "e8456406",
      "metadata": {
        "id": "e8456406"
      },
      "outputs": [],
      "source": [
        "l = list('Data Science')"
      ]
    },
    {
      "cell_type": "code",
      "execution_count": null,
      "id": "5bb2f74d",
      "metadata": {
        "id": "5bb2f74d",
        "outputId": "cfd1449e-051a-478d-d9b9-a9c8922963f1"
      },
      "outputs": [
        {
          "data": {
            "text/plain": [
              "12"
            ]
          },
          "execution_count": 5,
          "metadata": {},
          "output_type": "execute_result"
        }
      ],
      "source": [
        "len(l)"
      ]
    },
    {
      "cell_type": "code",
      "execution_count": null,
      "id": "221102d1",
      "metadata": {
        "id": "221102d1",
        "outputId": "df74b11c-76cf-4258-b2a2-546d5b170036"
      },
      "outputs": [
        {
          "name": "stdout",
          "output_type": "stream",
          "text": [
            "['a', 'e', 'r', 't', 3, 2, 4, 4]\n"
          ]
        }
      ],
      "source": [
        "a = list(('a','e','r','t',3,2,4,4))\n",
        "print(a)"
      ]
    },
    {
      "cell_type": "code",
      "execution_count": null,
      "id": "d465cd12",
      "metadata": {
        "id": "d465cd12",
        "outputId": "e94e47c1-59cc-4eca-8d5c-bdb8fd42ae3b"
      },
      "outputs": [
        {
          "data": {
            "text/plain": [
              "['DataScience']"
            ]
          },
          "execution_count": 7,
          "metadata": {},
          "output_type": "execute_result"
        }
      ],
      "source": [
        "s = 'DataScience'\n",
        "s.split()"
      ]
    },
    {
      "cell_type": "code",
      "execution_count": null,
      "id": "7e619b98",
      "metadata": {
        "id": "7e619b98",
        "outputId": "1b0a54e7-516c-48eb-bf05-5fa81eb34577"
      },
      "outputs": [
        {
          "data": {
            "text/plain": [
              "['Data', 'Science']"
            ]
          },
          "execution_count": 8,
          "metadata": {},
          "output_type": "execute_result"
        }
      ],
      "source": [
        "s = 'Data Science'\n",
        "s.split()"
      ]
    },
    {
      "cell_type": "code",
      "execution_count": null,
      "id": "05996ca2",
      "metadata": {
        "id": "05996ca2",
        "outputId": "35827b0a-81fc-4e58-80c6-4d50993a3955"
      },
      "outputs": [
        {
          "data": {
            "text/plain": [
              "['Data', 'Science', 'DataLearnm']"
            ]
          },
          "execution_count": 9,
          "metadata": {},
          "output_type": "execute_result"
        }
      ],
      "source": [
        "s = 'Data Science DataLearnm'\n",
        "s.split()"
      ]
    },
    {
      "cell_type": "code",
      "execution_count": null,
      "id": "56864933",
      "metadata": {
        "id": "56864933",
        "outputId": "8734ff80-8510-45a3-aecc-7e0387e463c2"
      },
      "outputs": [
        {
          "data": {
            "text/plain": [
              "['Data', 'Scie', 'nce DataLe', 'arnm']"
            ]
          },
          "execution_count": 11,
          "metadata": {},
          "output_type": "execute_result"
        }
      ],
      "source": [
        "s = 'Data,Scie,nce DataLe,arnm'\n",
        "s.split(',')"
      ]
    },
    {
      "cell_type": "code",
      "execution_count": null,
      "id": "ef664ebe",
      "metadata": {
        "id": "ef664ebe",
        "outputId": "09aafdc9-20df-4561-dd85-9b32bd489dbe"
      },
      "outputs": [
        {
          "data": {
            "text/plain": [
              "'Data,Scie,nce DataLe,arnm'"
            ]
          },
          "execution_count": 16,
          "metadata": {},
          "output_type": "execute_result"
        }
      ],
      "source": [
        "\"\".join(s)"
      ]
    },
    {
      "cell_type": "code",
      "execution_count": null,
      "id": "a4a2114d",
      "metadata": {
        "id": "a4a2114d",
        "outputId": "76edc0d0-e180-4c85-9f11-6af8aec2da8b"
      },
      "outputs": [
        {
          "data": {
            "text/plain": [
              "['D', 'a', 't', 'a', 'L', 'e', 'a', 'r', 'n', 'm']"
            ]
          },
          "execution_count": 17,
          "metadata": {},
          "output_type": "execute_result"
        }
      ],
      "source": [
        "s = 'DataLearnm'\n",
        "new_list = list()\n",
        "for char in s:\n",
        "    new_list.append(char)\n",
        "new_list\n",
        ""
      ]
    },
    {
      "cell_type": "code",
      "execution_count": null,
      "id": "5ddc3630",
      "metadata": {
        "id": "5ddc3630",
        "outputId": "a6c2ae97-b43d-4870-ab88-0866f9ff5c01"
      },
      "outputs": [
        {
          "data": {
            "text/plain": [
              "'D a t a L e a r n m'"
            ]
          },
          "execution_count": 19,
          "metadata": {},
          "output_type": "execute_result"
        }
      ],
      "source": [
        "\" \".join(new_list)"
      ]
    },
    {
      "cell_type": "code",
      "execution_count": null,
      "id": "a7c28232",
      "metadata": {
        "id": "a7c28232",
        "outputId": "ca9d37f9-ac66-4f01-bd64-b48cc4c619eb"
      },
      "outputs": [
        {
          "data": {
            "text/plain": [
              "'D*a*t*a*L*e*a*r*n*m'"
            ]
          },
          "execution_count": 20,
          "metadata": {},
          "output_type": "execute_result"
        }
      ],
      "source": [
        "\"*\".join(new_list)"
      ]
    },
    {
      "cell_type": "markdown",
      "id": "8a15791f",
      "metadata": {
        "id": "8a15791f"
      },
      "source": [
        "#### Maximum number from list"
      ]
    },
    {
      "cell_type": "code",
      "execution_count": null,
      "id": "87bf6972",
      "metadata": {
        "id": "87bf6972",
        "outputId": "f20f3932-21e4-479c-ff00-6935894ec5f1"
      },
      "outputs": [
        {
          "name": "stdout",
          "output_type": "stream",
          "text": [
            "54\n"
          ]
        }
      ],
      "source": [
        "l1 = [10,34,23,54,4,5,12]\n",
        "max1 = 0\n",
        "for i in l1:\n",
        "    if i > max1:\n",
        "        max1 = i\n",
        "print(max1)"
      ]
    },
    {
      "cell_type": "markdown",
      "id": "bb97e4ae",
      "metadata": {
        "id": "bb97e4ae"
      },
      "source": [
        "#### Built in function"
      ]
    },
    {
      "cell_type": "code",
      "execution_count": null,
      "id": "5d0ff671",
      "metadata": {
        "id": "5d0ff671",
        "outputId": "446ca0da-888a-4bdf-ce2e-82f49a952d36"
      },
      "outputs": [
        {
          "data": {
            "text/plain": [
              "54"
            ]
          },
          "execution_count": 22,
          "metadata": {},
          "output_type": "execute_result"
        }
      ],
      "source": [
        "l1 = [10,34,23,54,4,5,12]\n",
        "max(l1)"
      ]
    },
    {
      "cell_type": "code",
      "execution_count": null,
      "id": "e8557a92",
      "metadata": {
        "id": "e8557a92",
        "outputId": "50d84ec3-4ef0-45a6-8460-85ec2c61b270"
      },
      "outputs": [
        {
          "data": {
            "text/plain": [
              "4"
            ]
          },
          "execution_count": 23,
          "metadata": {},
          "output_type": "execute_result"
        }
      ],
      "source": [
        "min(l1)"
      ]
    },
    {
      "cell_type": "code",
      "execution_count": null,
      "id": "0eb58922",
      "metadata": {
        "id": "0eb58922",
        "outputId": "90e28760-9b90-4dea-dec5-3bba6550d599"
      },
      "outputs": [
        {
          "data": {
            "text/plain": [
              "7"
            ]
          },
          "execution_count": 24,
          "metadata": {},
          "output_type": "execute_result"
        }
      ],
      "source": [
        "len(l1)"
      ]
    },
    {
      "cell_type": "code",
      "execution_count": null,
      "id": "ead7457c",
      "metadata": {
        "id": "ead7457c",
        "outputId": "95229e52-a6fd-4168-d2e6-23ab7000c51b"
      },
      "outputs": [
        {
          "data": {
            "text/plain": [
              "142"
            ]
          },
          "execution_count": 25,
          "metadata": {},
          "output_type": "execute_result"
        }
      ],
      "source": [
        "sum(l1)"
      ]
    },
    {
      "cell_type": "markdown",
      "id": "500a3265",
      "metadata": {
        "id": "500a3265"
      },
      "source": [
        "#### Nested list"
      ]
    },
    {
      "cell_type": "raw",
      "id": "170fde75",
      "metadata": {
        "id": "170fde75"
      },
      "source": [
        "list in a list called as nested list"
      ]
    },
    {
      "cell_type": "code",
      "execution_count": null,
      "id": "a320febf",
      "metadata": {
        "id": "a320febf",
        "outputId": "721d9d46-86be-4c72-9571-36b21ee0937a"
      },
      "outputs": [
        {
          "data": {
            "text/plain": [
              "7"
            ]
          },
          "execution_count": 26,
          "metadata": {},
          "output_type": "execute_result"
        }
      ],
      "source": [
        "nested_list = [[2,3], [1,2,3], '1', [2, 'w',5], 2,4,5]\n",
        "len(nested_list)"
      ]
    },
    {
      "cell_type": "code",
      "execution_count": null,
      "id": "b2f36eb4",
      "metadata": {
        "id": "b2f36eb4",
        "outputId": "df8b966b-4699-454b-dadc-366b7133c7f7"
      },
      "outputs": [
        {
          "data": {
            "text/plain": [
              "'1'"
            ]
          },
          "execution_count": 27,
          "metadata": {},
          "output_type": "execute_result"
        }
      ],
      "source": [
        "nested_list[2]"
      ]
    },
    {
      "cell_type": "code",
      "execution_count": null,
      "id": "c16ff11f",
      "metadata": {
        "id": "c16ff11f",
        "outputId": "a755419c-69c2-4cc4-c485-4af804c460fb"
      },
      "outputs": [
        {
          "data": {
            "text/plain": [
              "[1, 2, 3]"
            ]
          },
          "execution_count": 28,
          "metadata": {},
          "output_type": "execute_result"
        }
      ],
      "source": [
        "nested_list[1]"
      ]
    },
    {
      "cell_type": "code",
      "execution_count": null,
      "id": "f07fcc0f",
      "metadata": {
        "id": "f07fcc0f",
        "outputId": "a78a45b5-5ac8-499b-9937-20a16102a6b1"
      },
      "outputs": [
        {
          "data": {
            "text/plain": [
              "2"
            ]
          },
          "execution_count": 29,
          "metadata": {},
          "output_type": "execute_result"
        }
      ],
      "source": [
        "nested_list[1][1]"
      ]
    },
    {
      "cell_type": "code",
      "execution_count": null,
      "id": "46f652c3",
      "metadata": {
        "id": "46f652c3"
      },
      "outputs": [],
      "source": [
        "nested_list[1][1] = 1000"
      ]
    },
    {
      "cell_type": "code",
      "execution_count": null,
      "id": "37b7eeeb",
      "metadata": {
        "id": "37b7eeeb",
        "outputId": "86e58405-02ae-4d2b-95cf-a6353ca0cb7b"
      },
      "outputs": [
        {
          "data": {
            "text/plain": [
              "[[2, 3], [1, 1000, 3], '1', [2, 'w', 5], 2, 4, 5]"
            ]
          },
          "execution_count": 31,
          "metadata": {},
          "output_type": "execute_result"
        }
      ],
      "source": [
        "nested_list"
      ]
    },
    {
      "cell_type": "code",
      "execution_count": null,
      "id": "276ec9cd",
      "metadata": {
        "id": "276ec9cd",
        "outputId": "bcf4eadb-bc6c-4a52-80f1-c0efd446f6c5"
      },
      "outputs": [
        {
          "data": {
            "text/plain": [
              "4"
            ]
          },
          "execution_count": 32,
          "metadata": {},
          "output_type": "execute_result"
        }
      ],
      "source": [
        "nested_list1 = [[[2, 3], [1, 1000, 3]], '1', [2, 'w', 5], [2, 4, 5]]\n",
        "len(nested_list1)"
      ]
    },
    {
      "cell_type": "code",
      "execution_count": null,
      "id": "d8d3dd29",
      "metadata": {
        "id": "d8d3dd29",
        "outputId": "53c47dea-2d7b-48e6-f8d6-1ef3cec5ae53"
      },
      "outputs": [
        {
          "data": {
            "text/plain": [
              "[[2, 3], [1, 1000, 3]]"
            ]
          },
          "execution_count": 33,
          "metadata": {},
          "output_type": "execute_result"
        }
      ],
      "source": [
        "nested_list1[0]"
      ]
    },
    {
      "cell_type": "code",
      "execution_count": null,
      "id": "4dcd3132",
      "metadata": {
        "id": "4dcd3132",
        "outputId": "fe351a79-52ec-42b7-9895-2eee9ded77e7"
      },
      "outputs": [
        {
          "data": {
            "text/plain": [
              "[1, 1000, 3]"
            ]
          },
          "execution_count": 34,
          "metadata": {},
          "output_type": "execute_result"
        }
      ],
      "source": [
        "nested_list1[0][1]"
      ]
    },
    {
      "cell_type": "code",
      "execution_count": null,
      "id": "b9ca3f41",
      "metadata": {
        "id": "b9ca3f41",
        "outputId": "0a9d7518-955f-4fd2-979a-922e059369c8"
      },
      "outputs": [
        {
          "data": {
            "text/plain": [
              "3"
            ]
          },
          "execution_count": 35,
          "metadata": {},
          "output_type": "execute_result"
        }
      ],
      "source": [
        "nested_list1[0][1][2]"
      ]
    },
    {
      "cell_type": "raw",
      "id": "8389aa8d",
      "metadata": {
        "id": "8389aa8d"
      },
      "source": [
        "[2,3] >>> 1D\n",
        "[[2,3]]  >>> 2D\n",
        "[[[2,3]]] >>> 3D"
      ]
    },
    {
      "cell_type": "code",
      "execution_count": null,
      "id": "5f97ea4e",
      "metadata": {
        "id": "5f97ea4e",
        "outputId": "39f8619b-4538-4920-bbef-966e21016b92"
      },
      "outputs": [
        {
          "data": {
            "text/plain": [
              "[[12, 13], [5, 6], [2, 3], [15, 16]]"
            ]
          },
          "execution_count": 37,
          "metadata": {},
          "output_type": "execute_result"
        }
      ],
      "source": [
        "l1 = [[2,3], [5,6],[12,13], [15,16]]\n",
        "l1[0], l1[2] = l1[2], l1[0]    # Swapping list items\n",
        "\n",
        "l1"
      ]
    },
    {
      "cell_type": "markdown",
      "id": "efaf3fea",
      "metadata": {
        "id": "efaf3fea"
      },
      "source": [
        "### Tuple"
      ]
    },
    {
      "cell_type": "raw",
      "id": "5afe516d",
      "metadata": {
        "id": "5afe516d"
      },
      "source": [
        "Tuple are also used to store sequence\n",
        "Tuples are immutable\n",
        "The value of item stored in tuple can not be changed/ modified.\n",
        "Ordered , allow duplicates\n",
        "Round brackets () to define the tupple\n",
        "Heterogeneous data type(int, float, complex, list, tuple, dict, boolean etc)\n",
        "Tuples are faster than list.\n",
        "Comma separated\n",
        "Can not be perform operations like add, update delete(Immutable)"
      ]
    },
    {
      "cell_type": "code",
      "execution_count": null,
      "id": "c1d5ed1f",
      "metadata": {
        "id": "c1d5ed1f"
      },
      "outputs": [],
      "source": [
        "tuple1 = (1,2,3,'data', 6.7, [1,2,3])"
      ]
    },
    {
      "cell_type": "code",
      "execution_count": null,
      "id": "229559f9",
      "metadata": {
        "id": "229559f9",
        "outputId": "433dd254-3378-4092-f53c-3031ec4dc092"
      },
      "outputs": [
        {
          "data": {
            "text/plain": [
              "(1, 2, 3, 'data', 6.7, [1, 2, 3])"
            ]
          },
          "execution_count": 40,
          "metadata": {},
          "output_type": "execute_result"
        }
      ],
      "source": [
        "tuple1"
      ]
    },
    {
      "cell_type": "code",
      "execution_count": null,
      "id": "dcff9db7",
      "metadata": {
        "id": "dcff9db7",
        "outputId": "21a16719-7318-4873-a307-b9494936775d"
      },
      "outputs": [
        {
          "data": {
            "text/plain": [
              "tuple"
            ]
          },
          "execution_count": 41,
          "metadata": {},
          "output_type": "execute_result"
        }
      ],
      "source": [
        "type(tuple1)"
      ]
    },
    {
      "cell_type": "code",
      "execution_count": null,
      "id": "a4c57df3",
      "metadata": {
        "id": "a4c57df3",
        "outputId": "93a880ab-8791-46f0-94dc-06c92a9161da"
      },
      "outputs": [
        {
          "data": {
            "text/plain": [
              "tuple"
            ]
          },
          "execution_count": 42,
          "metadata": {},
          "output_type": "execute_result"
        }
      ],
      "source": [
        "t = ()\n",
        "type(t)"
      ]
    },
    {
      "cell_type": "code",
      "execution_count": null,
      "id": "f118909f",
      "metadata": {
        "id": "f118909f",
        "outputId": "3a10dca8-3d92-4203-af72-74afbe0511d2"
      },
      "outputs": [
        {
          "data": {
            "text/plain": [
              "int"
            ]
          },
          "execution_count": 43,
          "metadata": {},
          "output_type": "execute_result"
        }
      ],
      "source": [
        "t = (12)\n",
        "type(t)"
      ]
    },
    {
      "cell_type": "code",
      "execution_count": null,
      "id": "f794b45f",
      "metadata": {
        "id": "f794b45f",
        "outputId": "124a2146-2d49-49ab-fcae-48db9990e89d"
      },
      "outputs": [
        {
          "data": {
            "text/plain": [
              "tuple"
            ]
          },
          "execution_count": 44,
          "metadata": {},
          "output_type": "execute_result"
        }
      ],
      "source": [
        "t = (12,)\n",
        "type(t)"
      ]
    },
    {
      "cell_type": "code",
      "execution_count": null,
      "id": "7ebb10e6",
      "metadata": {
        "id": "7ebb10e6",
        "outputId": "9c70a22b-a520-43db-9594-9bf79c64d3a1"
      },
      "outputs": [
        {
          "data": {
            "text/plain": [
              "str"
            ]
          },
          "execution_count": 45,
          "metadata": {},
          "output_type": "execute_result"
        }
      ],
      "source": [
        "t = ('12')\n",
        "type(t)"
      ]
    },
    {
      "cell_type": "code",
      "execution_count": null,
      "id": "ed400814",
      "metadata": {
        "id": "ed400814",
        "outputId": "b60988b5-9c87-4c5d-8bb5-a0cf0f2c9a92"
      },
      "outputs": [
        {
          "data": {
            "text/plain": [
              "tuple"
            ]
          },
          "execution_count": 46,
          "metadata": {},
          "output_type": "execute_result"
        }
      ],
      "source": [
        "t = ('12',)\n",
        "type(t)"
      ]
    },
    {
      "cell_type": "code",
      "execution_count": null,
      "id": "cbc7daec",
      "metadata": {
        "id": "cbc7daec",
        "outputId": "7ea3ce95-3c72-48ff-cebc-9ec821057012"
      },
      "outputs": [
        {
          "data": {
            "text/plain": [
              "[1, 2, 3, 1000]"
            ]
          },
          "execution_count": 48,
          "metadata": {},
          "output_type": "execute_result"
        }
      ],
      "source": [
        "list1 = [1,2,3]\n",
        "list1.append(1000)\n",
        "list1"
      ]
    },
    {
      "cell_type": "code",
      "execution_count": null,
      "id": "e46c841b",
      "metadata": {
        "id": "e46c841b",
        "outputId": "84732ec5-f75e-425b-bc2a-389c51e1166f"
      },
      "outputs": [
        {
          "ename": "AttributeError",
          "evalue": "'tuple' object has no attribute 'append'",
          "output_type": "error",
          "traceback": [
            "\u001b[1;31m---------------------------------------------------------------------------\u001b[0m",
            "\u001b[1;31mAttributeError\u001b[0m                            Traceback (most recent call last)",
            "Cell \u001b[1;32mIn[49], line 2\u001b[0m\n\u001b[0;32m      1\u001b[0m tuple1 \u001b[38;5;241m=\u001b[39m (\u001b[38;5;241m1\u001b[39m,\u001b[38;5;241m2\u001b[39m,\u001b[38;5;241m3\u001b[39m)\n\u001b[1;32m----> 2\u001b[0m \u001b[43mtuple1\u001b[49m\u001b[38;5;241;43m.\u001b[39;49m\u001b[43mappend\u001b[49m(\u001b[38;5;241m1000\u001b[39m)\n\u001b[0;32m      3\u001b[0m tuple1\n",
            "\u001b[1;31mAttributeError\u001b[0m: 'tuple' object has no attribute 'append'"
          ]
        }
      ],
      "source": [
        "tuple1 = (1,2,3)\n",
        "tuple1.append(1000)\n",
        "tuple1"
      ]
    },
    {
      "cell_type": "code",
      "execution_count": null,
      "id": "a6c183e7",
      "metadata": {
        "id": "a6c183e7",
        "outputId": "05646318-4b76-4a16-e087-289b0d210d75"
      },
      "outputs": [
        {
          "data": {
            "text/plain": [
              "(1, 2, 3, 1000)"
            ]
          },
          "execution_count": 52,
          "metadata": {},
          "output_type": "execute_result"
        }
      ],
      "source": [
        "tuple1 = (1,2,3)\n",
        "list1 = list(tuple1)\n",
        "list1.append(1000)\n",
        "tuple(list1)"
      ]
    },
    {
      "cell_type": "code",
      "execution_count": null,
      "id": "d32ace7f",
      "metadata": {
        "id": "d32ace7f",
        "outputId": "6b4ce813-780b-40d4-ea49-9e0e50f299ce"
      },
      "outputs": [
        {
          "data": {
            "text/plain": [
              "(12, 23, 23)"
            ]
          },
          "execution_count": 54,
          "metadata": {},
          "output_type": "execute_result"
        }
      ],
      "source": [
        "a = 12\n",
        "b = 23\n",
        "c = 23\n",
        "list1 = []\n",
        "list1.append(a)\n",
        "list1.append(b)\n",
        "list1.append(c)\n",
        "\n",
        "tuple(list1)"
      ]
    },
    {
      "cell_type": "markdown",
      "id": "97f7d6bc",
      "metadata": {
        "id": "97f7d6bc"
      },
      "source": [
        "#### Indexing"
      ]
    },
    {
      "cell_type": "code",
      "execution_count": null,
      "id": "e8a714c0",
      "metadata": {
        "id": "e8a714c0",
        "outputId": "5bf91d3e-7a5e-4341-8201-77bde4c4eb4f"
      },
      "outputs": [
        {
          "data": {
            "text/plain": [
              "34"
            ]
          },
          "execution_count": 57,
          "metadata": {},
          "output_type": "execute_result"
        }
      ],
      "source": [
        "t1 = (1, 2, 3, 1000, 34, 5, 'Data')\n",
        "t1[4]"
      ]
    },
    {
      "cell_type": "code",
      "execution_count": null,
      "id": "29d9306f",
      "metadata": {
        "id": "29d9306f",
        "outputId": "e9231400-0e3e-4c5d-bfda-85e52aab8b95"
      },
      "outputs": [
        {
          "data": {
            "text/plain": [
              "'Data'"
            ]
          },
          "execution_count": 59,
          "metadata": {},
          "output_type": "execute_result"
        }
      ],
      "source": [
        "t1[-1]"
      ]
    },
    {
      "cell_type": "code",
      "execution_count": null,
      "id": "98e2b30d",
      "metadata": {
        "id": "98e2b30d",
        "outputId": "167e7a85-acbd-480d-ffae-b92ffb2db771"
      },
      "outputs": [
        {
          "name": "stdout",
          "output_type": "stream",
          "text": [
            "1\n",
            "2\n",
            "3\n",
            "1000\n",
            "34\n",
            "5\n",
            "Data\n"
          ]
        }
      ],
      "source": [
        "for i in t1:\n",
        "    print(i)"
      ]
    },
    {
      "cell_type": "code",
      "execution_count": null,
      "id": "8afa052a",
      "metadata": {
        "id": "8afa052a",
        "outputId": "a8701d9b-3696-40d5-c915-4f93c23072c5"
      },
      "outputs": [
        {
          "ename": "TypeError",
          "evalue": "'tuple' object does not support item assignment",
          "output_type": "error",
          "traceback": [
            "\u001b[1;31m---------------------------------------------------------------------------\u001b[0m",
            "\u001b[1;31mTypeError\u001b[0m                                 Traceback (most recent call last)",
            "Cell \u001b[1;32mIn[61], line 1\u001b[0m\n\u001b[1;32m----> 1\u001b[0m t1[\u001b[38;5;241m2\u001b[39m] \u001b[38;5;241m=\u001b[39m \u001b[38;5;241m1000\u001b[39m\n",
            "\u001b[1;31mTypeError\u001b[0m: 'tuple' object does not support item assignment"
          ]
        }
      ],
      "source": [
        "t1[2] = 1000"
      ]
    },
    {
      "cell_type": "markdown",
      "id": "4e4710e1",
      "metadata": {
        "id": "4e4710e1"
      },
      "source": [
        "### Slicing"
      ]
    },
    {
      "cell_type": "code",
      "execution_count": null,
      "id": "704c7144",
      "metadata": {
        "id": "704c7144"
      },
      "outputs": [],
      "source": [
        "t1 = (1, 2, 3, 1000, 34, 5, 'Data')"
      ]
    },
    {
      "cell_type": "code",
      "execution_count": null,
      "id": "dddd849c",
      "metadata": {
        "id": "dddd849c",
        "outputId": "b421b683-a8b5-4d27-87dd-dbf15889ba6a"
      },
      "outputs": [
        {
          "data": {
            "text/plain": [
              "(1, 2, 3)"
            ]
          },
          "execution_count": 64,
          "metadata": {},
          "output_type": "execute_result"
        }
      ],
      "source": [
        "t1[0:3]"
      ]
    },
    {
      "cell_type": "code",
      "execution_count": null,
      "id": "e9d8397d",
      "metadata": {
        "id": "e9d8397d",
        "outputId": "11d5354e-02cb-41b0-b38b-9e66250223ca"
      },
      "outputs": [
        {
          "data": {
            "text/plain": [
              "(3, 1000, 34)"
            ]
          },
          "execution_count": 65,
          "metadata": {},
          "output_type": "execute_result"
        }
      ],
      "source": [
        "t1[2:-2]"
      ]
    },
    {
      "cell_type": "code",
      "execution_count": null,
      "id": "ef6e74c6",
      "metadata": {
        "id": "ef6e74c6",
        "outputId": "cab14c53-d5f1-4c89-8e45-34196177cfba"
      },
      "outputs": [
        {
          "data": {
            "text/plain": [
              "(2, 3, 1000, 34)"
            ]
          },
          "execution_count": 66,
          "metadata": {},
          "output_type": "execute_result"
        }
      ],
      "source": [
        "t1[-6:-2]"
      ]
    },
    {
      "cell_type": "code",
      "execution_count": null,
      "id": "9c821a69",
      "metadata": {
        "id": "9c821a69",
        "outputId": "0a6748ad-9524-47ff-ff97-e225fb32be3e"
      },
      "outputs": [
        {
          "data": {
            "text/plain": [
              "(2, 1000)"
            ]
          },
          "execution_count": 67,
          "metadata": {},
          "output_type": "execute_result"
        }
      ],
      "source": [
        "t1[-6:-2:2]"
      ]
    },
    {
      "cell_type": "code",
      "execution_count": null,
      "id": "10c22169",
      "metadata": {
        "id": "10c22169",
        "outputId": "af2b2bcb-adc0-4f6e-82d9-845c5a1d1aaa"
      },
      "outputs": [
        {
          "data": {
            "text/plain": [
              "(1, 2, 3, 1000, 34, 5, 'Data')"
            ]
          },
          "execution_count": 68,
          "metadata": {},
          "output_type": "execute_result"
        }
      ],
      "source": [
        "t1[::]"
      ]
    },
    {
      "cell_type": "code",
      "execution_count": null,
      "id": "c688366c",
      "metadata": {
        "id": "c688366c",
        "outputId": "0454405f-acaa-448d-d360-aa02b023e8df"
      },
      "outputs": [
        {
          "data": {
            "text/plain": [
              "('Data', 5, 34, 1000, 3, 2, 1)"
            ]
          },
          "execution_count": 70,
          "metadata": {},
          "output_type": "execute_result"
        }
      ],
      "source": [
        "t1[::-1]"
      ]
    },
    {
      "cell_type": "code",
      "execution_count": null,
      "id": "6938dfa1",
      "metadata": {
        "id": "6938dfa1",
        "outputId": "5849f277-60d2-4955-ed2c-d85649f85428"
      },
      "outputs": [
        {
          "data": {
            "text/plain": [
              "'mnraeLataD'"
            ]
          },
          "execution_count": 72,
          "metadata": {},
          "output_type": "execute_result"
        }
      ],
      "source": [
        "s = \"DataLearnm\"\n",
        "s[::-1]"
      ]
    },
    {
      "cell_type": "code",
      "execution_count": null,
      "id": "50e665d8",
      "metadata": {
        "id": "50e665d8",
        "outputId": "b1d59215-16e5-4f11-bdd8-e0dc2108c726"
      },
      "outputs": [
        {
          "data": {
            "text/plain": [
              "'DtLan'"
            ]
          },
          "execution_count": 73,
          "metadata": {},
          "output_type": "execute_result"
        }
      ],
      "source": [
        "s = \"DataLearnm\"\n",
        "s[::2]"
      ]
    },
    {
      "cell_type": "markdown",
      "id": "2f7912bf",
      "metadata": {
        "id": "2f7912bf"
      },
      "source": [
        "### Delete Tuple"
      ]
    },
    {
      "cell_type": "code",
      "execution_count": null,
      "id": "1d50da93",
      "metadata": {
        "id": "1d50da93"
      },
      "outputs": [],
      "source": [
        "t1 = (1, 2, 3, 1000, 34, 5, 'Data')\n",
        "del t1"
      ]
    },
    {
      "cell_type": "code",
      "execution_count": null,
      "id": "9c22e56d",
      "metadata": {
        "id": "9c22e56d",
        "outputId": "8103d28d-623b-46e3-86bc-4493b2cb20d3"
      },
      "outputs": [
        {
          "ename": "NameError",
          "evalue": "name 't1' is not defined",
          "output_type": "error",
          "traceback": [
            "\u001b[1;31m---------------------------------------------------------------------------\u001b[0m",
            "\u001b[1;31mNameError\u001b[0m                                 Traceback (most recent call last)",
            "Cell \u001b[1;32mIn[75], line 1\u001b[0m\n\u001b[1;32m----> 1\u001b[0m \u001b[43mt1\u001b[49m\n",
            "\u001b[1;31mNameError\u001b[0m: name 't1' is not defined"
          ]
        }
      ],
      "source": [
        "t1"
      ]
    },
    {
      "cell_type": "markdown",
      "id": "7e147ac4",
      "metadata": {
        "id": "7e147ac4"
      },
      "source": [
        "### Tuple Operations"
      ]
    },
    {
      "cell_type": "code",
      "execution_count": null,
      "id": "f5263b08",
      "metadata": {
        "id": "f5263b08",
        "outputId": "5ab77397-a0ea-4035-e13b-fe0862e03b0b"
      },
      "outputs": [
        {
          "name": "stdout",
          "output_type": "stream",
          "text": [
            "(1, 2, 3, 4)\n",
            "('q', 'r', 3, 5, 6, 7)\n",
            "(1, 2, 3, 4, 'q', 'r', 3, 5, 6, 7)\n"
          ]
        }
      ],
      "source": [
        "t1 = (1,2,3,4)\n",
        "t2 = ('q', 'r', 3, 5, 6, 7)\n",
        "t3 = t1 + t2\n",
        "print(t1)\n",
        "print(t2)\n",
        "print(t3)"
      ]
    },
    {
      "cell_type": "code",
      "execution_count": null,
      "id": "52f8b3df",
      "metadata": {
        "id": "52f8b3df",
        "outputId": "c189c329-b764-4271-ee0b-d42ed04d12f6"
      },
      "outputs": [
        {
          "data": {
            "text/plain": [
              "(1, 2, 3, 4, 'q', 'r', 3, 5, 6, 7)"
            ]
          },
          "execution_count": 78,
          "metadata": {},
          "output_type": "execute_result"
        }
      ],
      "source": [
        "t3"
      ]
    },
    {
      "cell_type": "code",
      "execution_count": null,
      "id": "f475f9e9",
      "metadata": {
        "id": "f475f9e9",
        "outputId": "7635e948-ab4c-44d9-afc5-fdcbb2b2a806"
      },
      "outputs": [
        {
          "data": {
            "text/plain": [
              "True"
            ]
          },
          "execution_count": 79,
          "metadata": {},
          "output_type": "execute_result"
        }
      ],
      "source": [
        "4 in t3"
      ]
    },
    {
      "cell_type": "code",
      "execution_count": null,
      "id": "bc8d179b",
      "metadata": {
        "id": "bc8d179b",
        "outputId": "c479b90c-d200-44dd-9f41-3667b0a9d57e"
      },
      "outputs": [
        {
          "data": {
            "text/plain": [
              "False"
            ]
          },
          "execution_count": 80,
          "metadata": {},
          "output_type": "execute_result"
        }
      ],
      "source": [
        "110 in t3"
      ]
    },
    {
      "cell_type": "code",
      "execution_count": null,
      "id": "09d02d8e",
      "metadata": {
        "id": "09d02d8e",
        "outputId": "31862c95-20ef-44c9-add2-60cc1638c470"
      },
      "outputs": [
        {
          "ename": "AttributeError",
          "evalue": "'tuple' object has no attribute 'extend'",
          "output_type": "error",
          "traceback": [
            "\u001b[1;31m---------------------------------------------------------------------------\u001b[0m",
            "\u001b[1;31mAttributeError\u001b[0m                            Traceback (most recent call last)",
            "Cell \u001b[1;32mIn[81], line 3\u001b[0m\n\u001b[0;32m      1\u001b[0m t1 \u001b[38;5;241m=\u001b[39m (\u001b[38;5;241m1\u001b[39m,\u001b[38;5;241m2\u001b[39m,\u001b[38;5;241m3\u001b[39m,\u001b[38;5;241m4\u001b[39m)\n\u001b[0;32m      2\u001b[0m t2 \u001b[38;5;241m=\u001b[39m (\u001b[38;5;124m'\u001b[39m\u001b[38;5;124mq\u001b[39m\u001b[38;5;124m'\u001b[39m, \u001b[38;5;124m'\u001b[39m\u001b[38;5;124mr\u001b[39m\u001b[38;5;124m'\u001b[39m, \u001b[38;5;241m3\u001b[39m, \u001b[38;5;241m5\u001b[39m, \u001b[38;5;241m6\u001b[39m, \u001b[38;5;241m7\u001b[39m)\n\u001b[1;32m----> 3\u001b[0m \u001b[43mt1\u001b[49m\u001b[38;5;241;43m.\u001b[39;49m\u001b[43mextend\u001b[49m(t2)\n",
            "\u001b[1;31mAttributeError\u001b[0m: 'tuple' object has no attribute 'extend'"
          ]
        }
      ],
      "source": [
        "t1 = (1,2,3,4)\n",
        "t2 = ('q', 'r', 3, 5, 6, 7)\n",
        "t1.extend(t2)"
      ]
    },
    {
      "cell_type": "code",
      "execution_count": null,
      "id": "fd93d190",
      "metadata": {
        "id": "fd93d190",
        "outputId": "314412a6-7b8d-47a9-df4b-7cd6ce7430a6"
      },
      "outputs": [
        {
          "name": "stdout",
          "output_type": "stream",
          "text": [
            "(1, 2, 3, 4, 'q', 'r', 3, 5, 6, 7)\n"
          ]
        }
      ],
      "source": [
        "t1 = (1,2,3,4)\n",
        "t2 = ('q', 'r', 3, 5, 6, 7)\n",
        "a = list(t1)     #list\n",
        "a.extend(t2)     #(1, 2, 3, 4, 'q', 'r', 3, 5, 6, 7)\n",
        "print(tuple(a))"
      ]
    },
    {
      "cell_type": "code",
      "execution_count": null,
      "id": "422711d4",
      "metadata": {
        "id": "422711d4",
        "outputId": "4d9c393b-5113-4802-9ad6-ba86923cb356"
      },
      "outputs": [
        {
          "data": {
            "text/plain": [
              "56"
            ]
          },
          "execution_count": 89,
          "metadata": {},
          "output_type": "execute_result"
        }
      ],
      "source": [
        "t = (1,4,5,32,56,32,56,7,8)\n",
        "max(t)"
      ]
    },
    {
      "cell_type": "code",
      "execution_count": null,
      "id": "e307f706",
      "metadata": {
        "id": "e307f706",
        "outputId": "feb3535c-94e2-4ef2-bdb2-642535b29ac3"
      },
      "outputs": [
        {
          "data": {
            "text/plain": [
              "1"
            ]
          },
          "execution_count": 90,
          "metadata": {},
          "output_type": "execute_result"
        }
      ],
      "source": [
        "min(t)"
      ]
    },
    {
      "cell_type": "code",
      "execution_count": null,
      "id": "e45282f2",
      "metadata": {
        "id": "e45282f2",
        "outputId": "a7294363-f52f-4ba6-b74b-aba61be2625d"
      },
      "outputs": [
        {
          "data": {
            "text/plain": [
              "9"
            ]
          },
          "execution_count": 91,
          "metadata": {},
          "output_type": "execute_result"
        }
      ],
      "source": [
        "len(t)"
      ]
    },
    {
      "cell_type": "code",
      "execution_count": null,
      "id": "151cbf70",
      "metadata": {
        "id": "151cbf70",
        "outputId": "555f6e38-7fc9-43b0-bc4b-f0a0c6180eae"
      },
      "outputs": [
        {
          "data": {
            "text/plain": [
              "201"
            ]
          },
          "execution_count": 92,
          "metadata": {},
          "output_type": "execute_result"
        }
      ],
      "source": [
        "sum(t)"
      ]
    }
  ],
  "metadata": {
    "kernelspec": {
      "display_name": "Python 3 (ipykernel)",
      "language": "python",
      "name": "python3"
    },
    "language_info": {
      "codemirror_mode": {
        "name": "ipython",
        "version": 3
      },
      "file_extension": ".py",
      "mimetype": "text/x-python",
      "name": "python",
      "nbconvert_exporter": "python",
      "pygments_lexer": "ipython3",
      "version": "3.8.17"
    },
    "colab": {
      "provenance": [],
      "include_colab_link": true
    }
  },
  "nbformat": 4,
  "nbformat_minor": 5
}