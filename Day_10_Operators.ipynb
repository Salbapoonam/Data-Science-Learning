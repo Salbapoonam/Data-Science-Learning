{
  "cells": [
    {
      "cell_type": "markdown",
      "metadata": {
        "id": "view-in-github",
        "colab_type": "text"
      },
      "source": [
        "<a href=\"https://colab.research.google.com/github/Salbapoonam/Data-Science-Learning/blob/main/Day_10_Operators.ipynb\" target=\"_parent\"><img src=\"https://colab.research.google.com/assets/colab-badge.svg\" alt=\"Open In Colab\"/></a>"
      ]
    },
    {
      "cell_type": "markdown",
      "id": "0b3c8308",
      "metadata": {
        "id": "0b3c8308"
      },
      "source": [
        "### Arithmatic operators"
      ]
    },
    {
      "cell_type": "raw",
      "id": "bedd1319",
      "metadata": {
        "id": "bedd1319"
      },
      "source": [
        "+  >> Addition\n",
        "-  >> Substraction\n",
        "*  >> Multiplicaation\n",
        "/  >> Division    a/b  >> output will always float data type\n",
        "%  >> Modulus\n",
        "**  >> Exponent\n",
        "//  >> Floor division"
      ]
    },
    {
      "cell_type": "code",
      "execution_count": null,
      "id": "6a50a439",
      "metadata": {
        "id": "6a50a439",
        "outputId": "c1c8da86-412d-4343-c78c-765e31a27bed"
      },
      "outputs": [
        {
          "data": {
            "text/plain": [
              "30"
            ]
          },
          "execution_count": 1,
          "metadata": {},
          "output_type": "execute_result"
        }
      ],
      "source": [
        "10 + 20"
      ]
    },
    {
      "cell_type": "code",
      "execution_count": null,
      "id": "2d587c69",
      "metadata": {
        "id": "2d587c69",
        "outputId": "3383a2f7-572a-42c5-e554-1083e6a63fab"
      },
      "outputs": [
        {
          "data": {
            "text/plain": [
              "'pythonClass'"
            ]
          },
          "execution_count": 2,
          "metadata": {},
          "output_type": "execute_result"
        }
      ],
      "source": [
        "\"python\" + \"Class\""
      ]
    },
    {
      "cell_type": "code",
      "execution_count": null,
      "id": "6df8832a",
      "metadata": {
        "id": "6df8832a",
        "outputId": "8f052d64-fed3-4e68-dcd5-ba7d5b796c7c"
      },
      "outputs": [
        {
          "data": {
            "text/plain": [
              "2"
            ]
          },
          "execution_count": 3,
          "metadata": {},
          "output_type": "execute_result"
        }
      ],
      "source": [
        "25-23"
      ]
    },
    {
      "cell_type": "code",
      "execution_count": null,
      "id": "5456bd73",
      "metadata": {
        "id": "5456bd73",
        "outputId": "8e6851f0-b7de-4116-a30d-66db140cff60"
      },
      "outputs": [
        {
          "data": {
            "text/plain": [
              "'pythonpythonpythonClass'"
            ]
          },
          "execution_count": 4,
          "metadata": {},
          "output_type": "execute_result"
        }
      ],
      "source": [
        "\"python\"*3 + \"Class\""
      ]
    },
    {
      "cell_type": "code",
      "execution_count": null,
      "id": "08911baf",
      "metadata": {
        "id": "08911baf",
        "outputId": "ba8e05ff-2b0d-4875-adcc-bfb060bf6622"
      },
      "outputs": [
        {
          "data": {
            "text/plain": [
              "102"
            ]
          },
          "execution_count": 5,
          "metadata": {},
          "output_type": "execute_result"
        }
      ],
      "source": [
        "3*34"
      ]
    },
    {
      "cell_type": "code",
      "execution_count": null,
      "id": "73d9170a",
      "metadata": {
        "id": "73d9170a",
        "outputId": "7e90d7be-9993-4703-ffa8-c91064ff48c2"
      },
      "outputs": [
        {
          "data": {
            "text/plain": [
              "3.142857142857143"
            ]
          },
          "execution_count": 6,
          "metadata": {},
          "output_type": "execute_result"
        }
      ],
      "source": [
        "22/7"
      ]
    },
    {
      "cell_type": "code",
      "execution_count": null,
      "id": "f5959f41",
      "metadata": {
        "id": "f5959f41",
        "outputId": "42fa988a-1e81-49cd-c8ae-db7a2a4edd36"
      },
      "outputs": [
        {
          "data": {
            "text/plain": [
              "2.0"
            ]
          },
          "execution_count": 7,
          "metadata": {},
          "output_type": "execute_result"
        }
      ],
      "source": [
        "4/2"
      ]
    },
    {
      "cell_type": "code",
      "execution_count": null,
      "id": "a6c671c8",
      "metadata": {
        "id": "a6c671c8",
        "outputId": "f80fd7f1-2e34-4cf6-beab-24e9fb7f5307"
      },
      "outputs": [
        {
          "data": {
            "text/plain": [
              "1"
            ]
          },
          "execution_count": 8,
          "metadata": {},
          "output_type": "execute_result"
        }
      ],
      "source": [
        "22%7"
      ]
    },
    {
      "cell_type": "code",
      "execution_count": null,
      "id": "0f25ce78",
      "metadata": {
        "id": "0f25ce78",
        "outputId": "6cd01d6c-0157-4c3d-8ba6-5c95901a8e5d"
      },
      "outputs": [
        {
          "data": {
            "text/plain": [
              "0"
            ]
          },
          "execution_count": 9,
          "metadata": {},
          "output_type": "execute_result"
        }
      ],
      "source": [
        "4%2"
      ]
    },
    {
      "cell_type": "code",
      "execution_count": null,
      "id": "e3a9ec12",
      "metadata": {
        "id": "e3a9ec12",
        "outputId": "5b5ef88a-2352-497b-a452-edd52836f152"
      },
      "outputs": [
        {
          "data": {
            "text/plain": [
              "4"
            ]
          },
          "execution_count": 10,
          "metadata": {},
          "output_type": "execute_result"
        }
      ],
      "source": [
        "2**2"
      ]
    },
    {
      "cell_type": "code",
      "execution_count": null,
      "id": "07ec3545",
      "metadata": {
        "id": "07ec3545",
        "outputId": "5b0f4723-5b2e-412d-a8ba-a0aec3167f61"
      },
      "outputs": [
        {
          "data": {
            "text/plain": [
              "8"
            ]
          },
          "execution_count": 11,
          "metadata": {},
          "output_type": "execute_result"
        }
      ],
      "source": [
        "2**3"
      ]
    },
    {
      "cell_type": "code",
      "execution_count": null,
      "id": "8e15b7c0",
      "metadata": {
        "id": "8e15b7c0",
        "outputId": "d5d46cc3-5ba4-4f78-dde6-f2574c08ec64"
      },
      "outputs": [
        {
          "data": {
            "text/plain": [
              "2"
            ]
          },
          "execution_count": 12,
          "metadata": {},
          "output_type": "execute_result"
        }
      ],
      "source": [
        "int(4/2)"
      ]
    },
    {
      "cell_type": "code",
      "execution_count": null,
      "id": "5c18403d",
      "metadata": {
        "id": "5c18403d",
        "outputId": "22d5c54e-e8a9-4e8f-ef48-c406524670df"
      },
      "outputs": [
        {
          "data": {
            "text/plain": [
              "2.5"
            ]
          },
          "execution_count": 13,
          "metadata": {},
          "output_type": "execute_result"
        }
      ],
      "source": [
        "10/4"
      ]
    },
    {
      "cell_type": "code",
      "execution_count": null,
      "id": "06664da5",
      "metadata": {
        "id": "06664da5",
        "outputId": "fc22ceb2-9d5f-40e1-d561-43a9de75dcc3"
      },
      "outputs": [
        {
          "data": {
            "text/plain": [
              "2"
            ]
          },
          "execution_count": 14,
          "metadata": {},
          "output_type": "execute_result"
        }
      ],
      "source": [
        "10//4"
      ]
    },
    {
      "cell_type": "code",
      "execution_count": null,
      "id": "0ec3febc",
      "metadata": {
        "id": "0ec3febc",
        "outputId": "f74e8935-9cd9-475b-90bd-0a280947af2b"
      },
      "outputs": [
        {
          "data": {
            "text/plain": [
              "2"
            ]
          },
          "execution_count": 16,
          "metadata": {},
          "output_type": "execute_result"
        }
      ],
      "source": [
        "5//2"
      ]
    },
    {
      "cell_type": "code",
      "execution_count": null,
      "id": "20f07d4f",
      "metadata": {
        "id": "20f07d4f",
        "outputId": "6e1220f9-d78d-462a-e323-c3fcd3c540f3"
      },
      "outputs": [
        {
          "data": {
            "text/plain": [
              "3"
            ]
          },
          "execution_count": 18,
          "metadata": {},
          "output_type": "execute_result"
        }
      ],
      "source": [
        "7//2"
      ]
    },
    {
      "cell_type": "markdown",
      "id": "6065f9da",
      "metadata": {
        "id": "6065f9da"
      },
      "source": [
        "### Assignment operators"
      ]
    },
    {
      "cell_type": "raw",
      "id": "8aaa87f0",
      "metadata": {
        "id": "8aaa87f0"
      },
      "source": [
        "=\n",
        "+=   >>> a+=3 >> a = a + 3\n",
        "-=   >>> a-=3 >> a = a - 3\n",
        "*=   >>> a*=2 >> a = a * 2\n",
        "/=   >>> a/=3 >> a = a / 3\n",
        "//=   >>> a//=3 >> a = a // 3\n",
        "**=   >>> a**=3 >> a = a ** 3\n",
        "&=   >>> a&=3 >> a = a & 3\n",
        "|=   >>> a|=4  >> a = a|4"
      ]
    },
    {
      "cell_type": "code",
      "execution_count": null,
      "id": "9360c255",
      "metadata": {
        "id": "9360c255"
      },
      "outputs": [],
      "source": [
        "a = 5\n",
        "a = 5+3"
      ]
    },
    {
      "cell_type": "code",
      "execution_count": null,
      "id": "10da7c57",
      "metadata": {
        "id": "10da7c57",
        "outputId": "2b196f26-2333-4c36-fc6a-4f88897548fd"
      },
      "outputs": [
        {
          "data": {
            "text/plain": [
              "8"
            ]
          },
          "execution_count": 20,
          "metadata": {},
          "output_type": "execute_result"
        }
      ],
      "source": [
        "a"
      ]
    },
    {
      "cell_type": "code",
      "execution_count": null,
      "id": "37c0665e",
      "metadata": {
        "id": "37c0665e",
        "outputId": "8f621fc2-dcd5-4cf1-8699-afb99a7cceb8"
      },
      "outputs": [
        {
          "data": {
            "text/plain": [
              "9"
            ]
          },
          "execution_count": 23,
          "metadata": {},
          "output_type": "execute_result"
        }
      ],
      "source": [
        "a = 5\n",
        "a+=4\n",
        "a"
      ]
    },
    {
      "cell_type": "code",
      "execution_count": null,
      "id": "90088fed",
      "metadata": {
        "id": "90088fed",
        "outputId": "469cb4ad-03c7-4da5-c678-a7a92b1a31b9"
      },
      "outputs": [
        {
          "data": {
            "text/plain": [
              "9"
            ]
          },
          "execution_count": 24,
          "metadata": {},
          "output_type": "execute_result"
        }
      ],
      "source": [
        "a = 5\n",
        "a = a+4\n",
        "a"
      ]
    },
    {
      "cell_type": "code",
      "execution_count": null,
      "id": "1e3b0b2e",
      "metadata": {
        "id": "1e3b0b2e",
        "outputId": "c0c6e67d-d84e-4b13-bc13-38e9bd388b95"
      },
      "outputs": [
        {
          "data": {
            "text/plain": [
              "1"
            ]
          },
          "execution_count": 25,
          "metadata": {},
          "output_type": "execute_result"
        }
      ],
      "source": [
        "a = 5\n",
        "a-=4    # a = a-4\n",
        "a"
      ]
    },
    {
      "cell_type": "code",
      "execution_count": null,
      "id": "ef0a5df0",
      "metadata": {
        "id": "ef0a5df0",
        "outputId": "08f7dcdc-77e3-41c2-cf28-344218dbbbbe"
      },
      "outputs": [
        {
          "data": {
            "text/plain": [
              "25"
            ]
          },
          "execution_count": 26,
          "metadata": {},
          "output_type": "execute_result"
        }
      ],
      "source": [
        "a = 5\n",
        "a*=5    # a = a*5\n",
        "a"
      ]
    },
    {
      "cell_type": "code",
      "execution_count": null,
      "id": "bac12373",
      "metadata": {
        "id": "bac12373",
        "outputId": "68cd2daf-bc2a-4929-9dec-f6786bc63e5c"
      },
      "outputs": [
        {
          "data": {
            "text/plain": [
              "10.0"
            ]
          },
          "execution_count": 27,
          "metadata": {},
          "output_type": "execute_result"
        }
      ],
      "source": [
        "a = 50\n",
        "a/=5    # a = a/5\n",
        "a"
      ]
    },
    {
      "cell_type": "code",
      "execution_count": null,
      "id": "8a3cb804",
      "metadata": {
        "id": "8a3cb804",
        "outputId": "6017b374-5479-4bc9-f24d-bbf46cd1aa44"
      },
      "outputs": [
        {
          "data": {
            "text/plain": [
              "8"
            ]
          },
          "execution_count": 29,
          "metadata": {},
          "output_type": "execute_result"
        }
      ],
      "source": [
        "a = 50\n",
        "a//=6    # a = a//6\n",
        "a"
      ]
    },
    {
      "cell_type": "code",
      "execution_count": null,
      "id": "89bc4d47",
      "metadata": {
        "id": "89bc4d47",
        "outputId": "eacce312-7be1-4ce4-8ddc-faf7b2e123a3"
      },
      "outputs": [
        {
          "data": {
            "text/plain": [
              "225"
            ]
          },
          "execution_count": 30,
          "metadata": {},
          "output_type": "execute_result"
        }
      ],
      "source": [
        "a = 15\n",
        "a**=2    # a = a**2\n",
        "a"
      ]
    },
    {
      "cell_type": "code",
      "execution_count": null,
      "id": "93036b7f",
      "metadata": {
        "id": "93036b7f",
        "outputId": "b2cdbda5-7b1a-4ad6-926c-51fb555d8619"
      },
      "outputs": [
        {
          "data": {
            "text/plain": [
              "'0b1110'"
            ]
          },
          "execution_count": 31,
          "metadata": {},
          "output_type": "execute_result"
        }
      ],
      "source": [
        "a = 14    # 1 1 1 0\n",
        "bin(a)"
      ]
    },
    {
      "cell_type": "code",
      "execution_count": null,
      "id": "a145c9c2",
      "metadata": {
        "id": "a145c9c2",
        "outputId": "f523e324-54e1-4274-c101-d62428eea53b"
      },
      "outputs": [
        {
          "data": {
            "text/plain": [
              "'0b1111'"
            ]
          },
          "execution_count": 32,
          "metadata": {},
          "output_type": "execute_result"
        }
      ],
      "source": [
        "bin(15)"
      ]
    },
    {
      "cell_type": "code",
      "execution_count": null,
      "id": "3eaf5453",
      "metadata": {
        "id": "3eaf5453",
        "outputId": "06984857-f38a-404e-aedc-f1c9b1aee251"
      },
      "outputs": [
        {
          "data": {
            "text/plain": [
              "'0b11'"
            ]
          },
          "execution_count": 33,
          "metadata": {},
          "output_type": "execute_result"
        }
      ],
      "source": [
        "bin(3)"
      ]
    },
    {
      "cell_type": "code",
      "execution_count": null,
      "id": "4becb33a",
      "metadata": {
        "id": "4becb33a",
        "outputId": "2695b106-a901-422b-e8c6-55c21c00e263"
      },
      "outputs": [
        {
          "data": {
            "text/plain": [
              "'0b1010'"
            ]
          },
          "execution_count": 34,
          "metadata": {},
          "output_type": "execute_result"
        }
      ],
      "source": [
        "bin(10)     # 1 0 1 0 >>>  2^3 + 2^0 + 2^1 + 2^0 >> 8+0+2+0 >> 10"
      ]
    },
    {
      "cell_type": "code",
      "execution_count": null,
      "id": "dbb01a2c",
      "metadata": {
        "id": "dbb01a2c",
        "outputId": "e24763d1-c4a8-4a05-e299-118d28147c2b"
      },
      "outputs": [
        {
          "data": {
            "text/plain": [
              "'0b1111'"
            ]
          },
          "execution_count": 36,
          "metadata": {},
          "output_type": "execute_result"
        }
      ],
      "source": [
        "bin(15)     # 1 1 1 1 >> 2^3 + 2^2 + 2^1 + 2^0  >> 8+4+2+1  >>> 15"
      ]
    },
    {
      "cell_type": "code",
      "execution_count": null,
      "id": "48a65359",
      "metadata": {
        "id": "48a65359",
        "outputId": "b2a426e1-9f48-45c9-a360-ec5f7970f932"
      },
      "outputs": [
        {
          "data": {
            "text/plain": [
              "'0b1100'"
            ]
          },
          "execution_count": 37,
          "metadata": {},
          "output_type": "execute_result"
        }
      ],
      "source": [
        "bin(12)     # 1 1 0 0 >> 2^3 + 2^2 + 2^1 + 2^0  >> 8+4+0+0 >>>12"
      ]
    },
    {
      "cell_type": "code",
      "execution_count": null,
      "id": "4e9d1f8c",
      "metadata": {
        "id": "4e9d1f8c"
      },
      "outputs": [],
      "source": [
        "a = 10\n",
        "b = 12"
      ]
    },
    {
      "cell_type": "code",
      "execution_count": null,
      "id": "338e9b3c",
      "metadata": {
        "id": "338e9b3c",
        "outputId": "b9a0f980-4cbd-4154-caa9-907686b037bf"
      },
      "outputs": [
        {
          "data": {
            "text/plain": [
              "8"
            ]
          },
          "execution_count": 39,
          "metadata": {},
          "output_type": "execute_result"
        }
      ],
      "source": [
        "a  & b"
      ]
    },
    {
      "cell_type": "code",
      "execution_count": null,
      "id": "9ed52dbe",
      "metadata": {
        "id": "9ed52dbe",
        "outputId": "52539d8e-6cab-4eba-cf47-3c074ad161f9"
      },
      "outputs": [
        {
          "data": {
            "text/plain": [
              "14"
            ]
          },
          "execution_count": 40,
          "metadata": {},
          "output_type": "execute_result"
        }
      ],
      "source": [
        "a|b"
      ]
    },
    {
      "cell_type": "code",
      "execution_count": null,
      "id": "1fcd6b26",
      "metadata": {
        "id": "1fcd6b26",
        "outputId": "12ddaad5-2fe5-4159-8237-54971b7f319d"
      },
      "outputs": [
        {
          "data": {
            "text/plain": [
              "2"
            ]
          },
          "execution_count": 41,
          "metadata": {},
          "output_type": "execute_result"
        }
      ],
      "source": [
        "a = 2\n",
        "b = 3\n",
        "a & b"
      ]
    },
    {
      "cell_type": "code",
      "execution_count": null,
      "id": "f1d8b8c8",
      "metadata": {
        "id": "f1d8b8c8",
        "outputId": "ef19ddef-df9f-4d06-b347-4e00807ea22a"
      },
      "outputs": [
        {
          "name": "stdout",
          "output_type": "stream",
          "text": [
            "Char at index 0 is p\n",
            "Char at index 1 is y\n",
            "Char at index 2 is t\n",
            "Char at index 3 is h\n",
            "Char at index 4 is o\n",
            "Char at index 5 is n\n"
          ]
        }
      ],
      "source": [
        "count = 0\n",
        "string = 'python'\n",
        "for i in string:\n",
        "    print(f'Char at index {count} is {i}')\n",
        "    count=count+1"
      ]
    },
    {
      "cell_type": "code",
      "execution_count": null,
      "id": "db8c09d1",
      "metadata": {
        "id": "db8c09d1",
        "outputId": "2b3315ef-ae9f-42ad-e369-982365d1c2b9"
      },
      "outputs": [
        {
          "name": "stdout",
          "output_type": "stream",
          "text": [
            "Index [0] ==== p\n",
            "Index [1] ==== y\n",
            "Index [2] ==== t\n",
            "Index [3] ==== h\n",
            "Index [4] ==== o\n",
            "Index [5] ==== n\n"
          ]
        }
      ],
      "source": [
        "count = 0\n",
        "string = 'python'\n",
        "for char in string:\n",
        "    print(f'Index [{count}] ==== {char}')\n",
        "    count=count+1"
      ]
    },
    {
      "cell_type": "markdown",
      "id": "86b756f7",
      "metadata": {
        "id": "86b756f7"
      },
      "source": [
        "### WAP to check if number is even or odd"
      ]
    },
    {
      "cell_type": "code",
      "execution_count": null,
      "id": "00776821",
      "metadata": {
        "id": "00776821",
        "outputId": "986b952d-5681-42ea-90a7-9c7b9423af5d"
      },
      "outputs": [
        {
          "name": "stdout",
          "output_type": "stream",
          "text": [
            "Enter a number10\n",
            "Number 10 is even\n"
          ]
        }
      ],
      "source": [
        "a = int(input(\"Enter a number\"))\n",
        "\n",
        "if a%2 == 0:      #True\n",
        "    print(f\"Number {a} is even\")\n",
        "\n",
        "else:\n",
        "    print(f\"Number {a} is odd\")"
      ]
    },
    {
      "cell_type": "code",
      "execution_count": null,
      "id": "803290dd",
      "metadata": {
        "id": "803290dd",
        "outputId": "f53b72f9-c3ad-4693-9824-f1cf6ecb24c1"
      },
      "outputs": [
        {
          "name": "stdout",
          "output_type": "stream",
          "text": [
            "Enter a number7\n",
            "Number 7 is odd\n"
          ]
        }
      ],
      "source": [
        "a = int(input(\"Enter a number\"))\n",
        "\n",
        "if a%2 == 0:      #False\n",
        "    print(f\"Number {a} is even\")\n",
        "\n",
        "else:\n",
        "    print(f\"Number {a} is odd\")"
      ]
    },
    {
      "cell_type": "markdown",
      "id": "715fd1a9",
      "metadata": {
        "id": "715fd1a9"
      },
      "source": [
        "### WAP to find polynomial equation value"
      ]
    },
    {
      "cell_type": "raw",
      "id": "3efe1057",
      "metadata": {
        "id": "3efe1057"
      },
      "source": [
        "y = x^3 + 4x^2 -3x + 5\n",
        "x = 3\n",
        "x = 5\n",
        "x = 7"
      ]
    },
    {
      "cell_type": "code",
      "execution_count": null,
      "id": "89b9a409",
      "metadata": {
        "id": "89b9a409",
        "outputId": "98131b72-7a93-4e5e-c9b8-089cb39a87df"
      },
      "outputs": [
        {
          "name": "stdout",
          "output_type": "stream",
          "text": [
            "Enter the number3\n",
            "59\n"
          ]
        }
      ],
      "source": [
        "x = int(input('Enter the number '))\n",
        "y = (x**3) + (4*x**2) -3*x + 5\n",
        "print(y)"
      ]
    },
    {
      "cell_type": "code",
      "execution_count": null,
      "id": "13fa06a2",
      "metadata": {
        "id": "13fa06a2",
        "outputId": "6ad534a3-0d9b-4f7d-89ce-3824420086d5"
      },
      "outputs": [
        {
          "name": "stdout",
          "output_type": "stream",
          "text": [
            "Enter the number 5\n",
            "215\n"
          ]
        }
      ],
      "source": [
        "x = int(input('Enter the number '))\n",
        "y = (x**3) + (4*x**2) -3*x + 5\n",
        "print(y)"
      ]
    },
    {
      "cell_type": "code",
      "execution_count": null,
      "id": "237404d4",
      "metadata": {
        "id": "237404d4",
        "outputId": "e065e871-17fe-41b8-b3ce-6fb61083f326"
      },
      "outputs": [
        {
          "name": "stdout",
          "output_type": "stream",
          "text": [
            "Enter the number 7\n",
            "523\n"
          ]
        }
      ],
      "source": [
        "x = int(input('Enter the number '))\n",
        "y = (x**3) + (4*x**2) -3*x + 5\n",
        "print(y)"
      ]
    },
    {
      "cell_type": "markdown",
      "id": "a70a9c2b",
      "metadata": {
        "id": "a70a9c2b"
      },
      "source": [
        "#### 1. Arithmatic operators"
      ]
    },
    {
      "cell_type": "code",
      "execution_count": null,
      "id": "d05bdd73",
      "metadata": {
        "id": "d05bdd73"
      },
      "outputs": [],
      "source": [
        "+\n",
        "-\n",
        "*\n",
        "/\n",
        "//\n",
        "%\n",
        "**"
      ]
    },
    {
      "cell_type": "markdown",
      "id": "09475cc3",
      "metadata": {
        "id": "09475cc3"
      },
      "source": [
        "#### 2. Assignment operators"
      ]
    },
    {
      "cell_type": "code",
      "execution_count": null,
      "id": "f00a0dc0",
      "metadata": {
        "id": "f00a0dc0"
      },
      "outputs": [],
      "source": [
        "=\n",
        "+=\n",
        "-=\n",
        "*=\n",
        "/=\n",
        "//=\n",
        "%=\n",
        "**=\n",
        "&=\n",
        "|=\n",
        "^=\n",
        ">>=\n",
        "<<="
      ]
    },
    {
      "cell_type": "markdown",
      "id": "e27d6c14",
      "metadata": {
        "id": "e27d6c14"
      },
      "source": [
        "#### 3. Comparison operators"
      ]
    },
    {
      "cell_type": "code",
      "execution_count": null,
      "id": "bd90e60d",
      "metadata": {
        "id": "bd90e60d"
      },
      "outputs": [],
      "source": [
        "==\n",
        "!=\n",
        ">\n",
        "<\n",
        ">=\n",
        "<="
      ]
    },
    {
      "cell_type": "markdown",
      "id": "3488f857",
      "metadata": {
        "id": "3488f857"
      },
      "source": [
        "#### 4. Membership operators"
      ]
    },
    {
      "cell_type": "code",
      "execution_count": null,
      "id": "afa7ade4",
      "metadata": {
        "id": "afa7ade4"
      },
      "outputs": [],
      "source": [
        "in\n",
        "not in"
      ]
    },
    {
      "cell_type": "markdown",
      "id": "27d202f1",
      "metadata": {
        "id": "27d202f1"
      },
      "source": [
        "#### 5. Logical operators"
      ]
    },
    {
      "cell_type": "code",
      "execution_count": null,
      "id": "b01b8656",
      "metadata": {
        "id": "b01b8656"
      },
      "outputs": [],
      "source": [
        "and\n",
        "or\n",
        "not"
      ]
    },
    {
      "cell_type": "markdown",
      "id": "051ad807",
      "metadata": {
        "id": "051ad807"
      },
      "source": [
        "#### 6. Identity operators"
      ]
    },
    {
      "cell_type": "code",
      "execution_count": null,
      "id": "aff4a246",
      "metadata": {
        "id": "aff4a246"
      },
      "outputs": [],
      "source": [
        "is >> #True >> Both objects at same loc\n",
        "is not"
      ]
    },
    {
      "cell_type": "markdown",
      "id": "d4df254c",
      "metadata": {
        "id": "d4df254c"
      },
      "source": [
        "#### 7. Bitwise operators"
      ]
    },
    {
      "cell_type": "code",
      "execution_count": null,
      "id": "dc270d32",
      "metadata": {
        "id": "dc270d32"
      },
      "outputs": [],
      "source": [
        "& >> Bitwise AND\n",
        "| >> Bitwise OR\n",
        "^ >> Bitwise XOR\n",
        "~ >> NOT\n",
        "<< left shift\n",
        ">> right shift"
      ]
    },
    {
      "cell_type": "code",
      "execution_count": null,
      "id": "6c562da6",
      "metadata": {
        "id": "6c562da6",
        "outputId": "1ab6c6e4-5fc7-4780-bc2a-12a2e4b59b47"
      },
      "outputs": [
        {
          "data": {
            "text/plain": [
              "True"
            ]
          },
          "execution_count": 54,
          "metadata": {},
          "output_type": "execute_result"
        }
      ],
      "source": [
        "s = 'python'\n",
        "'t' in s"
      ]
    },
    {
      "cell_type": "code",
      "execution_count": null,
      "id": "f128f2c5",
      "metadata": {
        "id": "f128f2c5",
        "outputId": "f27c5d95-3793-4cb5-d6b4-b32d8785530c"
      },
      "outputs": [
        {
          "data": {
            "text/plain": [
              "False"
            ]
          },
          "execution_count": 55,
          "metadata": {},
          "output_type": "execute_result"
        }
      ],
      "source": [
        "s = 'python'\n",
        "'x' in s"
      ]
    },
    {
      "cell_type": "code",
      "execution_count": null,
      "id": "20696295",
      "metadata": {
        "id": "20696295",
        "outputId": "2f262b96-8b32-4255-f8af-94dfb22fce9e"
      },
      "outputs": [
        {
          "data": {
            "text/plain": [
              "True"
            ]
          },
          "execution_count": 56,
          "metadata": {},
          "output_type": "execute_result"
        }
      ],
      "source": [
        "s = 'python'\n",
        "'x' not in s"
      ]
    },
    {
      "cell_type": "code",
      "execution_count": null,
      "id": "7362befb",
      "metadata": {
        "id": "7362befb",
        "outputId": "3b83af39-3623-4aa0-bb70-5e37a29b9d68"
      },
      "outputs": [
        {
          "data": {
            "text/plain": [
              "True"
            ]
          },
          "execution_count": 57,
          "metadata": {},
          "output_type": "execute_result"
        }
      ],
      "source": [
        "list1 = [1,2,3,4,5,6]\n",
        "4 in list1"
      ]
    },
    {
      "cell_type": "code",
      "execution_count": null,
      "id": "5ae9f3f1",
      "metadata": {
        "id": "5ae9f3f1",
        "outputId": "989aaf06-a650-425f-9085-2ef73ec31378"
      },
      "outputs": [
        {
          "name": "stdout",
          "output_type": "stream",
          "text": [
            "140705015475232\n",
            "140705015475232\n"
          ]
        },
        {
          "data": {
            "text/plain": [
              "True"
            ]
          },
          "execution_count": 59,
          "metadata": {},
          "output_type": "execute_result"
        }
      ],
      "source": [
        "a = 5\n",
        "b = 5\n",
        "a == b\n",
        "print(id(a))\n",
        "print(id(b))\n",
        "\n",
        "a is b"
      ]
    },
    {
      "cell_type": "code",
      "execution_count": null,
      "id": "56d3ef7d",
      "metadata": {
        "id": "56d3ef7d",
        "outputId": "661fde92-57cc-4f86-b93e-2abde9d3bffe"
      },
      "outputs": [
        {
          "name": "stdout",
          "output_type": "stream",
          "text": [
            "140705015475552\n",
            "140705015475264\n"
          ]
        },
        {
          "data": {
            "text/plain": [
              "False"
            ]
          },
          "execution_count": 62,
          "metadata": {},
          "output_type": "execute_result"
        }
      ],
      "source": [
        "x = 15\n",
        "y = 6\n",
        "x == y\n",
        "print(id(x))\n",
        "print(id(y))\n",
        "\n",
        "x is y"
      ]
    },
    {
      "cell_type": "code",
      "execution_count": null,
      "id": "95acc801",
      "metadata": {
        "id": "95acc801",
        "outputId": "620ddc12-c40a-44d9-d0b4-0e7bdc1bd988"
      },
      "outputs": [
        {
          "name": "stdout",
          "output_type": "stream",
          "text": [
            "140705015475232\n"
          ]
        }
      ],
      "source": [
        "c = a\n",
        "print(id(c))"
      ]
    },
    {
      "cell_type": "code",
      "execution_count": null,
      "id": "4b3d7f9c",
      "metadata": {
        "id": "4b3d7f9c",
        "outputId": "ea617562-f607-4751-f317-9183af292f39"
      },
      "outputs": [
        {
          "data": {
            "text/plain": [
              "True"
            ]
          },
          "execution_count": 64,
          "metadata": {},
          "output_type": "execute_result"
        }
      ],
      "source": [
        "a is c"
      ]
    },
    {
      "cell_type": "code",
      "execution_count": null,
      "id": "e4e7b444",
      "metadata": {
        "id": "e4e7b444",
        "outputId": "617eb1b9-38e9-4064-adf0-cc42c59bc51d"
      },
      "outputs": [
        {
          "data": {
            "text/plain": [
              "True"
            ]
          },
          "execution_count": 65,
          "metadata": {},
          "output_type": "execute_result"
        }
      ],
      "source": [
        "b is c"
      ]
    },
    {
      "cell_type": "code",
      "execution_count": null,
      "id": "e6e7e7e6",
      "metadata": {
        "id": "e6e7e7e6",
        "outputId": "fc0fb070-0cf8-4bf0-d7c0-ee8a91b5062d"
      },
      "outputs": [
        {
          "name": "stdout",
          "output_type": "stream",
          "text": [
            "2303239060336\n",
            "2303239048624\n",
            "2303239060336\n"
          ]
        },
        {
          "data": {
            "text/plain": [
              "True"
            ]
          },
          "execution_count": 69,
          "metadata": {},
          "output_type": "execute_result"
        }
      ],
      "source": [
        "s1 = \"Python Class\"\n",
        "s2 = \"Python Class\"\n",
        "s3 = s1\n",
        "print(id(s1))\n",
        "print(id(s2))\n",
        "print(id(s3))\n",
        "\n",
        "s2 is s3\n",
        "s2 is not s3"
      ]
    },
    {
      "cell_type": "code",
      "execution_count": null,
      "id": "91cfa4b2",
      "metadata": {
        "id": "91cfa4b2",
        "outputId": "5eb09f81-e488-42c7-98c5-a87d304146ca"
      },
      "outputs": [
        {
          "name": "stdout",
          "output_type": "stream",
          "text": [
            "2303154289904\n",
            "2303154289904\n",
            "2303154289904\n"
          ]
        },
        {
          "data": {
            "text/plain": [
              "True"
            ]
          },
          "execution_count": 70,
          "metadata": {},
          "output_type": "execute_result"
        }
      ],
      "source": [
        "s1 = \"Python\"\n",
        "s2 = \"Python\"\n",
        "s3 = s1\n",
        "print(id(s1))\n",
        "print(id(s2))\n",
        "print(id(s3))\n",
        "\n",
        "s2 is s3"
      ]
    },
    {
      "cell_type": "markdown",
      "id": "70271b52",
      "metadata": {
        "id": "70271b52"
      },
      "source": [
        "### List"
      ]
    },
    {
      "cell_type": "raw",
      "id": "3317af97",
      "metadata": {
        "id": "3317af97"
      },
      "source": [
        "It is collection of items\n",
        "ordered\n",
        "Mutable (Changeable)\n",
        "Enclosed by square brackets  >> []\n",
        "Used to store sequence of various data\n",
        "types(int, float, str, list, tuple, dict, dataframe etc)\n",
        "Most useful datatype in Python\n",
        "List are comma separated\n",
        "Duplicates are allowed"
      ]
    },
    {
      "cell_type": "code",
      "execution_count": null,
      "id": "444e62a5",
      "metadata": {
        "id": "444e62a5"
      },
      "outputs": [],
      "source": [
        "list1 = [1,2,3,4,5,6]\n",
        "num = [2,4,5,56,67,7,78]"
      ]
    },
    {
      "cell_type": "code",
      "execution_count": null,
      "id": "12f4ab77",
      "metadata": {
        "id": "12f4ab77",
        "outputId": "e2196142-7cf5-4e9b-845a-bbc8470a957b"
      },
      "outputs": [
        {
          "data": {
            "text/plain": [
              "list"
            ]
          },
          "execution_count": 72,
          "metadata": {},
          "output_type": "execute_result"
        }
      ],
      "source": [
        "type(list1)"
      ]
    },
    {
      "cell_type": "code",
      "execution_count": null,
      "id": "96e92010",
      "metadata": {
        "id": "96e92010",
        "outputId": "aba37e43-696f-40cc-a974-ddb8c18431f6"
      },
      "outputs": [
        {
          "data": {
            "text/plain": [
              "list"
            ]
          },
          "execution_count": 73,
          "metadata": {},
          "output_type": "execute_result"
        }
      ],
      "source": [
        "type(num)"
      ]
    },
    {
      "cell_type": "code",
      "execution_count": null,
      "id": "f8e03cea",
      "metadata": {
        "id": "f8e03cea",
        "outputId": "802ef177-1013-4fa2-875d-ef60fcbb0f6c"
      },
      "outputs": [
        {
          "name": "stdout",
          "output_type": "stream",
          "text": [
            "[1, 2, 4.5, 'python', (2+5j), 3, 5, 7] <class 'list'>\n"
          ]
        }
      ],
      "source": [
        "data = [1,2,4.5, 'python', 2+5j, 3,5,7]\n",
        "print(data, type(data))"
      ]
    },
    {
      "cell_type": "code",
      "execution_count": null,
      "id": "de87e60a",
      "metadata": {
        "id": "de87e60a",
        "outputId": "6cd327e2-9f35-4f08-8ab8-12052a099efc"
      },
      "outputs": [
        {
          "data": {
            "text/plain": [
              "[1, 2, 3, 4, 5, 6, 2, 3, 4, 5, 6]"
            ]
          },
          "execution_count": 75,
          "metadata": {},
          "output_type": "execute_result"
        }
      ],
      "source": [
        "list1 = [1,2,3,4,5,6,2,3,4,5,6]\n",
        "list1"
      ]
    },
    {
      "cell_type": "code",
      "execution_count": null,
      "id": "84b763e3",
      "metadata": {
        "id": "84b763e3",
        "outputId": "dbf9239a-61cf-4534-fbaa-bdb3d43f2900"
      },
      "outputs": [
        {
          "data": {
            "text/plain": [
              "{1, 2, 3, 4, 5, 6}"
            ]
          },
          "execution_count": 76,
          "metadata": {},
          "output_type": "execute_result"
        }
      ],
      "source": [
        "set(list1)"
      ]
    },
    {
      "cell_type": "code",
      "execution_count": null,
      "id": "ff7b4530",
      "metadata": {
        "id": "ff7b4530",
        "outputId": "1207aac6-54a2-4c2a-eca9-577b229d29e1"
      },
      "outputs": [
        {
          "data": {
            "text/plain": [
              "True"
            ]
          },
          "execution_count": 77,
          "metadata": {},
          "output_type": "execute_result"
        }
      ],
      "source": [
        "a = [1,2,3,4]\n",
        "b = [1,2,3,4]\n",
        "a == b"
      ]
    },
    {
      "cell_type": "code",
      "execution_count": null,
      "id": "2c963af3",
      "metadata": {
        "id": "2c963af3",
        "outputId": "208d6fb4-2ad0-4503-993d-67c5811d2367"
      },
      "outputs": [
        {
          "data": {
            "text/plain": [
              "False"
            ]
          },
          "execution_count": 78,
          "metadata": {},
          "output_type": "execute_result"
        }
      ],
      "source": [
        "a = [1,2,3,4]\n",
        "b = [1,2,3,4,5]\n",
        "a == b"
      ]
    },
    {
      "cell_type": "markdown",
      "id": "a3d93e72",
      "metadata": {
        "id": "a3d93e72"
      },
      "source": [
        "#### Indexing"
      ]
    },
    {
      "cell_type": "raw",
      "id": "8f286ac8",
      "metadata": {
        "id": "8f286ac8"
      },
      "source": [
        "Index will start at 0 to (len-1)"
      ]
    },
    {
      "cell_type": "code",
      "execution_count": null,
      "id": "4e692a7a",
      "metadata": {
        "id": "4e692a7a",
        "outputId": "2617bd86-df36-4a6a-8fc0-9ab40b990f8e"
      },
      "outputs": [
        {
          "data": {
            "text/plain": [
              "'python'"
            ]
          },
          "execution_count": 79,
          "metadata": {},
          "output_type": "execute_result"
        }
      ],
      "source": [
        "data = [1,2,4.5, 'python', 3,5,7]\n",
        "data[3]"
      ]
    },
    {
      "cell_type": "code",
      "execution_count": null,
      "id": "cd3340d3",
      "metadata": {
        "id": "cd3340d3",
        "outputId": "c6662b88-04bb-498b-e176-a49c40841b92"
      },
      "outputs": [
        {
          "data": {
            "text/plain": [
              "7"
            ]
          },
          "execution_count": 80,
          "metadata": {},
          "output_type": "execute_result"
        }
      ],
      "source": [
        "len(data)"
      ]
    },
    {
      "cell_type": "code",
      "execution_count": null,
      "id": "a21ea551",
      "metadata": {
        "id": "a21ea551",
        "outputId": "8d49150f-a68a-49ac-b39d-3266010edb43"
      },
      "outputs": [
        {
          "data": {
            "text/plain": [
              "7"
            ]
          },
          "execution_count": 81,
          "metadata": {},
          "output_type": "execute_result"
        }
      ],
      "source": [
        "data[6]"
      ]
    },
    {
      "cell_type": "code",
      "execution_count": null,
      "id": "311c0b15",
      "metadata": {
        "id": "311c0b15",
        "outputId": "d966e246-1e4d-4910-916d-bbbe4b616dbb"
      },
      "outputs": [
        {
          "data": {
            "text/plain": [
              "[2, 4.5]"
            ]
          },
          "execution_count": 82,
          "metadata": {},
          "output_type": "execute_result"
        }
      ],
      "source": [
        "data[1:3]"
      ]
    },
    {
      "cell_type": "code",
      "execution_count": null,
      "id": "d39b29ec",
      "metadata": {
        "id": "d39b29ec",
        "outputId": "25b60a25-c692-4f6c-f6d6-3f800668c187"
      },
      "outputs": [
        {
          "data": {
            "text/plain": [
              "[1, 2, 4.5, 'python', 3, 5]"
            ]
          },
          "execution_count": 86,
          "metadata": {},
          "output_type": "execute_result"
        }
      ],
      "source": [
        "data[0:6:1]"
      ]
    },
    {
      "cell_type": "code",
      "execution_count": null,
      "id": "f5971f1f",
      "metadata": {
        "id": "f5971f1f",
        "outputId": "7da54127-f70e-43b5-e01b-3f8fea844fe1"
      },
      "outputs": [
        {
          "data": {
            "text/plain": [
              "[1, 4.5, 3]"
            ]
          },
          "execution_count": 87,
          "metadata": {},
          "output_type": "execute_result"
        }
      ],
      "source": [
        "data[0:6:2]"
      ]
    },
    {
      "cell_type": "code",
      "execution_count": null,
      "id": "1c366fbb",
      "metadata": {
        "id": "1c366fbb",
        "outputId": "747375eb-6391-4635-e92b-586f255b00d6"
      },
      "outputs": [
        {
          "data": {
            "text/plain": [
              "['Pune', 'Mumbai', 'Delhi']"
            ]
          },
          "execution_count": 88,
          "metadata": {},
          "output_type": "execute_result"
        }
      ],
      "source": [
        "city_names = ['Pune', 'Mumbai', 'Delhi', 'Chennai', 'Hydrabad']\n",
        "city_names[0:3]"
      ]
    },
    {
      "cell_type": "code",
      "execution_count": null,
      "id": "5ac304ec",
      "metadata": {
        "id": "5ac304ec",
        "outputId": "67dbcdbe-7415-445d-b6d9-730997e2e924"
      },
      "outputs": [
        {
          "name": "stdout",
          "output_type": "stream",
          "text": [
            "Mumbai is present in city_names list\n"
          ]
        }
      ],
      "source": [
        "if 'Mumbai' in city_names:\n",
        "    print('Mumbai is present in city_names list')"
      ]
    },
    {
      "cell_type": "code",
      "execution_count": null,
      "id": "1f12418e",
      "metadata": {
        "id": "1f12418e",
        "outputId": "234844cf-48c9-458c-d511-1bea8882dc36"
      },
      "outputs": [
        {
          "name": "stdout",
          "output_type": "stream",
          "text": [
            "Name not found\n"
          ]
        }
      ],
      "source": [
        "if 'Mumbai1' in city_names:\n",
        "    print('Mumbai is present in city_names list')\n",
        "\n",
        "else:\n",
        "    print('Name not found')"
      ]
    },
    {
      "cell_type": "code",
      "execution_count": null,
      "id": "d483c55f",
      "metadata": {
        "id": "d483c55f",
        "outputId": "047c8349-2ec5-4eac-be45-193eeb1fbba1"
      },
      "outputs": [
        {
          "data": {
            "text/plain": [
              "False"
            ]
          },
          "execution_count": 93,
          "metadata": {},
          "output_type": "execute_result"
        }
      ],
      "source": [
        "'Pimpri' in city_names"
      ]
    },
    {
      "cell_type": "code",
      "execution_count": null,
      "id": "ed9ed1a0",
      "metadata": {
        "id": "ed9ed1a0",
        "outputId": "022ef0b0-5fe6-4e92-8b34-1d9fd2e3e237"
      },
      "outputs": [
        {
          "name": "stdout",
          "output_type": "stream",
          "text": [
            "p\n",
            "y\n",
            "t\n",
            "h\n",
            "o\n",
            "n\n"
          ]
        }
      ],
      "source": [
        "for i in 'python':\n",
        "    print(i)"
      ]
    },
    {
      "cell_type": "code",
      "execution_count": null,
      "id": "6eff2400",
      "metadata": {
        "id": "6eff2400",
        "outputId": "b258a231-6935-45eb-b49e-3041b32ede1c"
      },
      "outputs": [
        {
          "name": "stdout",
          "output_type": "stream",
          "text": [
            "Pune\n",
            "Mumbai\n",
            "Delhi\n",
            "Chennai\n",
            "Hydrabad\n"
          ]
        }
      ],
      "source": [
        "city_names = ['Pune', 'Mumbai', 'Delhi', 'Chennai', 'Hydrabad']\n",
        "for city in city_names:\n",
        "    print(city)"
      ]
    },
    {
      "cell_type": "code",
      "execution_count": null,
      "id": "9d29be55",
      "metadata": {
        "id": "9d29be55",
        "outputId": "4e87a935-17b6-470e-960f-2f9717ea6c8b"
      },
      "outputs": [
        {
          "name": "stdout",
          "output_type": "stream",
          "text": [
            "Item at index 0 is Pune\n",
            "Item at index 1 is Mumbai\n",
            "Item at index 2 is Delhi\n",
            "Item at index 3 is Chennai\n",
            "Item at index 4 is Hydrabad\n"
          ]
        }
      ],
      "source": [
        "city_names = ['Pune', 'Mumbai', 'Delhi', 'Chennai', 'Hydrabad']\n",
        "index = 0\n",
        "for city in city_names:\n",
        "    print(f\"Item at index {index} is {city}\")\n",
        "    index+=1"
      ]
    },
    {
      "cell_type": "code",
      "execution_count": null,
      "id": "24a7eb7b",
      "metadata": {
        "id": "24a7eb7b",
        "outputId": "a7b53256-82f6-4f82-d9d1-b5ddbaebdc73"
      },
      "outputs": [
        {
          "name": "stdout",
          "output_type": "stream",
          "text": [
            "Item at index 0 is Pune\n",
            "Item at index 1 is Mumbai\n",
            "Item at index 2 is Delhi\n",
            "Item at index 3 is Chennai\n",
            "Item at index 4 is Hydrabad\n"
          ]
        }
      ],
      "source": [
        "city_names = ['Pune', 'Mumbai', 'Delhi', 'Chennai', 'Hydrabad']\n",
        "for index, city in enumerate(city_names):\n",
        "    print(f\"Item at index {index} is {city}\")"
      ]
    },
    {
      "cell_type": "code",
      "execution_count": null,
      "id": "75165daa",
      "metadata": {
        "id": "75165daa",
        "outputId": "ff64ec77-56e3-40ff-f110-db92bf07a2ac"
      },
      "outputs": [
        {
          "name": "stdout",
          "output_type": "stream",
          "text": [
            "0 P\n",
            "1 y\n",
            "2 t\n",
            "3 h\n",
            "4 o\n",
            "5 n\n"
          ]
        }
      ],
      "source": [
        "l1 = [1,2,3,4,5]\n",
        "sequence = 'Python'\n",
        "for index, value in enumerate(sequence):\n",
        "    print(index, value)"
      ]
    },
    {
      "cell_type": "code",
      "execution_count": null,
      "id": "0b3bd2b6",
      "metadata": {
        "id": "0b3bd2b6"
      },
      "outputs": [],
      "source": []
    }
  ],
  "metadata": {
    "kernelspec": {
      "display_name": "Python 3 (ipykernel)",
      "language": "python",
      "name": "python3"
    },
    "language_info": {
      "codemirror_mode": {
        "name": "ipython",
        "version": 3
      },
      "file_extension": ".py",
      "mimetype": "text/x-python",
      "name": "python",
      "nbconvert_exporter": "python",
      "pygments_lexer": "ipython3",
      "version": "3.8.17"
    },
    "colab": {
      "provenance": [],
      "include_colab_link": true
    }
  },
  "nbformat": 4,
  "nbformat_minor": 5
}