{
  "cells": [
    {
      "cell_type": "markdown",
      "metadata": {
        "id": "view-in-github",
        "colab_type": "text"
      },
      "source": [
        "<a href=\"https://colab.research.google.com/github/Salbapoonam/Data-Science-Learning/blob/main/Day_03_Variables_and_Data_Types.ipynb\" target=\"_parent\"><img src=\"https://colab.research.google.com/assets/colab-badge.svg\" alt=\"Open In Colab\"/></a>"
      ]
    },
    {
      "cell_type": "code",
      "execution_count": null,
      "id": "39532132",
      "metadata": {
        "id": "39532132",
        "outputId": "0c85d394-006a-4edc-d9f0-7b1445e50ba1"
      },
      "outputs": [
        {
          "name": "stdout",
          "output_type": "stream",
          "text": [
            "100\n",
            "200 <class 'int'>\n",
            "python <class 'str'>\n",
            "python\n"
          ]
        }
      ],
      "source": [
        "a = 100\n",
        "print(a)\n",
        "\n",
        "a =200\n",
        "print(a, type(a))\n",
        "a=\n",
        "a = 'python'\n",
        "print(a, type(a))\n",
        "\n",
        "b = a\n",
        "print(b)"
      ]
    },
    {
      "cell_type": "markdown",
      "id": "e85be300",
      "metadata": {
        "id": "e85be300"
      },
      "source": [
        "### Assigning Single value to multiple varaibles"
      ]
    },
    {
      "cell_type": "code",
      "execution_count": null,
      "id": "12b93c96",
      "metadata": {
        "id": "12b93c96",
        "outputId": "d15ba518-bb84-44da-c67a-b05ee0745a80"
      },
      "outputs": [
        {
          "name": "stdout",
          "output_type": "stream",
          "text": [
            " x == 100, y == 100, z == 100\n"
          ]
        }
      ],
      "source": [
        "x = 100\n",
        "y = 100\n",
        "z = 100\n",
        "print(f' x == {x}, y == {y}, z == {z}')"
      ]
    },
    {
      "cell_type": "code",
      "execution_count": null,
      "id": "532efc20",
      "metadata": {
        "id": "532efc20",
        "outputId": "dd7e767b-5dc5-4c3c-b3fd-40ff1df59e4b"
      },
      "outputs": [
        {
          "name": "stdout",
          "output_type": "stream",
          "text": [
            " x == 500, y == 500, z == 500\n"
          ]
        }
      ],
      "source": [
        "x = y = z = 500\n",
        "print(f' x == {x}, y == {y}, z == {z}')"
      ]
    },
    {
      "cell_type": "code",
      "execution_count": null,
      "id": "1349f462",
      "metadata": {
        "id": "1349f462",
        "outputId": "550846c6-1b9c-4ee0-c9bd-efe9ef60557e"
      },
      "outputs": [
        {
          "name": "stdout",
          "output_type": "stream",
          "text": [
            " x == python, y == python, z == python\n"
          ]
        }
      ],
      "source": [
        "x = y = z = 'python'\n",
        "print(f' x == {x}, y == {y}, z == {z}')"
      ]
    },
    {
      "cell_type": "markdown",
      "id": "7f3e43a3",
      "metadata": {
        "id": "7f3e43a3"
      },
      "source": [
        "### Multiple values to multiple variables"
      ]
    },
    {
      "cell_type": "code",
      "execution_count": null,
      "id": "d71e388e",
      "metadata": {
        "id": "d71e388e",
        "outputId": "9641dd7e-11fc-4599-d29b-267ac4f4d4cd"
      },
      "outputs": [
        {
          "name": "stdout",
          "output_type": "stream",
          "text": [
            " x == 100, y == 200, z == Class\n"
          ]
        }
      ],
      "source": [
        "x = 100\n",
        "y = 200\n",
        "z = 'Class'\n",
        "print(f' x == {x}, y == {y}, z == {z}')"
      ]
    },
    {
      "cell_type": "code",
      "execution_count": null,
      "id": "744c45eb",
      "metadata": {
        "id": "744c45eb",
        "outputId": "04383669-7cbf-4149-db7a-e0b4d9e5a5c9"
      },
      "outputs": [
        {
          "name": "stdout",
          "output_type": "stream",
          "text": [
            " x == 12.34, y == Data, z == [1, 2, 3, 4, 5]\n"
          ]
        }
      ],
      "source": [
        "x = 12.34; y = 'Data'; z = [1,2,3,4,5]\n",
        "print(f' x == {x}, y == {y}, z == {z}')"
      ]
    },
    {
      "cell_type": "code",
      "execution_count": null,
      "id": "8dd025f4",
      "metadata": {
        "id": "8dd025f4",
        "outputId": "0ee1fba8-8fe3-4d12-9d3a-bdcdecf84203"
      },
      "outputs": [
        {
          "name": "stdout",
          "output_type": "stream",
          "text": [
            " x == 10, y == 20, z == Science\n"
          ]
        }
      ],
      "source": [
        "x,y,z = 10,20, 'Science'\n",
        "print(f' x == {x}, y == {y}, z == {z}')"
      ]
    },
    {
      "cell_type": "markdown",
      "id": "69419998",
      "metadata": {
        "id": "69419998"
      },
      "source": [
        "### Delete Variables"
      ]
    },
    {
      "cell_type": "raw",
      "id": "866bd368",
      "metadata": {
        "id": "866bd368"
      },
      "source": [
        "del keyword"
      ]
    },
    {
      "cell_type": "code",
      "execution_count": null,
      "id": "41098449",
      "metadata": {
        "id": "41098449",
        "outputId": "9000ad48-1049-4c1b-b965-589d7daddb09"
      },
      "outputs": [
        {
          "name": "stdout",
          "output_type": "stream",
          "text": [
            " a == 10, b == 20\n"
          ]
        },
        {
          "ename": "NameError",
          "evalue": "name 'a' is not defined",
          "output_type": "error",
          "traceback": [
            "\u001b[1;31m---------------------------------------------------------------------------\u001b[0m",
            "\u001b[1;31mNameError\u001b[0m                                 Traceback (most recent call last)",
            "Cell \u001b[1;32mIn[18], line 7\u001b[0m\n\u001b[0;32m      3\u001b[0m \u001b[38;5;28mprint\u001b[39m(\u001b[38;5;124mf\u001b[39m\u001b[38;5;124m'\u001b[39m\u001b[38;5;124m a == \u001b[39m\u001b[38;5;132;01m{\u001b[39;00ma\u001b[38;5;132;01m}\u001b[39;00m\u001b[38;5;124m, b == \u001b[39m\u001b[38;5;132;01m{\u001b[39;00mb\u001b[38;5;132;01m}\u001b[39;00m\u001b[38;5;124m'\u001b[39m)\n\u001b[0;32m      5\u001b[0m \u001b[38;5;28;01mdel\u001b[39;00m a    \u001b[38;5;66;03m# Deleting a variable\u001b[39;00m\n\u001b[1;32m----> 7\u001b[0m \u001b[38;5;28mprint\u001b[39m(\u001b[43ma\u001b[49m)\n",
            "\u001b[1;31mNameError\u001b[0m: name 'a' is not defined"
          ]
        }
      ],
      "source": [
        "a = 10\n",
        "b = 20\n",
        "print(f' a == {a}, b == {b}')\n",
        "\n",
        "del a    # Deleting a variable\n",
        "\n",
        "print(a)"
      ]
    },
    {
      "cell_type": "markdown",
      "id": "b1f2fab2",
      "metadata": {
        "id": "b1f2fab2"
      },
      "source": [
        "### Data Types"
      ]
    },
    {
      "cell_type": "raw",
      "id": "cdf5e01c",
      "metadata": {
        "id": "cdf5e01c"
      },
      "source": [
        "Dynamically typed language >>> We don't need to define the type of variable"
      ]
    },
    {
      "cell_type": "code",
      "execution_count": null,
      "id": "ce6ae9c2",
      "metadata": {
        "id": "ce6ae9c2"
      },
      "outputs": [],
      "source": [
        "Numerical   : int, float, complex\n",
        "\n",
        "Text        : str\n",
        "\n",
        "Sequence    : list, tuple, range\n",
        "\n",
        "Mapping     : dict\n",
        "\n",
        "set_types   : set, frozenset\n",
        "\n",
        "Boolean types: True, False\n",
        "\n",
        "Binary      : bytes, bytearray"
      ]
    },
    {
      "cell_type": "markdown",
      "id": "5986ca02",
      "metadata": {
        "id": "5986ca02"
      },
      "source": [
        "### 1. int data Type"
      ]
    },
    {
      "cell_type": "raw",
      "id": "763cd3d7",
      "metadata": {
        "id": "763cd3d7"
      },
      "source": [
        "Whole numbers\n",
        "positive and negative\n",
        "Without decimal"
      ]
    },
    {
      "cell_type": "code",
      "execution_count": null,
      "id": "cc151e10",
      "metadata": {
        "id": "cc151e10",
        "outputId": "261d8323-a7af-4225-b3b6-e6c952d72244"
      },
      "outputs": [
        {
          "name": "stdout",
          "output_type": "stream",
          "text": [
            "<class 'int'>\n"
          ]
        }
      ],
      "source": [
        "a = 20\n",
        "print(type(a))"
      ]
    },
    {
      "cell_type": "raw",
      "id": "df60fefa",
      "metadata": {
        "id": "df60fefa"
      },
      "source": [
        "a = -20\n",
        "print(type(a))"
      ]
    },
    {
      "cell_type": "markdown",
      "id": "ad8cbfed",
      "metadata": {
        "id": "ad8cbfed"
      },
      "source": [
        "### 2. Float data Type"
      ]
    },
    {
      "cell_type": "raw",
      "id": "7fa9b024",
      "metadata": {
        "id": "7fa9b024"
      },
      "source": [
        "Positive and negative\n",
        "With decimal point, 12.45, 4.5"
      ]
    },
    {
      "cell_type": "code",
      "execution_count": null,
      "id": "b2e63684",
      "metadata": {
        "id": "b2e63684",
        "outputId": "5a5a1756-1a15-4397-a33c-29ba2786bf71"
      },
      "outputs": [
        {
          "name": "stdout",
          "output_type": "stream",
          "text": [
            "Value of a is 23.45 and Data Type of a is : <class 'float'>\n"
          ]
        }
      ],
      "source": [
        "a = 23.45\n",
        "print(f'Value of a is {a} and Data Type of a is : {type(a)}')"
      ]
    },
    {
      "cell_type": "code",
      "execution_count": null,
      "id": "09e6d4a2",
      "metadata": {
        "id": "09e6d4a2",
        "outputId": "208aa68b-b465-4708-ffd2-7b47fc396490"
      },
      "outputs": [
        {
          "name": "stdout",
          "output_type": "stream",
          "text": [
            "Value of a is -23.45 and Data Type of a is : <class 'float'>\n"
          ]
        }
      ],
      "source": [
        "a = -23.45\n",
        "print(f'Value of a is {a} and Data Type of a is : {type(a)}')"
      ]
    },
    {
      "cell_type": "code",
      "execution_count": null,
      "id": "40af4c21",
      "metadata": {
        "id": "40af4c21",
        "outputId": "8f876da8-6618-41d4-81a3-c9ec5ce4588a"
      },
      "outputs": [
        {
          "name": "stdout",
          "output_type": "stream",
          "text": [
            "Value of a is 23 and Data Type of a is : <class 'int'>\n"
          ]
        }
      ],
      "source": [
        "a = 23\n",
        "print(f'Value of a is {a} and Data Type of a is : {type(a)}')"
      ]
    },
    {
      "cell_type": "code",
      "execution_count": null,
      "id": "91e0344d",
      "metadata": {
        "id": "91e0344d",
        "outputId": "b6448da4-5dec-42b1-ac97-6599b2d6f589"
      },
      "outputs": [
        {
          "name": "stdout",
          "output_type": "stream",
          "text": [
            "Value of a is 23.0 and Data Type of a is : <class 'float'>\n"
          ]
        }
      ],
      "source": [
        "a = 23.0\n",
        "print(f'Value of a is {a} and Data Type of a is : {type(a)}')"
      ]
    },
    {
      "cell_type": "code",
      "execution_count": null,
      "id": "6c55d349",
      "metadata": {
        "id": "6c55d349",
        "outputId": "12f5f68e-0742-459b-c966-d0103998361d"
      },
      "outputs": [
        {
          "name": "stdout",
          "output_type": "stream",
          "text": [
            "Value of a is 34.56 ands Data Type of a is : <class 'float'>\n"
          ]
        }
      ],
      "source": [
        "a = 34.56\n",
        "print(\"Value of a is {} ands Data Type of a is : {}\".format(a, type(a)))"
      ]
    },
    {
      "cell_type": "code",
      "execution_count": null,
      "id": "21e9ec88",
      "metadata": {
        "id": "21e9ec88",
        "outputId": "426c2a60-f722-4d55-a756-6923c1c1fa22"
      },
      "outputs": [
        {
          "data": {
            "text/plain": [
              "12.35"
            ]
          },
          "execution_count": 29,
          "metadata": {},
          "output_type": "execute_result"
        }
      ],
      "source": [
        "a = 12.3456765\n",
        "round(a,2)"
      ]
    },
    {
      "cell_type": "code",
      "execution_count": null,
      "id": "8c03f634",
      "metadata": {
        "id": "8c03f634",
        "outputId": "005f7bf3-a8b9-4da1-863c-3fea090ae701"
      },
      "outputs": [
        {
          "data": {
            "text/plain": [
              "12.34"
            ]
          },
          "execution_count": 30,
          "metadata": {},
          "output_type": "execute_result"
        }
      ],
      "source": [
        "a = 12.3436765\n",
        "round(a,2)"
      ]
    },
    {
      "cell_type": "markdown",
      "id": "6b3c8c4c",
      "metadata": {
        "id": "6b3c8c4c"
      },
      "source": [
        "### 3. Complex Data Type"
      ]
    },
    {
      "cell_type": "raw",
      "id": "5f682fef",
      "metadata": {
        "id": "5f682fef"
      },
      "source": [
        "It contains real number and imaginary part\n",
        "a +- bi"
      ]
    },
    {
      "cell_type": "code",
      "execution_count": null,
      "id": "02b21425",
      "metadata": {
        "id": "02b21425",
        "outputId": "ed50fdcb-9cef-4d3f-b600-129783caf073"
      },
      "outputs": [
        {
          "name": "stdout",
          "output_type": "stream",
          "text": [
            "Value of a is (23.2+12j) and Data Type of a is : <class 'complex'>\n"
          ]
        }
      ],
      "source": [
        "a = 23.2 + 12j\n",
        "print(f'Value of a is {a} and Data Type of a is : {type(a)}')"
      ]
    },
    {
      "cell_type": "code",
      "execution_count": null,
      "id": "991e2bd7",
      "metadata": {
        "id": "991e2bd7",
        "outputId": "41cad1c9-7ddb-43ff-9b66-d5e9ae9f0ffb"
      },
      "outputs": [
        {
          "data": {
            "text/plain": [
              "complex"
            ]
          },
          "execution_count": 32,
          "metadata": {},
          "output_type": "execute_result"
        }
      ],
      "source": [
        "b = 3 + 0j     # Real + imaginary\n",
        "type(b)"
      ]
    },
    {
      "cell_type": "markdown",
      "id": "7b94329c",
      "metadata": {
        "id": "7b94329c"
      },
      "source": [
        "### Python Casting"
      ]
    },
    {
      "cell_type": "markdown",
      "id": "b36d3af7",
      "metadata": {
        "id": "b36d3af7"
      },
      "source": [
        "Specify variable type\n",
        "Change data type of variable"
      ]
    },
    {
      "cell_type": "raw",
      "id": "fc86bcd9",
      "metadata": {
        "id": "fc86bcd9"
      },
      "source": [
        "int >> float\n",
        "float >> int\n",
        "int >> complex\n",
        "float >> complex\n",
        "\n",
        "# We can not convert complex number to int and float\n",
        "complex >> int\n",
        "complex >> float"
      ]
    },
    {
      "cell_type": "markdown",
      "id": "0687e3ef",
      "metadata": {
        "id": "0687e3ef"
      },
      "source": [
        "#### 1. int to float"
      ]
    },
    {
      "cell_type": "code",
      "execution_count": null,
      "id": "832b44e6",
      "metadata": {
        "id": "832b44e6",
        "outputId": "48f708ab-98bb-46c0-ffc0-7a49f78681f2"
      },
      "outputs": [
        {
          "name": "stdout",
          "output_type": "stream",
          "text": [
            "Value of a is 25 and Data Type of a is : <class 'int'>\n",
            "Value of a is 25.0 and Data Type of a is : <class 'float'>\n"
          ]
        }
      ],
      "source": [
        "a = 25\n",
        "print(f'Value of a is {a} and Data Type of a is : {type(a)}')\n",
        "\n",
        "a = float(a)\n",
        "print(f'Value of a is {a} and Data Type of a is : {type(a)}')"
      ]
    },
    {
      "cell_type": "code",
      "execution_count": null,
      "id": "4b1da360",
      "metadata": {
        "id": "4b1da360",
        "outputId": "f356d69e-edea-4132-d678-286c37b871eb"
      },
      "outputs": [
        {
          "name": "stdout",
          "output_type": "stream",
          "text": [
            "Value of a is -225 and Data Type of a is : <class 'int'>\n",
            "Value of a is -225.0 and Data Type of a is : <class 'float'>\n"
          ]
        }
      ],
      "source": [
        "a = -225\n",
        "print(f'Value of a is {a} and Data Type of a is : {type(a)}')\n",
        "\n",
        "a = float(a)\n",
        "print(f'Value of a is {a} and Data Type of a is : {type(a)}')"
      ]
    },
    {
      "cell_type": "markdown",
      "id": "f28c6211",
      "metadata": {
        "id": "f28c6211"
      },
      "source": [
        "#### 2. float to int"
      ]
    },
    {
      "cell_type": "code",
      "execution_count": null,
      "id": "57cdc3b4",
      "metadata": {
        "id": "57cdc3b4",
        "outputId": "e7fb120e-4227-4b9e-b22f-5c5a611a1f32"
      },
      "outputs": [
        {
          "name": "stdout",
          "output_type": "stream",
          "text": [
            "Value of a is 25.63 and Data Type of a is : <class 'float'>\n",
            "Value of a is 25 and Data Type of a is : <class 'int'>\n"
          ]
        }
      ],
      "source": [
        "a = 25.63\n",
        "print(f'Value of a is {a} and Data Type of a is : {type(a)}')\n",
        "\n",
        "a = int(a)\n",
        "print(f'Value of a is {a} and Data Type of a is : {type(a)}')"
      ]
    },
    {
      "cell_type": "code",
      "execution_count": null,
      "id": "4c1262fe",
      "metadata": {
        "id": "4c1262fe",
        "outputId": "5c7b65b2-fc2c-438e-93e0-5f91a22f51c1"
      },
      "outputs": [
        {
          "name": "stdout",
          "output_type": "stream",
          "text": [
            "Value of a is 12.99999999 and Data Type of a is : <class 'float'>\n",
            "Value of a is 12 and Data Type of a is : <class 'int'>\n"
          ]
        }
      ],
      "source": [
        "a = 12.99999999\n",
        "print(f'Value of a is {a} and Data Type of a is : {type(a)}')\n",
        "\n",
        "a = int(a)\n",
        "print(f'Value of a is {a} and Data Type of a is : {type(a)}')"
      ]
    },
    {
      "cell_type": "code",
      "execution_count": null,
      "id": "ce9345e1",
      "metadata": {
        "id": "ce9345e1",
        "outputId": "e8b66abb-a39e-42ca-d5b2-accd916356d0"
      },
      "outputs": [
        {
          "data": {
            "text/plain": [
              "26"
            ]
          },
          "execution_count": 41,
          "metadata": {},
          "output_type": "execute_result"
        }
      ],
      "source": [
        "a = 25.63\n",
        "round(a)"
      ]
    },
    {
      "cell_type": "markdown",
      "id": "4fa6326e",
      "metadata": {
        "id": "4fa6326e"
      },
      "source": [
        "#### 3. int to complex"
      ]
    },
    {
      "cell_type": "code",
      "execution_count": null,
      "id": "f2ffa1f0",
      "metadata": {
        "id": "f2ffa1f0",
        "outputId": "72c5b7e3-47b1-4e18-c459-bdb5abc80b87"
      },
      "outputs": [
        {
          "name": "stdout",
          "output_type": "stream",
          "text": [
            "Value of a is 15 and Data Type of a is : <class 'int'>\n",
            "Value of a is (15+0j) and Data Type of a is : <class 'complex'>\n"
          ]
        }
      ],
      "source": [
        "a = 15\n",
        "print(f'Value of a is {a} and Data Type of a is : {type(a)}')\n",
        "\n",
        "a = complex(a)\n",
        "print(f'Value of a is {a} and Data Type of a is : {type(a)}')"
      ]
    },
    {
      "cell_type": "code",
      "execution_count": null,
      "id": "f6c45e90",
      "metadata": {
        "id": "f6c45e90",
        "outputId": "ff30394c-267c-431e-cb4b-634d3c54652c"
      },
      "outputs": [
        {
          "name": "stdout",
          "output_type": "stream",
          "text": [
            "Value of a is -25 and Data Type of a is : <class 'int'>\n",
            "Value of a is (-25+0j) and Data Type of a is : <class 'complex'>\n"
          ]
        }
      ],
      "source": [
        "a = -25\n",
        "print(f'Value of a is {a} and Data Type of a is : {type(a)}')\n",
        "\n",
        "a = complex(a)\n",
        "print(f'Value of a is {a} and Data Type of a is : {type(a)}')"
      ]
    },
    {
      "cell_type": "code",
      "execution_count": null,
      "id": "6111e457",
      "metadata": {
        "id": "6111e457",
        "outputId": "79511b5b-15aa-44b9-9002-2aab849e62b7"
      },
      "outputs": [
        {
          "name": "stdout",
          "output_type": "stream",
          "text": [
            "Value of a is (-25+4j) and Data Type of a is : <class 'complex'>\n",
            "Value of a is (-25+4j) and Data Type of a is : <class 'complex'>\n"
          ]
        }
      ],
      "source": [
        "a = -25+4j\n",
        "print(f'Value of a is {a} and Data Type of a is : {type(a)}')\n",
        "\n",
        "a = complex(a)\n",
        "print(f'Value of a is {a} and Data Type of a is : {type(a)}')"
      ]
    },
    {
      "cell_type": "markdown",
      "id": "ec6f745e",
      "metadata": {
        "id": "ec6f745e"
      },
      "source": [
        "### 4. float to complex"
      ]
    },
    {
      "cell_type": "code",
      "execution_count": null,
      "id": "29731429",
      "metadata": {
        "id": "29731429",
        "outputId": "acaf4f34-45f4-4e62-d091-f0510925cf68"
      },
      "outputs": [
        {
          "name": "stdout",
          "output_type": "stream",
          "text": [
            "Value of a is 25.63 and Data Type of a is : <class 'float'>\n",
            "Value of a is (25.63+0j) and Data Type of a is : <class 'complex'>\n"
          ]
        }
      ],
      "source": [
        "a = 25.63\n",
        "print(f'Value of a is {a} and Data Type of a is : {type(a)}')\n",
        "\n",
        "a = complex(a)\n",
        "print(f'Value of a is {a} and Data Type of a is : {type(a)}')"
      ]
    },
    {
      "cell_type": "code",
      "execution_count": null,
      "id": "15022ae8",
      "metadata": {
        "id": "15022ae8",
        "outputId": "dbc29059-5f57-4594-f9af-53cbfcf06d60"
      },
      "outputs": [
        {
          "name": "stdout",
          "output_type": "stream",
          "text": [
            "Value of a is -25.63 and Data Type of a is : <class 'float'>\n",
            "Value of a is (-25.63+0j) and Data Type of a is : <class 'complex'>\n"
          ]
        }
      ],
      "source": [
        "a = -25.63\n",
        "print(f'Value of a is {a} and Data Type of a is : {type(a)}')\n",
        "\n",
        "a = complex(a)\n",
        "print(f'Value of a is {a} and Data Type of a is : {type(a)}')"
      ]
    },
    {
      "cell_type": "markdown",
      "id": "9ee2406c",
      "metadata": {
        "id": "9ee2406c"
      },
      "source": [
        "#### 5. complex to int"
      ]
    },
    {
      "cell_type": "code",
      "execution_count": null,
      "id": "e73c9e75",
      "metadata": {
        "id": "e73c9e75",
        "outputId": "6ae68bf4-b119-48c8-d04c-5b9b09b207d2"
      },
      "outputs": [
        {
          "name": "stdout",
          "output_type": "stream",
          "text": [
            "Value of a is (10+7j) and Data Type of a is : <class 'complex'>\n"
          ]
        },
        {
          "ename": "TypeError",
          "evalue": "can't convert complex to int",
          "output_type": "error",
          "traceback": [
            "\u001b[1;31m---------------------------------------------------------------------------\u001b[0m",
            "\u001b[1;31mTypeError\u001b[0m                                 Traceback (most recent call last)",
            "Cell \u001b[1;32mIn[54], line 4\u001b[0m\n\u001b[0;32m      1\u001b[0m a \u001b[38;5;241m=\u001b[39m \u001b[38;5;241m10\u001b[39m \u001b[38;5;241m+\u001b[39m \u001b[38;5;241m7\u001b[39mj\n\u001b[0;32m      2\u001b[0m \u001b[38;5;28mprint\u001b[39m(\u001b[38;5;124mf\u001b[39m\u001b[38;5;124m'\u001b[39m\u001b[38;5;124mValue of a is \u001b[39m\u001b[38;5;132;01m{\u001b[39;00ma\u001b[38;5;132;01m}\u001b[39;00m\u001b[38;5;124m and Data Type of a is : \u001b[39m\u001b[38;5;132;01m{\u001b[39;00m\u001b[38;5;28mtype\u001b[39m(a)\u001b[38;5;132;01m}\u001b[39;00m\u001b[38;5;124m'\u001b[39m)\n\u001b[1;32m----> 4\u001b[0m a \u001b[38;5;241m=\u001b[39m \u001b[38;5;28;43mint\u001b[39;49m\u001b[43m(\u001b[49m\u001b[43ma\u001b[49m\u001b[43m)\u001b[49m\n\u001b[0;32m      5\u001b[0m \u001b[38;5;28mprint\u001b[39m(\u001b[38;5;124mf\u001b[39m\u001b[38;5;124m'\u001b[39m\u001b[38;5;124mValue of a is \u001b[39m\u001b[38;5;132;01m{\u001b[39;00ma\u001b[38;5;132;01m}\u001b[39;00m\u001b[38;5;124m and Data Type of a is : \u001b[39m\u001b[38;5;132;01m{\u001b[39;00m\u001b[38;5;28mtype\u001b[39m(a)\u001b[38;5;132;01m}\u001b[39;00m\u001b[38;5;124m'\u001b[39m)\n",
            "\u001b[1;31mTypeError\u001b[0m: can't convert complex to int"
          ]
        }
      ],
      "source": [
        "a = 10 + 7j\n",
        "print(f'Value of a is {a} and Data Type of a is : {type(a)}')\n",
        "\n",
        "a = int(a)\n",
        "print(f'Value of a is {a} and Data Type of a is : {type(a)}')"
      ]
    },
    {
      "cell_type": "code",
      "execution_count": null,
      "id": "a960fab1",
      "metadata": {
        "id": "a960fab1",
        "outputId": "c1ec3b2c-f7c4-4b1c-f351-e385227c5fe9"
      },
      "outputs": [
        {
          "name": "stdout",
          "output_type": "stream",
          "text": [
            "Value of a is (10+0j) and Data Type of a is : <class 'complex'>\n"
          ]
        },
        {
          "ename": "TypeError",
          "evalue": "can't convert complex to int",
          "output_type": "error",
          "traceback": [
            "\u001b[1;31m---------------------------------------------------------------------------\u001b[0m",
            "\u001b[1;31mTypeError\u001b[0m                                 Traceback (most recent call last)",
            "Cell \u001b[1;32mIn[55], line 4\u001b[0m\n\u001b[0;32m      1\u001b[0m a \u001b[38;5;241m=\u001b[39m \u001b[38;5;241m10\u001b[39m \u001b[38;5;241m+\u001b[39m \u001b[38;5;241m0\u001b[39mj\n\u001b[0;32m      2\u001b[0m \u001b[38;5;28mprint\u001b[39m(\u001b[38;5;124mf\u001b[39m\u001b[38;5;124m'\u001b[39m\u001b[38;5;124mValue of a is \u001b[39m\u001b[38;5;132;01m{\u001b[39;00ma\u001b[38;5;132;01m}\u001b[39;00m\u001b[38;5;124m and Data Type of a is : \u001b[39m\u001b[38;5;132;01m{\u001b[39;00m\u001b[38;5;28mtype\u001b[39m(a)\u001b[38;5;132;01m}\u001b[39;00m\u001b[38;5;124m'\u001b[39m)\n\u001b[1;32m----> 4\u001b[0m a \u001b[38;5;241m=\u001b[39m \u001b[38;5;28;43mint\u001b[39;49m\u001b[43m(\u001b[49m\u001b[43ma\u001b[49m\u001b[43m)\u001b[49m\n\u001b[0;32m      5\u001b[0m \u001b[38;5;28mprint\u001b[39m(\u001b[38;5;124mf\u001b[39m\u001b[38;5;124m'\u001b[39m\u001b[38;5;124mValue of a is \u001b[39m\u001b[38;5;132;01m{\u001b[39;00ma\u001b[38;5;132;01m}\u001b[39;00m\u001b[38;5;124m and Data Type of a is : \u001b[39m\u001b[38;5;132;01m{\u001b[39;00m\u001b[38;5;28mtype\u001b[39m(a)\u001b[38;5;132;01m}\u001b[39;00m\u001b[38;5;124m'\u001b[39m)\n",
            "\u001b[1;31mTypeError\u001b[0m: can't convert complex to int"
          ]
        }
      ],
      "source": [
        "a = 10 + 0j\n",
        "print(f'Value of a is {a} and Data Type of a is : {type(a)}')\n",
        "\n",
        "a = int(a)\n",
        "print(f'Value of a is {a} and Data Type of a is : {type(a)}')"
      ]
    },
    {
      "cell_type": "markdown",
      "id": "b062c59f",
      "metadata": {
        "id": "b062c59f"
      },
      "source": [
        "#### 6. complex to float"
      ]
    },
    {
      "cell_type": "code",
      "execution_count": null,
      "id": "f7b94f1b",
      "metadata": {
        "id": "f7b94f1b",
        "outputId": "4dc5e91d-2fdf-4854-f668-bf07785b18a0"
      },
      "outputs": [
        {
          "name": "stdout",
          "output_type": "stream",
          "text": [
            "Value of a is (10+7j) and Data Type of a is : <class 'complex'>\n"
          ]
        },
        {
          "ename": "TypeError",
          "evalue": "can't convert complex to float",
          "output_type": "error",
          "traceback": [
            "\u001b[1;31m---------------------------------------------------------------------------\u001b[0m",
            "\u001b[1;31mTypeError\u001b[0m                                 Traceback (most recent call last)",
            "Cell \u001b[1;32mIn[58], line 4\u001b[0m\n\u001b[0;32m      1\u001b[0m a \u001b[38;5;241m=\u001b[39m \u001b[38;5;241m10\u001b[39m \u001b[38;5;241m+\u001b[39m \u001b[38;5;241m7\u001b[39mj\n\u001b[0;32m      2\u001b[0m \u001b[38;5;28mprint\u001b[39m(\u001b[38;5;124mf\u001b[39m\u001b[38;5;124m'\u001b[39m\u001b[38;5;124mValue of a is \u001b[39m\u001b[38;5;132;01m{\u001b[39;00ma\u001b[38;5;132;01m}\u001b[39;00m\u001b[38;5;124m and Data Type of a is : \u001b[39m\u001b[38;5;132;01m{\u001b[39;00m\u001b[38;5;28mtype\u001b[39m(a)\u001b[38;5;132;01m}\u001b[39;00m\u001b[38;5;124m'\u001b[39m)\n\u001b[1;32m----> 4\u001b[0m a \u001b[38;5;241m=\u001b[39m \u001b[38;5;28;43mfloat\u001b[39;49m\u001b[43m(\u001b[49m\u001b[43ma\u001b[49m\u001b[43m)\u001b[49m\n\u001b[0;32m      5\u001b[0m \u001b[38;5;28mprint\u001b[39m(\u001b[38;5;124mf\u001b[39m\u001b[38;5;124m'\u001b[39m\u001b[38;5;124mValue of a is \u001b[39m\u001b[38;5;132;01m{\u001b[39;00ma\u001b[38;5;132;01m}\u001b[39;00m\u001b[38;5;124m and Data Type of a is : \u001b[39m\u001b[38;5;132;01m{\u001b[39;00m\u001b[38;5;28mtype\u001b[39m(a)\u001b[38;5;132;01m}\u001b[39;00m\u001b[38;5;124m'\u001b[39m)\n",
            "\u001b[1;31mTypeError\u001b[0m: can't convert complex to float"
          ]
        }
      ],
      "source": [
        "a = 10 + 7j\n",
        "print(f'Value of a is {a} and Data Type of a is : {type(a)}')\n",
        "\n",
        "a = float(a)\n",
        "print(f'Value of a is {a} and Data Type of a is : {type(a)}')"
      ]
    },
    {
      "cell_type": "markdown",
      "id": "10642e8d",
      "metadata": {
        "id": "10642e8d"
      },
      "source": [
        "### 4. string"
      ]
    },
    {
      "cell_type": "raw",
      "id": "22758357",
      "metadata": {
        "id": "22758357"
      },
      "source": [
        "Collection of characters surrounded by single, double, and triple quotes\n",
        "We can not use single quote inside single quote\n",
        "We can not use double quote inside double quote"
      ]
    },
    {
      "cell_type": "code",
      "execution_count": null,
      "id": "d278f064",
      "metadata": {
        "id": "d278f064",
        "outputId": "c79700f4-1c7b-46eb-d63a-1f166f13a2da"
      },
      "outputs": [
        {
          "name": "stdout",
          "output_type": "stream",
          "text": [
            "Python class\n"
          ]
        }
      ],
      "source": [
        "a = 'Python class'\n",
        "print(a)"
      ]
    },
    {
      "cell_type": "code",
      "execution_count": null,
      "id": "38ddfeb1",
      "metadata": {
        "id": "38ddfeb1",
        "outputId": "9d34f652-ece8-4750-fbc1-a7386da0d6c1"
      },
      "outputs": [
        {
          "name": "stdout",
          "output_type": "stream",
          "text": [
            "Python class\n"
          ]
        }
      ],
      "source": [
        "a = \"Python class\"\n",
        "print(a)"
      ]
    },
    {
      "cell_type": "code",
      "execution_count": null,
      "id": "000c557f",
      "metadata": {
        "id": "000c557f",
        "outputId": "9504ccce-04c3-4253-fc67-94ead728d3bc"
      },
      "outputs": [
        {
          "name": "stdout",
          "output_type": "stream",
          "text": [
            "Python class\n"
          ]
        }
      ],
      "source": [
        "a = \"\"\"Python class\"\"\"\n",
        "print(a)"
      ]
    },
    {
      "cell_type": "code",
      "execution_count": null,
      "id": "c23f4041",
      "metadata": {
        "id": "c23f4041",
        "outputId": "0aa89514-a46f-4562-8f65-9e7990700a97"
      },
      "outputs": [
        {
          "name": "stdout",
          "output_type": "stream",
          "text": [
            "Python \n",
            "class\n"
          ]
        }
      ],
      "source": [
        "a = '''Python\n",
        "class'''\n",
        "print(a)"
      ]
    },
    {
      "cell_type": "code",
      "execution_count": null,
      "id": "8b83c8f0",
      "metadata": {
        "id": "8b83c8f0",
        "outputId": "9ab0da78-f883-40f1-bc34-96164bcb96d5"
      },
      "outputs": [
        {
          "name": "stdout",
          "output_type": "stream",
          "text": [
            "Python's class\n"
          ]
        }
      ],
      "source": [
        "a = \"Python's class\"\n",
        "print(a)"
      ]
    },
    {
      "cell_type": "code",
      "execution_count": null,
      "id": "300006b8",
      "metadata": {
        "id": "300006b8",
        "outputId": "31eb945d-be9d-4f29-e227-8c493a4cab39"
      },
      "outputs": [
        {
          "name": "stdout",
          "output_type": "stream",
          "text": [
            "Python's class\n"
          ]
        }
      ],
      "source": [
        "a = \"\"\"Python's class\"\"\"\n",
        "print(a)"
      ]
    },
    {
      "cell_type": "code",
      "execution_count": null,
      "id": "084bed84",
      "metadata": {
        "id": "084bed84",
        "outputId": "a52386f1-7300-409e-d590-0a9951ed7b8c"
      },
      "outputs": [
        {
          "ename": "SyntaxError",
          "evalue": "invalid syntax (5932376.py, line 1)",
          "output_type": "error",
          "traceback": [
            "\u001b[1;36m  Cell \u001b[1;32mIn[68], line 1\u001b[1;36m\u001b[0m\n\u001b[1;33m    a = \"Python\"s class\"\u001b[0m\n\u001b[1;37m                ^\u001b[0m\n\u001b[1;31mSyntaxError\u001b[0m\u001b[1;31m:\u001b[0m invalid syntax\n"
          ]
        }
      ],
      "source": [
        "a = \"Python\"s class\"\n",
        "print(a)"
      ]
    },
    {
      "cell_type": "code",
      "execution_count": null,
      "id": "bd075371",
      "metadata": {
        "id": "bd075371",
        "outputId": "6e733adf-abff-471e-f99c-b69fa277c16c"
      },
      "outputs": [
        {
          "name": "stdout",
          "output_type": "stream",
          "text": [
            "Python\"s class\n"
          ]
        }
      ],
      "source": [
        "a = \"\"\"Python\"s class\"\"\"\n",
        "print(a)"
      ]
    },
    {
      "cell_type": "code",
      "execution_count": null,
      "id": "72ffb76e",
      "metadata": {
        "id": "72ffb76e",
        "outputId": "73b6457f-c376-4b00-8e1a-3a15debe76b6"
      },
      "outputs": [
        {
          "name": "stdout",
          "output_type": "stream",
          "text": [
            "Value of a is Python Class and its data type is <class 'str'>\n",
            "Value of a is Python Class and its data type is <class 'str'>\n",
            "Value of a is Python Class and its data type is <class 'str'>\n"
          ]
        }
      ],
      "source": [
        "a = 'Python Class'\n",
        "b = \"Python Class\"\n",
        "c = \"\"\"Python Class\"\"\"\n",
        "\n",
        "print(f'Value of a is {a} and its data type is {type(a)}')\n",
        "print(f'Value of a is {b} and its data type is {type(b)}')\n",
        "print(f'Value of a is {c} and its data type is {type(c)}')"
      ]
    },
    {
      "cell_type": "markdown",
      "id": "e5f84661",
      "metadata": {
        "id": "e5f84661"
      },
      "source": [
        "#### Convert int to string"
      ]
    },
    {
      "cell_type": "code",
      "execution_count": null,
      "id": "d09032db",
      "metadata": {
        "id": "d09032db",
        "outputId": "9b1dfe9c-a2e3-4013-a702-630fd733696f"
      },
      "outputs": [
        {
          "name": "stdout",
          "output_type": "stream",
          "text": [
            "Value of a is 100 and Data Type of a is : <class 'int'>\n",
            "Value of a is 100 and Data Type of a is : <class 'str'>\n"
          ]
        },
        {
          "data": {
            "text/plain": [
              "'100'"
            ]
          },
          "execution_count": 75,
          "metadata": {},
          "output_type": "execute_result"
        }
      ],
      "source": [
        "a = 100\n",
        "print(f'Value of a is {a} and Data Type of a is : {type(a)}')\n",
        "\n",
        "a = str(a)\n",
        "print(f'Value of a is {a} and Data Type of a is : {type(a)}')\n",
        "a"
      ]
    },
    {
      "cell_type": "code",
      "execution_count": null,
      "id": "30895b3a",
      "metadata": {
        "id": "30895b3a",
        "outputId": "5073a078-fce7-4e57-869a-91b14e0d1525"
      },
      "outputs": [
        {
          "name": "stdout",
          "output_type": "stream",
          "text": [
            "Value of a is -150 and Data Type of a is : <class 'int'>\n",
            "Value of a is -150 and Data Type of a is : <class 'str'>\n"
          ]
        },
        {
          "data": {
            "text/plain": [
              "'-150'"
            ]
          },
          "execution_count": 76,
          "metadata": {},
          "output_type": "execute_result"
        }
      ],
      "source": [
        "a = -150\n",
        "print(f'Value of a is {a} and Data Type of a is : {type(a)}')\n",
        "\n",
        "a = str(a)\n",
        "print(f'Value of a is {a} and Data Type of a is : {type(a)}')\n",
        "a"
      ]
    },
    {
      "cell_type": "markdown",
      "id": "6daa9b56",
      "metadata": {
        "id": "6daa9b56"
      },
      "source": [
        "#### Convert float to string"
      ]
    },
    {
      "cell_type": "code",
      "execution_count": null,
      "id": "5cfe36c6",
      "metadata": {
        "id": "5cfe36c6",
        "outputId": "255a2fa2-207e-4569-da0b-6d5964bc8892"
      },
      "outputs": [
        {
          "name": "stdout",
          "output_type": "stream",
          "text": [
            "Value of a is 10.34 and Data Type of a is : <class 'float'>\n",
            "Value of a is 10.34 and Data Type of a is : <class 'str'>\n"
          ]
        },
        {
          "data": {
            "text/plain": [
              "'10.34'"
            ]
          },
          "execution_count": 79,
          "metadata": {},
          "output_type": "execute_result"
        }
      ],
      "source": [
        "a = 10.34\n",
        "print(f'Value of a is {a} and Data Type of a is : {type(a)}')\n",
        "\n",
        "a = str(a)\n",
        "print(f'Value of a is {a} and Data Type of a is : {type(a)}')\n",
        "a"
      ]
    },
    {
      "cell_type": "code",
      "execution_count": null,
      "id": "7898ebc2",
      "metadata": {
        "id": "7898ebc2",
        "outputId": "59c8aa53-9256-4e13-8513-0a574a1a977c"
      },
      "outputs": [
        {
          "name": "stdout",
          "output_type": "stream",
          "text": [
            "Value of a is -10.34234566 and Data Type of a is : <class 'float'>\n",
            "Value of a is -10.34234566 and Data Type of a is : <class 'str'>\n"
          ]
        },
        {
          "data": {
            "text/plain": [
              "'-10.34234566'"
            ]
          },
          "execution_count": 80,
          "metadata": {},
          "output_type": "execute_result"
        }
      ],
      "source": [
        "a = -10.34234566\n",
        "print(f'Value of a is {a} and Data Type of a is : {type(a)}')\n",
        "\n",
        "a = str(a)\n",
        "print(f'Value of a is {a} and Data Type of a is : {type(a)}')\n",
        "a"
      ]
    },
    {
      "cell_type": "markdown",
      "id": "9020ccce",
      "metadata": {
        "id": "9020ccce"
      },
      "source": [
        "### String to int"
      ]
    },
    {
      "cell_type": "code",
      "execution_count": null,
      "id": "58fb140f",
      "metadata": {
        "id": "58fb140f",
        "outputId": "9ddfb21f-96ec-458f-ac86-e32731a31db4"
      },
      "outputs": [
        {
          "name": "stdout",
          "output_type": "stream",
          "text": [
            "Value of a is 500 and Data Type of a is : <class 'str'>\n",
            "Value of a is 500 and Data Type of a is : <class 'int'>\n"
          ]
        }
      ],
      "source": [
        "a = '500'      # String contain only digits\n",
        "print(f'Value of a is {a} and Data Type of a is : {type(a)}')\n",
        "\n",
        "a = int(a)\n",
        "print(f'Value of a is {a} and Data Type of a is : {type(a)}')"
      ]
    },
    {
      "cell_type": "code",
      "execution_count": null,
      "id": "9b3b993f",
      "metadata": {
        "id": "9b3b993f",
        "outputId": "05bbda99-57fe-483f-ed17-0ecc837b7029"
      },
      "outputs": [
        {
          "name": "stdout",
          "output_type": "stream",
          "text": [
            "Value of a is 500a and Data Type of a is : <class 'str'>\n"
          ]
        },
        {
          "ename": "ValueError",
          "evalue": "invalid literal for int() with base 10: '500a'",
          "output_type": "error",
          "traceback": [
            "\u001b[1;31m---------------------------------------------------------------------------\u001b[0m",
            "\u001b[1;31mValueError\u001b[0m                                Traceback (most recent call last)",
            "Cell \u001b[1;32mIn[83], line 4\u001b[0m\n\u001b[0;32m      1\u001b[0m a \u001b[38;5;241m=\u001b[39m \u001b[38;5;124m'\u001b[39m\u001b[38;5;124m500a\u001b[39m\u001b[38;5;124m'\u001b[39m      \u001b[38;5;66;03m# When String contain digits and alphabets\u001b[39;00m\n\u001b[0;32m      2\u001b[0m \u001b[38;5;28mprint\u001b[39m(\u001b[38;5;124mf\u001b[39m\u001b[38;5;124m'\u001b[39m\u001b[38;5;124mValue of a is \u001b[39m\u001b[38;5;132;01m{\u001b[39;00ma\u001b[38;5;132;01m}\u001b[39;00m\u001b[38;5;124m and Data Type of a is : \u001b[39m\u001b[38;5;132;01m{\u001b[39;00m\u001b[38;5;28mtype\u001b[39m(a)\u001b[38;5;132;01m}\u001b[39;00m\u001b[38;5;124m'\u001b[39m)\n\u001b[1;32m----> 4\u001b[0m a \u001b[38;5;241m=\u001b[39m \u001b[38;5;28;43mint\u001b[39;49m\u001b[43m(\u001b[49m\u001b[43ma\u001b[49m\u001b[43m)\u001b[49m\n\u001b[0;32m      5\u001b[0m \u001b[38;5;28mprint\u001b[39m(\u001b[38;5;124mf\u001b[39m\u001b[38;5;124m'\u001b[39m\u001b[38;5;124mValue of a is \u001b[39m\u001b[38;5;132;01m{\u001b[39;00ma\u001b[38;5;132;01m}\u001b[39;00m\u001b[38;5;124m and Data Type of a is : \u001b[39m\u001b[38;5;132;01m{\u001b[39;00m\u001b[38;5;28mtype\u001b[39m(a)\u001b[38;5;132;01m}\u001b[39;00m\u001b[38;5;124m'\u001b[39m)\n",
            "\u001b[1;31mValueError\u001b[0m: invalid literal for int() with base 10: '500a'"
          ]
        }
      ],
      "source": [
        "a = '500a'      # Not possible When String contain digits and alphabets\n",
        "print(f'Value of a is {a} and Data Type of a is : {type(a)}')\n",
        "\n",
        "a = int(a)\n",
        "print(f'Value of a is {a} and Data Type of a is : {type(a)}')"
      ]
    },
    {
      "cell_type": "code",
      "execution_count": null,
      "id": "51af1513",
      "metadata": {
        "id": "51af1513",
        "outputId": "1afabd93-deea-4aca-8868-18c5fe4d0e42"
      },
      "outputs": [
        {
          "name": "stdout",
          "output_type": "stream",
          "text": [
            "Value of a is  500  and Data Type of a is : <class 'str'>\n",
            "Value of a is 500 and Data Type of a is : <class 'int'>\n"
          ]
        }
      ],
      "source": [
        "a = ' 500 '      # String contain only digits\n",
        "print(f'Value of a is {a} and Data Type of a is : {type(a)}')\n",
        "\n",
        "a = int(a)\n",
        "print(f'Value of a is {a} and Data Type of a is : {type(a)}')"
      ]
    },
    {
      "cell_type": "markdown",
      "id": "38021450",
      "metadata": {
        "id": "38021450"
      },
      "source": [
        "#### string to float"
      ]
    },
    {
      "cell_type": "code",
      "execution_count": null,
      "id": "bf5c1bc6",
      "metadata": {
        "id": "bf5c1bc6",
        "outputId": "d2874e99-69c3-4851-db57-268f67d93de8"
      },
      "outputs": [
        {
          "name": "stdout",
          "output_type": "stream",
          "text": [
            "Value of a is 10.50 and Data Type of a is : <class 'str'>\n",
            "Value of a is 10.5 and Data Type of a is : <class 'float'>\n"
          ]
        }
      ],
      "source": [
        "a = '10.50'      # String contain only digits\n",
        "print(f'Value of a is {a} and Data Type of a is : {type(a)}')\n",
        "\n",
        "a = float(a)\n",
        "print(f'Value of a is {a} and Data Type of a is : {type(a)}')"
      ]
    },
    {
      "cell_type": "code",
      "execution_count": null,
      "id": "ab5b52cb",
      "metadata": {
        "id": "ab5b52cb",
        "outputId": "cb89c96f-018c-45af-f251-b349518374d1"
      },
      "outputs": [
        {
          "name": "stdout",
          "output_type": "stream",
          "text": [
            "Value of a is 10.50v and Data Type of a is : <class 'str'>\n"
          ]
        },
        {
          "ename": "ValueError",
          "evalue": "could not convert string to float: '10.50v'",
          "output_type": "error",
          "traceback": [
            "\u001b[1;31m---------------------------------------------------------------------------\u001b[0m",
            "\u001b[1;31mValueError\u001b[0m                                Traceback (most recent call last)",
            "Cell \u001b[1;32mIn[87], line 4\u001b[0m\n\u001b[0;32m      1\u001b[0m a \u001b[38;5;241m=\u001b[39m \u001b[38;5;124m'\u001b[39m\u001b[38;5;124m10.50v\u001b[39m\u001b[38;5;124m'\u001b[39m      \u001b[38;5;66;03m# # Not possible When String contain digits and alphabets\u001b[39;00m\n\u001b[0;32m      2\u001b[0m \u001b[38;5;28mprint\u001b[39m(\u001b[38;5;124mf\u001b[39m\u001b[38;5;124m'\u001b[39m\u001b[38;5;124mValue of a is \u001b[39m\u001b[38;5;132;01m{\u001b[39;00ma\u001b[38;5;132;01m}\u001b[39;00m\u001b[38;5;124m and Data Type of a is : \u001b[39m\u001b[38;5;132;01m{\u001b[39;00m\u001b[38;5;28mtype\u001b[39m(a)\u001b[38;5;132;01m}\u001b[39;00m\u001b[38;5;124m'\u001b[39m)\n\u001b[1;32m----> 4\u001b[0m a \u001b[38;5;241m=\u001b[39m \u001b[38;5;28;43mfloat\u001b[39;49m\u001b[43m(\u001b[49m\u001b[43ma\u001b[49m\u001b[43m)\u001b[49m\n\u001b[0;32m      5\u001b[0m \u001b[38;5;28mprint\u001b[39m(\u001b[38;5;124mf\u001b[39m\u001b[38;5;124m'\u001b[39m\u001b[38;5;124mValue of a is \u001b[39m\u001b[38;5;132;01m{\u001b[39;00ma\u001b[38;5;132;01m}\u001b[39;00m\u001b[38;5;124m and Data Type of a is : \u001b[39m\u001b[38;5;132;01m{\u001b[39;00m\u001b[38;5;28mtype\u001b[39m(a)\u001b[38;5;132;01m}\u001b[39;00m\u001b[38;5;124m'\u001b[39m)\n",
            "\u001b[1;31mValueError\u001b[0m: could not convert string to float: '10.50v'"
          ]
        }
      ],
      "source": [
        "a = '10.50v'      # # Not possible When String contain digits and alphabets\n",
        "print(f'Value of a is {a} and Data Type of a is : {type(a)}')\n",
        "\n",
        "a = float(a)\n",
        "print(f'Value of a is {a} and Data Type of a is : {type(a)}')"
      ]
    },
    {
      "cell_type": "code",
      "execution_count": null,
      "id": "0994c615",
      "metadata": {
        "id": "0994c615"
      },
      "outputs": [],
      "source": []
    }
  ],
  "metadata": {
    "kernelspec": {
      "display_name": "Python 3 (ipykernel)",
      "language": "python",
      "name": "python3"
    },
    "language_info": {
      "codemirror_mode": {
        "name": "ipython",
        "version": 3
      },
      "file_extension": ".py",
      "mimetype": "text/x-python",
      "name": "python",
      "nbconvert_exporter": "python",
      "pygments_lexer": "ipython3",
      "version": "3.8.17"
    },
    "colab": {
      "provenance": [],
      "include_colab_link": true
    }
  },
  "nbformat": 4,
  "nbformat_minor": 5
}