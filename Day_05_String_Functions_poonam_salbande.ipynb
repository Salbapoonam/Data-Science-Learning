{
  "cells": [
    {
      "cell_type": "markdown",
      "metadata": {
        "id": "view-in-github",
        "colab_type": "text"
      },
      "source": [
        "<a href=\"https://colab.research.google.com/github/Salbapoonam/Data-Science-Learning/blob/main/Day_05_String_Functions_poonam_salbande.ipynb\" target=\"_parent\"><img src=\"https://colab.research.google.com/assets/colab-badge.svg\" alt=\"Open In Colab\"/></a>"
      ]
    },
    {
      "cell_type": "markdown",
      "id": "b8569477",
      "metadata": {
        "id": "b8569477"
      },
      "source": [
        "### String Functions"
      ]
    },
    {
      "cell_type": "markdown",
      "id": "a9dbf43e",
      "metadata": {
        "id": "a9dbf43e"
      },
      "source": [
        "#### 1. Capitalize()"
      ]
    },
    {
      "cell_type": "raw",
      "id": "9f9a1aff",
      "metadata": {
        "id": "9f9a1aff"
      },
      "source": [
        "It capitalize the first character of the string"
      ]
    },
    {
      "cell_type": "code",
      "execution_count": null,
      "id": "d2cee8d6",
      "metadata": {
        "id": "d2cee8d6",
        "outputId": "dbb29a6c-d405-4a9d-e20e-4bdb65071c70"
      },
      "outputs": [
        {
          "name": "stdout",
          "output_type": "stream",
          "text": [
            "data science\n"
          ]
        },
        {
          "data": {
            "text/plain": [
              "'Data science'"
            ]
          },
          "execution_count": 3,
          "metadata": {},
          "output_type": "execute_result"
        }
      ],
      "source": [
        "s = 'data science'\n",
        "print(s)\n",
        "s.capitalize()"
      ]
    },
    {
      "cell_type": "code",
      "execution_count": null,
      "id": "240755c0",
      "metadata": {
        "id": "240755c0",
        "outputId": "1010d2bf-8962-4907-e834-efb175d787a9"
      },
      "outputs": [
        {
          "name": "stdout",
          "output_type": "stream",
          "text": [
            " data science\n"
          ]
        },
        {
          "data": {
            "text/plain": [
              "' data science'"
            ]
          },
          "execution_count": 4,
          "metadata": {},
          "output_type": "execute_result"
        }
      ],
      "source": [
        "s = ' data science'\n",
        "print(s)\n",
        "s.capitalize()"
      ]
    },
    {
      "cell_type": "markdown",
      "id": "37bf3ed1",
      "metadata": {
        "id": "37bf3ed1"
      },
      "source": [
        "#### 2. upper()"
      ]
    },
    {
      "cell_type": "raw",
      "id": "7840be87",
      "metadata": {
        "id": "7840be87"
      },
      "source": [
        "It converts all characters to upper case"
      ]
    },
    {
      "cell_type": "code",
      "execution_count": null,
      "id": "81587995",
      "metadata": {
        "id": "81587995",
        "outputId": "70493570-9c73-410a-a74d-208a80fca0d5"
      },
      "outputs": [
        {
          "name": "stdout",
          "output_type": "stream",
          "text": [
            "data science\n"
          ]
        },
        {
          "data": {
            "text/plain": [
              "'DATA SCIENCE'"
            ]
          },
          "execution_count": 6,
          "metadata": {},
          "output_type": "execute_result"
        }
      ],
      "source": [
        "s = 'data science'\n",
        "print(s)\n",
        "s.upper()"
      ]
    },
    {
      "cell_type": "code",
      "execution_count": null,
      "id": "d10b4f85",
      "metadata": {
        "id": "d10b4f85",
        "outputId": "095b3c33-d3c6-4806-b496-4475642835d0"
      },
      "outputs": [
        {
          "name": "stdout",
          "output_type": "stream",
          "text": [
            "Machine LEARning123\n"
          ]
        },
        {
          "data": {
            "text/plain": [
              "'MACHINE LEARNING123'"
            ]
          },
          "execution_count": 7,
          "metadata": {},
          "output_type": "execute_result"
        }
      ],
      "source": [
        "s = 'Machine LEARning123'\n",
        "print(s)\n",
        "s.upper()"
      ]
    },
    {
      "cell_type": "code",
      "execution_count": null,
      "id": "509d0b32",
      "metadata": {
        "id": "509d0b32",
        "outputId": "82eb918b-4568-4e0b-f1cb-2bc466265334"
      },
      "outputs": [
        {
          "name": "stdout",
          "output_type": "stream",
          "text": [
            "Data type of variable is : <class 'str'>\n"
          ]
        },
        {
          "data": {
            "text/plain": [
              "'CSRIL3452A'"
            ]
          },
          "execution_count": 9,
          "metadata": {},
          "output_type": "execute_result"
        }
      ],
      "source": [
        "s = 'csril3452a'\n",
        "print('Data type of variable is :', type(s))\n",
        "s.upper()"
      ]
    },
    {
      "cell_type": "code",
      "execution_count": null,
      "id": "4b2a0641",
      "metadata": {
        "id": "4b2a0641",
        "outputId": "c6312e7e-70e4-477a-b63f-85ae090a818a"
      },
      "outputs": [
        {
          "data": {
            "text/plain": [
              "False"
            ]
          },
          "execution_count": 11,
          "metadata": {},
          "output_type": "execute_result"
        }
      ],
      "source": [
        "aadhar_name = 'Rohit Sharma'\n",
        "pan_card_name = 'rohit sharma'\n",
        "aadhar_name == pan_card_name"
      ]
    },
    {
      "cell_type": "code",
      "execution_count": null,
      "id": "17aad4fd",
      "metadata": {
        "id": "17aad4fd",
        "outputId": "d6d8b1c7-811a-4c10-85b1-af4f83e89504"
      },
      "outputs": [
        {
          "data": {
            "text/plain": [
              "True"
            ]
          },
          "execution_count": 12,
          "metadata": {},
          "output_type": "execute_result"
        }
      ],
      "source": [
        "aadhar_name = aadhar_name.upper()\n",
        "pan_card_name = pan_card_name.upper()\n",
        "aadhar_name == pan_card_name"
      ]
    },
    {
      "cell_type": "code",
      "execution_count": null,
      "id": "4a38e1ea",
      "metadata": {
        "id": "4a38e1ea",
        "outputId": "45b690df-54cf-445a-c4bd-d537dd9d5584"
      },
      "outputs": [
        {
          "data": {
            "text/plain": [
              "'ROHIT SHARMA'"
            ]
          },
          "execution_count": 13,
          "metadata": {},
          "output_type": "execute_result"
        }
      ],
      "source": [
        "aadhar_name"
      ]
    },
    {
      "cell_type": "code",
      "execution_count": null,
      "id": "3fcd8657",
      "metadata": {
        "id": "3fcd8657",
        "outputId": "969c891d-3a48-4516-9845-24f201948a1b"
      },
      "outputs": [
        {
          "data": {
            "text/plain": [
              "'ROHIT SHARMA'"
            ]
          },
          "execution_count": 14,
          "metadata": {},
          "output_type": "execute_result"
        }
      ],
      "source": [
        "pan_card_name"
      ]
    },
    {
      "cell_type": "code",
      "execution_count": null,
      "id": "96cb6b2a",
      "metadata": {
        "id": "96cb6b2a",
        "outputId": "ca92aa41-3b3e-4643-8c45-46846129189c"
      },
      "outputs": [
        {
          "name": "stdout",
          "output_type": "stream",
          "text": [
            "Both names are different\n"
          ]
        }
      ],
      "source": [
        "aadhar_name = 'Virat Kohli'\n",
        "pan_card_name = 'Virat kohli'\n",
        "\n",
        "if aadhar_name == pan_card_name:   # if block will execute if its True\n",
        "    print(\"Both names are same\")\n",
        "\n",
        "else:\n",
        "    print(\"Both names are different\")"
      ]
    },
    {
      "cell_type": "code",
      "execution_count": null,
      "id": "593c00ff",
      "metadata": {
        "id": "593c00ff",
        "outputId": "64f8d1a9-f65d-4fa8-eb32-e5ce7d024b64"
      },
      "outputs": [
        {
          "name": "stdout",
          "output_type": "stream",
          "text": [
            "Both names are same\n"
          ]
        }
      ],
      "source": [
        "aadhar_name = 'Virat Kohli'\n",
        "pan_card_name = 'Virat kohli'\n",
        "\n",
        "aadhar_name = aadhar_name.upper()\n",
        "pan_card_name = pan_card_name.upper()\n",
        "\n",
        "if aadhar_name == pan_card_name:   # if block will execute if its True\n",
        "    print(\"Both names are same\")\n",
        "\n",
        "else:\n",
        "    print(\"Both names are different\")"
      ]
    },
    {
      "cell_type": "markdown",
      "id": "347ee056",
      "metadata": {
        "id": "347ee056"
      },
      "source": [
        "#### 3. lower()"
      ]
    },
    {
      "cell_type": "code",
      "execution_count": null,
      "id": "f393668a",
      "metadata": {
        "id": "f393668a",
        "outputId": "94605358-fe1b-4811-9695-0fb279187d04"
      },
      "outputs": [
        {
          "name": "stdout",
          "output_type": "stream",
          "text": [
            "Machine LEARning123\n"
          ]
        },
        {
          "data": {
            "text/plain": [
              "'machine learning123'"
            ]
          },
          "execution_count": 17,
          "metadata": {},
          "output_type": "execute_result"
        }
      ],
      "source": [
        "s = 'Machine LEARning123'\n",
        "print(s)\n",
        "s.lower()"
      ]
    },
    {
      "cell_type": "code",
      "execution_count": null,
      "id": "c7e0475d",
      "metadata": {
        "id": "c7e0475d",
        "outputId": "8c864a05-756b-4495-e796-ae92397a3cc4"
      },
      "outputs": [
        {
          "name": "stdout",
          "output_type": "stream",
          "text": [
            "Data type of variable is : <class 'str'>\n"
          ]
        },
        {
          "data": {
            "text/plain": [
              "'csdfrl3452a'"
            ]
          },
          "execution_count": 19,
          "metadata": {},
          "output_type": "execute_result"
        }
      ],
      "source": [
        "s = 'cSDFRl3452a'\n",
        "print('Data type of variable is :', type(s))\n",
        "s.lower()"
      ]
    },
    {
      "cell_type": "code",
      "execution_count": null,
      "id": "89892fcb",
      "metadata": {
        "id": "89892fcb",
        "outputId": "c321506c-ca1e-43bc-da37-746d5d617ca8"
      },
      "outputs": [
        {
          "name": "stdout",
          "output_type": "stream",
          "text": [
            "Both names are same\n"
          ]
        }
      ],
      "source": [
        "aadhar_name = 'Virat Kohli'\n",
        "pan_card_name = 'Virat kohli'\n",
        "\n",
        "aadhar_name = aadhar_name.lower()\n",
        "pan_card_name = pan_card_name.lower()\n",
        "\n",
        "if aadhar_name == pan_card_name:   # if block will execute if its True\n",
        "    print(\"Both names are same\")\n",
        "\n",
        "else:\n",
        "    print(\"Both names are different\")"
      ]
    },
    {
      "cell_type": "code",
      "execution_count": null,
      "id": "fbc410b1",
      "metadata": {
        "id": "fbc410b1",
        "outputId": "d3fd81ab-b268-4ddb-d64d-d340d9d9f446"
      },
      "outputs": [
        {
          "data": {
            "text/plain": [
              "'virat kohli'"
            ]
          },
          "execution_count": 21,
          "metadata": {},
          "output_type": "execute_result"
        }
      ],
      "source": [
        "aadhar_name"
      ]
    },
    {
      "cell_type": "code",
      "execution_count": null,
      "id": "e41c6d2a",
      "metadata": {
        "id": "e41c6d2a",
        "outputId": "21699ca1-af40-45d9-9aa3-52ca7635ba0a"
      },
      "outputs": [
        {
          "data": {
            "text/plain": [
              "'virat kohli'"
            ]
          },
          "execution_count": 22,
          "metadata": {},
          "output_type": "execute_result"
        }
      ],
      "source": [
        "pan_card_name"
      ]
    },
    {
      "cell_type": "markdown",
      "id": "ffcd6215",
      "metadata": {
        "id": "ffcd6215"
      },
      "source": [
        "#### 4. title()"
      ]
    },
    {
      "cell_type": "raw",
      "id": "ce2044eb",
      "metadata": {
        "id": "ce2044eb"
      },
      "source": [
        "Convert string in to title case\n",
        "Capitalize first character of every word"
      ]
    },
    {
      "cell_type": "code",
      "execution_count": null,
      "id": "abab94ca",
      "metadata": {
        "id": "abab94ca",
        "outputId": "a75e5b49-d1e9-47ff-f60b-d0b4a13c00fb"
      },
      "outputs": [
        {
          "data": {
            "text/plain": [
              "'C A Kolse'"
            ]
          },
          "execution_count": 23,
          "metadata": {},
          "output_type": "execute_result"
        }
      ],
      "source": [
        "name = 'c a kolse'\n",
        "name.title()"
      ]
    },
    {
      "cell_type": "code",
      "execution_count": null,
      "id": "58d23028",
      "metadata": {
        "id": "58d23028",
        "outputId": "ba5f1b5f-6c2f-44f2-ae38-7a9eb7692170"
      },
      "outputs": [
        {
          "name": "stdout",
          "output_type": "stream",
          "text": [
            "India\n"
          ]
        }
      ],
      "source": [
        "s = 'india'\n",
        "print(s.title())"
      ]
    },
    {
      "cell_type": "code",
      "execution_count": null,
      "id": "1d0ed03a",
      "metadata": {
        "id": "1d0ed03a",
        "outputId": "00f0459b-b0ac-474c-9588-ca189d784982"
      },
      "outputs": [
        {
          "name": "stdout",
          "output_type": "stream",
          "text": [
            "We Are Learning Python And Data Science\n"
          ]
        }
      ],
      "source": [
        "string = 'we are learning python and data science'\n",
        "print(string.title())"
      ]
    },
    {
      "cell_type": "code",
      "execution_count": null,
      "id": "ba2ae7f6",
      "metadata": {
        "id": "ba2ae7f6",
        "outputId": "0cbdb5fe-19cb-447b-c008-b9165728a34a"
      },
      "outputs": [
        {
          "name": "stdout",
          "output_type": "stream",
          "text": [
            "India\n"
          ]
        }
      ],
      "source": [
        "s = 'india'\n",
        "print(s.capitalize())"
      ]
    },
    {
      "cell_type": "code",
      "execution_count": null,
      "id": "c3d305ac",
      "metadata": {
        "id": "c3d305ac",
        "outputId": "86895a0b-3e84-4dd7-ab1e-c96550330ccc"
      },
      "outputs": [
        {
          "name": "stdout",
          "output_type": "stream",
          "text": [
            "India country\n"
          ]
        }
      ],
      "source": [
        "s = 'india country'\n",
        "print(s.capitalize())"
      ]
    },
    {
      "cell_type": "markdown",
      "id": "06f5ea57",
      "metadata": {
        "id": "06f5ea57"
      },
      "source": [
        "#### 5. lstrip()"
      ]
    },
    {
      "cell_type": "raw",
      "id": "ba59ca95",
      "metadata": {
        "id": "ba59ca95"
      },
      "source": [
        "It removes leading (left side)  whitespaces."
      ]
    },
    {
      "cell_type": "code",
      "execution_count": null,
      "id": "b952ce30",
      "metadata": {
        "id": "b952ce30",
        "outputId": "4dbfbd9b-a903-4512-a185-04566c713f0a"
      },
      "outputs": [
        {
          "name": "stdout",
          "output_type": "stream",
          "text": [
            "      python class\n",
            "python class\n"
          ]
        }
      ],
      "source": [
        "s = \"      python class\"\n",
        "print(s)\n",
        "print(s.lstrip())"
      ]
    },
    {
      "cell_type": "code",
      "execution_count": null,
      "id": "c5ca5425",
      "metadata": {
        "id": "c5ca5425",
        "outputId": "dd4d3152-9b03-4780-a791-ae8043cd6577"
      },
      "outputs": [
        {
          "name": "stdout",
          "output_type": "stream",
          "text": [
            "      python class     \n"
          ]
        },
        {
          "data": {
            "text/plain": [
              "'python class     '"
            ]
          },
          "execution_count": 34,
          "metadata": {},
          "output_type": "execute_result"
        }
      ],
      "source": [
        "s = \"      python class     \"\n",
        "print(s)\n",
        "s.lstrip()"
      ]
    },
    {
      "cell_type": "markdown",
      "id": "e3c0a723",
      "metadata": {
        "id": "e3c0a723"
      },
      "source": [
        "#### 6. rstrip()"
      ]
    },
    {
      "cell_type": "raw",
      "id": "71d833f6",
      "metadata": {
        "id": "71d833f6"
      },
      "source": [
        "It removes trailing (right side) whitespaces."
      ]
    },
    {
      "cell_type": "code",
      "execution_count": null,
      "id": "538c62a3",
      "metadata": {
        "id": "538c62a3",
        "outputId": "b0cf3150-3b00-408a-d603-26fa76e18b0f"
      },
      "outputs": [
        {
          "name": "stdout",
          "output_type": "stream",
          "text": [
            "python class     \n"
          ]
        },
        {
          "data": {
            "text/plain": [
              "'python class'"
            ]
          },
          "execution_count": 36,
          "metadata": {},
          "output_type": "execute_result"
        }
      ],
      "source": [
        "s = \"python class     \"\n",
        "print(s)\n",
        "s.rstrip()"
      ]
    },
    {
      "cell_type": "code",
      "execution_count": null,
      "id": "483d3799",
      "metadata": {
        "id": "483d3799",
        "outputId": "78535acb-a79d-448d-b487-18dfa122d805"
      },
      "outputs": [
        {
          "name": "stdout",
          "output_type": "stream",
          "text": [
            "      python class     \n"
          ]
        },
        {
          "data": {
            "text/plain": [
              "'      python class'"
            ]
          },
          "execution_count": 37,
          "metadata": {},
          "output_type": "execute_result"
        }
      ],
      "source": [
        "s = \"      python class     \"\n",
        "print(s)\n",
        "s.rstrip()"
      ]
    },
    {
      "cell_type": "markdown",
      "id": "00350e64",
      "metadata": {
        "id": "00350e64"
      },
      "source": [
        "#### 7. strip()"
      ]
    },
    {
      "cell_type": "raw",
      "id": "c67bca4f",
      "metadata": {
        "id": "c67bca4f"
      },
      "source": [
        "It removes leading and trailing whitespaces"
      ]
    },
    {
      "cell_type": "code",
      "execution_count": null,
      "id": "242b00dd",
      "metadata": {
        "id": "242b00dd",
        "outputId": "eb1a3c79-5bff-4b90-abe8-6ff94e225d94"
      },
      "outputs": [
        {
          "name": "stdout",
          "output_type": "stream",
          "text": [
            "      python class     \n"
          ]
        },
        {
          "data": {
            "text/plain": [
              "'python class'"
            ]
          },
          "execution_count": 38,
          "metadata": {},
          "output_type": "execute_result"
        }
      ],
      "source": [
        "s = \"      python class     \"\n",
        "print(s)\n",
        "s.strip()"
      ]
    },
    {
      "cell_type": "code",
      "execution_count": null,
      "id": "51b6029f",
      "metadata": {
        "id": "51b6029f"
      },
      "outputs": [],
      "source": [
        "# Extracting details from any ID documents using OCR(Optical Character Recognition)\n",
        "# Image to text\n",
        "# pytesseract\n",
        "# Google Vision\n",
        "# AWS Textract"
      ]
    },
    {
      "cell_type": "code",
      "execution_count": null,
      "id": "d2724135",
      "metadata": {
        "id": "d2724135",
        "outputId": "b05f692f-1de9-49f4-ab50-486135cf83bc"
      },
      "outputs": [
        {
          "name": "stdout",
          "output_type": "stream",
          "text": [
            "Both names are different\n"
          ]
        }
      ],
      "source": [
        "aadhar_name = '   Virat Kohli'\n",
        "pan_card_name = 'Virat kohli      '\n",
        "\n",
        "aadhar_name = aadhar_name.lower()\n",
        "pan_card_name = pan_card_name.lower()\n",
        "\n",
        "if aadhar_name == pan_card_name:\n",
        "    print(\"Both names are same\")\n",
        "\n",
        "else:\n",
        "    print(\"Both names are different\")"
      ]
    },
    {
      "cell_type": "code",
      "execution_count": null,
      "id": "3d2eb0e2",
      "metadata": {
        "id": "3d2eb0e2",
        "outputId": "a02de0b4-b26e-4e05-af6d-af7cb2f75a53"
      },
      "outputs": [
        {
          "name": "stdout",
          "output_type": "stream",
          "text": [
            "Aadhar card name is :     Virat Kohli\n",
            "PAN card name is :  Virat kohli      \n",
            "\n",
            "Updated names after converting to lower case\n",
            "Aadhar card name is :     virat kohli\n",
            "PAN card name is :  virat kohli      \n",
            "\n",
            "Updated names after removing white spaces\n",
            "Aadhar card name is : virat kohli\n",
            "PAN card name is : virat kohli\n",
            "\n",
            "Both names are same\n"
          ]
        }
      ],
      "source": [
        "aadhar_name = '   Virat Kohli'\n",
        "pan_card_name = 'Virat kohli      '\n",
        "\n",
        "print('Aadhar card name is : ', aadhar_name)\n",
        "print('PAN card name is : ', pan_card_name)\n",
        "\n",
        "aadhar_name = aadhar_name.lower()\n",
        "pan_card_name = pan_card_name.lower()\n",
        "\n",
        "print('\\nUpdated names after converting to lower case')\n",
        "print('Aadhar card name is : ', aadhar_name)\n",
        "print('PAN card name is : ', pan_card_name)\n",
        "\n",
        "aadhar_name = aadhar_name.strip()\n",
        "pan_card_name = pan_card_name.strip()\n",
        "\n",
        "print('\\nUpdated names after removing white spaces')\n",
        "print('Aadhar card name is :',aadhar_name)\n",
        "print('PAN card name is :',pan_card_name)\n",
        "\n",
        "if aadhar_name == pan_card_name:   # if block will execute if its True\n",
        "    print(\"\\nBoth names are same\")\n",
        "\n",
        "else:\n",
        "    print(\"\\nBoth names are different\")"
      ]
    },
    {
      "cell_type": "markdown",
      "id": "d6d4fd8b",
      "metadata": {
        "id": "d6d4fd8b"
      },
      "source": [
        "#### Remove all vowels from string"
      ]
    },
    {
      "cell_type": "code",
      "execution_count": null,
      "id": "e65c0194",
      "metadata": {
        "id": "e65c0194"
      },
      "outputs": [],
      "source": [
        "#vowels = a,e,i,o,u"
      ]
    },
    {
      "cell_type": "code",
      "execution_count": null,
      "id": "5576b896",
      "metadata": {
        "id": "5576b896",
        "outputId": "7dc05175-291b-453c-f6ca-84779d5e4a4e"
      },
      "outputs": [
        {
          "data": {
            "text/plain": [
              "'We ***re le***rning d***t*** science ***d D***t***Le***rnm'"
            ]
          },
          "execution_count": 51,
          "metadata": {},
          "output_type": "execute_result"
        }
      ],
      "source": [
        "s = 'We are learning data science ad DataLearnm'\n",
        "s.replace('a', '***')"
      ]
    },
    {
      "cell_type": "code",
      "execution_count": null,
      "id": "91f5a249",
      "metadata": {
        "id": "91f5a249",
        "outputId": "5558e8bf-15a0-4553-8b1b-a48bed75f5db"
      },
      "outputs": [
        {
          "data": {
            "text/plain": [
              "'W ar larning data scinc ad DataLarnm'"
            ]
          },
          "execution_count": 52,
          "metadata": {},
          "output_type": "execute_result"
        }
      ],
      "source": [
        "s = 'We are learning data science ad DataLearnm'\n",
        "s.replace('e', '')"
      ]
    },
    {
      "cell_type": "markdown",
      "id": "be76ebd5",
      "metadata": {
        "id": "be76ebd5"
      },
      "source": [
        "#### 8. swapcase()"
      ]
    },
    {
      "cell_type": "code",
      "execution_count": null,
      "id": "4aed070a",
      "metadata": {
        "id": "4aed070a"
      },
      "outputs": [],
      "source": [
        "# It converts case of all characters\n",
        "# lower >>> upper\n",
        "# upper >> lower"
      ]
    },
    {
      "cell_type": "code",
      "execution_count": null,
      "id": "4f30bcee",
      "metadata": {
        "id": "4f30bcee",
        "outputId": "addbf5c4-61e6-43d5-aece-f5d4fefd0692"
      },
      "outputs": [
        {
          "data": {
            "text/plain": [
              "'DATA sciENCE'"
            ]
          },
          "execution_count": 53,
          "metadata": {},
          "output_type": "execute_result"
        }
      ],
      "source": [
        "s = 'data SCIence'\n",
        "s.swapcase()"
      ]
    },
    {
      "cell_type": "code",
      "execution_count": null,
      "id": "26e220ad",
      "metadata": {
        "id": "26e220ad",
        "outputId": "2921af16-7257-409f-965c-90eb25205766"
      },
      "outputs": [
        {
          "data": {
            "text/plain": [
              "'DATA SCIENCE123'"
            ]
          },
          "execution_count": 54,
          "metadata": {},
          "output_type": "execute_result"
        }
      ],
      "source": [
        "s = 'data science123'\n",
        "s.swapcase()"
      ]
    },
    {
      "cell_type": "code",
      "execution_count": null,
      "id": "083c0036",
      "metadata": {
        "id": "083c0036",
        "outputId": "9743e3aa-9adb-408f-f77a-1330125026a8"
      },
      "outputs": [
        {
          "data": {
            "text/plain": [
              "'data science123    '"
            ]
          },
          "execution_count": 55,
          "metadata": {},
          "output_type": "execute_result"
        }
      ],
      "source": [
        "s = 'DATA SCIENCE123    '\n",
        "s.swapcase()"
      ]
    },
    {
      "cell_type": "code",
      "execution_count": null,
      "id": "e9e65c72",
      "metadata": {
        "id": "e9e65c72",
        "outputId": "b28da4a5-12c2-4e9a-8985-df7fc57ab77c"
      },
      "outputs": [
        {
          "data": {
            "text/plain": [
              "'data science123'"
            ]
          },
          "execution_count": 56,
          "metadata": {},
          "output_type": "execute_result"
        }
      ],
      "source": [
        "s = 'DATA SCIENCE123    '\n",
        "s.swapcase().strip()"
      ]
    },
    {
      "cell_type": "code",
      "execution_count": null,
      "id": "479b36aa",
      "metadata": {
        "id": "479b36aa",
        "outputId": "360b1eba-9fa9-4398-9231-8eeae6011243"
      },
      "outputs": [
        {
          "name": "stdout",
          "output_type": "stream",
          "text": [
            "data science123    \n",
            "DATA SCIENCE123\n"
          ]
        }
      ],
      "source": [
        "s = 'DATA SCIENCE123    '\n",
        "print(s.swapcase())\n",
        "print(s.strip())"
      ]
    },
    {
      "cell_type": "code",
      "execution_count": null,
      "id": "1da6301c",
      "metadata": {
        "id": "1da6301c",
        "outputId": "c1bea151-136a-4d7c-931c-950437604d98"
      },
      "outputs": [
        {
          "data": {
            "text/plain": [
              "'DATA SCIENCE123'"
            ]
          },
          "execution_count": 60,
          "metadata": {},
          "output_type": "execute_result"
        }
      ],
      "source": [
        "s = 'DATA SCIENCE123    '\n",
        "s.swapcase()\n",
        "s.strip()"
      ]
    },
    {
      "cell_type": "markdown",
      "id": "6f83dd68",
      "metadata": {
        "id": "6f83dd68"
      },
      "source": [
        "#### 9 replace()"
      ]
    },
    {
      "cell_type": "raw",
      "id": "742cf9d0",
      "metadata": {
        "id": "742cf9d0"
      },
      "source": [
        "string(old_str, new_str, count)"
      ]
    },
    {
      "cell_type": "code",
      "execution_count": null,
      "id": "b201a155",
      "metadata": {
        "id": "b201a155",
        "outputId": "70d61ba8-ef5a-4c07-c31d-0d2924fec0b4"
      },
      "outputs": [
        {
          "data": {
            "text/plain": [
              "'We ***re le***rning data science at DataLearnm'"
            ]
          },
          "execution_count": 64,
          "metadata": {},
          "output_type": "execute_result"
        }
      ],
      "source": [
        "s = 'We are learning data science at DataLearnm'\n",
        "s.replace('a', '***', 2)"
      ]
    },
    {
      "cell_type": "code",
      "execution_count": null,
      "id": "c89dcca8",
      "metadata": {
        "id": "c89dcca8",
        "outputId": "a65b9d4c-b513-456a-8d12-dea274fb8645"
      },
      "outputs": [
        {
          "data": {
            "text/plain": [
              "'W r lrnng dt scnc t DtLrnm'"
            ]
          },
          "execution_count": 65,
          "metadata": {},
          "output_type": "execute_result"
        }
      ],
      "source": [
        "s = 'We are learning data science at DataLearnm'\n",
        "s.replace('a', '').replace('e', '').replace('i', '').replace('o', '').replace('u', '')"
      ]
    },
    {
      "cell_type": "code",
      "execution_count": null,
      "id": "819efef7",
      "metadata": {
        "id": "819efef7",
        "outputId": "a557962e-f761-4229-f0b5-a02c11b0d9ac"
      },
      "outputs": [
        {
          "data": {
            "text/plain": [
              "'We Are leArning dAtA science at DataLearnm'"
            ]
          },
          "execution_count": 67,
          "metadata": {},
          "output_type": "execute_result"
        }
      ],
      "source": [
        "s = 'We are learning data science at DataLearnm'\n",
        "s.replace('a', 'A', 4)"
      ]
    },
    {
      "cell_type": "code",
      "execution_count": null,
      "id": "96875e97",
      "metadata": {
        "id": "96875e97",
        "outputId": "a293eab2-aa51-4c26-f7a9-d3f9bc855c82"
      },
      "outputs": [
        {
          "data": {
            "text/plain": [
              "'We are learning data science atDataLearnm'"
            ]
          },
          "execution_count": 72,
          "metadata": {},
          "output_type": "execute_result"
        }
      ],
      "source": [
        "s = 'We are             learning data           science at      DataLearnm'\n",
        "s.replace('  ', '')"
      ]
    },
    {
      "cell_type": "code",
      "execution_count": null,
      "id": "7c73b38f",
      "metadata": {
        "id": "7c73b38f",
        "outputId": "615282f3-ec34-45db-d952-0ce9a9944c60"
      },
      "outputs": [
        {
          "data": {
            "text/plain": [
              "'We are$$$$$$ learning data$$$$$ science at$$$DataLearnm'"
            ]
          },
          "execution_count": 73,
          "metadata": {},
          "output_type": "execute_result"
        }
      ],
      "source": [
        "s = 'We are             learning data           science at      DataLearnm'\n",
        "s.replace('  ', '$')"
      ]
    },
    {
      "cell_type": "markdown",
      "id": "f894daba",
      "metadata": {
        "id": "f894daba"
      },
      "source": [
        "#### 10 count"
      ]
    },
    {
      "cell_type": "code",
      "execution_count": null,
      "id": "f596e7dd",
      "metadata": {
        "id": "f596e7dd",
        "outputId": "66dbc236-5fd0-4bb6-821f-6184f183a9c4"
      },
      "outputs": [
        {
          "data": {
            "text/plain": [
              "1"
            ]
          },
          "execution_count": 78,
          "metadata": {},
          "output_type": "execute_result"
        }
      ],
      "source": [
        "s = 'python class'\n",
        "s.count('p')"
      ]
    },
    {
      "cell_type": "code",
      "execution_count": null,
      "id": "20225267",
      "metadata": {
        "id": "20225267",
        "outputId": "9e9b641c-0c1a-479f-c4d5-a4f5ddb452b5"
      },
      "outputs": [
        {
          "data": {
            "text/plain": [
              "2"
            ]
          },
          "execution_count": 86,
          "metadata": {},
          "output_type": "execute_result"
        }
      ],
      "source": [
        "s = 'python class'\n",
        "s.count('s')"
      ]
    },
    {
      "cell_type": "code",
      "execution_count": null,
      "id": "b52ebb41",
      "metadata": {
        "id": "b52ebb41",
        "outputId": "80c1b335-1f5b-4496-c611-1eb2f0c36927"
      },
      "outputs": [
        {
          "data": {
            "text/plain": [
              "8"
            ]
          },
          "execution_count": 80,
          "metadata": {},
          "output_type": "execute_result"
        }
      ],
      "source": [
        "s = 'We are learning data science at DataLearnm'\n",
        "s.count('a')"
      ]
    },
    {
      "cell_type": "code",
      "execution_count": null,
      "id": "9df451e1",
      "metadata": {
        "id": "9df451e1",
        "outputId": "8fe5cb7c-16cf-4953-e729-23745c169500"
      },
      "outputs": [
        {
          "data": {
            "text/plain": [
              "2"
            ]
          },
          "execution_count": 81,
          "metadata": {},
          "output_type": "execute_result"
        }
      ],
      "source": [
        "s = 'We are learning data science at DataLearnm'\n",
        "s.count('a',0,10)"
      ]
    },
    {
      "cell_type": "code",
      "execution_count": null,
      "id": "edaab688",
      "metadata": {
        "id": "edaab688",
        "outputId": "8854c9ea-2b25-4c82-8e3f-143b88e0a120"
      },
      "outputs": [
        {
          "data": {
            "text/plain": [
              "2"
            ]
          },
          "execution_count": 83,
          "metadata": {},
          "output_type": "execute_result"
        }
      ],
      "source": [
        "s = 'We are learning data science at DataLearnm data'\n",
        "s.count('data')"
      ]
    },
    {
      "cell_type": "code",
      "execution_count": null,
      "id": "69e9eb53",
      "metadata": {
        "id": "69e9eb53",
        "outputId": "68590c32-0ee3-44ab-e225-1421915ce473"
      },
      "outputs": [
        {
          "data": {
            "text/plain": [
              "'we are learning python and data science'"
            ]
          },
          "execution_count": 84,
          "metadata": {},
          "output_type": "execute_result"
        }
      ],
      "source": [
        "string"
      ]
    },
    {
      "cell_type": "markdown",
      "id": "cc7faa06",
      "metadata": {
        "id": "cc7faa06"
      },
      "source": [
        "#### 11. index()"
      ]
    },
    {
      "cell_type": "raw",
      "id": "59cf97ba",
      "metadata": {
        "id": "59cf97ba"
      },
      "source": [
        "Index of character or word"
      ]
    },
    {
      "cell_type": "code",
      "execution_count": null,
      "id": "4904d4ba",
      "metadata": {
        "id": "4904d4ba",
        "outputId": "1c4b7991-eafc-4b5b-8f0a-879868aa7f1a"
      },
      "outputs": [
        {
          "data": {
            "text/plain": [
              "7"
            ]
          },
          "execution_count": 93,
          "metadata": {},
          "output_type": "execute_result"
        }
      ],
      "source": [
        "s = 'We are learning data science at DataLearnm data'\n",
        "s.index('l')"
      ]
    },
    {
      "cell_type": "code",
      "execution_count": null,
      "id": "1f57b661",
      "metadata": {
        "id": "1f57b661",
        "outputId": "1cffcdc0-fb2c-4648-9457-50710f46caa7"
      },
      "outputs": [
        {
          "data": {
            "text/plain": [
              "3"
            ]
          },
          "execution_count": 94,
          "metadata": {},
          "output_type": "execute_result"
        }
      ],
      "source": [
        "s.index('a')"
      ]
    },
    {
      "cell_type": "code",
      "execution_count": null,
      "id": "10fe411f",
      "metadata": {
        "id": "10fe411f",
        "outputId": "780035d9-1e19-4319-e6c6-6b4f28c33fd0"
      },
      "outputs": [
        {
          "data": {
            "text/plain": [
              "16"
            ]
          },
          "execution_count": 95,
          "metadata": {},
          "output_type": "execute_result"
        }
      ],
      "source": [
        "s.index('data')"
      ]
    },
    {
      "cell_type": "code",
      "execution_count": null,
      "id": "5a745f4c",
      "metadata": {
        "id": "5a745f4c",
        "outputId": "56a23d4c-9b83-4135-d4f5-d2c838bbcc2b"
      },
      "outputs": [
        {
          "data": {
            "text/plain": [
              "47"
            ]
          },
          "execution_count": 96,
          "metadata": {},
          "output_type": "execute_result"
        }
      ],
      "source": [
        "len(s)"
      ]
    },
    {
      "cell_type": "code",
      "execution_count": null,
      "id": "188ea9cc",
      "metadata": {
        "id": "188ea9cc",
        "outputId": "a08f5270-a204-4257-9865-c1bffaca544e"
      },
      "outputs": [
        {
          "data": {
            "text/plain": [
              "43"
            ]
          },
          "execution_count": 98,
          "metadata": {},
          "output_type": "execute_result"
        }
      ],
      "source": [
        "s.index('data', 17, 47)"
      ]
    },
    {
      "cell_type": "code",
      "execution_count": null,
      "id": "5e2dedb4",
      "metadata": {
        "id": "5e2dedb4",
        "outputId": "060ea27d-8175-484b-cb1a-4880e1baa0da"
      },
      "outputs": [
        {
          "data": {
            "text/plain": [
              "'rning data science at Da'"
            ]
          },
          "execution_count": 99,
          "metadata": {},
          "output_type": "execute_result"
        }
      ],
      "source": [
        "s[10:34]"
      ]
    },
    {
      "cell_type": "code",
      "execution_count": null,
      "id": "4a50296b",
      "metadata": {
        "id": "4a50296b",
        "outputId": "5b1e1cc0-8d12-4cf0-9719-54a6d36a056f"
      },
      "outputs": [
        {
          "name": "stdout",
          "output_type": "stream",
          "text": [
            "7 <class 'int'>\n"
          ]
        }
      ],
      "source": [
        "s = 'We are learning data science at DataLearnm data'\n",
        "a = s.index('l')\n",
        "print(a, type(a))"
      ]
    },
    {
      "cell_type": "code",
      "execution_count": null,
      "id": "7a8054e5",
      "metadata": {
        "id": "7a8054e5",
        "outputId": "e69b593b-60ee-4943-b856-35175a0d57fc"
      },
      "outputs": [
        {
          "ename": "NameError",
          "evalue": "name 'x' is not defined",
          "output_type": "error",
          "traceback": [
            "\u001b[1;31m---------------------------------------------------------------------------\u001b[0m",
            "\u001b[1;31mNameError\u001b[0m                                 Traceback (most recent call last)",
            "Cell \u001b[1;32mIn[101], line 2\u001b[0m\n\u001b[0;32m      1\u001b[0m s \u001b[38;5;241m=\u001b[39m \u001b[38;5;124m'\u001b[39m\u001b[38;5;124mpython class\u001b[39m\u001b[38;5;124m'\u001b[39m\n\u001b[1;32m----> 2\u001b[0m s\u001b[38;5;241m.\u001b[39mindex(\u001b[43mx\u001b[49m)\n",
            "\u001b[1;31mNameError\u001b[0m: name 'x' is not defined"
          ]
        }
      ],
      "source": [
        "s = 'python class'\n",
        "s.index(x)"
      ]
    },
    {
      "cell_type": "markdown",
      "id": "7c24468b",
      "metadata": {
        "id": "7c24468b"
      },
      "source": [
        "#### 12. find()"
      ]
    },
    {
      "cell_type": "raw",
      "id": "b01bbf2e",
      "metadata": {
        "id": "b01bbf2e"
      },
      "source": [
        "find(substring, [start_index], [end_index])\n",
        "return -1 if substring not found"
      ]
    },
    {
      "cell_type": "code",
      "execution_count": null,
      "id": "3e4e9a26",
      "metadata": {
        "id": "3e4e9a26",
        "outputId": "56c94e81-9469-4283-dca6-f6c9683d2aea"
      },
      "outputs": [
        {
          "data": {
            "text/plain": [
              "16"
            ]
          },
          "execution_count": 102,
          "metadata": {},
          "output_type": "execute_result"
        }
      ],
      "source": [
        "s = 'We are learning data science at DataLearnm data'\n",
        "s.find('data')"
      ]
    },
    {
      "cell_type": "code",
      "execution_count": null,
      "id": "fb406d0a",
      "metadata": {
        "id": "fb406d0a",
        "outputId": "c693c018-ca48-4e3f-e26d-7ffa4574d95b"
      },
      "outputs": [
        {
          "data": {
            "text/plain": [
              "43"
            ]
          },
          "execution_count": 103,
          "metadata": {},
          "output_type": "execute_result"
        }
      ],
      "source": [
        "s = 'We are learning data science at DataLearnm data'\n",
        "s.find('data', 17,47)"
      ]
    },
    {
      "cell_type": "code",
      "execution_count": null,
      "id": "1e45a925",
      "metadata": {
        "id": "1e45a925",
        "outputId": "89b8837a-b9e9-45f8-a6d7-8735a909cfba"
      },
      "outputs": [
        {
          "data": {
            "text/plain": [
              "-1"
            ]
          },
          "execution_count": 104,
          "metadata": {},
          "output_type": "execute_result"
        }
      ],
      "source": [
        "s = 'We are learning data science at DataLearnm data'\n",
        "s.find('daTa')"
      ]
    },
    {
      "cell_type": "code",
      "execution_count": null,
      "id": "6ec2a053",
      "metadata": {
        "id": "6ec2a053",
        "outputId": "83881d83-f0c0-41ca-e049-c0d6efe3b7d9"
      },
      "outputs": [
        {
          "name": "stdout",
          "output_type": "stream",
          "text": [
            "Index of char is: 0\n"
          ]
        }
      ],
      "source": [
        "s = \"python class\"\n",
        "index = s.index('p')\n",
        "print('Index of char is:', index)"
      ]
    },
    {
      "cell_type": "code",
      "execution_count": null,
      "id": "27f8ae9c",
      "metadata": {
        "id": "27f8ae9c",
        "outputId": "bdda80db-2312-417b-fdab-55570dbb4216"
      },
      "outputs": [
        {
          "name": "stdout",
          "output_type": "stream",
          "text": [
            "Index of char is: 7\n"
          ]
        }
      ],
      "source": [
        "s = \"python class\"\n",
        "index = s.index('c')\n",
        "print('Index of char is:', index)"
      ]
    },
    {
      "cell_type": "code",
      "execution_count": null,
      "id": "0326c91b",
      "metadata": {
        "id": "0326c91b",
        "outputId": "9cac1c10-708b-4f34-8e94-6726ac654c99"
      },
      "outputs": [
        {
          "name": "stdout",
          "output_type": "stream",
          "text": [
            "Index of char is: -1\n",
            "Char not found in string\n"
          ]
        }
      ],
      "source": [
        "s = \"python class\"\n",
        "index = s.find('x')\n",
        "print('Index of char is:', index)\n",
        "\n",
        "if index == -1:\n",
        "    print('Char not found in string')"
      ]
    },
    {
      "cell_type": "markdown",
      "id": "9a1037a5",
      "metadata": {
        "id": "9a1037a5"
      },
      "source": [
        "#### To check substring in a string"
      ]
    },
    {
      "cell_type": "code",
      "execution_count": null,
      "id": "bd947f8c",
      "metadata": {
        "id": "bd947f8c",
        "outputId": "cceec6f9-c0c3-4c5c-b7f5-8a5d291031ca"
      },
      "outputs": [
        {
          "data": {
            "text/plain": [
              "True"
            ]
          },
          "execution_count": 112,
          "metadata": {},
          "output_type": "execute_result"
        }
      ],
      "source": [
        "s = 'python class'\n",
        "'p' in s"
      ]
    },
    {
      "cell_type": "code",
      "execution_count": null,
      "id": "21197c92",
      "metadata": {
        "id": "21197c92",
        "outputId": "3b91e4b0-298f-416c-cc8d-cb481a3e79be"
      },
      "outputs": [
        {
          "data": {
            "text/plain": [
              "False"
            ]
          },
          "execution_count": 113,
          "metadata": {},
          "output_type": "execute_result"
        }
      ],
      "source": [
        "s = 'python class'\n",
        "'x' in s"
      ]
    },
    {
      "cell_type": "code",
      "execution_count": null,
      "id": "05736255",
      "metadata": {
        "id": "05736255",
        "outputId": "d6134ff3-25f1-4db3-8273-9922c6af33ed"
      },
      "outputs": [
        {
          "data": {
            "text/plain": [
              "True"
            ]
          },
          "execution_count": 114,
          "metadata": {},
          "output_type": "execute_result"
        }
      ],
      "source": [
        "s = 'python class'\n",
        "'class' in s"
      ]
    },
    {
      "cell_type": "code",
      "execution_count": null,
      "id": "ca363766",
      "metadata": {
        "id": "ca363766",
        "outputId": "c90c6206-d060-4f52-8255-8a2c99abfd05"
      },
      "outputs": [
        {
          "name": "stdout",
          "output_type": "stream",
          "text": [
            "data in present in given string\n",
            "Index of data in given string is 16\n"
          ]
        }
      ],
      "source": [
        "string = 'We are learning data science at DataLearnm data'\n",
        "substring = 'data'\n",
        "\n",
        "if substring in string:\n",
        "    print(f'{substring} in present in given string')\n",
        "\n",
        "    index = string.index(substring)\n",
        "\n",
        "    print(f'Index of {substring} in given string is {index}')\n",
        "\n",
        "else:\n",
        "    print(f'{substring} in not present in given string')"
      ]
    },
    {
      "cell_type": "code",
      "execution_count": null,
      "id": "44aeea72",
      "metadata": {
        "id": "44aeea72",
        "outputId": "26632c6b-c557-4f28-dd72-6e405727dd63"
      },
      "outputs": [
        {
          "name": "stdout",
          "output_type": "stream",
          "text": [
            "datascience in not present in given string\n"
          ]
        }
      ],
      "source": [
        "string = 'We are learning data science at DataLearnm data'\n",
        "substring = 'datascience'\n",
        "\n",
        "if substring in string:\n",
        "    print(f'{substring} in present in given string')\n",
        "\n",
        "    index = string.index(substring)\n",
        "\n",
        "    print(f'Index of {substring} in given string is {index}')\n",
        "\n",
        "else:\n",
        "    print(f'{substring} in not present in given string')"
      ]
    },
    {
      "cell_type": "markdown",
      "id": "d9f68421",
      "metadata": {
        "id": "d9f68421"
      },
      "source": [
        "#### 13. length()"
      ]
    },
    {
      "cell_type": "code",
      "execution_count": null,
      "id": "38938367",
      "metadata": {
        "id": "38938367",
        "outputId": "d4d36102-83a3-4944-8b47-288d758a88ed"
      },
      "outputs": [
        {
          "data": {
            "text/plain": [
              "6"
            ]
          },
          "execution_count": 120,
          "metadata": {},
          "output_type": "execute_result"
        }
      ],
      "source": [
        "s1 ='python'\n",
        "len(s1)"
      ]
    },
    {
      "cell_type": "code",
      "execution_count": null,
      "id": "42fa095e",
      "metadata": {
        "id": "42fa095e",
        "outputId": "27712367-df2a-4ad9-8c83-c87ccd85ae21"
      },
      "outputs": [
        {
          "data": {
            "text/plain": [
              "7"
            ]
          },
          "execution_count": 121,
          "metadata": {},
          "output_type": "execute_result"
        }
      ],
      "source": [
        "s1 =' python'\n",
        "len(s1)"
      ]
    },
    {
      "cell_type": "code",
      "execution_count": null,
      "id": "438fc25f",
      "metadata": {
        "id": "438fc25f",
        "outputId": "884123a5-dc38-4186-e1bd-e600ee1beeb9"
      },
      "outputs": [
        {
          "data": {
            "text/plain": [
              "42"
            ]
          },
          "execution_count": 122,
          "metadata": {},
          "output_type": "execute_result"
        }
      ],
      "source": [
        "string = 'We are learning data science at DataLearnm'\n",
        "len(string)"
      ]
    },
    {
      "cell_type": "markdown",
      "id": "15d6bbd1",
      "metadata": {
        "id": "15d6bbd1"
      },
      "source": [
        "#### 14 split()"
      ]
    },
    {
      "cell_type": "code",
      "execution_count": null,
      "id": "c42f9aff",
      "metadata": {
        "id": "c42f9aff"
      },
      "outputs": [],
      "source": [
        "# It returns list of words separated by white spaces\n",
        "# string to list"
      ]
    },
    {
      "cell_type": "code",
      "execution_count": null,
      "id": "68a71d53",
      "metadata": {
        "id": "68a71d53",
        "outputId": "113d9774-4f0b-4e69-e94d-a7c9ba151a06"
      },
      "outputs": [
        {
          "data": {
            "text/plain": [
              "['python', 'class']"
            ]
          },
          "execution_count": 128,
          "metadata": {},
          "output_type": "execute_result"
        }
      ],
      "source": [
        "s1 ='python class'\n",
        "s1.split()"
      ]
    },
    {
      "cell_type": "code",
      "execution_count": null,
      "id": "e1f4ce92",
      "metadata": {
        "id": "e1f4ce92",
        "outputId": "85c35805-4102-45bf-fe9e-ac961450deef"
      },
      "outputs": [
        {
          "data": {
            "text/plain": [
              "['python', 'class', 'data']"
            ]
          },
          "execution_count": 129,
          "metadata": {},
          "output_type": "execute_result"
        }
      ],
      "source": [
        "s1 ='python class data'\n",
        "s1.split()"
      ]
    },
    {
      "cell_type": "code",
      "execution_count": null,
      "id": "a670af1b",
      "metadata": {
        "id": "a670af1b",
        "outputId": "17673262-e728-40d0-a012-0e9fdb458278"
      },
      "outputs": [
        {
          "data": {
            "text/plain": [
              "['python class', 'data']"
            ]
          },
          "execution_count": 130,
          "metadata": {},
          "output_type": "execute_result"
        }
      ],
      "source": [
        "s1 ='python class.data'\n",
        "s1.split('.')"
      ]
    },
    {
      "cell_type": "code",
      "execution_count": null,
      "id": "6afea756",
      "metadata": {
        "id": "6afea756",
        "outputId": "652966ba-6664-4cc8-9e99-ea3e13d5f915"
      },
      "outputs": [
        {
          "name": "stdout",
          "output_type": "stream",
          "text": [
            "['We', 'are', 'learning', 'data', 'science', 'at', 'DataLearnm'] 7\n"
          ]
        }
      ],
      "source": [
        "string = 'We are learning data science at DataLearnm'\n",
        "list1 = string.split()\n",
        "print(list1, len(list1))"
      ]
    },
    {
      "cell_type": "code",
      "execution_count": null,
      "id": "8da5d6e7",
      "metadata": {
        "id": "8da5d6e7",
        "outputId": "a6029201-9797-4cdf-880f-1c214c4b3252"
      },
      "outputs": [
        {
          "name": "stdout",
          "output_type": "stream",
          "text": [
            "['We are learning', ' data science', ' at DataLearnm'] 3\n"
          ]
        }
      ],
      "source": [
        "string = 'We are learning. data science. at DataLearnm'\n",
        "list1 = string.split('.')\n",
        "print(list1, len(list1))"
      ]
    },
    {
      "cell_type": "code",
      "execution_count": null,
      "id": "fdd56e78",
      "metadata": {
        "id": "fdd56e78",
        "outputId": "b61cb9a3-318c-457f-f452-1c3301376bf5"
      },
      "outputs": [
        {
          "name": "stdout",
          "output_type": "stream",
          "text": [
            "['We are', ' learning. data', ' science. at Data', 'Learnm'] 4\n"
          ]
        }
      ],
      "source": [
        "string = 'We are* learning. data* science. at Data*Learnm'\n",
        "list1 = string.split('*')\n",
        "print(list1, len(list1))"
      ]
    },
    {
      "cell_type": "code",
      "execution_count": null,
      "id": "40c496ca",
      "metadata": {
        "id": "40c496ca",
        "outputId": "323640cf-6c6e-4801-99ca-2113e625e8fb"
      },
      "outputs": [
        {
          "data": {
            "text/plain": [
              "['we', 'are*', 'learning.', 'data*', 'science.', 'at', 'data*learnm']"
            ]
          },
          "execution_count": 140,
          "metadata": {},
          "output_type": "execute_result"
        }
      ],
      "source": [
        "string = 'We are* learning. data* science. at Data*Learnm'\n",
        "string.lower().split()"
      ]
    },
    {
      "cell_type": "code",
      "execution_count": null,
      "id": "1fbd0e51",
      "metadata": {
        "id": "1fbd0e51"
      },
      "outputs": [],
      "source": []
    }
  ],
  "metadata": {
    "kernelspec": {
      "display_name": "Python 3 (ipykernel)",
      "language": "python",
      "name": "python3"
    },
    "language_info": {
      "codemirror_mode": {
        "name": "ipython",
        "version": 3
      },
      "file_extension": ".py",
      "mimetype": "text/x-python",
      "name": "python",
      "nbconvert_exporter": "python",
      "pygments_lexer": "ipython3",
      "version": "3.8.17"
    },
    "colab": {
      "provenance": [],
      "include_colab_link": true
    }
  },
  "nbformat": 4,
  "nbformat_minor": 5
}